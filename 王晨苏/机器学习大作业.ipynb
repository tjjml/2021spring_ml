{
 "cells": [
  {
   "cell_type": "markdown",
   "metadata": {
    "id": "7q8Z9bw0g48E"
   },
   "source": [
    "# 机器学习大作业----不同词向量模型在下游分类任务的准确率比较"
   ]
  },
  {
   "cell_type": "markdown",
   "metadata": {
    "id": "IHHVaiCXouZI"
   },
   "source": [
    "### 两个数据集：包含两个分类类别的汽车短评数据集、一个用于迁移学习的垃圾短信分类数据集\n",
    "### 两种词向量模型： 词袋模型TF-IDF   词嵌入模型Doc2vec\n",
    "### 多种分类算法：机器学习中的LR、Naive Bayes，深度学习中的nn、LSTM\n",
    "\n",
    "### 主要内容：（1）对比两种词向量模型对分类任务准确率的影响能力。（2）对比各种分类算法的预测能力。（3）使用汽车短评的词向量训练模型对垃圾短信文本进行迁移学习。\n",
    "\n",
    "### 在进行迁移学习时，试过使用2分类模型对16分类的数据集进行预测，结果巨差且无法调优。使用2分类模型对同样的2分类数据集进行预测时，准确率达到75%以上。\n"
   ]
  },
  {
   "cell_type": "code",
   "execution_count": 1,
   "metadata": {},
   "outputs": [],
   "source": [
    "# 文件都是上传到colab上的，如果要自己跑得修改文件路径"
   ]
  },
  {
   "cell_type": "code",
   "execution_count": 186,
   "metadata": {
    "colab": {
     "base_uri": "https://localhost:8080/"
    },
    "id": "zjFs0Dhbg48I",
    "outputId": "87840a50-25c9-4781-8427-e1f0e43d31ab"
   },
   "outputs": [
    {
     "name": "stdout",
     "output_type": "stream",
     "text": [
      "Mounted at /content/gdrive\n"
     ]
    }
   ],
   "source": [
    "# print(tf.test.is_gpu_available())\n",
    "from google.colab import drive\n",
    "drive.mount('/content/gdrive',force_remount=True) \n",
    "# 路径 = pd.read_csv('/content/gdrive/My Drive/Colab Notebooks/xxx')"
   ]
  },
  {
   "cell_type": "code",
   "execution_count": 187,
   "metadata": {
    "id": "ggQVsKTtg48H"
   },
   "outputs": [],
   "source": [
    "import tensorflow as tf\n",
    "from keras.utils.np_utils import to_categorical\n",
    "import pandas as pd\n",
    "import numpy as np"
   ]
  },
  {
   "cell_type": "markdown",
   "metadata": {
    "id": "mn_AhIP-g48J"
   },
   "source": [
    "# 读取数据"
   ]
  },
  {
   "cell_type": "code",
   "execution_count": 188,
   "metadata": {
    "colab": {
     "base_uri": "https://localhost:8080/",
     "height": 200
    },
    "id": "ZmOguCyRg48J",
    "outputId": "47e4a46f-f962-4a1f-f4d7-c369a2a14eb8"
   },
   "outputs": [
    {
     "data": {
      "text/html": [
       "<div>\n",
       "<style scoped>\n",
       "    .dataframe tbody tr th:only-of-type {\n",
       "        vertical-align: middle;\n",
       "    }\n",
       "\n",
       "    .dataframe tbody tr th {\n",
       "        vertical-align: top;\n",
       "    }\n",
       "\n",
       "    .dataframe thead th {\n",
       "        text-align: right;\n",
       "    }\n",
       "</style>\n",
       "<table border=\"1\" class=\"dataframe\">\n",
       "  <thead>\n",
       "    <tr style=\"text-align: right;\">\n",
       "      <th></th>\n",
       "      <th>text</th>\n",
       "      <th>label</th>\n",
       "    </tr>\n",
       "  </thead>\n",
       "  <tbody>\n",
       "    <tr>\n",
       "      <th>0</th>\n",
       "      <td>车尾短</td>\n",
       "      <td>0</td>\n",
       "    </tr>\n",
       "    <tr>\n",
       "      <th>1</th>\n",
       "      <td>不过钢板还是比较硬的</td>\n",
       "      <td>1</td>\n",
       "    </tr>\n",
       "    <tr>\n",
       "      <th>2</th>\n",
       "      <td>流线还行</td>\n",
       "      <td>1</td>\n",
       "    </tr>\n",
       "    <tr>\n",
       "      <th>3</th>\n",
       "      <td>仪表盘做工还行</td>\n",
       "      <td>1</td>\n",
       "    </tr>\n",
       "    <tr>\n",
       "      <th>4</th>\n",
       "      <td>车内的头部空间明显不行</td>\n",
       "      <td>0</td>\n",
       "    </tr>\n",
       "  </tbody>\n",
       "</table>\n",
       "</div>"
      ],
      "text/plain": [
       "          text  label\n",
       "0          车尾短      0\n",
       "1   不过钢板还是比较硬的      1\n",
       "2         流线还行      1\n",
       "3      仪表盘做工还行      1\n",
       "4  车内的头部空间明显不行      0"
      ]
     },
     "execution_count": 188,
     "metadata": {
      "tags": []
     },
     "output_type": "execute_result"
    }
   ],
   "source": [
    "# 读取数据\n",
    "import pandas as pd\n",
    "# data = pd.read_csv('/content/gdrive/My Drive/Colab Notebooks/doc2vec/toutiao_cat_data.txt'\n",
    "#                    ,sep = '_!_'\n",
    "#                    ,header = None\n",
    "#                    ,names=['ID','label','label_name','text','keywords'])\n",
    "# print('原生数据样式为:',data.head())\n",
    "\n",
    "text = pd.read_csv('/content/gdrive/My Drive/Colab Notebooks/doc2vec/car_sentence.txt'\n",
    "                   ,sep = '\\n'\n",
    "                   ,header = None\n",
    "                   ,names = ['text'])\n",
    "label = pd.read_csv('/content/gdrive/My Drive/Colab Notebooks/doc2vec/car_label.txt'\n",
    "                    ,sep = '\\n'\n",
    "                    ,header = None\n",
    "                    ,names = ['label'])\n",
    "data = pd.concat([text,label],axis = 1)\n",
    "data.head()\n"
   ]
  },
  {
   "cell_type": "code",
   "execution_count": 189,
   "metadata": {
    "colab": {
     "base_uri": "https://localhost:8080/",
     "height": 411
    },
    "id": "ijcnht3rg48K",
    "outputId": "325e93b5-4af4-4c42-c3f5-5e36617347ec"
   },
   "outputs": [
    {
     "data": {
      "text/html": [
       "<div>\n",
       "<style scoped>\n",
       "    .dataframe tbody tr th:only-of-type {\n",
       "        vertical-align: middle;\n",
       "    }\n",
       "\n",
       "    .dataframe tbody tr th {\n",
       "        vertical-align: top;\n",
       "    }\n",
       "\n",
       "    .dataframe thead th {\n",
       "        text-align: right;\n",
       "    }\n",
       "</style>\n",
       "<table border=\"1\" class=\"dataframe\">\n",
       "  <thead>\n",
       "    <tr style=\"text-align: right;\">\n",
       "      <th></th>\n",
       "      <th>text</th>\n",
       "      <th>label</th>\n",
       "    </tr>\n",
       "  </thead>\n",
       "  <tbody>\n",
       "    <tr>\n",
       "      <th>0</th>\n",
       "      <td>车尾短</td>\n",
       "      <td>0</td>\n",
       "    </tr>\n",
       "    <tr>\n",
       "      <th>1</th>\n",
       "      <td>不过钢板还是比较硬的</td>\n",
       "      <td>1</td>\n",
       "    </tr>\n",
       "    <tr>\n",
       "      <th>2</th>\n",
       "      <td>流线还行</td>\n",
       "      <td>1</td>\n",
       "    </tr>\n",
       "    <tr>\n",
       "      <th>3</th>\n",
       "      <td>仪表盘做工还行</td>\n",
       "      <td>1</td>\n",
       "    </tr>\n",
       "    <tr>\n",
       "      <th>4</th>\n",
       "      <td>车内的头部空间明显不行</td>\n",
       "      <td>0</td>\n",
       "    </tr>\n",
       "    <tr>\n",
       "      <th>...</th>\n",
       "      <td>...</td>\n",
       "      <td>...</td>\n",
       "    </tr>\n",
       "    <tr>\n",
       "      <th>1167</th>\n",
       "      <td>腿部空间更加宽敞</td>\n",
       "      <td>1</td>\n",
       "    </tr>\n",
       "    <tr>\n",
       "      <th>1168</th>\n",
       "      <td>记得哪个弟兄曾经说过后排座椅的头枕很软</td>\n",
       "      <td>1</td>\n",
       "    </tr>\n",
       "    <tr>\n",
       "      <th>1169</th>\n",
       "      <td>感觉俊捷的内饰还是不错的</td>\n",
       "      <td>1</td>\n",
       "    </tr>\n",
       "    <tr>\n",
       "      <th>1170</th>\n",
       "      <td>装配质量不错</td>\n",
       "      <td>1</td>\n",
       "    </tr>\n",
       "    <tr>\n",
       "      <th>1171</th>\n",
       "      <td>就是那几个小圆按钮手感一般</td>\n",
       "      <td>0</td>\n",
       "    </tr>\n",
       "  </tbody>\n",
       "</table>\n",
       "<p>1172 rows × 2 columns</p>\n",
       "</div>"
      ],
      "text/plain": [
       "                     text  label\n",
       "0                     车尾短      0\n",
       "1              不过钢板还是比较硬的      1\n",
       "2                    流线还行      1\n",
       "3                 仪表盘做工还行      1\n",
       "4             车内的头部空间明显不行      0\n",
       "...                   ...    ...\n",
       "1167             腿部空间更加宽敞      1\n",
       "1168  记得哪个弟兄曾经说过后排座椅的头枕很软      1\n",
       "1169         感觉俊捷的内饰还是不错的      1\n",
       "1170               装配质量不错      1\n",
       "1171        就是那几个小圆按钮手感一般      0\n",
       "\n",
       "[1172 rows x 2 columns]"
      ]
     },
     "execution_count": 189,
     "metadata": {
      "tags": []
     },
     "output_type": "execute_result"
    }
   ],
   "source": [
    "# 切100行用于测试代码\n",
    "data = data.iloc[:5000*10]\n",
    "data"
   ]
  },
  {
   "cell_type": "markdown",
   "metadata": {
    "id": "OWmXXfAig48L"
   },
   "source": [
    "# 文本预处理"
   ]
  },
  {
   "cell_type": "code",
   "execution_count": 190,
   "metadata": {
    "id": "tgKJwZPGg48L"
   },
   "outputs": [],
   "source": [
    "import jieba"
   ]
  },
  {
   "cell_type": "code",
   "execution_count": 191,
   "metadata": {
    "id": "t2uusxTWg48L"
   },
   "outputs": [],
   "source": [
    "\n",
    "def txt_clean(txt):\n",
    "    cut_corpus = []\n",
    "    constr = ''\n",
    "    concut = ''\n",
    "    for each_syb in txt:\n",
    "        if (each_syb >= u'\\u4e00') & (each_syb <= u'\\u9fa5') & (each_syb != ' ' ): # 去除非中文字符\n",
    "            constr += each_syb\n",
    "    res = jieba.cut(constr, cut_all=False)  # 分词\n",
    "    for word in res:\n",
    "        concut = concut + word + ' '\n",
    "    # cut_corpus.append(concut)\n",
    "    # return cut_corpus\n",
    "    return concut\n",
    "data['text'] = data['text'].apply(txt_clean)\n",
    "# label_dict = {val:no for no, val in enumerate(data['label'].unique())}\n",
    "# inverse_label_dict = {j:i for i,j in label_dict.items()}\n",
    "# data['label'] = data['label'].apply(lambda x:label_dict[x])"
   ]
  },
  {
   "cell_type": "code",
   "execution_count": 192,
   "metadata": {
    "colab": {
     "base_uri": "https://localhost:8080/",
     "height": 200
    },
    "id": "IjTecUOlrziw",
    "outputId": "0d3f6dc0-54e3-4d8e-c76e-b5784508279d"
   },
   "outputs": [
    {
     "data": {
      "text/html": [
       "<div>\n",
       "<style scoped>\n",
       "    .dataframe tbody tr th:only-of-type {\n",
       "        vertical-align: middle;\n",
       "    }\n",
       "\n",
       "    .dataframe tbody tr th {\n",
       "        vertical-align: top;\n",
       "    }\n",
       "\n",
       "    .dataframe thead th {\n",
       "        text-align: right;\n",
       "    }\n",
       "</style>\n",
       "<table border=\"1\" class=\"dataframe\">\n",
       "  <thead>\n",
       "    <tr style=\"text-align: right;\">\n",
       "      <th></th>\n",
       "      <th>text</th>\n",
       "      <th>label</th>\n",
       "    </tr>\n",
       "  </thead>\n",
       "  <tbody>\n",
       "    <tr>\n",
       "      <th>0</th>\n",
       "      <td>车尾 短</td>\n",
       "      <td>0</td>\n",
       "    </tr>\n",
       "    <tr>\n",
       "      <th>1</th>\n",
       "      <td>不过 钢板 还是 比较 硬 的</td>\n",
       "      <td>1</td>\n",
       "    </tr>\n",
       "    <tr>\n",
       "      <th>2</th>\n",
       "      <td>流线 还 行</td>\n",
       "      <td>1</td>\n",
       "    </tr>\n",
       "    <tr>\n",
       "      <th>3</th>\n",
       "      <td>仪表盘 做工 还 行</td>\n",
       "      <td>1</td>\n",
       "    </tr>\n",
       "    <tr>\n",
       "      <th>4</th>\n",
       "      <td>车内 的 头部 空间 明显 不行</td>\n",
       "      <td>0</td>\n",
       "    </tr>\n",
       "  </tbody>\n",
       "</table>\n",
       "</div>"
      ],
      "text/plain": [
       "                text  label\n",
       "0              车尾 短       0\n",
       "1   不过 钢板 还是 比较 硬 的       1\n",
       "2            流线 还 行       1\n",
       "3        仪表盘 做工 还 行       1\n",
       "4  车内 的 头部 空间 明显 不行       0"
      ]
     },
     "execution_count": 192,
     "metadata": {
      "tags": []
     },
     "output_type": "execute_result"
    }
   ],
   "source": [
    "data.head()"
   ]
  },
  {
   "cell_type": "code",
   "execution_count": 193,
   "metadata": {
    "colab": {
     "base_uri": "https://localhost:8080/"
    },
    "id": "eM5MTZnJquSh",
    "outputId": "e6197d58-a1ae-4717-f39a-adc87a553db3"
   },
   "outputs": [
    {
     "name": "stdout",
     "output_type": "stream",
     "text": [
      "[0 1]\n"
     ]
    }
   ],
   "source": [
    "print(data['label'].unique())"
   ]
  },
  {
   "cell_type": "markdown",
   "metadata": {
    "id": "Uq8CRboZg48L"
   },
   "source": [
    "# 数据集切分"
   ]
  },
  {
   "cell_type": "code",
   "execution_count": 194,
   "metadata": {
    "id": "hFLsMZcdg48M"
   },
   "outputs": [],
   "source": [
    "# 数据集切分\n",
    "X = data['text'].values\n",
    "y = data['label'].values\n",
    "from sklearn.model_selection import train_test_split\n",
    "Xtrain,Xtest,ytrain,ytest = train_test_split(X,y,test_size = 0.3,random_state = 100)\n",
    "# Xtrain"
   ]
  },
  {
   "cell_type": "code",
   "execution_count": 194,
   "metadata": {
    "id": "IlePSojxg48M"
   },
   "outputs": [],
   "source": []
  },
  {
   "cell_type": "markdown",
   "metadata": {
    "id": "aUzuIGt_g48M"
   },
   "source": [
    "# 词袋模型"
   ]
  },
  {
   "cell_type": "code",
   "execution_count": 195,
   "metadata": {
    "colab": {
     "base_uri": "https://localhost:8080/"
    },
    "id": "9rmquCLMg48M",
    "outputId": "e148dd37-8254-43be-a40d-77c81f2d6a50"
   },
   "outputs": [
    {
     "name": "stdout",
     "output_type": "stream",
     "text": [
      "TFIDF训练集矩阵: [[0 0 0 ... 0 0 0]\n",
      " [0 0 0 ... 0 0 0]\n",
      " [0 0 0 ... 0 0 0]\n",
      " ...\n",
      " [0 0 0 ... 0 0 0]\n",
      " [0 0 0 ... 0 0 0]\n",
      " [0 0 0 ... 0 0 0]]\n",
      "TFIDF测试集矩阵: [[0. 0. 0. ... 0. 0. 0.]\n",
      " [0. 0. 0. ... 0. 0. 0.]\n",
      " [0. 0. 0. ... 0. 0. 0.]\n",
      " ...\n",
      " [0. 0. 0. ... 0. 0. 0.]\n",
      " [0. 0. 0. ... 0. 0. 0.]\n",
      " [0. 0. 0. ... 0. 0. 0.]]\n"
     ]
    }
   ],
   "source": [
    "from sklearn.feature_extraction.text import CountVectorizer, TfidfVectorizer, TfidfTransformer\n",
    "\n",
    "vectorizer = CountVectorizer() # 搭建“词袋”模型\n",
    "vectorizer.fit(X) # 使用未切分的数据集进行模型训练，返回dictionary of word frequencies (word--word_count)\n",
    "xtrain = vectorizer.transform(Xtrain) # 向量化\n",
    "xtrain_array = xtrain.toarray() # 输出词袋矩阵\n",
    "print('TFIDF训练集矩阵:',xtrain_array)\n",
    "# print(vectorizer.vocabulary_)\n",
    "\n",
    "tfidf = TfidfTransformer()  # 搭建tfidf模型\n",
    "tfidf_matrix = tfidf.fit_transform(xtrain_array) # 模型训练\n",
    "xtrain_array = tfidf_matrix.toarray() # 返回tfidf向量矩阵\n",
    "# print(Xtrain_matrix_array)\n",
    "\n",
    "# 测试集向量化\n",
    "vectorizer_2 = CountVectorizer(vocabulary=vectorizer.vocabulary_) # 让两个CountVectorizer共享vocabulary\n",
    "xtest = vectorizer_2.transform(Xtest) \n",
    "# isinstance(xtest1,xtest)\n",
    "xtest_matrix = tfidf.fit_transform(xtest) \n",
    "xtest_array = xtest_matrix.toarray() \n",
    "print('TFIDF测试集矩阵:',xtest_array)"
   ]
  },
  {
   "cell_type": "markdown",
   "metadata": {
    "id": "8DRLvZdBg48N"
   },
   "source": [
    "# Word Embedding模型——Doc2Vec"
   ]
  },
  {
   "cell_type": "code",
   "execution_count": 196,
   "metadata": {
    "id": "WnfTnaitg48N"
   },
   "outputs": [],
   "source": [
    "from gensim.models import doc2vec\n",
    "from gensim import corpora,models\n",
    "import jieba\n",
    "import os\n",
    "from gensim.similarities.docsim import Similarity\n",
    "import gensim"
   ]
  },
  {
   "cell_type": "markdown",
   "metadata": {
    "id": "IiYYJ3fRrGJ0"
   },
   "source": [
    "### 构造迁移数据的词向量"
   ]
  },
  {
   "cell_type": "code",
   "execution_count": 197,
   "metadata": {
    "colab": {
     "base_uri": "https://localhost:8080/"
    },
    "id": "TW2hjaB4Qm-S",
    "outputId": "653e67e7-a3d1-418c-a864-2a96bc8d77c0"
   },
   "outputs": [
    {
     "data": {
      "text/plain": [
       "['周杰伦', '是', '个', '低调', '爱', '做', '慈善', '的', '好', '明星']"
      ]
     },
     "execution_count": 197,
     "metadata": {
      "tags": []
     },
     "output_type": "execute_result"
    }
   ],
   "source": [
    "#测试数据\n",
    "test_data_1 = '周杰伦是个低调爱做慈善的好明星'\n",
    "test_cut_raw_1 = list(jieba.cut(test_data_1))\n",
    "test_cut_raw_1"
   ]
  },
  {
   "cell_type": "markdown",
   "metadata": {
    "id": "cR3HN-y9Gmu7"
   },
   "source": [
    "### 将文本中的非中文去掉，只保留中文字以及该文本的标签，并把标签放在文本的第一个字符位置"
   ]
  },
  {
   "cell_type": "code",
   "execution_count": 198,
   "metadata": {
    "colab": {
     "base_uri": "https://localhost:8080/"
    },
    "id": "CRfT1YDxFiaP",
    "outputId": "0e7e14b6-8e72-444c-8329-f4b99f557aa2"
   },
   "outputs": [
    {
     "name": "stdout",
     "output_type": "stream",
     "text": [
      "0还是那句话我只推荐自己亲自服用过的东西具体心得体会看长微博\n"
     ]
    }
   ],
   "source": [
    "raw_documents_dx =[]\n",
    "with open('/content/gdrive/My Drive/Colab Notebooks/doc2vec/带标签短信节选.txt',encoding='utf8') as f:\n",
    "    s=f.readlines() \n",
    "    for each in s:\n",
    "      kickout_nonCn = ''\n",
    "      for uchar in each:\n",
    "        if uchar >= u'\\u4e00' and uchar <= u'\\u9fa5': # 中文\n",
    "          kickout_nonCn += uchar\n",
    "      raw_documents_dx.append(each[0]+kickout_nonCn) # 标签 + 纯中文文本\n",
    "print(raw_documents_dx[66])"
   ]
  },
  {
   "cell_type": "markdown",
   "metadata": {
    "id": "K5t9JjnIJkiv"
   },
   "source": [
    "### 接下来是doc2vec的建模方法，doc2vec.TaggedDocument，通过接收分词后的文本以及该文本对应的标签，完成贴标签的建模过程。"
   ]
  },
  {
   "cell_type": "code",
   "execution_count": 199,
   "metadata": {
    "colab": {
     "base_uri": "https://localhost:8080/"
    },
    "id": "L6oXHLRH4CM5",
    "outputId": "f6986da5-67b5-4c6c-baa1-b65dc75ccbed"
   },
   "outputs": [
    {
     "name": "stderr",
     "output_type": "stream",
     "text": [
      "/usr/local/lib/python3.7/dist-packages/gensim/models/doc2vec.py:566: UserWarning: The parameter `iter` is deprecated, will be removed in 4.0.0, use `epochs` instead.\n",
      "  warnings.warn(\"The parameter `iter` is deprecated, will be removed in 4.0.0, use `epochs` instead.\")\n",
      "/usr/local/lib/python3.7/dist-packages/gensim/models/doc2vec.py:570: UserWarning: The parameter `size` is deprecated, will be removed in 4.0.0, use `vector_size` instead.\n",
      "  warnings.warn(\"The parameter `size` is deprecated, will be removed in 4.0.0, use `vector_size` instead.\")\n",
      "/usr/local/lib/python3.7/dist-packages/ipykernel_launcher.py:13: DeprecationWarning: Call to deprecated `iter` (Attribute will be removed in 4.0.0, use self.epochs instead).\n",
      "  del sys.path[0]\n"
     ]
    },
    {
     "name": "stdout",
     "output_type": "stream",
     "text": [
      "——————————————doc2vec of dx———————————————\n"
     ]
    }
   ],
   "source": [
    "# 对短信数据集进行doc2vec向量化\n",
    "corpora_documents_dx = [] # 切好词的文本\n",
    "corpora_documents2_dx=[]  #贴标签后的文本\n",
    "for i, item_text in enumerate(raw_documents_dx):\n",
    "    words_list_dx = list(jieba.cut(item_text)) # 分词\n",
    "    corpora_documents_dx.append(words_list_dx)\n",
    "\n",
    "    document_dx = doc2vec.TaggedDocument(words=words_list_dx, tags=[raw_documents_dx[0]]) # tag是该文本对应的label，必须放在列表里\n",
    "    corpora_documents2_dx.append(document_dx)\n",
    "\n",
    "model_dx = doc2vec.Doc2Vec(size=89, min_count=1, iter=10) # 定义超参\n",
    "model_dx.build_vocab(corpora_documents2_dx)\n",
    "model_dx.train(corpora_documents2_dx,total_examples=model_dx.corpus_count, epochs=model_dx.iter)\n",
    "print('——————————————doc2vec of dx———————————————')\n",
    "\n",
    "# 得到了使用短信训练的doc2vec输出的汽车数据集的词向量 doc2vec_train_array_dx , doc2vec_test_array_dx\n",
    "doc2vec_train_array_dx = np.array([model_dx.infer_vector(each) for each in Xtrain] )\n",
    "doc2vec_test_array_dx = np.array([model_dx.infer_vector(each) for each in Xtest] )"
   ]
  },
  {
   "cell_type": "code",
   "execution_count": 199,
   "metadata": {
    "id": "gR2Hdrt84CRI"
   },
   "outputs": [],
   "source": []
  },
  {
   "cell_type": "markdown",
   "metadata": {
    "id": "1ZzFDeEjQYUj"
   },
   "source": [
    "### 对汽车数据集进行doc2vec向量化"
   ]
  },
  {
   "cell_type": "code",
   "execution_count": 200,
   "metadata": {
    "colab": {
     "base_uri": "https://localhost:8080/"
    },
    "id": "ajt468IOg48N",
    "outputId": "f2e06fe7-58bf-4459-f3ba-dfc1c1a33aac"
   },
   "outputs": [
    {
     "name": "stdout",
     "output_type": "stream",
     "text": [
      "高尔夫档位清晰\n"
     ]
    }
   ],
   "source": [
    "raw_documents = []\n",
    "for each in data['text']:\n",
    "  raw_documents.append(each.replace(' ','').replace('\\t','').replace('\\r\\n','').replace('\\r','').replace('\\n',''))\n",
    "print(raw_documents[67])\n",
    "corpora_documents = [] # 切好词的文本\n",
    "corpora_documents2=[]  #贴标签后的文本\n",
    "for i, item_text in enumerate(raw_documents):\n",
    "    words_list = list(jieba.cut(item_text))\n",
    "    corpora_documents.append(words_list)\n",
    "\n",
    "    # document = doc2vec.TaggedDocument(words=words_list, tags=[raw_documents[0][0]]) # tag是该文本对应的label，必须放在列表里\n",
    "    document = doc2vec.TaggedDocument(words=words_list, tags=data['label']) # tag是该文本对应的label，必须放在列表里\n",
    "    corpora_documents2.append(document)\n",
    "# print(type(corpora_documents2))\n",
    "# print(type(document))"
   ]
  },
  {
   "cell_type": "code",
   "execution_count": 200,
   "metadata": {
    "id": "9SJJ0zFHg48O"
   },
   "outputs": [],
   "source": []
  },
  {
   "cell_type": "code",
   "execution_count": 200,
   "metadata": {
    "id": "6w-PAQ2Jg48O"
   },
   "outputs": [],
   "source": []
  },
  {
   "cell_type": "code",
   "execution_count": 201,
   "metadata": {
    "colab": {
     "base_uri": "https://localhost:8080/"
    },
    "id": "o2Pvi6W_g48O",
    "outputId": "934c9c59-dd2b-4c4f-a377-43f367c4918e"
   },
   "outputs": [
    {
     "name": "stderr",
     "output_type": "stream",
     "text": [
      "/usr/local/lib/python3.7/dist-packages/gensim/models/doc2vec.py:566: UserWarning: The parameter `iter` is deprecated, will be removed in 4.0.0, use `epochs` instead.\n",
      "  warnings.warn(\"The parameter `iter` is deprecated, will be removed in 4.0.0, use `epochs` instead.\")\n",
      "/usr/local/lib/python3.7/dist-packages/gensim/models/doc2vec.py:570: UserWarning: The parameter `size` is deprecated, will be removed in 4.0.0, use `vector_size` instead.\n",
      "  warnings.warn(\"The parameter `size` is deprecated, will be removed in 4.0.0, use `vector_size` instead.\")\n",
      "/usr/local/lib/python3.7/dist-packages/ipykernel_launcher.py:4: DeprecationWarning: Call to deprecated `iter` (Attribute will be removed in 4.0.0, use self.epochs instead).\n",
      "  after removing the cwd from sys.path.\n"
     ]
    },
    {
     "name": "stdout",
     "output_type": "stream",
     "text": [
      "——————————————doc2vec———————————————\n",
      "[-0.05840496  0.00390408  0.02274049 -0.04067594 -0.01220063 -0.00197535\n",
      " -0.0577364  -0.07092538 -0.00780876 -0.00360834  0.01267141  0.01127555\n",
      "  0.00905261  0.0011728  -0.06470785  0.01265002 -0.00260043  0.06079194\n",
      "  0.01459971  0.02898774  0.02793488  0.03551139  0.02420281  0.08474534\n",
      " -0.03298391 -0.0144636  -0.0001332  -0.05189613  0.00427916 -0.05042804\n",
      " -0.03565727  0.09016632  0.0231725  -0.03687044  0.03491677 -0.03708687\n",
      "  0.12087856  0.06638747 -0.05481863  0.03050341  0.01882213 -0.01377723\n",
      " -0.02524495  0.04040973 -0.08258206 -0.06696294  0.00046128 -0.00554488\n",
      " -0.03466825  0.03991603 -0.00255923 -0.05847004 -0.01707861 -0.04739229\n",
      "  0.08979238 -0.04732547  0.03218954 -0.00990515  0.04099742 -0.01328191\n",
      " -0.00996542 -0.05810066  0.11217444  0.07479881  0.03520023 -0.06381103\n",
      "  0.03211135 -0.00096457  0.01029082 -0.02869307 -0.00780196 -0.04048982\n",
      " -0.06846505 -0.06356821  0.02425175 -0.02214021 -0.04745591 -0.01947846\n",
      " -0.0170521   0.00229003  0.03235301 -0.00275963 -0.07967327 -0.07214677\n",
      " -0.00206269 -0.03377587 -0.03194128  0.04968648 -0.01724309]\n"
     ]
    }
   ],
   "source": [
    "# 模型训练\n",
    "model = doc2vec.Doc2Vec(size=89, min_count=1, iter=10) # 建立模型\n",
    "model.build_vocab(corpora_documents2) # 建立vocabulary\n",
    "model.train(corpora_documents2,total_examples=model.corpus_count, epochs=model.iter) # 训练模型\n",
    "print('——————————————doc2vec———————————————')\n",
    "inferred_vector = model.infer_vector(test_cut_raw_1) # 输出文本向量\n",
    "print(inferred_vector)"
   ]
  },
  {
   "cell_type": "code",
   "execution_count": 202,
   "metadata": {
    "id": "QCxqzIZByHBd"
   },
   "outputs": [],
   "source": [
    "dictionary_1 = vectorizer.vocabulary_\n",
    "# print(dictionary_1)\n",
    "# print(len(dictionary_1))\n",
    "# model = gensim.models.Doc2Vec()\n",
    "# doc2vec_vocab = model.build_vocab_from_freq(word_freq = dictionary_1)\n",
    "# print(type(doc2vec_vocab))\n",
    "\n",
    "# model = gensim.models.Doc2Vec()\n",
    "# doc2vec_vocab = model.build_vocab(corpora_documents2)\n",
    "# print(type(doc2vec_vocab))"
   ]
  },
  {
   "cell_type": "code",
   "execution_count": 203,
   "metadata": {
    "id": "vxPSFu7kg48O"
   },
   "outputs": [],
   "source": [
    "# # 生成字典\n",
    "# dictionary = corpora.Dictionary(corpora_documents) #使用gensim的corpora方法，接收切好词的列表，生成词典\n",
    "# # 文本向量化\n",
    "# corpus = [dictionary.doc2bow(text) for text in corpora_documents]\n",
    "\n",
    "# #sim模型\n",
    "# similarity = Similarity('-Similarity-index', corpus, num_features=10000)\n",
    "\n",
    "# #用sim计算相似度\n",
    "# test_corpus_1 = dictionary.doc2bow(test_cut_raw_1)\n",
    "# similarity.num_best = 6  # 用于控制输出几个相似的样本\n",
    "# print('——————————————sim———————————————')\n",
    "# print(similarity[test_corpus_1])  # 返回最相似的样本材料  (index_of_document, similarity) "
   ]
  },
  {
   "cell_type": "code",
   "execution_count": 204,
   "metadata": {
    "id": "mCapWSNOg48P"
   },
   "outputs": [],
   "source": [
    "# 汽车文本训练的doc2vec词向量\n",
    "doc2vec_train_array = np.array([model.infer_vector(each) for each in Xtrain] )\n",
    "# print(doc2vec_train_array[0])\n",
    "doc2vec_test_array = np.array([model.infer_vector(each) for each in Xtest] )"
   ]
  },
  {
   "cell_type": "code",
   "execution_count": 205,
   "metadata": {
    "colab": {
     "base_uri": "https://localhost:8080/",
     "height": 35
    },
    "id": "WV18rcaYg48P",
    "outputId": "98edbe6f-a88b-47f8-c66b-b9e07eea26fa"
   },
   "outputs": [
    {
     "data": {
      "application/vnd.google.colaboratory.intrinsic+json": {
       "type": "string"
      },
      "text/plain": [
       "'\\n# doc2vec计算相似度\\nsims = model.docvecs.most_similar([inferred_vector], topn=5)\\nprint(sims)\\n'"
      ]
     },
     "execution_count": 205,
     "metadata": {
      "tags": []
     },
     "output_type": "execute_result"
    }
   ],
   "source": [
    "'''\n",
    "# doc2vec计算相似度\n",
    "sims = model.docvecs.most_similar([inferred_vector], topn=5)\n",
    "print(sims)\n",
    "'''"
   ]
  },
  {
   "cell_type": "code",
   "execution_count": 206,
   "metadata": {
    "colab": {
     "base_uri": "https://localhost:8080/",
     "height": 124
    },
    "id": "MNgK40NVg48P",
    "outputId": "3a6e69d7-b01d-447d-e173-843f949d3b5e"
   },
   "outputs": [
    {
     "data": {
      "application/vnd.google.colaboratory.intrinsic+json": {
       "type": "string"
      },
      "text/plain": [
       "\"\\n#转化成tf-idf向量\\ntfidf_model=models.TfidfModel(corpus)\\ncorpus_tfidf = [tfidf_model[doc] for doc in corpus]\\n#转化成lsi向量\\nlsi= models.LsiModel(corpus_tfidf,id2word=dictionary,num_topics=50)\\ncorpus_lsi = [lsi[doc] for doc in corpus]\\nsimilarity_lsi=Similarity('Similarity-Lsi-index', corpus_lsi, num_features=1600,num_best=5)\\ntest_corpus_3 = dictionary.doc2bow(test_cut_raw_1)  # 2.转换成bow向量\\ntest_corpus_tfidf_3 = tfidf_model[test_corpus_3]  # 3.计算tfidf值\\ntest_corpus_lsi_3 = lsi[test_corpus_tfidf_3]  # 4.计算lsi值\\n# lsi.add_documents(test_corpus_lsi_3) #更新LSI的值\\nprint('——————————————lsi———————————————')\\nprint(similarity_lsi[test_corpus_lsi_3])\\n#转化成lda向量\\nlda= models.LdaModel(corpus_tfidf,id2word=dictionary,num_topics=50)\\ncorpus_lda = [lda[doc] for doc in corpus]\\nsimilarity_lda=Similarity('Similarity-LDA-index', corpus_lda, num_features=1600,num_best=5)\\ntest_corpus_lda_3 = lda[test_corpus_tfidf_3]  # 4.计算lda值\\n# lda.add_documents(test_corpus_lda_3) #更新Lda的值\\nprint('——————————————lda———————————————')\\nprint(similarity_lda[test_corpus_lda_3])\\nprint(lsi)\\nprint('——————————————向量———————————————')\\nprint(lsi[corpus_tfidf[0]])\\n#print(lsi.print_topics())\\n\""
      ]
     },
     "execution_count": 206,
     "metadata": {
      "tags": []
     },
     "output_type": "execute_result"
    }
   ],
   "source": [
    "'''\n",
    "#转化成tf-idf向量\n",
    "tfidf_model=models.TfidfModel(corpus)\n",
    "corpus_tfidf = [tfidf_model[doc] for doc in corpus]\n",
    "#转化成lsi向量\n",
    "lsi= models.LsiModel(corpus_tfidf,id2word=dictionary,num_topics=50)\n",
    "corpus_lsi = [lsi[doc] for doc in corpus]\n",
    "similarity_lsi=Similarity('Similarity-Lsi-index', corpus_lsi, num_features=1600,num_best=5)\n",
    "test_corpus_3 = dictionary.doc2bow(test_cut_raw_1)  # 2.转换成bow向量\n",
    "test_corpus_tfidf_3 = tfidf_model[test_corpus_3]  # 3.计算tfidf值\n",
    "test_corpus_lsi_3 = lsi[test_corpus_tfidf_3]  # 4.计算lsi值\n",
    "# lsi.add_documents(test_corpus_lsi_3) #更新LSI的值\n",
    "print('——————————————lsi———————————————')\n",
    "print(similarity_lsi[test_corpus_lsi_3])\n",
    "#转化成lda向量\n",
    "lda= models.LdaModel(corpus_tfidf,id2word=dictionary,num_topics=50)\n",
    "corpus_lda = [lda[doc] for doc in corpus]\n",
    "similarity_lda=Similarity('Similarity-LDA-index', corpus_lda, num_features=1600,num_best=5)\n",
    "test_corpus_lda_3 = lda[test_corpus_tfidf_3]  # 4.计算lda值\n",
    "# lda.add_documents(test_corpus_lda_3) #更新Lda的值\n",
    "print('——————————————lda———————————————')\n",
    "print(similarity_lda[test_corpus_lda_3])\n",
    "print(lsi)\n",
    "print('——————————————向量———————————————')\n",
    "print(lsi[corpus_tfidf[0]])\n",
    "#print(lsi.print_topics())\n",
    "'''"
   ]
  },
  {
   "cell_type": "markdown",
   "metadata": {
    "id": "zw4oiASIg48Q"
   },
   "source": [
    "# Baseline Model"
   ]
  },
  {
   "cell_type": "markdown",
   "metadata": {
    "id": "9fyfdmHmQutx"
   },
   "source": [
    "### 将训练好的词向量传入分类模型"
   ]
  },
  {
   "cell_type": "code",
   "execution_count": 207,
   "metadata": {
    "id": "p81IdwiMV8RW"
   },
   "outputs": [],
   "source": [
    "# Naive Bayes model\n",
    "from sklearn.naive_bayes import GaussianNB,MultinomialNB\n",
    "from sklearn.linear_model import LogisticRegression\n",
    "from sklearn.model_selection import cross_val_score\n",
    "\n",
    "bayes = GaussianNB()\n",
    "bayes.fit(xtrain_array,ytrain)\n",
    "\n",
    "# 交叉验证\n",
    "cv = 20\n",
    "bayes_scores_train = cross_val_score(bayes,xtrain_array,ytrain, cv=cv)\n",
    "bayes_scores_test = cross_val_score(bayes,xtest_array,ytest, cv=cv)\n",
    "\n",
    "bayes_doc2vec = GaussianNB()\n",
    "bayes_doc2vec.fit(doc2vec_train_array,ytrain)\n",
    "bayes_scores_train_doc2vec = cross_val_score(bayes_doc2vec,doc2vec_train_array,ytrain,cv = cv)\n",
    "bayes_scores_test_doc2vec = cross_val_score(bayes_doc2vec,doc2vec_test_array,ytest,cv = cv)"
   ]
  },
  {
   "cell_type": "code",
   "execution_count": 208,
   "metadata": {
    "id": "rd4jpLAHg48Q"
   },
   "outputs": [],
   "source": [
    "# Logistic regression model\n",
    "lr = LogisticRegression()\n",
    "# 用词袋模型的向量训练\n",
    "lr.fit(xtrain_array,ytrain)\n",
    "lr_scores_train = cross_val_score(lr,xtrain_array,ytrain, cv=cv)\n",
    "lr_scores_test = cross_val_score(lr,xtest_array,ytest, cv=cv)\n",
    "\n",
    "# 用doc2vec的向量训练\n",
    "lr_doc2vec= LogisticRegression()\n",
    "lr_doc2vec.fit(doc2vec_train_array,ytrain)\n",
    "lr_scores_train_doc2vec = cross_val_score(lr,doc2vec_train_array,ytrain, cv=cv)\n",
    "lr_scores_test_doc2vec = cross_val_score(lr,doc2vec_test_array,ytest, cv=cv)\n",
    "\n",
    "\n"
   ]
  },
  {
   "cell_type": "markdown",
   "metadata": {
    "id": "GX10hVH0AcNh"
   },
   "source": [
    "### 画图"
   ]
  },
  {
   "cell_type": "code",
   "execution_count": 245,
   "metadata": {
    "colab": {
     "base_uri": "https://localhost:8080/",
     "height": 352
    },
    "id": "jv10P74KgcXN",
    "outputId": "b1991e52-c720-489a-ca82-0b858001fc78"
   },
   "outputs": [
    {
     "data": {
      "image/png": "[encoded data removed]",
      "text/plain": [
       "<Figure size 432x288 with 4 Axes>"
      ]
     },
     "metadata": {
      "needs_background": "light",
      "tags": []
     },
     "output_type": "display_data"
    }
   ],
   "source": [
    "import matplotlib.pyplot as plt\n",
    "fig,ax_list = plt.subplots(nrows=2,ncols=2)\n",
    "ax_list[0][0].title.set_text('BagOfWords_bayes')\n",
    "ax_list[0][0].plot(range(cv),bayes_scores_train,'r',label = 'training')\n",
    "ax_list[0][0].plot(range(cv),bayes_scores_test,'g',label = 'testing')\n",
    "\n",
    "ax_list[0][1].title.set_text('Doc2vec_bayes')\n",
    "ax_list[0][1].plot(range(cv),bayes_scores_train_doc2vec,'b',label = 'training')\n",
    "ax_list[0][1].plot(range(cv),bayes_scores_test_doc2vec,'y',label = 'testing')\n",
    "\n",
    "ax_list[1][0].title.set_text('BagOfWords_lr')\n",
    "ax_list[1][0].plot(range(cv),lr_scores_train,'r',label = 'training')\n",
    "ax_list[1][0].plot(range(cv),lr_scores_test,'g',label = 'testing')\n",
    "\n",
    "ax_list[1][1].title.set_text('Doc2vec_lr')\n",
    "ax_list[1][1].plot(range(cv),lr_scores_train_doc2vec,'b',label = 'training')\n",
    "ax_list[1][1].plot(range(cv),lr_scores_test_doc2vec,'y',label = 'testing')\n",
    "\n",
    "ax_list[0][0].legend(loc='best')\n",
    "ax_list[0][1].legend(loc='best')\n",
    "ax_list[1][0].legend(loc='best')\n",
    "ax_list[1][1].legend(loc='best')\n",
    "plt.subplots_adjust(left=0.1, right=1, bottom=1, top=2, wspace=0.2, hspace=0.3) # 调整子图之间的位置\n",
    "plt.show()"
   ]
  },
  {
   "cell_type": "markdown",
   "metadata": {
    "id": "id47XNODAfft"
   },
   "source": [
    "### 迁移学习的准确率"
   ]
  },
  {
   "cell_type": "code",
   "execution_count": 210,
   "metadata": {
    "colab": {
     "base_uri": "https://localhost:8080/"
    },
    "id": "0xrUxhd2XHsq",
    "outputId": "2ad215d8-1656-457e-e238-3b7bc193bc7b"
   },
   "outputs": [
    {
     "name": "stdout",
     "output_type": "stream",
     "text": [
      "doc2vec_lr_迁移学习训练集准确率： 0.7573170731707317\n",
      "doc2vec_lr_迁移学习测试集准确率： 0.7528409090909091\n",
      "doc2vec_bayes_迁移学习训练集准确率 0.7573170731707317\n",
      "doc2vec_bayes_迁移学习测试集准确率 0.7528409090909091\n"
     ]
    }
   ],
   "source": [
    "\n",
    "print('doc2vec_lr_迁移学习训练集准确率：',lr_doc2vec.score(doc2vec_train_array_dx,ytrain))\n",
    "print('doc2vec_lr_迁移学习测试集准确率：',lr_doc2vec.score(doc2vec_test_array_dx,ytest))\n",
    "print('doc2vec_bayes_迁移学习训练集准确率',bayes_doc2vec.score(doc2vec_train_array_dx,ytrain)) \n",
    "print('doc2vec_bayes_迁移学习测试集准确率',bayes_doc2vec.score(doc2vec_test_array_dx,ytest))"
   ]
  },
  {
   "cell_type": "code",
   "execution_count": 210,
   "metadata": {
    "id": "kXdneDdUWBWm"
   },
   "outputs": [],
   "source": []
  },
  {
   "cell_type": "markdown",
   "metadata": {
    "id": "61KKG5N-g48Q"
   },
   "source": [
    "# NN Model"
   ]
  },
  {
   "cell_type": "code",
   "execution_count": 185,
   "metadata": {
    "id": "sI1GrsgtolER"
   },
   "outputs": [],
   "source": []
  },
  {
   "cell_type": "code",
   "execution_count": 211,
   "metadata": {
    "id": "hb1OriTOg48Q"
   },
   "outputs": [],
   "source": [
    "import tensorflow as tf\n",
    "from keras.utils.np_utils import to_categorical\n",
    "y_train = to_categorical(ytrain,num_classes = len(np.unique(ytrain)))\n",
    "y_test = to_categorical(ytest,num_classes = len(np.unique(ytest)))"
   ]
  },
  {
   "cell_type": "code",
   "execution_count": 212,
   "metadata": {
    "id": "UBsF3pKyrCBc"
   },
   "outputs": [],
   "source": [
    "from tensorflow.keras.models import Sequential\n",
    "from tensorflow.keras import layers\n",
    "\n",
    "# 稀疏矩阵转换\n",
    "# x_train = x_train.toarray()\n",
    "# x_test = x_test.toarray()"
   ]
  },
  {
   "cell_type": "markdown",
   "metadata": {
    "id": "OMjleQG8AlFL"
   },
   "source": [
    "###  构建神经网络模型\n"
   ]
  },
  {
   "cell_type": "code",
   "execution_count": 213,
   "metadata": {
    "colab": {
     "base_uri": "https://localhost:8080/"
    },
    "id": "fY4bUbMgg48R",
    "outputId": "c193472e-5dd0-4c11-c35f-bca01d26b4dc"
   },
   "outputs": [
    {
     "name": "stdout",
     "output_type": "stream",
     "text": [
      "WARNING:tensorflow:Please add `keras.layers.InputLayer` instead of `keras.Input` to Sequential model. `keras.Input` is intended to be used by Functional model.\n",
      "Model: \"sequential_10\"\n",
      "_________________________________________________________________\n",
      "Layer (type)                 Output Shape              Param #   \n",
      "=================================================================\n",
      "dense_17 (Dense)             (None, 100)               181000    \n",
      "_________________________________________________________________\n",
      "dense_18 (Dense)             (None, 2)                 202       \n",
      "=================================================================\n",
      "Total params: 181,202\n",
      "Trainable params: 181,202\n",
      "Non-trainable params: 0\n",
      "_________________________________________________________________\n"
     ]
    }
   ],
   "source": [
    "input_dim = xtrain_array.shape[1] # 特征数量\n",
    "\n",
    "model = Sequential()\n",
    "model.add(tf.keras.Input(shape = (input_dim,))) # 输入层\n",
    "model.add(layers.Dense(units = 100, activation = 'relu')) # 100个神经元\n",
    "model.add(layers.Dense(len(np.unique(ytrain)),activation = 'sigmoid')) # 2表示最后一层我想得到2个特征结果,有多少个分类结果就有多少个神经元\n",
    "\n",
    "# 定义Loss-function优化器\n",
    "model.compile(loss = 'binary_crossentropy'  # 交叉熵损失\n",
    "                ,optimizer = 'adam'\n",
    "                ,metrics = ['accuracy'])\n",
    "model.summary()\n"
   ]
  },
  {
   "cell_type": "code",
   "execution_count": 214,
   "metadata": {
    "id": "0F1HZZDotQ0v"
   },
   "outputs": [],
   "source": [
    "with tf.device('/gpu:0'):\n",
    "    hist_nn_bag=model.fit(xtrain_array,y_train\n",
    "        ,epochs = 20,verbose = False    # verbose会打印每次epoch的结果\n",
    "        ,validation_data = (xtest_array, y_test)\n",
    "        ,batch_size = 10)\n",
    "\n",
    "# 模型评估\n",
    "acc_nn_bag = hist_nn_bag.history['accuracy']     #获取训练集准确性数据\n",
    "loss_nn_bag = hist_nn_bag.history['loss']\n",
    "\n",
    "# loss,accuracy = model.evaluate(xtrain_array,y_train,verbose = True)\n",
    "# print('训练数据集准确率为',accuracy)\n",
    "# loss,accuracy = model.evaluate(xtest_array,y_test,verbose = True)\n",
    "# print('测试数据集准确率为',accuracy)"
   ]
  },
  {
   "cell_type": "code",
   "execution_count": 214,
   "metadata": {
    "id": "2CHFQUDu1_LK"
   },
   "outputs": [],
   "source": []
  },
  {
   "cell_type": "markdown",
   "metadata": {
    "id": "JaCA5cmGrMeF"
   },
   "source": [
    "### 使用神经网络拟合doc2vec向量"
   ]
  },
  {
   "cell_type": "code",
   "execution_count": 215,
   "metadata": {
    "colab": {
     "base_uri": "https://localhost:8080/"
    },
    "id": "SXb4yOEtrLWg",
    "outputId": "28db4fb8-297d-4e55-c540-6679f990d66c"
   },
   "outputs": [
    {
     "name": "stdout",
     "output_type": "stream",
     "text": [
      "WARNING:tensorflow:Please add `keras.layers.InputLayer` instead of `keras.Input` to Sequential model. `keras.Input` is intended to be used by Functional model.\n",
      "Model: \"sequential_11\"\n",
      "_________________________________________________________________\n",
      "Layer (type)                 Output Shape              Param #   \n",
      "=================================================================\n",
      "dense_19 (Dense)             (None, 100)               9000      \n",
      "_________________________________________________________________\n",
      "dense_20 (Dense)             (None, 2)                 202       \n",
      "=================================================================\n",
      "Total params: 9,202\n",
      "Trainable params: 9,202\n",
      "Non-trainable params: 0\n",
      "_________________________________________________________________\n"
     ]
    }
   ],
   "source": [
    "# 构建神经网络模型\n",
    "input_dim = doc2vec_train_array.shape[1] # 特征数量\n",
    "\n",
    "model = Sequential()\n",
    "model.add(tf.keras.Input(shape = (input_dim,)))\n",
    "model.add(layers.Dense(100, activation = 'relu')) # 100表示第一层我想得到100个特征\n",
    "model.add(layers.Dense(len(np.unique(ytrain)),activation = 'sigmoid')) # 2表示最后一层我想得到2个特征结果,有多少个分类结果就有多少个神经元\n",
    "\n",
    "# 定义Loss-function优化器\n",
    "model.compile(loss = 'binary_crossentropy'  # 交叉熵损失\n",
    "                ,optimizer = 'adam'\n",
    "                ,metrics = ['accuracy'])\n",
    "model.summary()"
   ]
  },
  {
   "cell_type": "code",
   "execution_count": 216,
   "metadata": {
    "id": "G-vEwDf8g48R"
   },
   "outputs": [],
   "source": [
    "with tf.device('/gpu:0'):\n",
    "    hist_nn_doc2vec=model.fit(doc2vec_train_array,y_train\n",
    "        ,epochs = 20,verbose =False    # verbose会打印每次epoch的结果\n",
    "        ,validation_data = (doc2vec_test_array, y_test)\n",
    "        ,batch_size = 10)\n",
    "# 模型评估\n",
    "acc_nn_doc2vec = hist_nn_doc2vec.history['accuracy']     \n",
    "loss_nn_doc2vec = hist_nn_doc2vec.history['loss']\n"
   ]
  },
  {
   "cell_type": "markdown",
   "metadata": {
    "id": "IPfkO360rbaH"
   },
   "source": [
    "#LSTM模型"
   ]
  },
  {
   "cell_type": "code",
   "execution_count": 217,
   "metadata": {
    "id": "HjZZschH_IKM"
   },
   "outputs": [],
   "source": [
    "# LSTM\n",
    "from tensorflow.keras.layers import Embedding,LSTM,Dropout,Dense\n",
    "\n",
    "input_length = doc2vec_train_array.shape[0]\n",
    "vocab_dim = doc2vec_train_array.shape[1]\n",
    "# n_symbols = data['label'].unique()\n",
    "\n",
    "model = Sequential()\n",
    "model.add(Embedding(input_dim = len(dictionary_1)+1,\n",
    "                   output_dim = vocab_dim,\n",
    "                   mask_zero = True,\n",
    "                   input_length = input_length))\n",
    "model.add(LSTM(activation = 'tanh',units = 50))\n",
    "model.add(Dropout(0.5))\n",
    "model.add(Dense(2,activation = 'softmax'))\n",
    "model.compile(loss = 'categorical_crossentropy',\n",
    "              optimizer = 'adam',metrics =['accuracy'])\n"
   ]
  },
  {
   "cell_type": "code",
   "execution_count": 217,
   "metadata": {
    "id": "eu3BvIpcreMW"
   },
   "outputs": [],
   "source": []
  },
  {
   "cell_type": "code",
   "execution_count": 218,
   "metadata": {
    "colab": {
     "base_uri": "https://localhost:8080/"
    },
    "id": "YxjOOSPerePU",
    "outputId": "9ab6ea9f-e6a1-4fd5-8ff7-1e39a492ab2f"
   },
   "outputs": [
    {
     "name": "stdout",
     "output_type": "stream",
     "text": [
      "Train...\n",
      "WARNING:tensorflow:Model was constructed with shape (None, 820) for input KerasTensor(type_spec=TensorSpec(shape=(None, 820), dtype=tf.float32, name='embedding_3_input'), name='embedding_3_input', description=\"created by layer 'embedding_3_input'\"), but it was called on an input with incompatible shape (None, 89).\n",
      "WARNING:tensorflow:Model was constructed with shape (None, 820) for input KerasTensor(type_spec=TensorSpec(shape=(None, 820), dtype=tf.float32, name='embedding_3_input'), name='embedding_3_input', description=\"created by layer 'embedding_3_input'\"), but it was called on an input with incompatible shape (None, 89).\n"
     ]
    }
   ],
   "source": [
    "print('Train...')\n",
    "with tf.device('/gpu:0'): \n",
    "  hist_lstm_doc2vec = model.fit(doc2vec_train_array,y_train,batch_size = 100,epochs = 20,verbose = False)\n",
    "\n",
    "# 模型评估\n",
    "acc_lstm_doc2vec = hist_lstm_doc2vec.history['accuracy']     \n",
    "loss_lstm_doc2vec = hist_lstm_doc2vec.history['loss']"
   ]
  },
  {
   "cell_type": "code",
   "execution_count": 219,
   "metadata": {
    "colab": {
     "base_uri": "https://localhost:8080/"
    },
    "id": "5AUHBu3kreW5",
    "outputId": "4aecaf87-579b-4aa2-9b42-dc0618dcf38c"
   },
   "outputs": [
    {
     "name": "stdout",
     "output_type": "stream",
     "text": [
      "xtrain_array_Train...\n",
      "WARNING:tensorflow:Model was constructed with shape (None, 820) for input KerasTensor(type_spec=TensorSpec(shape=(None, 820), dtype=tf.float32, name='embedding_3_input'), name='embedding_3_input', description=\"created by layer 'embedding_3_input'\"), but it was called on an input with incompatible shape (None, 1809).\n"
     ]
    }
   ],
   "source": [
    "print('xtrain_array_Train...')\n",
    "with tf.device('/gpu:0'): \n",
    "  hist_lstm_bag = model.fit(xtrain_array,y_train,batch_size = 100,epochs = 20,verbose = False)\n",
    "\n",
    "# 模型评估\n",
    "acc_lstm_bag = hist_lstm_bag.history['accuracy']     \n",
    "loss_lstm_bag = hist_lstm_bag.history['loss']\n",
    "\n"
   ]
  },
  {
   "cell_type": "markdown",
   "metadata": {
    "id": "J_5fR14EAtKq"
   },
   "source": [
    "### 画图"
   ]
  },
  {
   "cell_type": "code",
   "execution_count": 235,
   "metadata": {
    "colab": {
     "base_uri": "https://localhost:8080/",
     "height": 352
    },
    "id": "FhbUk5cOwLGA",
    "outputId": "d7da0033-a2f3-421f-b596-a236bb32fd91"
   },
   "outputs": [
    {
     "data": {
      "image/png": "[encoded data removed]",
      "text/plain": [
       "<Figure size 432x288 with 4 Axes>"
      ]
     },
     "metadata": {
      "needs_background": "light",
      "tags": []
     },
     "output_type": "display_data"
    }
   ],
   "source": [
    "import matplotlib.pyplot as plt\n",
    "fig,ax_list = plt.subplots(nrows=2,ncols=2)\n",
    "ax_list[0][0].title.set_text('BagOfWords_nn')\n",
    "ax_list[0][0].plot(range(cv),acc_nn_bag,'r',label = 'acc')\n",
    "ax_list[0][0].plot(range(cv),loss_nn_bag,'g',label = 'loss')\n",
    "\n",
    "ax_list[0][1].title.set_text('Doc2vec_nn')\n",
    "ax_list[0][1].plot(range(cv),acc_nn_doc2vec,'b',label = 'acc')\n",
    "ax_list[0][1].plot(range(cv),loss_nn_doc2vec,'y',label = 'loss')\n",
    "\n",
    "ax_list[1][0].title.set_text('BagOfWords_lstm')\n",
    "ax_list[1][0].plot(range(cv),acc_lstm_bag,'r',label = 'acc')\n",
    "ax_list[1][0].plot(range(cv),loss_lstm_bag,'g',label = 'loss')\n",
    "\n",
    "ax_list[1][1].title.set_text('Doc2vec_lstm')\n",
    "ax_list[1][1].plot(range(cv),acc_lstm_doc2vec,'b',label = 'acc')\n",
    "ax_list[1][1].plot(range(cv),loss_lstm_doc2vec,'y',label = 'loss')\n",
    "plt.subplots_adjust(left=0.1, right=1, bottom=1, top=2, wspace=0.5, hspace=1) # 调整子图之间的位置\n",
    "ax_list[0][0].legend(loc = 'best')\n",
    "ax_list[0][1].legend(loc = 'best')\n",
    "ax_list[1][0].legend(loc = 'best')\n",
    "ax_list[1][1].legend(loc = 'best')\n",
    "\n",
    "plt.show()"
   ]
  },
  {
   "cell_type": "markdown",
   "metadata": {
    "id": "aPi6C33HsWvj"
   },
   "source": [
    "# 结果说明"
   ]
  },
  {
   "cell_type": "code",
   "execution_count": 221,
   "metadata": {
    "colab": {
     "base_uri": "https://localhost:8080/",
     "height": 124
    },
    "id": "Rk2QfNjN_IPC",
    "outputId": "52237935-3d9a-47fe-fc6d-ea1852789dd3"
   },
   "outputs": [
    {
     "data": {
      "application/vnd.google.colaboratory.intrinsic+json": {
       "type": "string"
      },
      "text/plain": [
       "'\\n首先，使用5000个样本进行训练，得到以下结果：\\n使用词袋模型得到的词向量，在朴素贝叶斯分类器下的训练集准确率为95%，测试集准确率为75%\\n使用词嵌入模型得到的词向量，在朴素贝叶斯分类器下的训练集准确率为51%，测试集准确率为50%\\n\\n使用词袋模型得到的词向量，在逻辑回归分类器下的训练集准确率为80%，测试集准确率为75%\\n使用词嵌入模型得到的词向量，在逻辑回归分类器下的训练集准确率为76%，测试集准确率为75%\\n\\n使用词袋模型得到的词向量，在神经网络分类器下的训练集准确率为99%，测试集准确率为82%\\n使用词嵌入模型得到的词向量，在神经网络分类器下的训练集准确率为76%，测试集准确率为75%\\n\\n使用词袋模型得到的词向量，在LSTM分类器下的训练集准确率为76%，测试集准确率为75%\\n使用词嵌入模型得到的词向量，在LSTM分类器下的训练集准确率为75%，测试集准确率为75%\\n\\n迁移学习的效果：\\nbayes、lr、nn、LSTM 均为75%的准确率\\n\\n随后使用十倍的样本进行训练，得到的结果完全一致，说明5000的样本量已经可以满足模型的学习，继续添加样本量也不能提高模型的学习能力了：\\n'"
      ]
     },
     "execution_count": 221,
     "metadata": {
      "tags": []
     },
     "output_type": "execute_result"
    }
   ],
   "source": [
    "# 机器学习各模型效果如下：\n",
    "\n",
    "'''\n",
    "首先，使用5000个样本进行训练，得到以下结果：\n",
    "使用词袋模型得到的词向量，在朴素贝叶斯分类器下的训练集准确率为95%，测试集准确率为75%\n",
    "使用词嵌入模型得到的词向量，在朴素贝叶斯分类器下的训练集准确率为51%，测试集准确率为50%\n",
    "\n",
    "使用词袋模型得到的词向量，在逻辑回归分类器下的训练集准确率为80%，测试集准确率为75%\n",
    "使用词嵌入模型得到的词向量，在逻辑回归分类器下的训练集准确率为76%，测试集准确率为75%\n",
    "\n",
    "使用词袋模型得到的词向量，在神经网络分类器下的训练集准确率为99%，测试集准确率为82%\n",
    "使用词嵌入模型得到的词向量，在神经网络分类器下的训练集准确率为76%，测试集准确率为75%\n",
    "\n",
    "使用词袋模型得到的词向量，在LSTM分类器下的训练集准确率为76%，测试集准确率为75%\n",
    "使用词嵌入模型得到的词向量，在LSTM分类器下的训练集准确率为75%，测试集准确率为75%\n",
    "\n",
    "迁移学习的效果：\n",
    "bayes、lr、nn、LSTM 均为75%的准确率\n",
    "\n",
    "随后使用十倍的样本进行训练，得到的结果完全一致，说明5000的样本量已经可以满足模型的学习，继续添加样本量也不能提高模型的学习能力了：\n",
    "'''"
   ]
  },
  {
   "cell_type": "markdown",
   "metadata": {
    "id": "9XEEytL89WAI"
   },
   "source": [
    "# 模型间效果对比"
   ]
  },
  {
   "cell_type": "code",
   "execution_count": 222,
   "metadata": {
    "colab": {
     "base_uri": "https://localhost:8080/",
     "height": 352
    },
    "id": "gFSzxmAqEqPb",
    "outputId": "996e502a-5fa9-4411-95e2-d9290f755d3a"
   },
   "outputs": [
    {
     "data": {
      "image/png": "[encoded data removed]",
      "text/plain": [
       "<Figure size 432x288 with 4 Axes>"
      ]
     },
     "metadata": {
      "needs_background": "light",
      "tags": []
     },
     "output_type": "display_data"
    }
   ],
   "source": [
    "import matplotlib.pyplot as plt\n",
    "fig,ax_list = plt.subplots(nrows=2,ncols=2)\n",
    "ax_list[0][0].title.set_text('BagOfWords_trainingSet')\n",
    "ax_list[0][0].plot(['bayes','lr','nn','lstm'],[0.95,0.80,0.99,0.76])\n",
    "# plt.subplot(412)\n",
    "ax_list[0][1].title.set_text('BagOfWords_testingSet')\n",
    "ax_list[0][1].plot(['bayes','lr','nn','lstm'],[0.75,0.75,0.82,0.75])\n",
    "# plt.subplot(413)\n",
    "ax_list[1][0].title.set_text('Doc2Vec_trainingSet')\n",
    "ax_list[1][0].plot(['bayes','lr','nn','lstm'],[0.51,0.76,0.76,0.75])\n",
    "# plt.subplot(414)\n",
    "ax_list[1][1].title.set_text('Doc2vec_testingSet')\n",
    "ax_list[1][1].plot(['bayes','lr','nn','lstm'],[0.50,0.75,0.75,0.75])\n",
    "\n",
    "plt.subplots_adjust(left=0.1, right=1, bottom=1, top=2, wspace=0.5, hspace=1) # 调整子图之间的位置\n",
    "plt.show()"
   ]
  },
  {
   "cell_type": "code",
   "execution_count": 245,
   "metadata": {
    "id": "YB6dJvuW_IUX"
   },
   "outputs": [],
   "source": []
  },
  {
   "cell_type": "markdown",
   "metadata": {
    "id": "2SIEyeTepnOE"
   },
   "source": [
    "# 从图中我们可以看出，不论是在词袋模型还是词嵌入模型下，简单的神经网络模型效果总是优于传统机器学习方法和LSTM，由于LSTM在处理较长文本时，能够发挥出其结构上的优势，因此在短文本中效果略低是可以理解的。"
   ]
  },
  {
   "cell_type": "code",
   "execution_count": 223,
   "metadata": {
    "colab": {
     "base_uri": "https://localhost:8080/",
     "height": 352
    },
    "id": "ok3Rc9E9_IXJ",
    "outputId": "d94b0346-6912-4130-c60c-dcaa35a43e81"
   },
   "outputs": [
    {
     "data": {
      "image/png": "[encoded data removed]",
      "text/plain": [
       "<Figure size 432x288 with 4 Axes>"
      ]
     },
     "metadata": {
      "needs_background": "light",
      "tags": []
     },
     "output_type": "display_data"
    }
   ],
   "source": [
    "plt.subplot(411)\n",
    "plt.title('bayes')\n",
    "plt.plot(['bagOfWords','Doc2vec'],[(0.95+0.75)/2,(0.51+0.50)/2])\n",
    "plt.subplot(412)\n",
    "plt.title('lr')\n",
    "plt.plot(['bagOfWords','Doc2vec'],[(0.75+0.80)/2,(0.76+0.75)/2])\n",
    "plt.subplot(413)\n",
    "plt.title('nn')\n",
    "plt.plot(['bagOfWords','Doc2vec'],[(0.99+0.82)/2,(0.76+0.75)/2])\n",
    "plt.subplot(414)\n",
    "plt.title('lstm')\n",
    "plt.plot(['bagOfWords','Doc2vec'],[(0.76+0.75)/2,(0.75+0.75)/2])\n",
    "\n",
    "plt.subplots_adjust(left=0.1, right=1, bottom=1, top=2, wspace=10, hspace=1) # 调整子图之间的位置\n",
    "plt.show()"
   ]
  },
  {
   "cell_type": "markdown",
   "metadata": {
    "id": "aRWQWD6Iq5Gg"
   },
   "source": [
    "# 从图中效果来看，词袋模型的效果在所有模型上都优于词嵌入模型，原因在于，样本中的文本非常短，使用词袋模型并没有产生稀疏问题，反而非常简洁高效，而词嵌入模型更加适合有篇幅的文章、长句等，才得以从大量的上下文中学习到更多知识。因此在短文本效果上表现一般。"
   ]
  },
  {
   "cell_type": "code",
   "execution_count": 223,
   "metadata": {
    "id": "rIdBYVzPrPub"
   },
   "outputs": [],
   "source": [
    "'''End'''"
   ]
  }
 ],
 "metadata": {
  "colab": {
   "collapsed_sections": [],
   "name": "机器学习大作业.ipynb",
   "provenance": []
  },
  "kernelspec": {
   "display_name": "Python 3",
   "language": "python",
   "name": "python3"
  },
  "language_info": {
   "codemirror_mode": {
    "name": "ipython",
    "version": 3
   },
   "file_extension": ".py",
   "mimetype": "text/x-python",
   "name": "python",
   "nbconvert_exporter": "python",
   "pygments_lexer": "ipython3",
   "version": "3.8.1"
  }
 },
 "nbformat": 4,
 "nbformat_minor": 5
}
