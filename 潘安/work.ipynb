{
 "cells": [
  {
   "cell_type": "markdown",
   "metadata": {},
   "source": [
    "## 车牌定位"
   ]
  },
  {
   "cell_type": "code",
   "execution_count": 35,
   "metadata": {
    "ExecuteTime": {
     "end_time": "2021-05-30T13:16:09.527364Z",
     "start_time": "2021-05-30T13:16:05.489004Z"
    }
   },
   "outputs": [],
   "source": [
    "import cv2\n",
    "#import matplotlib.pyplot as plt\n",
    "MAX_WIDTH = 500\n",
    "Min_Area = 2000  #车牌区域允许最大面积\n",
    "#加载图像\n",
    "img = cv2.imread(\"./test/1.jpg\")\n",
    "cv2.imshow(\"img\",img)\n",
    "cv2.waitKey(0)\n",
    "cv2.destroyAllWindows()"
   ]
  },
  {
   "cell_type": "code",
   "execution_count": 36,
   "metadata": {
    "ExecuteTime": {
     "end_time": "2021-05-30T13:16:11.472209Z",
     "start_time": "2021-05-30T13:16:11.440298Z"
    }
   },
   "outputs": [
    {
     "output_type": "execute_result",
     "data": {
      "text/plain": [
       "(4096, 2304)"
      ]
     },
     "metadata": {},
     "execution_count": 36
    }
   ],
   "source": [
    "pic_hight, pic_width = img.shape[:2]\n",
    "pic_hight,pic_width"
   ]
  },
  {
   "cell_type": "code",
   "execution_count": 37,
   "metadata": {
    "ExecuteTime": {
     "end_time": "2021-05-30T13:16:14.781515Z",
     "start_time": "2021-05-30T13:16:13.486111Z"
    }
   },
   "outputs": [],
   "source": [
    "#调整图像大小\n",
    "resize_rate = MAX_WIDTH / pic_width\n",
    "img = cv2.resize(img, (MAX_WIDTH, int(pic_hight*resize_rate)), interpolation=cv2.INTER_AREA)\n",
    "cv2.imshow(\"img\",img)\n",
    "cv2.waitKey(0)\n",
    "cv2.destroyAllWindows()"
   ]
  },
  {
   "source": [
    "#高斯去噪\n",
    "img = cv2.GaussianBlur(img,(3,3),0)\n",
    "cv2.imshow(\"img\",img)\n",
    "cv2.waitKey(0)\n",
    "cv2.destroyAllWindows()\n"
   ],
   "cell_type": "code",
   "metadata": {
    "ExecuteTime": {
     "end_time": "2021-05-30T13:16:19.232933Z",
     "start_time": "2021-05-30T13:16:18.093590Z"
    }
   },
   "execution_count": 38,
   "outputs": []
  },
  {
   "cell_type": "code",
   "execution_count": 7,
   "metadata": {
    "ExecuteTime": {
     "end_time": "2021-05-30T13:16:23.015973Z",
     "start_time": "2021-05-30T13:16:21.858568Z"
    }
   },
   "outputs": [],
   "source": [
    "#保存旧的图像，便于以后操作\n",
    "oldimg = img\n",
    "#转化灰度图\n",
    "img = cv2.cvtColor(img,cv2.COLOR_RGB2GRAY)\n",
    "cv2.imshow(\"img\",img)\n",
    "cv2.waitKey(0)\n",
    "cv2.destroyAllWindows()\n",
    "\n",
    "\n"
   ]
  },
  {
   "cell_type": "code",
   "execution_count": 8,
   "metadata": {
    "ExecuteTime": {
     "end_time": "2021-05-30T13:16:28.100508Z",
     "start_time": "2021-05-30T13:16:26.961839Z"
    }
   },
   "outputs": [],
   "source": [
    "import numpy as np\n",
    "\n",
    "#去掉图像中不会是车牌的区域\n",
    "kernel = np.ones((30, 30), np.uint8)\n",
    "#形态学滤波（开运算，先腐蚀后膨胀）\n",
    "img_opening = cv2.morphologyEx(img, cv2.MORPH_OPEN, kernel)\n",
    "cv2.imshow(\"img_opening\",img_opening)\n",
    "cv2.waitKey(0)\n",
    "cv2.destroyAllWindows()"
   ]
  },
  {
   "cell_type": "code",
   "execution_count": 9,
   "metadata": {
    "ExecuteTime": {
     "end_time": "2021-05-30T13:16:30.848041Z",
     "start_time": "2021-05-30T13:16:29.617297Z"
    }
   },
   "outputs": [],
   "source": [
    "#图像加权\n",
    "img_opening = cv2.addWeighted(img, 1, img_opening, -1, 0)\n",
    "cv2.imshow(\"img_open\",img_opening)\n",
    "cv2.waitKey(0)\n",
    "cv2.destroyAllWindows()"
   ]
  },
  {
   "cell_type": "code",
   "execution_count": 10,
   "metadata": {
    "ExecuteTime": {
     "end_time": "2021-05-30T13:16:35.127980Z",
     "start_time": "2021-05-30T13:16:34.000822Z"
    }
   },
   "outputs": [],
   "source": [
    "# 边缘检测(找到图像边缘)\n",
    "img_edge_canny = cv2.Canny(img_opening, 100, 200)\n",
    "cv2.imshow(\"img_edge_canny\",img_edge_canny)\n",
    "cv2.waitKey(0)\n",
    "cv2.destroyAllWindows()"
   ]
  },
  {
   "cell_type": "code",
   "execution_count": 11,
   "metadata": {
    "ExecuteTime": {
     "end_time": "2021-05-30T13:16:45.074063Z",
     "start_time": "2021-05-30T13:16:43.684862Z"
    }
   },
   "outputs": [
    {
     "output_type": "execute_result",
     "data": {
      "text/plain": [
       "-1"
      ]
     },
     "metadata": {},
     "execution_count": 11
    }
   ],
   "source": [
    "kernel = np.ones((4, 16))\n",
    "# 闭运算，先进行膨胀然后进行腐蚀操作。通常是被用来填充前景物体中的小洞，或者抹去前景物体上的小黑点。因为可以想象，其就是先将白色部分变大，把小的黑色部分挤掉，然后再将一些大的黑色的部分还原回来，整体得到的效果就是：抹去前景物体上的小黑点了。\n",
    "img_edge1_canny = cv2.morphologyEx(img_edge_canny, cv2.MORPH_CLOSE, kernel)\n",
    "\n",
    "# 开运算（通过先进行腐蚀操作，再进行膨胀操作得到。移除小的对象时候很有用(假设物品是亮色，前景色是黑色)，被用来去除噪声。）\n",
    "img_edge2_canny = cv2.morphologyEx(img_edge1_canny, cv2.MORPH_OPEN, kernel)\n",
    "cv2.imshow(\"img_edge2_canny\",img_edge2_canny)\n",
    "cv2.waitKey(0)"
   ]
  },
  {
   "cell_type": "code",
   "execution_count": 12,
   "metadata": {
    "ExecuteTime": {
     "end_time": "2021-05-30T13:16:55.715777Z",
     "start_time": "2021-05-30T13:16:53.851981Z"
    }
   },
   "outputs": [
    {
     "output_type": "stream",
     "name": "stdout",
     "text": [
      "len(contours) 6\n"
     ]
    },
    {
     "output_type": "execute_result",
     "data": {
      "text/plain": [
       "-1"
      ]
     },
     "metadata": {},
     "execution_count": 12
    }
   ],
   "source": [
    "#查找图像边缘整体形成的矩形区域，可能有很多，车牌就在其中一个矩形区域中\n",
    "try:\n",
    "    contours, hierarchy = cv2.findContours(img_edge2_canny, cv2.RETR_TREE, cv2.CHAIN_APPROX_SIMPLE)\n",
    "except ValueError:\n",
    "    image, contours, hierarchy = cv2.findContours(img_edge2, cv2.RETR_TREE, cv2.CHAIN_APPROX_SIMPLE)\n",
    "contours = [cnt for cnt in contours if cv2.contourArea(cnt) > Min_Area]\n",
    "print('len(contours)', len(contours))\n",
    "drawimg = oldimg.copy()\n",
    "drawimg = cv2.drawContours(drawimg,contours,-1,180,3)\n",
    "cv2.imshow(\"drawimg\",drawimg)\n",
    "cv2.waitKey(0)"
   ]
  },
  {
   "cell_type": "code",
   "execution_count": 13,
   "metadata": {
    "ExecuteTime": {
     "end_time": "2021-05-30T13:16:59.744440Z",
     "start_time": "2021-05-30T13:16:58.051101Z"
    }
   },
   "outputs": [
    {
     "output_type": "stream",
     "name": "stdout",
     "text": [
      "3.305710992852965\n",
      "((289.97296142578125, 521.8297729492188), (92.55555725097656, 27.99868392944336), -9.01932144165039)\n",
      "6.66340038995652\n",
      "1.330827067669173\n",
      "1.4156558255438405\n",
      "2.5588235294117645\n",
      "2.4\n",
      "((300.0, 65.5), (132.0, 55.0), -0.0)\n"
     ]
    }
   ],
   "source": [
    "#轮廓的最小外接矩形\n",
    "car_contours = []\n",
    "drawimg  = oldimg.copy()\n",
    "for cnt in contours:\n",
    "    rect = cv2.minAreaRect(cnt)\n",
    "    area_width, area_height = rect[1]\n",
    "    if area_width < area_height:\n",
    "        area_width, area_height = area_height, area_width\n",
    "    wh_ratio = area_width / area_height\n",
    "    print(wh_ratio)\n",
    "    #要求矩形区域长宽比在2到5之间，2到5是车牌的长宽比，其余的矩形排除\n",
    "    \n",
    "    if wh_ratio > 2 and wh_ratio < 5 and rect[2]<30 and rect[2]>-30:\n",
    "        car_contours.append(rect)\n",
    "        box = cv2.boxPoints(rect)\n",
    "        box = np.int0(box)\n",
    "        \n",
    "        drawimg = cv2.drawContours(drawimg, [box], 0, (0, 0, 255), 2)\n",
    "        cv2.imshow(\"edge4\", drawimg)\n",
    "        cv2.waitKey(0)\n",
    "        print(rect)\n"
   ]
  },
  {
   "cell_type": "code",
   "execution_count": 14,
   "metadata": {
    "ExecuteTime": {
     "end_time": "2021-05-30T12:55:13.754252Z",
     "start_time": "2021-05-30T12:55:13.435617Z"
    }
   },
   "outputs": [
    {
     "output_type": "execute_result",
     "data": {
      "text/plain": [
       "-1"
      ]
     },
     "metadata": {},
     "execution_count": 14
    }
   ],
   "source": [
    "#旋转图片\n",
    "card_imgs = []\n",
    "def crop_rect(oldimg, rect):\n",
    "    center, size, angle = rect[0], rect[1], rect[2]\n",
    "    center, size = tuple(map(int, center)), tuple(map(int, size))\n",
    "    angle = rect[2]\n",
    "    m = cv2.getRotationMatrix2D(center,angle,1)\n",
    "    \n",
    "    height, width = oldimg.shape[0], oldimg.shape[1]\n",
    "    img_rot = cv2.warpAffine(oldimg, m, (width, height),flags=cv2.INTER_CUBIC)\n",
    "    img_crop = cv2.getRectSubPix(img_rot, size, center)\n",
    "    return img_crop\n",
    "for rect in car_contours:\n",
    "    img_rotated = crop_rect(oldimg,rect)\n",
    "    card_imgs.append(img_rotated)\n",
    "cv2.imshow(\"img\",card_imgs[1])\n",
    "cv2.waitKey(0)\n"
   ]
  },
  {
   "cell_type": "code",
   "execution_count": 15,
   "metadata": {
    "ExecuteTime": {
     "end_time": "2021-05-30T12:48:55.063256Z",
     "start_time": "2021-05-30T12:48:54.800234Z"
    }
   },
   "outputs": [
    {
     "output_type": "execute_result",
     "data": {
      "text/plain": [
       "-1"
      ]
     },
     "metadata": {},
     "execution_count": 15
    }
   ],
   "source": [
    "#制作数据集上\n",
    "\n",
    "WIDTH = 136\n",
    "HEIGHT = 36\n",
    "\n",
    "def load_data(path=\"./test/1.jpg\"):\n",
    "    img = cv2.imread(path)\n",
    "    return img\n",
    "\n",
    "#旋转图片\n",
    "def crop_rect(oldimg, rect):\n",
    "    center, size, angle = rect[0], rect[1], rect[2]\n",
    "    center, size = tuple(map(int, center)), tuple(map(int, size))\n",
    "    angle = rect[2]\n",
    "    m = cv2.getRotationMatrix2D(center,angle,1)\n",
    "    \n",
    "    height, width = oldimg.shape[0], oldimg.shape[1]\n",
    "    img_rot = cv2.warpAffine(oldimg, m, (width, height),flags=cv2.INTER_CUBIC)\n",
    "    img_crop = cv2.getRectSubPix(img_rot, (size[0],size[1]), center)\n",
    "    return img_crop\n",
    "\n",
    "#一张图片产生的车牌推荐区域\n",
    "def make_dataset(img):\n",
    "    pic_hight, pic_width = img.shape[:2]\n",
    "    #调整图像大小\n",
    "    resize_rate = MAX_WIDTH / pic_width\n",
    "    img = cv2.resize(img, (MAX_WIDTH, int(pic_hight*resize_rate)), interpolation=cv2.INTER_AREA)\n",
    "    #保存旧的图像，便于以后操作\n",
    "    oldimg = img\n",
    "    #高斯去噪\n",
    "    img = cv2.GaussianBlur(img,(3,3),0)\n",
    "    #转化灰度图\n",
    "    img = cv2.cvtColor(img,cv2.COLOR_RGB2GRAY)\n",
    "    #去掉图像中不会是车牌的区域\n",
    "    kernel = np.ones((20, 20), np.uint8)\n",
    "    #形态学滤波（开运算，先腐蚀后膨胀）\n",
    "    img_opening = cv2.morphologyEx(img, cv2.MORPH_OPEN, kernel)\n",
    "    #图像加权\n",
    "    img_opening = cv2.addWeighted(img, 1, img_opening, -1, 0)\n",
    "    #边缘检测\n",
    "    img_edge_canny = cv2.Canny(img_opening, 100, 200)\n",
    "    kernel = np.ones((4, 16))\n",
    "    # 闭运算，先进行膨胀然后进行腐蚀操作。通常是被用来填充前景物体中的小洞，或者抹去前景物体上的小黑点。是先将白色部分变大，把小的黑色部分挤掉，然后再将一些大的黑色的部分还原回来，整体得到的效果就是：抹去前景物体上的小黑点了。\n",
    "    img_edge1_canny = cv2.morphologyEx(img_edge_canny, cv2.MORPH_CLOSE, kernel)\n",
    "\n",
    "    # 开运算（通过先进行腐蚀操作，再进行膨胀操作得到。移除小的对象时候很有用(假设物品是亮色，前景色是黑色)，被用来去除噪声。）\n",
    "    img_edge2_canny = cv2.morphologyEx(img_edge1_canny, cv2.MORPH_OPEN, kernel)\n",
    "    #查找图像边缘整体形成的矩形区域，可能有很多，车牌就在其中一个矩形区域中\n",
    "    try:\n",
    "        contours, hierarchy = cv2.findContours(img_edge2_canny, cv2.RETR_TREE, cv2.CHAIN_APPROX_SIMPLE)\n",
    "    except ValueError:\n",
    "        image, contours, hierarchy = cv2.findContours(img_edge2, cv2.RETR_TREE, cv2.CHAIN_APPROX_SIMPLE)\n",
    "    contours = [cnt for cnt in contours if cv2.contourArea(cnt) > Min_Area]\n",
    "    #轮廓的最小外接矩形围\n",
    "    car_contours = []\n",
    "    for cnt in contours:\n",
    "        rect = cv2.minAreaRect(cnt)\n",
    "        area_width, area_height = rect[1]\n",
    "        if area_width < area_height:\n",
    "            area_width, area_height = area_height, area_width\n",
    "        wh_ratio = area_width / area_height\n",
    "        #print(wh_ratio)\n",
    "        #要求矩形区域长宽比在2到5之间，2到5是车牌的长宽比，其余的矩形排除\n",
    "        if wh_ratio > 2 and wh_ratio < 5 and rect[2]<30 and rect[2]>-30:\n",
    "            car_contours.append(rect)\n",
    "            #获取四个顶点坐标\n",
    "            box = cv2.boxPoints(rect)\n",
    "            box = np.int0(box)\n",
    "            #oldimg = cv2.drawContours(oldimg, [box], 0, (0, 0, 255), 2)\n",
    "    card_imgs = []\n",
    "    for rect in car_contours:\n",
    "        img_rotated = crop_rect(oldimg,rect)\n",
    "        img_rotated = cv2.resize(img_rotated,(WIDTH,HEIGHT),cv2.INTER_LINEAR)\n",
    "        card_imgs.append(img_rotated)\n",
    "    return card_imgs\n",
    "img = load_data(\"./test/1.jpg\")\n",
    "plates = make_dataset(img)\n",
    "\n",
    "for img in plates:\n",
    "    cv2.waitKey(0)\n",
    "    cv2.imshow(\"img\",img)\n",
    "cv2.waitKey(0)"
   ]
  },
  {
   "cell_type": "code",
   "execution_count": 16,
   "metadata": {
    "tags": []
   },
   "outputs": [],
   "source": [
    "#制作数据集下\n",
    "\n",
    "def get_paths(root_dir):\n",
    "    img_paths = []\n",
    "    for path in os.listdir(root_dir):\n",
    "        img_paths.append(os.path.join(root_dir,path))\n",
    "    return img_paths\n",
    "\n",
    "def make_datasets(root_dir):\n",
    "    # os.makedirs(\"./DataSet/License_plate\")\n",
    "    # os.makedirs(\"./DataSet/License_plate/original\")\n",
    "    img_paths = get_paths(root_dir)\n",
    "    i = 0\n",
    "    for img_path in img_paths:\n",
    "        img = load_data(img_path)\n",
    "        plates = make_dataset(img)\n",
    "        for plate in plates:\n",
    "            cv2.imwrite(\"./DataSet/License_plate/original/\"+str(i)+\".jpg\",plate)\n",
    "            i+=1\n",
    "make_datasets(\"./DataSet/ccpd_part\")"
   ]
  },
  {
   "cell_type": "code",
   "execution_count": 17,
   "metadata": {},
   "outputs": [
    {
     "output_type": "execute_result",
     "data": {
      "text/plain": [
       "RePlate(\n",
       "  (conv1): Conv2d(3, 6, kernel_size=(3, 3), stride=(1, 1))\n",
       "  (conv2): Conv2d(6, 16, kernel_size=(3, 3), stride=(1, 1))\n",
       "  (fnc1): Linear(in_features=3584, out_features=300, bias=True)\n",
       "  (fnc2): Linear(in_features=300, out_features=80, bias=True)\n",
       "  (fnc3): Linear(in_features=80, out_features=2, bias=True)\n",
       ")"
      ]
     },
     "metadata": {},
     "execution_count": 17
    }
   ],
   "source": [
    "#使用神经网络判断是否是车牌\n",
    "import torch.nn as nn\n",
    "from torch.utils.data import Dataset\n",
    "from torch.utils.data import Dataset, DataLoader\n",
    "import torch.nn.functional as F\n",
    "from torchvision import transforms, utils, datasets\n",
    "import torch.optim as optim\n",
    "import torch\n",
    "class RePlate(nn.Module):\n",
    "    def __init__(self):\n",
    "        super(RePlate,self).__init__()\n",
    "        self.conv1 = nn.Conv2d(3,6,3)\n",
    "        self.conv2 = nn.Conv2d(6,16,3)\n",
    "        self.fnc1 = nn.Linear(3584,300)\n",
    "        self.fnc2 = nn.Linear(300,80)\n",
    "        self.fnc3 = nn.Linear(80,2)\n",
    "    def num_flat_features(self, x):\n",
    "        size = x.size()[1:]  # 除去批处理维度的其他所有维度\n",
    "        num_features = 1\n",
    "        for s in size:\n",
    "            num_features *= s\n",
    "        return num_features\n",
    "    def forward(self,x):\n",
    "        x = F.relu(self.conv1(x))\n",
    "        x = F.max_pool2d(x,(2,2)) \n",
    "        x = F.relu(self.conv2(x)) \n",
    "        x = F.max_pool2d(x,(2,2)) \n",
    "        x = x.view(-1,self.num_flat_features(x))\n",
    "        x = F.relu(self.fnc1(x))\n",
    "        x = F.relu(self.fnc2(x))\n",
    "        x = self.fnc3(x)\n",
    "        return x\n",
    "\n",
    "\n",
    "replate = RePlate()\n",
    "replate"
   ]
  },
  {
   "cell_type": "code",
   "execution_count": 18,
   "metadata": {},
   "outputs": [],
   "source": [
    "#定义数据集\n",
    "from torch.utils.data import Dataset\n",
    "from torch.utils.data import Dataset, DataLoader\n",
    "import torch.nn.functional as F\n",
    "from torchvision import transforms, utils, datasets\n",
    "import torch.optim as optim\n",
    "import torch\n",
    "class PlateDataSet(Dataset):\n",
    "    def __init__(self,root_dir,transform):\n",
    "        self.root_dir = root_dir\n",
    "        self.transform = transform\n",
    "\n",
    "    def __len__(self):\n",
    "        pass\n",
    "    def __getitem__(self,idx):\n",
    "        pass\n"
   ]
  },
  {
   "cell_type": "code",
   "execution_count": 19,
   "metadata": {},
   "outputs": [],
   "source": [
    "data_transform = {\n",
    "    \"train\":\n",
    "        transforms.Compose([\n",
    "            transforms.ToTensor(),\n",
    "            transforms.Normalize([0.485, 0.456, 0.406], [0.229, 0.224, 0.225]),\n",
    "        ]),\n",
    "    \"eval\":\n",
    "        transforms.Compose([\n",
    "            transforms.ToTensor(),\n",
    "            transforms.Normalize([0.485, 0.456, 0.406], [0.229, 0.224, 0.225]),\n",
    "        ])\n",
    "}\n",
    "    \n",
    "\n",
    "train_dataset = datasets.ImageFolder(root='./DataSet/License_plate/train',\n",
    "                                           transform=data_transform['train'])\n",
    "test_dataset = datasets.ImageFolder(root='./DataSet/License_plate/test',\n",
    "                                            transform=data_transform['eval'])\n",
    "\n",
    "dataloader = {\n",
    "    'train':torch.utils.data.DataLoader(train_dataset,\n",
    "                                             batch_size=4, shuffle=True,\n",
    "                                             num_workers=0),\n",
    "    'eval':torch.utils.data.DataLoader(test_dataset,\n",
    "                                            batch_size=4,shuffle=True,\n",
    "                                            num_workers=0)\n",
    "}"
   ]
  },
  {
   "cell_type": "code",
   "execution_count": 20,
   "metadata": {},
   "outputs": [],
   "source": [
    "#训练函数\n",
    "def train_model(model,phases,criterion,optim,epochs,dataloader):\n",
    "    val_acc_history = []\n",
    "    train_acc_history = []\n",
    "    best_accuracy = 0.0\n",
    "    for epoch in range(epochs):\n",
    "        print('Epoch {}/{}'.format(epoch, epochs - 1))\n",
    "        print('-' * 10)\n",
    "        for phase in phases:\n",
    "            running_loss = 0.0\n",
    "            running_corrects = 0.0\n",
    "            if phase == 'train':\n",
    "                model.train()\n",
    "            elif phase == 'eval':\n",
    "                model.eval()\n",
    "            for i,data in enumerate(dataloader[phase]):\n",
    "                X,y = data\n",
    "                optim.zero_grad()\n",
    "                with torch.set_grad_enabled(phase == 'train'):\n",
    "                    out = model(X)\n",
    "                    loss = criterion(out,y)\n",
    "                    _,preds = torch.max(out,axis=1)\n",
    "                    if phase=='train':\n",
    "                        loss.backward()\n",
    "                        optim.step()\n",
    "                        #print(\"train labels:\",y.data)\n",
    "                        #print(\"preds labels:\",out.data.numpy(),preds.data.numpy())\n",
    "                    running_corrects += torch.sum(preds == y.data)\n",
    "                    running_loss+=loss.item()*X.size(0)\n",
    "            epoch_loss = running_loss/len(dataloader[phase].dataset)\n",
    "            epoch_accuracy = running_corrects/len(dataloader[phase].dataset)\n",
    "            print('{} Loss: {:.4f} Acc: {:.4f}'.format(phase, epoch_loss, epoch_accuracy))\n",
    "            #print(str(epoch+1)+\":\\n\"+phase+\":\"+\"loss:%f ;  accuracy:%f\" % (epoch_loss,epoch_accuracy))\n",
    "            if phase == 'train':\n",
    "                train_acc_history.append(epoch_accuracy.numpy())\n",
    "            if phase == 'eval':\n",
    "                val_acc_history.append(epoch_accuracy.numpy())\n",
    "            if phase =='eval'and best_accuracy<epoch_accuracy:\n",
    "                best_accuracy = epoch_accuracy\n",
    "    return model,val_acc_history,train_acc_history\n"
   ]
  },
  {
   "cell_type": "code",
   "execution_count": 21,
   "metadata": {
    "tags": []
   },
   "outputs": [
    {
     "output_type": "stream",
     "name": "stdout",
     "text": [
      "Epoch 0/9\n",
      "----------\n",
      "train Loss: 0.4084 Acc: 0.8299\n",
      "eval Loss: 0.2173 Acc: 0.9113\n",
      "Epoch 1/9\n",
      "----------\n",
      "train Loss: 0.1606 Acc: 0.9455\n",
      "eval Loss: 0.1600 Acc: 0.9516\n",
      "Epoch 2/9\n",
      "----------\n",
      "train Loss: 0.1305 Acc: 0.9501\n",
      "eval Loss: 0.1259 Acc: 0.9677\n",
      "Epoch 3/9\n",
      "----------\n",
      "train Loss: 0.0936 Acc: 0.9649\n",
      "eval Loss: 0.1261 Acc: 0.9758\n",
      "Epoch 4/9\n",
      "----------\n",
      "train Loss: 0.0746 Acc: 0.9704\n",
      "eval Loss: 0.1124 Acc: 0.9677\n",
      "Epoch 5/9\n",
      "----------\n",
      "train Loss: 0.0514 Acc: 0.9815\n",
      "eval Loss: 0.1616 Acc: 0.9597\n",
      "Epoch 6/9\n",
      "----------\n",
      "train Loss: 0.0423 Acc: 0.9852\n",
      "eval Loss: 0.1535 Acc: 0.9516\n",
      "Epoch 7/9\n",
      "----------\n",
      "train Loss: 0.0375 Acc: 0.9871\n",
      "eval Loss: 0.1082 Acc: 0.9677\n",
      "Epoch 8/9\n",
      "----------\n",
      "train Loss: 0.0378 Acc: 0.9834\n",
      "eval Loss: 0.1204 Acc: 0.9597\n",
      "Epoch 9/9\n",
      "----------\n",
      "train Loss: 0.0283 Acc: 0.9908\n",
      "eval Loss: 0.1281 Acc: 0.9597\n"
     ]
    }
   ],
   "source": [
    "import torch.nn as nn\n",
    "#损失函数\n",
    "criterion = nn.CrossEntropyLoss()\n",
    "#优化器\n",
    "optimizer = optim.SGD(replate.parameters(),lr=0.001,momentum=0.9)\n",
    "\n",
    "model,val_acc_history,train_acc_history = train_model(replate,['train','eval'],criterion,optimizer,10,dataloader)"
   ]
  },
  {
   "cell_type": "code",
   "execution_count": 22,
   "metadata": {},
   "outputs": [
    {
     "output_type": "stream",
     "name": "stdout",
     "text": [
      "[0.9112903475761414, 0.9516128897666931, 0.9677419066429138, 0.975806474685669, 0.9677419066429138, 0.9596773982048035, 0.9516128897666931, 0.9677419066429138, 0.9596773982048035, 0.9596773982048035]\n[0.8299445509910583, 0.9454713463783264, 0.9500924348831177, 0.9648798704147339, 0.9704251289367676, 0.9815157055854797, 0.9852125644683838, 0.9870610237121582, 0.9833641648292542, 0.9907578825950623]\n"
     ]
    },
    {
     "output_type": "execute_result",
     "data": {
      "text/plain": [
       "<matplotlib.legend.Legend at 0x15a072b6b70>"
      ]
     },
     "metadata": {},
     "execution_count": 22
    }
   ],
   "source": [
    "import matplotlib.pyplot as plt\n",
    "import numpy as np\n",
    "val_acc_history = list(np.array(val_acc_history).astype(np.float))\n",
    "print(val_acc_history)\n",
    "train_acc_history = list(np.array(train_acc_history).astype(np.float))\n",
    "print(train_acc_history)\n",
    "\n",
    "plt.plot(train_acc_history,label='train_acc_history')\n",
    "plt.plot(val_acc_history,label='val_acc_history')\n",
    "plt.legend()\n"
   ]
  },
  {
   "cell_type": "code",
   "execution_count": 23,
   "metadata": {},
   "outputs": [
    {
     "output_type": "stream",
     "name": "stdout",
     "text": [
      "0.9714285714285714\n"
     ]
    },
    {
     "output_type": "execute_result",
     "data": {
      "text/plain": [
       "array([[70,  0],\n",
       "       [ 3, 51]], dtype=int64)"
      ]
     },
     "metadata": {},
     "execution_count": 23
    }
   ],
   "source": [
    "import cv2\n",
    "from  PIL import Image\n",
    "import numpy as np\n",
    "paths = []\n",
    "labels = []\n",
    "from sklearn.metrics import confusion_matrix,f1_score\n",
    "for path in os.listdir(\"./DataSet/License_plate/test/1\"):\n",
    "    paths.append(os.path.join(\"./DataSet/License_plate/test/1\",path))\n",
    "    labels.append(1)\n",
    "for path in os.listdir(\"./DataSet/License_plate/test/0\"):\n",
    "    paths.append(os.path.join(\"./DataSet/License_plate/test/0\",path))\n",
    "    labels.append(0)\n",
    "predicts = []\n",
    "model = torch.load(\"./model/replate.pth\")\n",
    "for img_path in paths:\n",
    "    image = Image.open(img_path)\n",
    "    image = data_transform['eval'](image)\n",
    "    image = image.reshape(1,3,36,136)\n",
    "    with torch.no_grad():\n",
    "        out = model(image)\n",
    "        _,predict = torch.max(out,1)\n",
    "        predicts.append(predict.numpy())\n",
    "predicts = np.array(predicts).ravel()\n",
    "labels = np.array(labels)\n",
    "print(f1_score(y_pred=predicts,y_true=labels))\n",
    "confusion_matrix(labels,predicts)\n"
   ]
  },
  {
   "cell_type": "code",
   "execution_count": 24,
   "metadata": {},
   "outputs": [],
   "source": [
    "#保存模型\n",
    "torch.save(model, './model/replate.pth')\n"
   ]
  },
  {
   "cell_type": "code",
   "execution_count": 25,
   "metadata": {},
   "outputs": [
    {
     "output_type": "display_data",
     "data": {
      "text/plain": "<Figure size 432x288 with 1 Axes>",
      "image/svg+xml": "<?xml version=\"1.0\" encoding=\"utf-8\" standalone=\"no\"?>\r\n<!DOCTYPE svg PUBLIC \"-//W3C//DTD SVG 1.1//EN\"\r\n  \"http://www.w3.org/Graphics/SVG/1.1/DTD/svg11.dtd\">\r\n<!-- Created with matplotlib (https://matplotlib.org/) -->\r\n<svg height=\"248.518125pt\" version=\"1.1\" viewBox=\"0 0 387.248295 248.518125\" width=\"387.248295pt\" xmlns=\"http://www.w3.org/2000/svg\" xmlns:xlink=\"http://www.w3.org/1999/xlink\">\r\n <metadata>\r\n  <rdf:RDF xmlns:cc=\"http://creativecommons.org/ns#\" xmlns:dc=\"http://purl.org/dc/elements/1.1/\" xmlns:rdf=\"http://www.w3.org/1999/02/22-rdf-syntax-ns#\">\r\n   <cc:Work>\r\n    <dc:type rdf:resource=\"http://purl.org/dc/dcmitype/StillImage\"/>\r\n    <dc:date>2021-07-10T14:03:25.269421</dc:date>\r\n    <dc:format>image/svg+xml</dc:format>\r\n    <dc:creator>\r\n     <cc:Agent>\r\n      <dc:title>Matplotlib v3.3.4, https://matplotlib.org/</dc:title>\r\n     </cc:Agent>\r\n    </dc:creator>\r\n   </cc:Work>\r\n  </rdf:RDF>\r\n </metadata>\r\n <defs>\r\n  <style type=\"text/css\">*{stroke-linecap:butt;stroke-linejoin:round;}</style>\r\n </defs>\r\n <g id=\"figure_1\">\r\n  <g id=\"patch_1\">\r\n   <path d=\"M -0 248.518125 \r\nL 387.248295 248.518125 \r\nL 387.248295 0 \r\nL -0 0 \r\nz\r\n\" style=\"fill:none;\"/>\r\n  </g>\r\n  <g id=\"axes_1\">\r\n   <g id=\"patch_2\">\r\n    <path d=\"M 39.65 224.64 \r\nL 374.45 224.64 \r\nL 374.45 7.2 \r\nL 39.65 7.2 \r\nz\r\n\" style=\"fill:#ffffff;\"/>\r\n   </g>\r\n   <g id=\"matplotlib.axis_1\">\r\n    <g id=\"xtick_1\">\r\n     <g id=\"line2d_1\">\r\n      <defs>\r\n       <path d=\"M 0 0 \r\nL 0 3.5 \r\n\" id=\"ma760ce28d6\" style=\"stroke:#000000;stroke-width:0.8;\"/>\r\n      </defs>\r\n      <g>\r\n       <use style=\"stroke:#000000;stroke-width:0.8;\" x=\"54.868182\" xlink:href=\"#ma760ce28d6\" y=\"224.64\"/>\r\n      </g>\r\n     </g>\r\n     <g id=\"text_1\">\r\n      <!-- 0 -->\r\n      <g transform=\"translate(51.686932 239.238437)scale(0.1 -0.1)\">\r\n       <defs>\r\n        <path d=\"M 31.78125 66.40625 \r\nQ 24.171875 66.40625 20.328125 58.90625 \r\nQ 16.5 51.421875 16.5 36.375 \r\nQ 16.5 21.390625 20.328125 13.890625 \r\nQ 24.171875 6.390625 31.78125 6.390625 \r\nQ 39.453125 6.390625 43.28125 13.890625 \r\nQ 47.125 21.390625 47.125 36.375 \r\nQ 47.125 51.421875 43.28125 58.90625 \r\nQ 39.453125 66.40625 31.78125 66.40625 \r\nz\r\nM 31.78125 74.21875 \r\nQ 44.046875 74.21875 50.515625 64.515625 \r\nQ 56.984375 54.828125 56.984375 36.375 \r\nQ 56.984375 17.96875 50.515625 8.265625 \r\nQ 44.046875 -1.421875 31.78125 -1.421875 \r\nQ 19.53125 -1.421875 13.0625 8.265625 \r\nQ 6.59375 17.96875 6.59375 36.375 \r\nQ 6.59375 54.828125 13.0625 64.515625 \r\nQ 19.53125 74.21875 31.78125 74.21875 \r\nz\r\n\" id=\"DejaVuSans-48\"/>\r\n       </defs>\r\n       <use xlink:href=\"#DejaVuSans-48\"/>\r\n      </g>\r\n     </g>\r\n    </g>\r\n    <g id=\"xtick_2\">\r\n     <g id=\"line2d_2\">\r\n      <g>\r\n       <use style=\"stroke:#000000;stroke-width:0.8;\" x=\"99.959091\" xlink:href=\"#ma760ce28d6\" y=\"224.64\"/>\r\n      </g>\r\n     </g>\r\n     <g id=\"text_2\">\r\n      <!-- 20 -->\r\n      <g transform=\"translate(93.596591 239.238437)scale(0.1 -0.1)\">\r\n       <defs>\r\n        <path d=\"M 19.1875 8.296875 \r\nL 53.609375 8.296875 \r\nL 53.609375 0 \r\nL 7.328125 0 \r\nL 7.328125 8.296875 \r\nQ 12.9375 14.109375 22.625 23.890625 \r\nQ 32.328125 33.6875 34.8125 36.53125 \r\nQ 39.546875 41.84375 41.421875 45.53125 \r\nQ 43.3125 49.21875 43.3125 52.78125 \r\nQ 43.3125 58.59375 39.234375 62.25 \r\nQ 35.15625 65.921875 28.609375 65.921875 \r\nQ 23.96875 65.921875 18.8125 64.3125 \r\nQ 13.671875 62.703125 7.8125 59.421875 \r\nL 7.8125 69.390625 \r\nQ 13.765625 71.78125 18.9375 73 \r\nQ 24.125 74.21875 28.421875 74.21875 \r\nQ 39.75 74.21875 46.484375 68.546875 \r\nQ 53.21875 62.890625 53.21875 53.421875 \r\nQ 53.21875 48.921875 51.53125 44.890625 \r\nQ 49.859375 40.875 45.40625 35.40625 \r\nQ 44.1875 33.984375 37.640625 27.21875 \r\nQ 31.109375 20.453125 19.1875 8.296875 \r\nz\r\n\" id=\"DejaVuSans-50\"/>\r\n       </defs>\r\n       <use xlink:href=\"#DejaVuSans-50\"/>\r\n       <use x=\"63.623047\" xlink:href=\"#DejaVuSans-48\"/>\r\n      </g>\r\n     </g>\r\n    </g>\r\n    <g id=\"xtick_3\">\r\n     <g id=\"line2d_3\">\r\n      <g>\r\n       <use style=\"stroke:#000000;stroke-width:0.8;\" x=\"145.05\" xlink:href=\"#ma760ce28d6\" y=\"224.64\"/>\r\n      </g>\r\n     </g>\r\n     <g id=\"text_3\">\r\n      <!-- 40 -->\r\n      <g transform=\"translate(138.6875 239.238437)scale(0.1 -0.1)\">\r\n       <defs>\r\n        <path d=\"M 37.796875 64.3125 \r\nL 12.890625 25.390625 \r\nL 37.796875 25.390625 \r\nz\r\nM 35.203125 72.90625 \r\nL 47.609375 72.90625 \r\nL 47.609375 25.390625 \r\nL 58.015625 25.390625 \r\nL 58.015625 17.1875 \r\nL 47.609375 17.1875 \r\nL 47.609375 0 \r\nL 37.796875 0 \r\nL 37.796875 17.1875 \r\nL 4.890625 17.1875 \r\nL 4.890625 26.703125 \r\nz\r\n\" id=\"DejaVuSans-52\"/>\r\n       </defs>\r\n       <use xlink:href=\"#DejaVuSans-52\"/>\r\n       <use x=\"63.623047\" xlink:href=\"#DejaVuSans-48\"/>\r\n      </g>\r\n     </g>\r\n    </g>\r\n    <g id=\"xtick_4\">\r\n     <g id=\"line2d_4\">\r\n      <g>\r\n       <use style=\"stroke:#000000;stroke-width:0.8;\" x=\"190.140909\" xlink:href=\"#ma760ce28d6\" y=\"224.64\"/>\r\n      </g>\r\n     </g>\r\n     <g id=\"text_4\">\r\n      <!-- 60 -->\r\n      <g transform=\"translate(183.778409 239.238437)scale(0.1 -0.1)\">\r\n       <defs>\r\n        <path d=\"M 33.015625 40.375 \r\nQ 26.375 40.375 22.484375 35.828125 \r\nQ 18.609375 31.296875 18.609375 23.390625 \r\nQ 18.609375 15.53125 22.484375 10.953125 \r\nQ 26.375 6.390625 33.015625 6.390625 \r\nQ 39.65625 6.390625 43.53125 10.953125 \r\nQ 47.40625 15.53125 47.40625 23.390625 \r\nQ 47.40625 31.296875 43.53125 35.828125 \r\nQ 39.65625 40.375 33.015625 40.375 \r\nz\r\nM 52.59375 71.296875 \r\nL 52.59375 62.3125 \r\nQ 48.875 64.0625 45.09375 64.984375 \r\nQ 41.3125 65.921875 37.59375 65.921875 \r\nQ 27.828125 65.921875 22.671875 59.328125 \r\nQ 17.53125 52.734375 16.796875 39.40625 \r\nQ 19.671875 43.65625 24.015625 45.921875 \r\nQ 28.375 48.1875 33.59375 48.1875 \r\nQ 44.578125 48.1875 50.953125 41.515625 \r\nQ 57.328125 34.859375 57.328125 23.390625 \r\nQ 57.328125 12.15625 50.6875 5.359375 \r\nQ 44.046875 -1.421875 33.015625 -1.421875 \r\nQ 20.359375 -1.421875 13.671875 8.265625 \r\nQ 6.984375 17.96875 6.984375 36.375 \r\nQ 6.984375 53.65625 15.1875 63.9375 \r\nQ 23.390625 74.21875 37.203125 74.21875 \r\nQ 40.921875 74.21875 44.703125 73.484375 \r\nQ 48.484375 72.75 52.59375 71.296875 \r\nz\r\n\" id=\"DejaVuSans-54\"/>\r\n       </defs>\r\n       <use xlink:href=\"#DejaVuSans-54\"/>\r\n       <use x=\"63.623047\" xlink:href=\"#DejaVuSans-48\"/>\r\n      </g>\r\n     </g>\r\n    </g>\r\n    <g id=\"xtick_5\">\r\n     <g id=\"line2d_5\">\r\n      <g>\r\n       <use style=\"stroke:#000000;stroke-width:0.8;\" x=\"235.231818\" xlink:href=\"#ma760ce28d6\" y=\"224.64\"/>\r\n      </g>\r\n     </g>\r\n     <g id=\"text_5\">\r\n      <!-- 80 -->\r\n      <g transform=\"translate(228.869318 239.238437)scale(0.1 -0.1)\">\r\n       <defs>\r\n        <path d=\"M 31.78125 34.625 \r\nQ 24.75 34.625 20.71875 30.859375 \r\nQ 16.703125 27.09375 16.703125 20.515625 \r\nQ 16.703125 13.921875 20.71875 10.15625 \r\nQ 24.75 6.390625 31.78125 6.390625 \r\nQ 38.8125 6.390625 42.859375 10.171875 \r\nQ 46.921875 13.96875 46.921875 20.515625 \r\nQ 46.921875 27.09375 42.890625 30.859375 \r\nQ 38.875 34.625 31.78125 34.625 \r\nz\r\nM 21.921875 38.8125 \r\nQ 15.578125 40.375 12.03125 44.71875 \r\nQ 8.5 49.078125 8.5 55.328125 \r\nQ 8.5 64.0625 14.71875 69.140625 \r\nQ 20.953125 74.21875 31.78125 74.21875 \r\nQ 42.671875 74.21875 48.875 69.140625 \r\nQ 55.078125 64.0625 55.078125 55.328125 \r\nQ 55.078125 49.078125 51.53125 44.71875 \r\nQ 48 40.375 41.703125 38.8125 \r\nQ 48.828125 37.15625 52.796875 32.3125 \r\nQ 56.78125 27.484375 56.78125 20.515625 \r\nQ 56.78125 9.90625 50.3125 4.234375 \r\nQ 43.84375 -1.421875 31.78125 -1.421875 \r\nQ 19.734375 -1.421875 13.25 4.234375 \r\nQ 6.78125 9.90625 6.78125 20.515625 \r\nQ 6.78125 27.484375 10.78125 32.3125 \r\nQ 14.796875 37.15625 21.921875 38.8125 \r\nz\r\nM 18.3125 54.390625 \r\nQ 18.3125 48.734375 21.84375 45.5625 \r\nQ 25.390625 42.390625 31.78125 42.390625 \r\nQ 38.140625 42.390625 41.71875 45.5625 \r\nQ 45.3125 48.734375 45.3125 54.390625 \r\nQ 45.3125 60.0625 41.71875 63.234375 \r\nQ 38.140625 66.40625 31.78125 66.40625 \r\nQ 25.390625 66.40625 21.84375 63.234375 \r\nQ 18.3125 60.0625 18.3125 54.390625 \r\nz\r\n\" id=\"DejaVuSans-56\"/>\r\n       </defs>\r\n       <use xlink:href=\"#DejaVuSans-56\"/>\r\n       <use x=\"63.623047\" xlink:href=\"#DejaVuSans-48\"/>\r\n      </g>\r\n     </g>\r\n    </g>\r\n    <g id=\"xtick_6\">\r\n     <g id=\"line2d_6\">\r\n      <g>\r\n       <use style=\"stroke:#000000;stroke-width:0.8;\" x=\"280.322727\" xlink:href=\"#ma760ce28d6\" y=\"224.64\"/>\r\n      </g>\r\n     </g>\r\n     <g id=\"text_6\">\r\n      <!-- 100 -->\r\n      <g transform=\"translate(270.778977 239.238437)scale(0.1 -0.1)\">\r\n       <defs>\r\n        <path d=\"M 12.40625 8.296875 \r\nL 28.515625 8.296875 \r\nL 28.515625 63.921875 \r\nL 10.984375 60.40625 \r\nL 10.984375 69.390625 \r\nL 28.421875 72.90625 \r\nL 38.28125 72.90625 \r\nL 38.28125 8.296875 \r\nL 54.390625 8.296875 \r\nL 54.390625 0 \r\nL 12.40625 0 \r\nz\r\n\" id=\"DejaVuSans-49\"/>\r\n       </defs>\r\n       <use xlink:href=\"#DejaVuSans-49\"/>\r\n       <use x=\"63.623047\" xlink:href=\"#DejaVuSans-48\"/>\r\n       <use x=\"127.246094\" xlink:href=\"#DejaVuSans-48\"/>\r\n      </g>\r\n     </g>\r\n    </g>\r\n    <g id=\"xtick_7\">\r\n     <g id=\"line2d_7\">\r\n      <g>\r\n       <use style=\"stroke:#000000;stroke-width:0.8;\" x=\"325.413636\" xlink:href=\"#ma760ce28d6\" y=\"224.64\"/>\r\n      </g>\r\n     </g>\r\n     <g id=\"text_7\">\r\n      <!-- 120 -->\r\n      <g transform=\"translate(315.869886 239.238437)scale(0.1 -0.1)\">\r\n       <use xlink:href=\"#DejaVuSans-49\"/>\r\n       <use x=\"63.623047\" xlink:href=\"#DejaVuSans-50\"/>\r\n       <use x=\"127.246094\" xlink:href=\"#DejaVuSans-48\"/>\r\n      </g>\r\n     </g>\r\n    </g>\r\n    <g id=\"xtick_8\">\r\n     <g id=\"line2d_8\">\r\n      <g>\r\n       <use style=\"stroke:#000000;stroke-width:0.8;\" x=\"370.504545\" xlink:href=\"#ma760ce28d6\" y=\"224.64\"/>\r\n      </g>\r\n     </g>\r\n     <g id=\"text_8\">\r\n      <!-- 140 -->\r\n      <g transform=\"translate(360.960795 239.238437)scale(0.1 -0.1)\">\r\n       <use xlink:href=\"#DejaVuSans-49\"/>\r\n       <use x=\"63.623047\" xlink:href=\"#DejaVuSans-52\"/>\r\n       <use x=\"127.246094\" xlink:href=\"#DejaVuSans-48\"/>\r\n      </g>\r\n     </g>\r\n    </g>\r\n   </g>\r\n   <g id=\"matplotlib.axis_2\">\r\n    <g id=\"ytick_1\">\r\n     <g id=\"line2d_9\">\r\n      <defs>\r\n       <path d=\"M 0 0 \r\nL -3.5 0 \r\n\" id=\"m0830d5c550\" style=\"stroke:#000000;stroke-width:0.8;\"/>\r\n      </defs>\r\n      <g>\r\n       <use style=\"stroke:#000000;stroke-width:0.8;\" x=\"39.65\" xlink:href=\"#m0830d5c550\" y=\"214.756364\"/>\r\n      </g>\r\n     </g>\r\n     <g id=\"text_9\">\r\n      <!-- 0 -->\r\n      <g transform=\"translate(26.2875 218.555582)scale(0.1 -0.1)\">\r\n       <use xlink:href=\"#DejaVuSans-48\"/>\r\n      </g>\r\n     </g>\r\n    </g>\r\n    <g id=\"ytick_2\">\r\n     <g id=\"line2d_10\">\r\n      <g>\r\n       <use style=\"stroke:#000000;stroke-width:0.8;\" x=\"39.65\" xlink:href=\"#m0830d5c550\" y=\"190.531765\"/>\r\n      </g>\r\n     </g>\r\n     <g id=\"text_10\">\r\n      <!-- 1000 -->\r\n      <g transform=\"translate(7.2 194.330983)scale(0.1 -0.1)\">\r\n       <use xlink:href=\"#DejaVuSans-49\"/>\r\n       <use x=\"63.623047\" xlink:href=\"#DejaVuSans-48\"/>\r\n       <use x=\"127.246094\" xlink:href=\"#DejaVuSans-48\"/>\r\n       <use x=\"190.869141\" xlink:href=\"#DejaVuSans-48\"/>\r\n      </g>\r\n     </g>\r\n    </g>\r\n    <g id=\"ytick_3\">\r\n     <g id=\"line2d_11\">\r\n      <g>\r\n       <use style=\"stroke:#000000;stroke-width:0.8;\" x=\"39.65\" xlink:href=\"#m0830d5c550\" y=\"166.307166\"/>\r\n      </g>\r\n     </g>\r\n     <g id=\"text_11\">\r\n      <!-- 2000 -->\r\n      <g transform=\"translate(7.2 170.106385)scale(0.1 -0.1)\">\r\n       <use xlink:href=\"#DejaVuSans-50\"/>\r\n       <use x=\"63.623047\" xlink:href=\"#DejaVuSans-48\"/>\r\n       <use x=\"127.246094\" xlink:href=\"#DejaVuSans-48\"/>\r\n       <use x=\"190.869141\" xlink:href=\"#DejaVuSans-48\"/>\r\n      </g>\r\n     </g>\r\n    </g>\r\n    <g id=\"ytick_4\">\r\n     <g id=\"line2d_12\">\r\n      <g>\r\n       <use style=\"stroke:#000000;stroke-width:0.8;\" x=\"39.65\" xlink:href=\"#m0830d5c550\" y=\"142.082567\"/>\r\n      </g>\r\n     </g>\r\n     <g id=\"text_12\">\r\n      <!-- 3000 -->\r\n      <g transform=\"translate(7.2 145.881786)scale(0.1 -0.1)\">\r\n       <defs>\r\n        <path d=\"M 40.578125 39.3125 \r\nQ 47.65625 37.796875 51.625 33 \r\nQ 55.609375 28.21875 55.609375 21.1875 \r\nQ 55.609375 10.40625 48.1875 4.484375 \r\nQ 40.765625 -1.421875 27.09375 -1.421875 \r\nQ 22.515625 -1.421875 17.65625 -0.515625 \r\nQ 12.796875 0.390625 7.625 2.203125 \r\nL 7.625 11.71875 \r\nQ 11.71875 9.328125 16.59375 8.109375 \r\nQ 21.484375 6.890625 26.8125 6.890625 \r\nQ 36.078125 6.890625 40.9375 10.546875 \r\nQ 45.796875 14.203125 45.796875 21.1875 \r\nQ 45.796875 27.640625 41.28125 31.265625 \r\nQ 36.765625 34.90625 28.71875 34.90625 \r\nL 20.21875 34.90625 \r\nL 20.21875 43.015625 \r\nL 29.109375 43.015625 \r\nQ 36.375 43.015625 40.234375 45.921875 \r\nQ 44.09375 48.828125 44.09375 54.296875 \r\nQ 44.09375 59.90625 40.109375 62.90625 \r\nQ 36.140625 65.921875 28.71875 65.921875 \r\nQ 24.65625 65.921875 20.015625 65.03125 \r\nQ 15.375 64.15625 9.8125 62.3125 \r\nL 9.8125 71.09375 \r\nQ 15.4375 72.65625 20.34375 73.4375 \r\nQ 25.25 74.21875 29.59375 74.21875 \r\nQ 40.828125 74.21875 47.359375 69.109375 \r\nQ 53.90625 64.015625 53.90625 55.328125 \r\nQ 53.90625 49.265625 50.4375 45.09375 \r\nQ 46.96875 40.921875 40.578125 39.3125 \r\nz\r\n\" id=\"DejaVuSans-51\"/>\r\n       </defs>\r\n       <use xlink:href=\"#DejaVuSans-51\"/>\r\n       <use x=\"63.623047\" xlink:href=\"#DejaVuSans-48\"/>\r\n       <use x=\"127.246094\" xlink:href=\"#DejaVuSans-48\"/>\r\n       <use x=\"190.869141\" xlink:href=\"#DejaVuSans-48\"/>\r\n      </g>\r\n     </g>\r\n    </g>\r\n    <g id=\"ytick_5\">\r\n     <g id=\"line2d_13\">\r\n      <g>\r\n       <use style=\"stroke:#000000;stroke-width:0.8;\" x=\"39.65\" xlink:href=\"#m0830d5c550\" y=\"117.857968\"/>\r\n      </g>\r\n     </g>\r\n     <g id=\"text_13\">\r\n      <!-- 4000 -->\r\n      <g transform=\"translate(7.2 121.657187)scale(0.1 -0.1)\">\r\n       <use xlink:href=\"#DejaVuSans-52\"/>\r\n       <use x=\"63.623047\" xlink:href=\"#DejaVuSans-48\"/>\r\n       <use x=\"127.246094\" xlink:href=\"#DejaVuSans-48\"/>\r\n       <use x=\"190.869141\" xlink:href=\"#DejaVuSans-48\"/>\r\n      </g>\r\n     </g>\r\n    </g>\r\n    <g id=\"ytick_6\">\r\n     <g id=\"line2d_14\">\r\n      <g>\r\n       <use style=\"stroke:#000000;stroke-width:0.8;\" x=\"39.65\" xlink:href=\"#m0830d5c550\" y=\"93.633369\"/>\r\n      </g>\r\n     </g>\r\n     <g id=\"text_14\">\r\n      <!-- 5000 -->\r\n      <g transform=\"translate(7.2 97.432588)scale(0.1 -0.1)\">\r\n       <defs>\r\n        <path d=\"M 10.796875 72.90625 \r\nL 49.515625 72.90625 \r\nL 49.515625 64.59375 \r\nL 19.828125 64.59375 \r\nL 19.828125 46.734375 \r\nQ 21.96875 47.46875 24.109375 47.828125 \r\nQ 26.265625 48.1875 28.421875 48.1875 \r\nQ 40.625 48.1875 47.75 41.5 \r\nQ 54.890625 34.8125 54.890625 23.390625 \r\nQ 54.890625 11.625 47.5625 5.09375 \r\nQ 40.234375 -1.421875 26.90625 -1.421875 \r\nQ 22.3125 -1.421875 17.546875 -0.640625 \r\nQ 12.796875 0.140625 7.71875 1.703125 \r\nL 7.71875 11.625 \r\nQ 12.109375 9.234375 16.796875 8.0625 \r\nQ 21.484375 6.890625 26.703125 6.890625 \r\nQ 35.15625 6.890625 40.078125 11.328125 \r\nQ 45.015625 15.765625 45.015625 23.390625 \r\nQ 45.015625 31 40.078125 35.4375 \r\nQ 35.15625 39.890625 26.703125 39.890625 \r\nQ 22.75 39.890625 18.8125 39.015625 \r\nQ 14.890625 38.140625 10.796875 36.28125 \r\nz\r\n\" id=\"DejaVuSans-53\"/>\r\n       </defs>\r\n       <use xlink:href=\"#DejaVuSans-53\"/>\r\n       <use x=\"63.623047\" xlink:href=\"#DejaVuSans-48\"/>\r\n       <use x=\"127.246094\" xlink:href=\"#DejaVuSans-48\"/>\r\n       <use x=\"190.869141\" xlink:href=\"#DejaVuSans-48\"/>\r\n      </g>\r\n     </g>\r\n    </g>\r\n    <g id=\"ytick_7\">\r\n     <g id=\"line2d_15\">\r\n      <g>\r\n       <use style=\"stroke:#000000;stroke-width:0.8;\" x=\"39.65\" xlink:href=\"#m0830d5c550\" y=\"69.40877\"/>\r\n      </g>\r\n     </g>\r\n     <g id=\"text_15\">\r\n      <!-- 6000 -->\r\n      <g transform=\"translate(7.2 73.207989)scale(0.1 -0.1)\">\r\n       <use xlink:href=\"#DejaVuSans-54\"/>\r\n       <use x=\"63.623047\" xlink:href=\"#DejaVuSans-48\"/>\r\n       <use x=\"127.246094\" xlink:href=\"#DejaVuSans-48\"/>\r\n       <use x=\"190.869141\" xlink:href=\"#DejaVuSans-48\"/>\r\n      </g>\r\n     </g>\r\n    </g>\r\n    <g id=\"ytick_8\">\r\n     <g id=\"line2d_16\">\r\n      <g>\r\n       <use style=\"stroke:#000000;stroke-width:0.8;\" x=\"39.65\" xlink:href=\"#m0830d5c550\" y=\"45.184171\"/>\r\n      </g>\r\n     </g>\r\n     <g id=\"text_16\">\r\n      <!-- 7000 -->\r\n      <g transform=\"translate(7.2 48.98339)scale(0.1 -0.1)\">\r\n       <defs>\r\n        <path d=\"M 8.203125 72.90625 \r\nL 55.078125 72.90625 \r\nL 55.078125 68.703125 \r\nL 28.609375 0 \r\nL 18.3125 0 \r\nL 43.21875 64.59375 \r\nL 8.203125 64.59375 \r\nz\r\n\" id=\"DejaVuSans-55\"/>\r\n       </defs>\r\n       <use xlink:href=\"#DejaVuSans-55\"/>\r\n       <use x=\"63.623047\" xlink:href=\"#DejaVuSans-48\"/>\r\n       <use x=\"127.246094\" xlink:href=\"#DejaVuSans-48\"/>\r\n       <use x=\"190.869141\" xlink:href=\"#DejaVuSans-48\"/>\r\n      </g>\r\n     </g>\r\n    </g>\r\n    <g id=\"ytick_9\">\r\n     <g id=\"line2d_17\">\r\n      <g>\r\n       <use style=\"stroke:#000000;stroke-width:0.8;\" x=\"39.65\" xlink:href=\"#m0830d5c550\" y=\"20.959572\"/>\r\n      </g>\r\n     </g>\r\n     <g id=\"text_17\">\r\n      <!-- 8000 -->\r\n      <g transform=\"translate(7.2 24.758791)scale(0.1 -0.1)\">\r\n       <use xlink:href=\"#DejaVuSans-56\"/>\r\n       <use x=\"63.623047\" xlink:href=\"#DejaVuSans-48\"/>\r\n       <use x=\"127.246094\" xlink:href=\"#DejaVuSans-48\"/>\r\n       <use x=\"190.869141\" xlink:href=\"#DejaVuSans-48\"/>\r\n      </g>\r\n     </g>\r\n    </g>\r\n   </g>\r\n   <g id=\"line2d_18\">\r\n    <path clip-path=\"url(#pcdf762a9a6)\" d=\"M 54.868182 140.629091 \r\nL 57.122727 17.083636 \r\nL 59.377273 208.579091 \r\nL 61.631818 214.756364 \r\nL 63.886364 72.679091 \r\nL 66.140909 47.97 \r\nL 68.395455 41.792727 \r\nL 70.65 47.97 \r\nL 72.904545 66.501818 \r\nL 77.413636 78.856364 \r\nL 79.668182 29.438182 \r\nL 84.177273 41.792727 \r\nL 86.431818 17.083636 \r\nL 88.686364 47.97 \r\nL 90.940909 122.097273 \r\nL 93.195455 183.87 \r\nL 95.45 208.579091 \r\nL 97.704545 214.756364 \r\nL 99.959091 214.756364 \r\nL 102.213636 17.083636 \r\nL 108.977273 17.083636 \r\nL 111.231818 66.501818 \r\nL 113.486364 140.629091 \r\nL 117.995455 140.629091 \r\nL 120.25 134.451818 \r\nL 122.504545 103.565455 \r\nL 124.759091 35.615455 \r\nL 127.013636 17.083636 \r\nL 129.268182 29.438182 \r\nL 131.522727 78.856364 \r\nL 133.777273 177.692727 \r\nL 136.031818 214.756364 \r\nL 140.540909 214.756364 \r\nL 142.795455 196.224545 \r\nL 145.05 190.047273 \r\nL 149.559091 214.756364 \r\nL 154.068182 214.756364 \r\nL 156.322727 165.338182 \r\nL 158.577273 54.147273 \r\nL 160.831818 17.083636 \r\nL 163.086364 17.083636 \r\nL 167.595455 54.147273 \r\nL 169.85 54.147273 \r\nL 172.104545 60.324545 \r\nL 174.359091 60.324545 \r\nL 176.613636 47.97 \r\nL 178.868182 23.260909 \r\nL 181.122727 17.083636 \r\nL 183.377273 17.083636 \r\nL 185.631818 60.324545 \r\nL 187.886364 214.756364 \r\nL 194.65 214.756364 \r\nL 196.904545 146.806364 \r\nL 203.668182 91.210909 \r\nL 205.922727 128.274545 \r\nL 208.177273 128.274545 \r\nL 210.431818 115.92 \r\nL 212.686364 109.742727 \r\nL 214.940909 91.210909 \r\nL 217.195455 85.033636 \r\nL 219.45 60.324545 \r\nL 221.704545 85.033636 \r\nL 223.959091 115.92 \r\nL 226.213636 171.515455 \r\nL 228.468182 214.756364 \r\nL 232.977273 214.756364 \r\nL 235.231818 85.033636 \r\nL 237.486364 60.324545 \r\nL 241.995455 60.324545 \r\nL 244.25 128.274545 \r\nL 246.504545 140.629091 \r\nL 248.759091 146.806364 \r\nL 253.268182 146.806364 \r\nL 255.522727 128.274545 \r\nL 257.777273 66.501818 \r\nL 260.031818 85.033636 \r\nL 262.286364 97.388182 \r\nL 264.540909 128.274545 \r\nL 266.795455 214.756364 \r\nL 271.304545 214.756364 \r\nL 273.559091 152.983636 \r\nL 275.813636 66.501818 \r\nL 278.068182 29.438182 \r\nL 280.322727 17.083636 \r\nL 282.577273 66.501818 \r\nL 284.831818 122.097273 \r\nL 287.086364 146.806364 \r\nL 289.340909 146.806364 \r\nL 291.595455 134.451818 \r\nL 293.85 97.388182 \r\nL 296.104545 17.083636 \r\nL 298.359091 23.260909 \r\nL 300.613636 54.147273 \r\nL 302.868182 115.92 \r\nL 305.122727 214.756364 \r\nL 309.631818 214.756364 \r\nL 311.886364 41.792727 \r\nL 314.140909 17.083636 \r\nL 318.65 17.083636 \r\nL 320.904545 140.629091 \r\nL 323.159091 159.160909 \r\nL 325.413636 159.160909 \r\nL 327.668182 134.451818 \r\nL 329.922727 85.033636 \r\nL 332.177273 41.792727 \r\nL 334.431818 35.615455 \r\nL 336.686364 97.388182 \r\nL 338.940909 152.983636 \r\nL 341.195455 196.224545 \r\nL 343.45 214.756364 \r\nL 347.959091 214.756364 \r\nL 350.213636 17.083636 \r\nL 352.468182 208.579091 \r\nL 354.722727 214.756364 \r\nL 359.231818 214.756364 \r\nL 359.231818 214.756364 \r\n\" style=\"fill:none;stroke:#1f77b4;stroke-linecap:square;stroke-width:1.5;\"/>\r\n   </g>\r\n   <g id=\"patch_3\">\r\n    <path d=\"M 39.65 224.64 \r\nL 39.65 7.2 \r\n\" style=\"fill:none;stroke:#000000;stroke-linecap:square;stroke-linejoin:miter;stroke-width:0.8;\"/>\r\n   </g>\r\n   <g id=\"patch_4\">\r\n    <path d=\"M 374.45 224.64 \r\nL 374.45 7.2 \r\n\" style=\"fill:none;stroke:#000000;stroke-linecap:square;stroke-linejoin:miter;stroke-width:0.8;\"/>\r\n   </g>\r\n   <g id=\"patch_5\">\r\n    <path d=\"M 39.65 224.64 \r\nL 374.45 224.64 \r\n\" style=\"fill:none;stroke:#000000;stroke-linecap:square;stroke-linejoin:miter;stroke-width:0.8;\"/>\r\n   </g>\r\n   <g id=\"patch_6\">\r\n    <path d=\"M 39.65 7.2 \r\nL 374.45 7.2 \r\n\" style=\"fill:none;stroke:#000000;stroke-linecap:square;stroke-linejoin:miter;stroke-width:0.8;\"/>\r\n   </g>\r\n  </g>\r\n </g>\r\n <defs>\r\n  <clipPath id=\"pcdf762a9a6\">\r\n   <rect height=\"217.44\" width=\"334.8\" x=\"39.65\" y=\"7.2\"/>\r\n  </clipPath>\r\n </defs>\r\n</svg>\r\n",
      "image/png": "[encoded data removed]"
     },
     "metadata": {
      "needs_background": "light"
     }
    }
   ],
   "source": [
    "#字符分割\n",
    "#根据设定的阈值和图片直方图，找出波峰，用于分隔字符\n",
    "import numpy as np\n",
    "import cv2\n",
    "import matplotlib.pyplot as plt\n",
    "def find_waves(threshold, histogram):\n",
    "\tup_point = -1#上升点\n",
    "\tis_peak = False\n",
    "\tif histogram[0] > threshold:\n",
    "\t\tup_point = 0\n",
    "\t\tis_peak = True\n",
    "\twave_peaks = []\n",
    "\tfor i,x in enumerate(histogram):\n",
    "\t\tif is_peak and x < threshold:\n",
    "\t\t\tif i - up_point > 2:\n",
    "\t\t\t\tis_peak = False\n",
    "\t\t\t\twave_peaks.append((up_point, i))\n",
    "\t\telif not is_peak and x >= threshold:\n",
    "\t\t\tis_peak = True\n",
    "\t\t\tup_point = i\n",
    "\tif is_peak and up_point != -1 and i - up_point > 4:\n",
    "\t\twave_peaks.append((up_point, i))\n",
    "\treturn wave_peaks\n",
    "\n",
    "#根据找出的波峰，分隔图片，从而得到逐个字符图片\n",
    "def seperate_card(img, waves):\n",
    "\tpart_cards = []\n",
    "\tfor wave in waves:\n",
    "\t\tpart_cards.append(img[:, wave[0]:wave[1]])\n",
    "\treturn part_cards\n",
    "\n",
    "\n",
    "img = cv2.imread(\"./test/license-plate/170.jpg\")\n",
    "gray_img = cv2.cvtColor(img,cv2.COLOR_BGR2GRAY)\n",
    "ret, gray_img = cv2.threshold(gray_img, 0, 255, cv2.THRESH_BINARY + cv2.THRESH_OTSU)\n",
    "\n",
    "# 查找水平直方图波峰\n",
    "x_histogram = np.sum(gray_img, axis=1)\n",
    "#plt.plot(x_histogram)\n",
    "x_min = np.min(x_histogram)\n",
    "x_average = np.sum(x_histogram)/x_histogram.shape[0]\n",
    "x_threshold = (x_min + x_average)/2\n",
    "wave_peaks = find_waves(x_threshold, x_histogram)\n",
    "if len(wave_peaks) == 0:\n",
    "    print(\"peak less 0:\")\n",
    "# 认为水平方向，最大的波峰为车牌区域\n",
    "wave = max(wave_peaks, key=lambda x: x[1]-x[0])\n",
    "gray_img = gray_img[wave[0]:wave[1]]\n",
    "# 查找垂直直方图波峰\n",
    "row_num, col_num = gray_img.shape[:2]\n",
    "# 去掉车牌上下边缘1个像素，避免白边影响阈值判断\n",
    "gray_img = gray_img[1:row_num-1]\n",
    "y_histogram = np.sum(gray_img, axis=0)\n",
    "plt.plot(y_histogram)\n",
    "y_min = np.min(y_histogram)\n",
    "y_average = np.sum(y_histogram)/y_histogram.shape[0]\n",
    "y_threshold = (y_min + y_average)/5  # U和0要求阈值偏小，否则U和0会被分成两半\n",
    "\n",
    "wave_peaks = find_waves(y_threshold, y_histogram)\n",
    "\n",
    "# for wave in wave_peaks:\n",
    "#\tcv2.line(card_img, pt1=(wave[0], 5), pt2=(wave[1], 5), color=(0, 0, 255), thickness=2)\n",
    "# 车牌字符数应大于6\n",
    "if len(wave_peaks) <= 6:\n",
    "    print(\"peak less 1:\", len(wave_peaks))\n",
    "\n",
    "wave = max(wave_peaks, key=lambda x: x[1]-x[0])\n",
    "max_wave_dis = wave[1] - wave[0]\n",
    "# 判断是否是左侧车牌边缘\n",
    "if wave_peaks[0][1] - wave_peaks[0][0] < max_wave_dis/3 and wave_peaks[0][0] == 0:\n",
    "    wave_peaks.pop(0)\n",
    "\n",
    "# 组合分离汉字\n",
    "cur_dis = 0\n",
    "for i, wave in enumerate(wave_peaks):\n",
    "    if wave[1] - wave[0] + cur_dis > max_wave_dis * 0.6:\n",
    "        break\n",
    "    else:\n",
    "        cur_dis += wave[1] - wave[0]\n",
    "if i > 0:\n",
    "    wave = (wave_peaks[0][0], wave_peaks[i][1])\n",
    "    wave_peaks = wave_peaks[i+1:]\n",
    "    wave_peaks.insert(0, wave)\n",
    "\n",
    "# 去除车牌上的分隔点\n",
    "point = wave_peaks[2]\n",
    "if point[1] - point[0] < max_wave_dis/3:\n",
    "    point_img = gray_img[:, point[0]:point[1]]\n",
    "    if np.mean(point_img) < 255/5:\n",
    "        wave_peaks.pop(2)\n",
    "\n",
    "if len(wave_peaks) <= 6:\n",
    "    print(\"peak less 2:\", len(wave_peaks))\n",
    "part_cards = seperate_card(gray_img, wave_peaks)\n",
    "\n"
   ]
  },
  {
   "cell_type": "code",
   "execution_count": 39,
   "metadata": {},
   "outputs": [
    {
     "output_type": "execute_result",
     "data": {
      "text/plain": [
       "-1"
      ]
     },
     "metadata": {},
     "execution_count": 39
    }
   ],
   "source": [
    "for img in part_cards:\n",
    "    cv2.imshow(\"img\",img)\n",
    "    cv2.waitKey(0)\n",
    "cv2.waitKey(0)"
   ]
  },
  {
   "cell_type": "code",
   "execution_count": 27,
   "metadata": {},
   "outputs": [
    {
     "output_type": "execute_result",
     "data": {
      "text/plain": [
       "-1"
      ]
     },
     "metadata": {},
     "execution_count": 27
    }
   ],
   "source": [
    "#进行预测\n",
    "from  PIL import Image\n",
    "predict_result = []\n",
    "\n",
    "class Net(nn.Module):\n",
    "    def __init__(self):\n",
    "        super(Net,self).__init__()\n",
    "        self.conv1 = nn.Conv2d(1,6,3)\n",
    "        self.conv2 = nn.Conv2d(6,16,3)\n",
    "        self.conv3 = nn.Conv2d(16,30,4)\n",
    "        self.fnc1 = nn.Linear(144,100)\n",
    "        self.fnc2 = nn.Linear(100,80)\n",
    "        self.fnc3 = nn.Linear(80,65)\n",
    "    def num_flat_features(self, x):\n",
    "        size = x.size()[1:]  # 除去批处理维度的其他所有维度\n",
    "        num_features = 1\n",
    "        for s in size:\n",
    "            num_features *= s\n",
    "        return num_features\n",
    "    def forward(self,x):\n",
    "        x = F.relu(self.conv1(x)) #size (20-5+0)/1+1=16\n",
    "        x = F.max_pool2d(x,(2,2)) \n",
    "        x = F.relu(self.conv2(x)) #size (28-5+0)/1+1 = 24\n",
    "        x = F.max_pool2d(x,(2,2)) \n",
    "        #x = F.relu(self.conv3(x)) #size (24-5+0)/1+1 = 20\n",
    "        x = x.view(-1,self.num_flat_features(x))\n",
    "        x = F.relu(self.fnc1(x))\n",
    "        x = F.relu(self.fnc2(x))\n",
    "        x = self.fnc3(x)\n",
    "        return x\n",
    "\n",
    "\n",
    "classes = os.listdir(\"./DataSet/cnn_char_train\")\n",
    "data_transform = transforms.Compose([\n",
    "        #DanTongDao(),\n",
    "        transforms.Resize((20,20)),\n",
    "        transforms.ToTensor(),\n",
    "        transforms.Normalize(mean=[0.5, ],\n",
    "                            std=[0.5,])\n",
    "    ])\n",
    "model1 = torch.load(\"./model/re_char.pth\")\n",
    "for i, part_card in enumerate(part_cards):\n",
    "    # 可能是固定车牌的铆钉\n",
    "    # cv2.imshow(str(i),part_card)\n",
    "    # cv2.waitKey()\n",
    "    if np.mean(part_card) < 255/5:\n",
    "        print(\"a point\")\n",
    "        continue\n",
    "    part_card_old = part_card\n",
    "    # w = abs(part_card.shape[1] - SZ)//2\n",
    "\n",
    "    # part_card = cv2.copyMakeBorder(\n",
    "    #     part_card, 0, 0, w, w, cv2.BORDER_CONSTANT, value=[0, 0, 0])\n",
    "    # part_card = cv2.resize(\n",
    "    #     part_card, (SZ, SZ), interpolation=cv2.INTER_AREA)\n",
    "\n",
    "    # part_card = deskew(part_card)\n",
    "    # part_card = preprocess_hog([part_card])\n",
    "    # part_card = cv2.resize(part_card, (SZ, SZ), interpolation=cv2.INTER_AREA)\n",
    "    # PIL_image = Image.fromarray(part_card) \n",
    "    \n",
    "    # img = cv2.cvtColor(np.asarray(PIL_image),cv2.COLOR_RGB2BGR)\n",
    "    #w = abs(img.shape[1] - 20)//2\n",
    "    img = cv2.copyMakeBorder(part_card, 1, 1, 10, 10, cv2.BORDER_CONSTANT, value = [0,0,0])\n",
    "    cv2.imshow(\"img\"+str(i),img)\n",
    "    #cv2.waitKey(0)\n",
    "    #img = cv2.cvtColor(img,cv2.COLOR_BGR2GRAY)\n",
    "    #PIL_image = PIL_image.resize((20,20))\n",
    "    PIL_image = Image.fromarray(img) \n",
    "\n",
    "    image = data_transform(PIL_image)\n",
    "    image = image.reshape(1,1,20,20)\n",
    "    with torch.no_grad():\n",
    "        out = model1(image)\n",
    "        _,predict = torch.max(out,1)\n",
    "        charactor = classes[predict]\n",
    "    # 判断最后一个数是否是车牌边缘，假设车牌边缘被认为是1\n",
    "    if charactor == \"1\" and i == len(part_cards)-1:\n",
    "        if part_card_old.shape[0]/part_card_old.shape[1] >= 7:  # 1太细，认为是边缘\n",
    "            continue\n",
    "    predict_result.append(charactor)\n",
    "cv2.waitKey(0)\n"
   ]
  },
  {
   "cell_type": "code",
   "execution_count": 28,
   "metadata": {},
   "outputs": [
    {
     "output_type": "stream",
     "name": "stdout",
     "text": [
      "['zh_wan', 'B', 'zh_yue', '9', '5', '8', 'K']\n"
     ]
    }
   ],
   "source": [
    "print(predict_result)"
   ]
  },
  {
   "cell_type": "code",
   "execution_count": 29,
   "metadata": {},
   "outputs": [],
   "source": [
    "#建立测试集\n",
    "\n",
    "#建立文件夹\n",
    "paths = os.listdir(\"./DataSet/cnn_char_train\")\n",
    "classes = os.listdir(\"./DataSet/cnn_char_train\")\n",
    "for path in paths:\n",
    "    path = os.path.join(\"./DataSet/cnn_char_test\",path)\n",
    "    if not os.path.exists(path):\n",
    "        os.makedirs(path)\n",
    "import shutil\n",
    "#移动数据\n",
    "for c in classes:\n",
    "    for i in os.listdir(\"./DataSet/cnn_char_train/\"+c)[:10]:\n",
    "        shutil.move(\"./DataSet/cnn_char_train/\"+c+\"/\"+i,\"./DataSet/cnn_char_test/\"+c+\"/\"+i)"
   ]
  },
  {
   "cell_type": "code",
   "execution_count": 30,
   "metadata": {},
   "outputs": [],
   "source": [
    "class DanTongDao(object):\n",
    "    def __call__(self, pics):\n",
    "        pics = np.array(pics)\n",
    "        #pics = cv2.resize(pics, (20, 20), interpolation=cv2.INTER_AREA)\n",
    "        pics = cv2.cvtColor(pics,cv2.COLOR_BGR2GRAY)\n",
    "        pics = cv2.copyMakeBorder(pics, 0, 0, 5, 5, cv2.BORDER_CONSTANT, value = [0,0,0])\n",
    "        PIL_image = Image.fromarray(pics) \n",
    "        return PIL_image\n",
    "    def __repr__(self):\n",
    "        return self.__class__.__name__ + '()'\n",
    "\n",
    "char_data_transform = {\n",
    "    \"train\":\n",
    "        transforms.Compose([\n",
    "            DanTongDao(),\n",
    "            transforms.Resize((20,20)),\n",
    "            transforms.ToTensor(),\n",
    "            transforms.Normalize(mean=[0.5,],std=[0.5,])\n",
    "        ]),\n",
    "    \"eval\":\n",
    "        transforms.Compose([\n",
    "            DanTongDao(),\n",
    "            transforms.Resize((20,20)),\n",
    "            transforms.ToTensor(),\n",
    "            transforms.Normalize(mean=[0.5,],std=[0.5,])\n",
    "        ])\n",
    "}\n",
    "    \n",
    "\n",
    "char_train_dataset = datasets.ImageFolder(root='./DataSet/cnn_char_train',\n",
    "                                           transform=char_data_transform['train'])\n",
    "char_test_dataset = datasets.ImageFolder(root='./DataSet/cnn_char_test',\n",
    "                                            transform=char_data_transform['eval'])\n",
    "\n",
    "char_dataloader = {\n",
    "    'train':torch.utils.data.DataLoader(char_train_dataset,\n",
    "                                             batch_size=4, shuffle=True,\n",
    "                                             num_workers=0),\n",
    "    'eval':torch.utils.data.DataLoader(char_test_dataset,\n",
    "                                            batch_size=4,shuffle=True,\n",
    "                                            num_workers=0)\n",
    "}\n",
    "\n"
   ]
  },
  {
   "cell_type": "code",
   "execution_count": 31,
   "metadata": {},
   "outputs": [],
   "source": [
    "#训练函数\n",
    "\n",
    "def train_model(model,phases,criterion,optim,epochs,dataloader):\n",
    "    train_acc_history = []\n",
    "    val_acc_history = []\n",
    "    best_accuracy = 0.0\n",
    "    for epoch in range(epochs):\n",
    "        print('Epoch {}/{}'.format(epoch, epochs - 1))\n",
    "        print('-' * 10)\n",
    "        for phase in phases:\n",
    "            running_loss = 0.0\n",
    "            running_corrects = 0.0\n",
    "            if phase == 'train':\n",
    "                model.train()\n",
    "            elif phase == 'eval':\n",
    "                model.eval()\n",
    "            for i,data in enumerate(dataloader[phase]):\n",
    "                X,y = data\n",
    "                optim.zero_grad()\n",
    "                with torch.set_grad_enabled(phase == 'train'):\n",
    "                    out = model(X)\n",
    "                    loss = criterion(out,y)\n",
    "                    _,preds = torch.max(out,axis=1)\n",
    "                    if phase=='train':\n",
    "                        loss.backward()\n",
    "                        optim.step()\n",
    "                        #print(\"train labels:\",y.data)\n",
    "                        #print(\"preds labels:\",out.data.numpy(),preds.data.numpy())\n",
    "                    running_corrects += torch.sum(preds == y.data)\n",
    "                    running_loss+=loss.item()*X.size(0)\n",
    "            epoch_loss = running_loss/len(dataloader[phase].dataset)\n",
    "            epoch_accuracy = running_corrects/len(dataloader[phase].dataset)\n",
    "            print('{} Loss: {:.4f} Acc: {:.4f}'.format(phase, epoch_loss, epoch_accuracy))\n",
    "            #print(str(epoch+1)+\":\\n\"+phase+\":\"+\"loss:%f ;  accuracy:%f\" % (epoch_loss,epoch_accuracy))\n",
    "            if phase == 'eval':\n",
    "                val_acc_history.append(epoch_accuracy.numpy())\n",
    "            if phase == 'train':\n",
    "                train_acc_history.append(epoch_accuracy.numpy())\n",
    "            if phase =='eval'and best_accuracy<epoch_accuracy:\n",
    "                best_accuracy = epoch_accuracy\n",
    "                torch.save(model,\"./model/re_char.pth\")\n",
    "    return model,val_acc_history,train_acc_history"
   ]
  },
  {
   "cell_type": "code",
   "execution_count": 32,
   "metadata": {},
   "outputs": [
    {
     "output_type": "stream",
     "name": "stdout",
     "text": [
      "Epoch 0/19\n",
      "----------\n",
      "train Loss: 2.0929 Acc: 0.4776\n",
      "eval Loss: 2.6630 Acc: 0.4163\n",
      "Epoch 1/19\n",
      "----------\n",
      "train Loss: 0.5429 Acc: 0.8458\n",
      "eval Loss: 2.0667 Acc: 0.6163\n",
      "Epoch 2/19\n",
      "----------\n",
      "train Loss: 0.3321 Acc: 0.9009\n",
      "eval Loss: 1.8359 Acc: 0.6821\n",
      "Epoch 3/19\n",
      "----------\n",
      "train Loss: 0.2508 Acc: 0.9233\n",
      "eval Loss: 1.6899 Acc: 0.7175\n",
      "Epoch 4/19\n",
      "----------\n",
      "train Loss: 0.2021 Acc: 0.9387\n",
      "eval Loss: 1.6317 Acc: 0.7490\n",
      "Epoch 5/19\n",
      "----------\n",
      "train Loss: 0.1643 Acc: 0.9512\n",
      "eval Loss: 1.6071 Acc: 0.7641\n",
      "Epoch 6/19\n",
      "----------\n",
      "train Loss: 0.1325 Acc: 0.9605\n",
      "eval Loss: 1.6784 Acc: 0.7514\n",
      "Epoch 7/19\n",
      "----------\n",
      "train Loss: 0.1155 Acc: 0.9642\n",
      "eval Loss: 1.5796 Acc: 0.7849\n",
      "Epoch 8/19\n",
      "----------\n",
      "train Loss: 0.0976 Acc: 0.9702\n",
      "eval Loss: 1.6430 Acc: 0.7801\n",
      "Epoch 9/19\n",
      "----------\n",
      "train Loss: 0.0836 Acc: 0.9740\n",
      "eval Loss: 1.5526 Acc: 0.8060\n",
      "Epoch 10/19\n",
      "----------\n",
      "train Loss: 0.0759 Acc: 0.9767\n",
      "eval Loss: 1.6079 Acc: 0.8028\n",
      "Epoch 11/19\n",
      "----------\n",
      "train Loss: 0.0680 Acc: 0.9779\n",
      "eval Loss: 1.6342 Acc: 0.8100\n",
      "Epoch 12/19\n",
      "----------\n",
      "train Loss: 0.0560 Acc: 0.9830\n",
      "eval Loss: 1.6885 Acc: 0.8199\n",
      "Epoch 13/19\n",
      "----------\n",
      "train Loss: 0.0532 Acc: 0.9828\n",
      "eval Loss: 1.6715 Acc: 0.8052\n",
      "Epoch 14/19\n",
      "----------\n",
      "train Loss: 0.0461 Acc: 0.9856\n",
      "eval Loss: 1.7705 Acc: 0.8235\n",
      "Epoch 15/19\n",
      "----------\n",
      "train Loss: 0.0420 Acc: 0.9861\n",
      "eval Loss: 1.7483 Acc: 0.8287\n",
      "Epoch 16/19\n",
      "----------\n",
      "train Loss: 0.0396 Acc: 0.9869\n",
      "eval Loss: 1.8828 Acc: 0.8267\n",
      "Epoch 17/19\n",
      "----------\n",
      "train Loss: 0.0374 Acc: 0.9879\n",
      "eval Loss: 1.9617 Acc: 0.8231\n",
      "Epoch 18/19\n",
      "----------\n",
      "train Loss: 0.0315 Acc: 0.9900\n",
      "eval Loss: 1.8339 Acc: 0.8255\n",
      "Epoch 19/19\n",
      "----------\n",
      "train Loss: 0.0298 Acc: 0.9904\n",
      "eval Loss: 1.8264 Acc: 0.8382\n"
     ]
    }
   ],
   "source": [
    "\n",
    "net = Net()\n",
    "criterion = nn.CrossEntropyLoss()\n",
    "optimizer = optim.SGD(net.parameters(),lr=0.001,momentum=0.9)\n",
    "\n",
    "char_model,val_acc_history_char,train_acc_history = train_model(net,['train','eval'],criterion,optimizer,20,char_dataloader)"
   ]
  },
  {
   "cell_type": "code",
   "execution_count": 33,
   "metadata": {},
   "outputs": [
    {
     "output_type": "stream",
     "name": "stdout",
     "text": [
      "[0.41633466, 0.6163347, 0.6820717, 0.7175299, 0.749004, 0.7641434, 0.75139445, 0.78486055, 0.78007966, 0.8059761, 0.80278885, 0.8099602, 0.8199203, 0.8051793, 0.823506, 0.8286853, 0.82669324, 0.82310754, 0.825498, 0.838247] [0.4775627, 0.8457985, 0.90086526, 0.92330253, 0.9387007, 0.95116585, 0.96047807, 0.9642176, 0.9702302, 0.9739698, 0.9766828, 0.977856, 0.9829887, 0.9828421, 0.98555505, 0.98606837, 0.98687494, 0.98790145, 0.98995453, 0.9903945]\n"
     ]
    }
   ],
   "source": [
    "print(list(np.array(val_acc_history_char)),list(np.array(train_acc_history)))"
   ]
  },
  {
   "cell_type": "code",
   "execution_count": 34,
   "metadata": {},
   "outputs": [
    {
     "output_type": "stream",
     "name": "stdout",
     "text": [
      "[0.9112903475761414, 0.9516128897666931, 0.9677419066429138, 0.975806474685669, 0.9677419066429138, 0.9596773982048035, 0.9516128897666931, 0.9677419066429138, 0.9596773982048035, 0.9596773982048035]\n[0.47756269574165344, 0.8457984924316406, 0.9008652567863464, 0.9233025312423706, 0.9387006759643555, 0.9511658549308777, 0.9604780673980713, 0.9642176032066345, 0.970230221748352, 0.9739698171615601, 0.9766827821731567, 0.9778559803962708, 0.982988715171814, 0.9828420877456665, 0.9855550527572632, 0.9860683679580688, 0.9868749380111694, 0.9879014492034912, 0.9899545311927795, 0.9903944730758667]\n"
     ]
    },
    {
     "output_type": "execute_result",
     "data": {
      "text/plain": [
       "<matplotlib.legend.Legend at 0x15a17ae6630>"
      ]
     },
     "metadata": {},
     "execution_count": 34
    },
    {
     "output_type": "display_data",
     "data": {
      "text/plain": "<Figure size 432x288 with 1 Axes>",
      "image/svg+xml": "<?xml version=\"1.0\" encoding=\"utf-8\" standalone=\"no\"?>\r\n<!DOCTYPE svg PUBLIC \"-//W3C//DTD SVG 1.1//EN\"\r\n  \"http://www.w3.org/Graphics/SVG/1.1/DTD/svg11.dtd\">\r\n<!-- Created with matplotlib (https://matplotlib.org/) -->\r\n<svg height=\"248.518125pt\" version=\"1.1\" viewBox=\"0 0 372.103125 248.518125\" width=\"372.103125pt\" xmlns=\"http://www.w3.org/2000/svg\" xmlns:xlink=\"http://www.w3.org/1999/xlink\">\r\n <metadata>\r\n  <rdf:RDF xmlns:cc=\"http://creativecommons.org/ns#\" xmlns:dc=\"http://purl.org/dc/elements/1.1/\" xmlns:rdf=\"http://www.w3.org/1999/02/22-rdf-syntax-ns#\">\r\n   <cc:Work>\r\n    <dc:type rdf:resource=\"http://purl.org/dc/dcmitype/StillImage\"/>\r\n    <dc:date>2021-07-10T14:24:48.236831</dc:date>\r\n    <dc:format>image/svg+xml</dc:format>\r\n    <dc:creator>\r\n     <cc:Agent>\r\n      <dc:title>Matplotlib v3.3.4, https://matplotlib.org/</dc:title>\r\n     </cc:Agent>\r\n    </dc:creator>\r\n   </cc:Work>\r\n  </rdf:RDF>\r\n </metadata>\r\n <defs>\r\n  <style type=\"text/css\">*{stroke-linecap:butt;stroke-linejoin:round;}</style>\r\n </defs>\r\n <g id=\"figure_1\">\r\n  <g id=\"patch_1\">\r\n   <path d=\"M 0 248.518125 \r\nL 372.103125 248.518125 \r\nL 372.103125 0 \r\nL 0 0 \r\nz\r\n\" style=\"fill:none;\"/>\r\n  </g>\r\n  <g id=\"axes_1\">\r\n   <g id=\"patch_2\">\r\n    <path d=\"M 30.103125 224.64 \r\nL 364.903125 224.64 \r\nL 364.903125 7.2 \r\nL 30.103125 7.2 \r\nz\r\n\" style=\"fill:#ffffff;\"/>\r\n   </g>\r\n   <g id=\"matplotlib.axis_1\">\r\n    <g id=\"xtick_1\">\r\n     <g id=\"line2d_1\">\r\n      <defs>\r\n       <path d=\"M 0 0 \r\nL 0 3.5 \r\n\" id=\"m06e4509f48\" style=\"stroke:#000000;stroke-width:0.8;\"/>\r\n      </defs>\r\n      <g>\r\n       <use style=\"stroke:#000000;stroke-width:0.8;\" x=\"45.321307\" xlink:href=\"#m06e4509f48\" y=\"224.64\"/>\r\n      </g>\r\n     </g>\r\n     <g id=\"text_1\">\r\n      <!-- 0.0 -->\r\n      <g transform=\"translate(37.369744 239.238437)scale(0.1 -0.1)\">\r\n       <defs>\r\n        <path d=\"M 31.78125 66.40625 \r\nQ 24.171875 66.40625 20.328125 58.90625 \r\nQ 16.5 51.421875 16.5 36.375 \r\nQ 16.5 21.390625 20.328125 13.890625 \r\nQ 24.171875 6.390625 31.78125 6.390625 \r\nQ 39.453125 6.390625 43.28125 13.890625 \r\nQ 47.125 21.390625 47.125 36.375 \r\nQ 47.125 51.421875 43.28125 58.90625 \r\nQ 39.453125 66.40625 31.78125 66.40625 \r\nz\r\nM 31.78125 74.21875 \r\nQ 44.046875 74.21875 50.515625 64.515625 \r\nQ 56.984375 54.828125 56.984375 36.375 \r\nQ 56.984375 17.96875 50.515625 8.265625 \r\nQ 44.046875 -1.421875 31.78125 -1.421875 \r\nQ 19.53125 -1.421875 13.0625 8.265625 \r\nQ 6.59375 17.96875 6.59375 36.375 \r\nQ 6.59375 54.828125 13.0625 64.515625 \r\nQ 19.53125 74.21875 31.78125 74.21875 \r\nz\r\n\" id=\"DejaVuSans-48\"/>\r\n        <path d=\"M 10.6875 12.40625 \r\nL 21 12.40625 \r\nL 21 0 \r\nL 10.6875 0 \r\nz\r\n\" id=\"DejaVuSans-46\"/>\r\n       </defs>\r\n       <use xlink:href=\"#DejaVuSans-48\"/>\r\n       <use x=\"63.623047\" xlink:href=\"#DejaVuSans-46\"/>\r\n       <use x=\"95.410156\" xlink:href=\"#DejaVuSans-48\"/>\r\n      </g>\r\n     </g>\r\n    </g>\r\n    <g id=\"xtick_2\">\r\n     <g id=\"line2d_2\">\r\n      <g>\r\n       <use style=\"stroke:#000000;stroke-width:0.8;\" x=\"85.369154\" xlink:href=\"#m06e4509f48\" y=\"224.64\"/>\r\n      </g>\r\n     </g>\r\n     <g id=\"text_2\">\r\n      <!-- 2.5 -->\r\n      <g transform=\"translate(77.417591 239.238437)scale(0.1 -0.1)\">\r\n       <defs>\r\n        <path d=\"M 19.1875 8.296875 \r\nL 53.609375 8.296875 \r\nL 53.609375 0 \r\nL 7.328125 0 \r\nL 7.328125 8.296875 \r\nQ 12.9375 14.109375 22.625 23.890625 \r\nQ 32.328125 33.6875 34.8125 36.53125 \r\nQ 39.546875 41.84375 41.421875 45.53125 \r\nQ 43.3125 49.21875 43.3125 52.78125 \r\nQ 43.3125 58.59375 39.234375 62.25 \r\nQ 35.15625 65.921875 28.609375 65.921875 \r\nQ 23.96875 65.921875 18.8125 64.3125 \r\nQ 13.671875 62.703125 7.8125 59.421875 \r\nL 7.8125 69.390625 \r\nQ 13.765625 71.78125 18.9375 73 \r\nQ 24.125 74.21875 28.421875 74.21875 \r\nQ 39.75 74.21875 46.484375 68.546875 \r\nQ 53.21875 62.890625 53.21875 53.421875 \r\nQ 53.21875 48.921875 51.53125 44.890625 \r\nQ 49.859375 40.875 45.40625 35.40625 \r\nQ 44.1875 33.984375 37.640625 27.21875 \r\nQ 31.109375 20.453125 19.1875 8.296875 \r\nz\r\n\" id=\"DejaVuSans-50\"/>\r\n        <path d=\"M 10.796875 72.90625 \r\nL 49.515625 72.90625 \r\nL 49.515625 64.59375 \r\nL 19.828125 64.59375 \r\nL 19.828125 46.734375 \r\nQ 21.96875 47.46875 24.109375 47.828125 \r\nQ 26.265625 48.1875 28.421875 48.1875 \r\nQ 40.625 48.1875 47.75 41.5 \r\nQ 54.890625 34.8125 54.890625 23.390625 \r\nQ 54.890625 11.625 47.5625 5.09375 \r\nQ 40.234375 -1.421875 26.90625 -1.421875 \r\nQ 22.3125 -1.421875 17.546875 -0.640625 \r\nQ 12.796875 0.140625 7.71875 1.703125 \r\nL 7.71875 11.625 \r\nQ 12.109375 9.234375 16.796875 8.0625 \r\nQ 21.484375 6.890625 26.703125 6.890625 \r\nQ 35.15625 6.890625 40.078125 11.328125 \r\nQ 45.015625 15.765625 45.015625 23.390625 \r\nQ 45.015625 31 40.078125 35.4375 \r\nQ 35.15625 39.890625 26.703125 39.890625 \r\nQ 22.75 39.890625 18.8125 39.015625 \r\nQ 14.890625 38.140625 10.796875 36.28125 \r\nz\r\n\" id=\"DejaVuSans-53\"/>\r\n       </defs>\r\n       <use xlink:href=\"#DejaVuSans-50\"/>\r\n       <use x=\"63.623047\" xlink:href=\"#DejaVuSans-46\"/>\r\n       <use x=\"95.410156\" xlink:href=\"#DejaVuSans-53\"/>\r\n      </g>\r\n     </g>\r\n    </g>\r\n    <g id=\"xtick_3\">\r\n     <g id=\"line2d_3\">\r\n      <g>\r\n       <use style=\"stroke:#000000;stroke-width:0.8;\" x=\"125.417001\" xlink:href=\"#m06e4509f48\" y=\"224.64\"/>\r\n      </g>\r\n     </g>\r\n     <g id=\"text_3\">\r\n      <!-- 5.0 -->\r\n      <g transform=\"translate(117.465438 239.238437)scale(0.1 -0.1)\">\r\n       <use xlink:href=\"#DejaVuSans-53\"/>\r\n       <use x=\"63.623047\" xlink:href=\"#DejaVuSans-46\"/>\r\n       <use x=\"95.410156\" xlink:href=\"#DejaVuSans-48\"/>\r\n      </g>\r\n     </g>\r\n    </g>\r\n    <g id=\"xtick_4\">\r\n     <g id=\"line2d_4\">\r\n      <g>\r\n       <use style=\"stroke:#000000;stroke-width:0.8;\" x=\"165.464847\" xlink:href=\"#m06e4509f48\" y=\"224.64\"/>\r\n      </g>\r\n     </g>\r\n     <g id=\"text_4\">\r\n      <!-- 7.5 -->\r\n      <g transform=\"translate(157.513285 239.238437)scale(0.1 -0.1)\">\r\n       <defs>\r\n        <path d=\"M 8.203125 72.90625 \r\nL 55.078125 72.90625 \r\nL 55.078125 68.703125 \r\nL 28.609375 0 \r\nL 18.3125 0 \r\nL 43.21875 64.59375 \r\nL 8.203125 64.59375 \r\nz\r\n\" id=\"DejaVuSans-55\"/>\r\n       </defs>\r\n       <use xlink:href=\"#DejaVuSans-55\"/>\r\n       <use x=\"63.623047\" xlink:href=\"#DejaVuSans-46\"/>\r\n       <use x=\"95.410156\" xlink:href=\"#DejaVuSans-53\"/>\r\n      </g>\r\n     </g>\r\n    </g>\r\n    <g id=\"xtick_5\">\r\n     <g id=\"line2d_5\">\r\n      <g>\r\n       <use style=\"stroke:#000000;stroke-width:0.8;\" x=\"205.512694\" xlink:href=\"#m06e4509f48\" y=\"224.64\"/>\r\n      </g>\r\n     </g>\r\n     <g id=\"text_5\">\r\n      <!-- 10.0 -->\r\n      <g transform=\"translate(194.379882 239.238437)scale(0.1 -0.1)\">\r\n       <defs>\r\n        <path d=\"M 12.40625 8.296875 \r\nL 28.515625 8.296875 \r\nL 28.515625 63.921875 \r\nL 10.984375 60.40625 \r\nL 10.984375 69.390625 \r\nL 28.421875 72.90625 \r\nL 38.28125 72.90625 \r\nL 38.28125 8.296875 \r\nL 54.390625 8.296875 \r\nL 54.390625 0 \r\nL 12.40625 0 \r\nz\r\n\" id=\"DejaVuSans-49\"/>\r\n       </defs>\r\n       <use xlink:href=\"#DejaVuSans-49\"/>\r\n       <use x=\"63.623047\" xlink:href=\"#DejaVuSans-48\"/>\r\n       <use x=\"127.246094\" xlink:href=\"#DejaVuSans-46\"/>\r\n       <use x=\"159.033203\" xlink:href=\"#DejaVuSans-48\"/>\r\n      </g>\r\n     </g>\r\n    </g>\r\n    <g id=\"xtick_6\">\r\n     <g id=\"line2d_6\">\r\n      <g>\r\n       <use style=\"stroke:#000000;stroke-width:0.8;\" x=\"245.560541\" xlink:href=\"#m06e4509f48\" y=\"224.64\"/>\r\n      </g>\r\n     </g>\r\n     <g id=\"text_6\">\r\n      <!-- 12.5 -->\r\n      <g transform=\"translate(234.427729 239.238437)scale(0.1 -0.1)\">\r\n       <use xlink:href=\"#DejaVuSans-49\"/>\r\n       <use x=\"63.623047\" xlink:href=\"#DejaVuSans-50\"/>\r\n       <use x=\"127.246094\" xlink:href=\"#DejaVuSans-46\"/>\r\n       <use x=\"159.033203\" xlink:href=\"#DejaVuSans-53\"/>\r\n      </g>\r\n     </g>\r\n    </g>\r\n    <g id=\"xtick_7\">\r\n     <g id=\"line2d_7\">\r\n      <g>\r\n       <use style=\"stroke:#000000;stroke-width:0.8;\" x=\"285.608388\" xlink:href=\"#m06e4509f48\" y=\"224.64\"/>\r\n      </g>\r\n     </g>\r\n     <g id=\"text_7\">\r\n      <!-- 15.0 -->\r\n      <g transform=\"translate(274.475576 239.238437)scale(0.1 -0.1)\">\r\n       <use xlink:href=\"#DejaVuSans-49\"/>\r\n       <use x=\"63.623047\" xlink:href=\"#DejaVuSans-53\"/>\r\n       <use x=\"127.246094\" xlink:href=\"#DejaVuSans-46\"/>\r\n       <use x=\"159.033203\" xlink:href=\"#DejaVuSans-48\"/>\r\n      </g>\r\n     </g>\r\n    </g>\r\n    <g id=\"xtick_8\">\r\n     <g id=\"line2d_8\">\r\n      <g>\r\n       <use style=\"stroke:#000000;stroke-width:0.8;\" x=\"325.656235\" xlink:href=\"#m06e4509f48\" y=\"224.64\"/>\r\n      </g>\r\n     </g>\r\n     <g id=\"text_8\">\r\n      <!-- 17.5 -->\r\n      <g transform=\"translate(314.523423 239.238437)scale(0.1 -0.1)\">\r\n       <use xlink:href=\"#DejaVuSans-49\"/>\r\n       <use x=\"63.623047\" xlink:href=\"#DejaVuSans-55\"/>\r\n       <use x=\"127.246094\" xlink:href=\"#DejaVuSans-46\"/>\r\n       <use x=\"159.033203\" xlink:href=\"#DejaVuSans-53\"/>\r\n      </g>\r\n     </g>\r\n    </g>\r\n   </g>\r\n   <g id=\"matplotlib.axis_2\">\r\n    <g id=\"ytick_1\">\r\n     <g id=\"line2d_9\">\r\n      <defs>\r\n       <path d=\"M 0 0 \r\nL -3.5 0 \r\n\" id=\"me41e537d8b\" style=\"stroke:#000000;stroke-width:0.8;\"/>\r\n      </defs>\r\n      <g>\r\n       <use style=\"stroke:#000000;stroke-width:0.8;\" x=\"30.103125\" xlink:href=\"#me41e537d8b\" y=\"220.381068\"/>\r\n      </g>\r\n     </g>\r\n     <g id=\"text_9\">\r\n      <!-- 0.4 -->\r\n      <g transform=\"translate(7.2 224.180286)scale(0.1 -0.1)\">\r\n       <defs>\r\n        <path d=\"M 37.796875 64.3125 \r\nL 12.890625 25.390625 \r\nL 37.796875 25.390625 \r\nz\r\nM 35.203125 72.90625 \r\nL 47.609375 72.90625 \r\nL 47.609375 25.390625 \r\nL 58.015625 25.390625 \r\nL 58.015625 17.1875 \r\nL 47.609375 17.1875 \r\nL 47.609375 0 \r\nL 37.796875 0 \r\nL 37.796875 17.1875 \r\nL 4.890625 17.1875 \r\nL 4.890625 26.703125 \r\nz\r\n\" id=\"DejaVuSans-52\"/>\r\n       </defs>\r\n       <use xlink:href=\"#DejaVuSans-48\"/>\r\n       <use x=\"63.623047\" xlink:href=\"#DejaVuSans-46\"/>\r\n       <use x=\"95.410156\" xlink:href=\"#DejaVuSans-52\"/>\r\n      </g>\r\n     </g>\r\n    </g>\r\n    <g id=\"ytick_2\">\r\n     <g id=\"line2d_10\">\r\n      <g>\r\n       <use style=\"stroke:#000000;stroke-width:0.8;\" x=\"30.103125\" xlink:href=\"#me41e537d8b\" y=\"185.946899\"/>\r\n      </g>\r\n     </g>\r\n     <g id=\"text_10\">\r\n      <!-- 0.5 -->\r\n      <g transform=\"translate(7.2 189.746117)scale(0.1 -0.1)\">\r\n       <use xlink:href=\"#DejaVuSans-48\"/>\r\n       <use x=\"63.623047\" xlink:href=\"#DejaVuSans-46\"/>\r\n       <use x=\"95.410156\" xlink:href=\"#DejaVuSans-53\"/>\r\n      </g>\r\n     </g>\r\n    </g>\r\n    <g id=\"ytick_3\">\r\n     <g id=\"line2d_11\">\r\n      <g>\r\n       <use style=\"stroke:#000000;stroke-width:0.8;\" x=\"30.103125\" xlink:href=\"#me41e537d8b\" y=\"151.512729\"/>\r\n      </g>\r\n     </g>\r\n     <g id=\"text_11\">\r\n      <!-- 0.6 -->\r\n      <g transform=\"translate(7.2 155.311948)scale(0.1 -0.1)\">\r\n       <defs>\r\n        <path d=\"M 33.015625 40.375 \r\nQ 26.375 40.375 22.484375 35.828125 \r\nQ 18.609375 31.296875 18.609375 23.390625 \r\nQ 18.609375 15.53125 22.484375 10.953125 \r\nQ 26.375 6.390625 33.015625 6.390625 \r\nQ 39.65625 6.390625 43.53125 10.953125 \r\nQ 47.40625 15.53125 47.40625 23.390625 \r\nQ 47.40625 31.296875 43.53125 35.828125 \r\nQ 39.65625 40.375 33.015625 40.375 \r\nz\r\nM 52.59375 71.296875 \r\nL 52.59375 62.3125 \r\nQ 48.875 64.0625 45.09375 64.984375 \r\nQ 41.3125 65.921875 37.59375 65.921875 \r\nQ 27.828125 65.921875 22.671875 59.328125 \r\nQ 17.53125 52.734375 16.796875 39.40625 \r\nQ 19.671875 43.65625 24.015625 45.921875 \r\nQ 28.375 48.1875 33.59375 48.1875 \r\nQ 44.578125 48.1875 50.953125 41.515625 \r\nQ 57.328125 34.859375 57.328125 23.390625 \r\nQ 57.328125 12.15625 50.6875 5.359375 \r\nQ 44.046875 -1.421875 33.015625 -1.421875 \r\nQ 20.359375 -1.421875 13.671875 8.265625 \r\nQ 6.984375 17.96875 6.984375 36.375 \r\nQ 6.984375 53.65625 15.1875 63.9375 \r\nQ 23.390625 74.21875 37.203125 74.21875 \r\nQ 40.921875 74.21875 44.703125 73.484375 \r\nQ 48.484375 72.75 52.59375 71.296875 \r\nz\r\n\" id=\"DejaVuSans-54\"/>\r\n       </defs>\r\n       <use xlink:href=\"#DejaVuSans-48\"/>\r\n       <use x=\"63.623047\" xlink:href=\"#DejaVuSans-46\"/>\r\n       <use x=\"95.410156\" xlink:href=\"#DejaVuSans-54\"/>\r\n      </g>\r\n     </g>\r\n    </g>\r\n    <g id=\"ytick_4\">\r\n     <g id=\"line2d_12\">\r\n      <g>\r\n       <use style=\"stroke:#000000;stroke-width:0.8;\" x=\"30.103125\" xlink:href=\"#me41e537d8b\" y=\"117.07856\"/>\r\n      </g>\r\n     </g>\r\n     <g id=\"text_12\">\r\n      <!-- 0.7 -->\r\n      <g transform=\"translate(7.2 120.877779)scale(0.1 -0.1)\">\r\n       <use xlink:href=\"#DejaVuSans-48\"/>\r\n       <use x=\"63.623047\" xlink:href=\"#DejaVuSans-46\"/>\r\n       <use x=\"95.410156\" xlink:href=\"#DejaVuSans-55\"/>\r\n      </g>\r\n     </g>\r\n    </g>\r\n    <g id=\"ytick_5\">\r\n     <g id=\"line2d_13\">\r\n      <g>\r\n       <use style=\"stroke:#000000;stroke-width:0.8;\" x=\"30.103125\" xlink:href=\"#me41e537d8b\" y=\"82.644391\"/>\r\n      </g>\r\n     </g>\r\n     <g id=\"text_13\">\r\n      <!-- 0.8 -->\r\n      <g transform=\"translate(7.2 86.44361)scale(0.1 -0.1)\">\r\n       <defs>\r\n        <path d=\"M 31.78125 34.625 \r\nQ 24.75 34.625 20.71875 30.859375 \r\nQ 16.703125 27.09375 16.703125 20.515625 \r\nQ 16.703125 13.921875 20.71875 10.15625 \r\nQ 24.75 6.390625 31.78125 6.390625 \r\nQ 38.8125 6.390625 42.859375 10.171875 \r\nQ 46.921875 13.96875 46.921875 20.515625 \r\nQ 46.921875 27.09375 42.890625 30.859375 \r\nQ 38.875 34.625 31.78125 34.625 \r\nz\r\nM 21.921875 38.8125 \r\nQ 15.578125 40.375 12.03125 44.71875 \r\nQ 8.5 49.078125 8.5 55.328125 \r\nQ 8.5 64.0625 14.71875 69.140625 \r\nQ 20.953125 74.21875 31.78125 74.21875 \r\nQ 42.671875 74.21875 48.875 69.140625 \r\nQ 55.078125 64.0625 55.078125 55.328125 \r\nQ 55.078125 49.078125 51.53125 44.71875 \r\nQ 48 40.375 41.703125 38.8125 \r\nQ 48.828125 37.15625 52.796875 32.3125 \r\nQ 56.78125 27.484375 56.78125 20.515625 \r\nQ 56.78125 9.90625 50.3125 4.234375 \r\nQ 43.84375 -1.421875 31.78125 -1.421875 \r\nQ 19.734375 -1.421875 13.25 4.234375 \r\nQ 6.78125 9.90625 6.78125 20.515625 \r\nQ 6.78125 27.484375 10.78125 32.3125 \r\nQ 14.796875 37.15625 21.921875 38.8125 \r\nz\r\nM 18.3125 54.390625 \r\nQ 18.3125 48.734375 21.84375 45.5625 \r\nQ 25.390625 42.390625 31.78125 42.390625 \r\nQ 38.140625 42.390625 41.71875 45.5625 \r\nQ 45.3125 48.734375 45.3125 54.390625 \r\nQ 45.3125 60.0625 41.71875 63.234375 \r\nQ 38.140625 66.40625 31.78125 66.40625 \r\nQ 25.390625 66.40625 21.84375 63.234375 \r\nQ 18.3125 60.0625 18.3125 54.390625 \r\nz\r\n\" id=\"DejaVuSans-56\"/>\r\n       </defs>\r\n       <use xlink:href=\"#DejaVuSans-48\"/>\r\n       <use x=\"63.623047\" xlink:href=\"#DejaVuSans-46\"/>\r\n       <use x=\"95.410156\" xlink:href=\"#DejaVuSans-56\"/>\r\n      </g>\r\n     </g>\r\n    </g>\r\n    <g id=\"ytick_6\">\r\n     <g id=\"line2d_14\">\r\n      <g>\r\n       <use style=\"stroke:#000000;stroke-width:0.8;\" x=\"30.103125\" xlink:href=\"#me41e537d8b\" y=\"48.210222\"/>\r\n      </g>\r\n     </g>\r\n     <g id=\"text_14\">\r\n      <!-- 0.9 -->\r\n      <g transform=\"translate(7.2 52.009441)scale(0.1 -0.1)\">\r\n       <defs>\r\n        <path d=\"M 10.984375 1.515625 \r\nL 10.984375 10.5 \r\nQ 14.703125 8.734375 18.5 7.8125 \r\nQ 22.3125 6.890625 25.984375 6.890625 \r\nQ 35.75 6.890625 40.890625 13.453125 \r\nQ 46.046875 20.015625 46.78125 33.40625 \r\nQ 43.953125 29.203125 39.59375 26.953125 \r\nQ 35.25 24.703125 29.984375 24.703125 \r\nQ 19.046875 24.703125 12.671875 31.3125 \r\nQ 6.296875 37.9375 6.296875 49.421875 \r\nQ 6.296875 60.640625 12.9375 67.421875 \r\nQ 19.578125 74.21875 30.609375 74.21875 \r\nQ 43.265625 74.21875 49.921875 64.515625 \r\nQ 56.59375 54.828125 56.59375 36.375 \r\nQ 56.59375 19.140625 48.40625 8.859375 \r\nQ 40.234375 -1.421875 26.421875 -1.421875 \r\nQ 22.703125 -1.421875 18.890625 -0.6875 \r\nQ 15.09375 0.046875 10.984375 1.515625 \r\nz\r\nM 30.609375 32.421875 \r\nQ 37.25 32.421875 41.125 36.953125 \r\nQ 45.015625 41.5 45.015625 49.421875 \r\nQ 45.015625 57.28125 41.125 61.84375 \r\nQ 37.25 66.40625 30.609375 66.40625 \r\nQ 23.96875 66.40625 20.09375 61.84375 \r\nQ 16.21875 57.28125 16.21875 49.421875 \r\nQ 16.21875 41.5 20.09375 36.953125 \r\nQ 23.96875 32.421875 30.609375 32.421875 \r\nz\r\n\" id=\"DejaVuSans-57\"/>\r\n       </defs>\r\n       <use xlink:href=\"#DejaVuSans-48\"/>\r\n       <use x=\"63.623047\" xlink:href=\"#DejaVuSans-46\"/>\r\n       <use x=\"95.410156\" xlink:href=\"#DejaVuSans-57\"/>\r\n      </g>\r\n     </g>\r\n    </g>\r\n    <g id=\"ytick_7\">\r\n     <g id=\"line2d_15\">\r\n      <g>\r\n       <use style=\"stroke:#000000;stroke-width:0.8;\" x=\"30.103125\" xlink:href=\"#me41e537d8b\" y=\"13.776053\"/>\r\n      </g>\r\n     </g>\r\n     <g id=\"text_15\">\r\n      <!-- 1.0 -->\r\n      <g transform=\"translate(7.2 17.575272)scale(0.1 -0.1)\">\r\n       <use xlink:href=\"#DejaVuSans-49\"/>\r\n       <use x=\"63.623047\" xlink:href=\"#DejaVuSans-46\"/>\r\n       <use x=\"95.410156\" xlink:href=\"#DejaVuSans-48\"/>\r\n      </g>\r\n     </g>\r\n    </g>\r\n   </g>\r\n   <g id=\"line2d_16\">\r\n    <path clip-path=\"url(#p69d88269ba)\" d=\"M 45.321307 193.672998 \r\nL 61.340446 66.874061 \r\nL 77.359584 47.912278 \r\nL 93.378723 40.186189 \r\nL 109.397862 34.883966 \r\nL 125.417001 30.591685 \r\nL 141.436139 27.385102 \r\nL 157.455278 26.097424 \r\nL 173.474417 24.027029 \r\nL 189.493556 22.73933 \r\nL 205.512694 21.805143 \r\nL 221.531833 21.401162 \r\nL 237.550972 19.633748 \r\nL 253.570111 19.684238 \r\nL 269.589249 18.750051 \r\nL 285.608388 18.573295 \r\nL 301.627527 18.295559 \r\nL 317.646666 17.942088 \r\nL 333.665804 17.235127 \r\nL 349.684943 17.083636 \r\n\" style=\"fill:none;stroke:#1f77b4;stroke-linecap:square;stroke-width:1.5;\"/>\r\n   </g>\r\n   <g id=\"line2d_17\">\r\n    <path clip-path=\"url(#p69d88269ba)\" d=\"M 45.321307 214.756364 \r\nL 61.340446 145.888019 \r\nL 77.359584 123.252026 \r\nL 93.378723 111.042287 \r\nL 109.397862 100.204438 \r\nL 125.417001 94.991311 \r\nL 141.436139 99.381308 \r\nL 157.455278 87.857535 \r\nL 173.474417 89.503794 \r\nL 189.493556 80.586573 \r\nL 205.512694 81.684073 \r\nL 221.531833 79.214684 \r\nL 237.550972 75.785001 \r\nL 253.570111 80.860943 \r\nL 269.589249 74.550296 \r\nL 285.608388 72.766852 \r\nL 301.627527 73.452797 \r\nL 317.646666 74.687502 \r\nL 333.665804 73.864372 \r\nL 349.684943 69.474354 \r\n\" style=\"fill:none;stroke:#ff7f0e;stroke-linecap:square;stroke-width:1.5;\"/>\r\n   </g>\r\n   <g id=\"patch_3\">\r\n    <path d=\"M 30.103125 224.64 \r\nL 30.103125 7.2 \r\n\" style=\"fill:none;stroke:#000000;stroke-linecap:square;stroke-linejoin:miter;stroke-width:0.8;\"/>\r\n   </g>\r\n   <g id=\"patch_4\">\r\n    <path d=\"M 364.903125 224.64 \r\nL 364.903125 7.2 \r\n\" style=\"fill:none;stroke:#000000;stroke-linecap:square;stroke-linejoin:miter;stroke-width:0.8;\"/>\r\n   </g>\r\n   <g id=\"patch_5\">\r\n    <path d=\"M 30.103125 224.64 \r\nL 364.903125 224.64 \r\n\" style=\"fill:none;stroke:#000000;stroke-linecap:square;stroke-linejoin:miter;stroke-width:0.8;\"/>\r\n   </g>\r\n   <g id=\"patch_6\">\r\n    <path d=\"M 30.103125 7.2 \r\nL 364.903125 7.2 \r\n\" style=\"fill:none;stroke:#000000;stroke-linecap:square;stroke-linejoin:miter;stroke-width:0.8;\"/>\r\n   </g>\r\n   <g id=\"legend_1\">\r\n    <g id=\"patch_7\">\r\n     <path d=\"M 241.109375 219.64 \r\nL 357.903125 219.64 \r\nQ 359.903125 219.64 359.903125 217.64 \r\nL 359.903125 188.7275 \r\nQ 359.903125 186.7275 357.903125 186.7275 \r\nL 241.109375 186.7275 \r\nQ 239.109375 186.7275 239.109375 188.7275 \r\nL 239.109375 217.64 \r\nQ 239.109375 219.64 241.109375 219.64 \r\nz\r\n\" style=\"fill:#ffffff;opacity:0.8;stroke:#cccccc;stroke-linejoin:miter;\"/>\r\n    </g>\r\n    <g id=\"line2d_18\">\r\n     <path d=\"M 243.109375 194.825937 \r\nL 263.109375 194.825937 \r\n\" style=\"fill:none;stroke:#1f77b4;stroke-linecap:square;stroke-width:1.5;\"/>\r\n    </g>\r\n    <g id=\"line2d_19\"/>\r\n    <g id=\"text_16\">\r\n     <!-- train_acc_history -->\r\n     <g transform=\"translate(271.109375 198.325937)scale(0.1 -0.1)\">\r\n      <defs>\r\n       <path d=\"M 18.3125 70.21875 \r\nL 18.3125 54.6875 \r\nL 36.8125 54.6875 \r\nL 36.8125 47.703125 \r\nL 18.3125 47.703125 \r\nL 18.3125 18.015625 \r\nQ 18.3125 11.328125 20.140625 9.421875 \r\nQ 21.96875 7.515625 27.59375 7.515625 \r\nL 36.8125 7.515625 \r\nL 36.8125 0 \r\nL 27.59375 0 \r\nQ 17.1875 0 13.234375 3.875 \r\nQ 9.28125 7.765625 9.28125 18.015625 \r\nL 9.28125 47.703125 \r\nL 2.6875 47.703125 \r\nL 2.6875 54.6875 \r\nL 9.28125 54.6875 \r\nL 9.28125 70.21875 \r\nz\r\n\" id=\"DejaVuSans-116\"/>\r\n       <path d=\"M 41.109375 46.296875 \r\nQ 39.59375 47.171875 37.8125 47.578125 \r\nQ 36.03125 48 33.890625 48 \r\nQ 26.265625 48 22.1875 43.046875 \r\nQ 18.109375 38.09375 18.109375 28.8125 \r\nL 18.109375 0 \r\nL 9.078125 0 \r\nL 9.078125 54.6875 \r\nL 18.109375 54.6875 \r\nL 18.109375 46.1875 \r\nQ 20.953125 51.171875 25.484375 53.578125 \r\nQ 30.03125 56 36.53125 56 \r\nQ 37.453125 56 38.578125 55.875 \r\nQ 39.703125 55.765625 41.0625 55.515625 \r\nz\r\n\" id=\"DejaVuSans-114\"/>\r\n       <path d=\"M 34.28125 27.484375 \r\nQ 23.390625 27.484375 19.1875 25 \r\nQ 14.984375 22.515625 14.984375 16.5 \r\nQ 14.984375 11.71875 18.140625 8.90625 \r\nQ 21.296875 6.109375 26.703125 6.109375 \r\nQ 34.1875 6.109375 38.703125 11.40625 \r\nQ 43.21875 16.703125 43.21875 25.484375 \r\nL 43.21875 27.484375 \r\nz\r\nM 52.203125 31.203125 \r\nL 52.203125 0 \r\nL 43.21875 0 \r\nL 43.21875 8.296875 \r\nQ 40.140625 3.328125 35.546875 0.953125 \r\nQ 30.953125 -1.421875 24.3125 -1.421875 \r\nQ 15.921875 -1.421875 10.953125 3.296875 \r\nQ 6 8.015625 6 15.921875 \r\nQ 6 25.140625 12.171875 29.828125 \r\nQ 18.359375 34.515625 30.609375 34.515625 \r\nL 43.21875 34.515625 \r\nL 43.21875 35.40625 \r\nQ 43.21875 41.609375 39.140625 45 \r\nQ 35.0625 48.390625 27.6875 48.390625 \r\nQ 23 48.390625 18.546875 47.265625 \r\nQ 14.109375 46.140625 10.015625 43.890625 \r\nL 10.015625 52.203125 \r\nQ 14.9375 54.109375 19.578125 55.046875 \r\nQ 24.21875 56 28.609375 56 \r\nQ 40.484375 56 46.34375 49.84375 \r\nQ 52.203125 43.703125 52.203125 31.203125 \r\nz\r\n\" id=\"DejaVuSans-97\"/>\r\n       <path d=\"M 9.421875 54.6875 \r\nL 18.40625 54.6875 \r\nL 18.40625 0 \r\nL 9.421875 0 \r\nz\r\nM 9.421875 75.984375 \r\nL 18.40625 75.984375 \r\nL 18.40625 64.59375 \r\nL 9.421875 64.59375 \r\nz\r\n\" id=\"DejaVuSans-105\"/>\r\n       <path d=\"M 54.890625 33.015625 \r\nL 54.890625 0 \r\nL 45.90625 0 \r\nL 45.90625 32.71875 \r\nQ 45.90625 40.484375 42.875 44.328125 \r\nQ 39.84375 48.1875 33.796875 48.1875 \r\nQ 26.515625 48.1875 22.3125 43.546875 \r\nQ 18.109375 38.921875 18.109375 30.90625 \r\nL 18.109375 0 \r\nL 9.078125 0 \r\nL 9.078125 54.6875 \r\nL 18.109375 54.6875 \r\nL 18.109375 46.1875 \r\nQ 21.34375 51.125 25.703125 53.5625 \r\nQ 30.078125 56 35.796875 56 \r\nQ 45.21875 56 50.046875 50.171875 \r\nQ 54.890625 44.34375 54.890625 33.015625 \r\nz\r\n\" id=\"DejaVuSans-110\"/>\r\n       <path d=\"M 50.984375 -16.609375 \r\nL 50.984375 -23.578125 \r\nL -0.984375 -23.578125 \r\nL -0.984375 -16.609375 \r\nz\r\n\" id=\"DejaVuSans-95\"/>\r\n       <path d=\"M 48.78125 52.59375 \r\nL 48.78125 44.1875 \r\nQ 44.96875 46.296875 41.140625 47.34375 \r\nQ 37.3125 48.390625 33.40625 48.390625 \r\nQ 24.65625 48.390625 19.8125 42.84375 \r\nQ 14.984375 37.3125 14.984375 27.296875 \r\nQ 14.984375 17.28125 19.8125 11.734375 \r\nQ 24.65625 6.203125 33.40625 6.203125 \r\nQ 37.3125 6.203125 41.140625 7.25 \r\nQ 44.96875 8.296875 48.78125 10.40625 \r\nL 48.78125 2.09375 \r\nQ 45.015625 0.34375 40.984375 -0.53125 \r\nQ 36.96875 -1.421875 32.421875 -1.421875 \r\nQ 20.0625 -1.421875 12.78125 6.34375 \r\nQ 5.515625 14.109375 5.515625 27.296875 \r\nQ 5.515625 40.671875 12.859375 48.328125 \r\nQ 20.21875 56 33.015625 56 \r\nQ 37.15625 56 41.109375 55.140625 \r\nQ 45.0625 54.296875 48.78125 52.59375 \r\nz\r\n\" id=\"DejaVuSans-99\"/>\r\n       <path d=\"M 54.890625 33.015625 \r\nL 54.890625 0 \r\nL 45.90625 0 \r\nL 45.90625 32.71875 \r\nQ 45.90625 40.484375 42.875 44.328125 \r\nQ 39.84375 48.1875 33.796875 48.1875 \r\nQ 26.515625 48.1875 22.3125 43.546875 \r\nQ 18.109375 38.921875 18.109375 30.90625 \r\nL 18.109375 0 \r\nL 9.078125 0 \r\nL 9.078125 75.984375 \r\nL 18.109375 75.984375 \r\nL 18.109375 46.1875 \r\nQ 21.34375 51.125 25.703125 53.5625 \r\nQ 30.078125 56 35.796875 56 \r\nQ 45.21875 56 50.046875 50.171875 \r\nQ 54.890625 44.34375 54.890625 33.015625 \r\nz\r\n\" id=\"DejaVuSans-104\"/>\r\n       <path d=\"M 44.28125 53.078125 \r\nL 44.28125 44.578125 \r\nQ 40.484375 46.53125 36.375 47.5 \r\nQ 32.28125 48.484375 27.875 48.484375 \r\nQ 21.1875 48.484375 17.84375 46.4375 \r\nQ 14.5 44.390625 14.5 40.28125 \r\nQ 14.5 37.15625 16.890625 35.375 \r\nQ 19.28125 33.59375 26.515625 31.984375 \r\nL 29.59375 31.296875 \r\nQ 39.15625 29.25 43.1875 25.515625 \r\nQ 47.21875 21.78125 47.21875 15.09375 \r\nQ 47.21875 7.46875 41.1875 3.015625 \r\nQ 35.15625 -1.421875 24.609375 -1.421875 \r\nQ 20.21875 -1.421875 15.453125 -0.5625 \r\nQ 10.6875 0.296875 5.421875 2 \r\nL 5.421875 11.28125 \r\nQ 10.40625 8.6875 15.234375 7.390625 \r\nQ 20.0625 6.109375 24.8125 6.109375 \r\nQ 31.15625 6.109375 34.5625 8.28125 \r\nQ 37.984375 10.453125 37.984375 14.40625 \r\nQ 37.984375 18.0625 35.515625 20.015625 \r\nQ 33.0625 21.96875 24.703125 23.78125 \r\nL 21.578125 24.515625 \r\nQ 13.234375 26.265625 9.515625 29.90625 \r\nQ 5.8125 33.546875 5.8125 39.890625 \r\nQ 5.8125 47.609375 11.28125 51.796875 \r\nQ 16.75 56 26.8125 56 \r\nQ 31.78125 56 36.171875 55.265625 \r\nQ 40.578125 54.546875 44.28125 53.078125 \r\nz\r\n\" id=\"DejaVuSans-115\"/>\r\n       <path d=\"M 30.609375 48.390625 \r\nQ 23.390625 48.390625 19.1875 42.75 \r\nQ 14.984375 37.109375 14.984375 27.296875 \r\nQ 14.984375 17.484375 19.15625 11.84375 \r\nQ 23.34375 6.203125 30.609375 6.203125 \r\nQ 37.796875 6.203125 41.984375 11.859375 \r\nQ 46.1875 17.53125 46.1875 27.296875 \r\nQ 46.1875 37.015625 41.984375 42.703125 \r\nQ 37.796875 48.390625 30.609375 48.390625 \r\nz\r\nM 30.609375 56 \r\nQ 42.328125 56 49.015625 48.375 \r\nQ 55.71875 40.765625 55.71875 27.296875 \r\nQ 55.71875 13.875 49.015625 6.21875 \r\nQ 42.328125 -1.421875 30.609375 -1.421875 \r\nQ 18.84375 -1.421875 12.171875 6.21875 \r\nQ 5.515625 13.875 5.515625 27.296875 \r\nQ 5.515625 40.765625 12.171875 48.375 \r\nQ 18.84375 56 30.609375 56 \r\nz\r\n\" id=\"DejaVuSans-111\"/>\r\n       <path d=\"M 32.171875 -5.078125 \r\nQ 28.375 -14.84375 24.75 -17.8125 \r\nQ 21.140625 -20.796875 15.09375 -20.796875 \r\nL 7.90625 -20.796875 \r\nL 7.90625 -13.28125 \r\nL 13.1875 -13.28125 \r\nQ 16.890625 -13.28125 18.9375 -11.515625 \r\nQ 21 -9.765625 23.484375 -3.21875 \r\nL 25.09375 0.875 \r\nL 2.984375 54.6875 \r\nL 12.5 54.6875 \r\nL 29.59375 11.921875 \r\nL 46.6875 54.6875 \r\nL 56.203125 54.6875 \r\nz\r\n\" id=\"DejaVuSans-121\"/>\r\n      </defs>\r\n      <use xlink:href=\"#DejaVuSans-116\"/>\r\n      <use x=\"39.208984\" xlink:href=\"#DejaVuSans-114\"/>\r\n      <use x=\"80.322266\" xlink:href=\"#DejaVuSans-97\"/>\r\n      <use x=\"141.601562\" xlink:href=\"#DejaVuSans-105\"/>\r\n      <use x=\"169.384766\" xlink:href=\"#DejaVuSans-110\"/>\r\n      <use x=\"232.763672\" xlink:href=\"#DejaVuSans-95\"/>\r\n      <use x=\"282.763672\" xlink:href=\"#DejaVuSans-97\"/>\r\n      <use x=\"344.042969\" xlink:href=\"#DejaVuSans-99\"/>\r\n      <use x=\"399.023438\" xlink:href=\"#DejaVuSans-99\"/>\r\n      <use x=\"454.003906\" xlink:href=\"#DejaVuSans-95\"/>\r\n      <use x=\"504.003906\" xlink:href=\"#DejaVuSans-104\"/>\r\n      <use x=\"567.382812\" xlink:href=\"#DejaVuSans-105\"/>\r\n      <use x=\"595.166016\" xlink:href=\"#DejaVuSans-115\"/>\r\n      <use x=\"647.265625\" xlink:href=\"#DejaVuSans-116\"/>\r\n      <use x=\"686.474609\" xlink:href=\"#DejaVuSans-111\"/>\r\n      <use x=\"747.65625\" xlink:href=\"#DejaVuSans-114\"/>\r\n      <use x=\"788.769531\" xlink:href=\"#DejaVuSans-121\"/>\r\n     </g>\r\n    </g>\r\n    <g id=\"line2d_20\">\r\n     <path d=\"M 243.109375 209.782187 \r\nL 263.109375 209.782187 \r\n\" style=\"fill:none;stroke:#ff7f0e;stroke-linecap:square;stroke-width:1.5;\"/>\r\n    </g>\r\n    <g id=\"line2d_21\"/>\r\n    <g id=\"text_17\">\r\n     <!-- val_acc_history -->\r\n     <g transform=\"translate(271.109375 213.282187)scale(0.1 -0.1)\">\r\n      <defs>\r\n       <path d=\"M 2.984375 54.6875 \r\nL 12.5 54.6875 \r\nL 29.59375 8.796875 \r\nL 46.6875 54.6875 \r\nL 56.203125 54.6875 \r\nL 35.6875 0 \r\nL 23.484375 0 \r\nz\r\n\" id=\"DejaVuSans-118\"/>\r\n       <path d=\"M 9.421875 75.984375 \r\nL 18.40625 75.984375 \r\nL 18.40625 0 \r\nL 9.421875 0 \r\nz\r\n\" id=\"DejaVuSans-108\"/>\r\n      </defs>\r\n      <use xlink:href=\"#DejaVuSans-118\"/>\r\n      <use x=\"59.179688\" xlink:href=\"#DejaVuSans-97\"/>\r\n      <use x=\"120.458984\" xlink:href=\"#DejaVuSans-108\"/>\r\n      <use x=\"148.242188\" xlink:href=\"#DejaVuSans-95\"/>\r\n      <use x=\"198.242188\" xlink:href=\"#DejaVuSans-97\"/>\r\n      <use x=\"259.521484\" xlink:href=\"#DejaVuSans-99\"/>\r\n      <use x=\"314.501953\" xlink:href=\"#DejaVuSans-99\"/>\r\n      <use x=\"369.482422\" xlink:href=\"#DejaVuSans-95\"/>\r\n      <use x=\"419.482422\" xlink:href=\"#DejaVuSans-104\"/>\r\n      <use x=\"482.861328\" xlink:href=\"#DejaVuSans-105\"/>\r\n      <use x=\"510.644531\" xlink:href=\"#DejaVuSans-115\"/>\r\n      <use x=\"562.744141\" xlink:href=\"#DejaVuSans-116\"/>\r\n      <use x=\"601.953125\" xlink:href=\"#DejaVuSans-111\"/>\r\n      <use x=\"663.134766\" xlink:href=\"#DejaVuSans-114\"/>\r\n      <use x=\"704.248047\" xlink:href=\"#DejaVuSans-121\"/>\r\n     </g>\r\n    </g>\r\n   </g>\r\n  </g>\r\n </g>\r\n <defs>\r\n  <clipPath id=\"p69d88269ba\">\r\n   <rect height=\"217.44\" width=\"334.8\" x=\"30.103125\" y=\"7.2\"/>\r\n  </clipPath>\r\n </defs>\r\n</svg>\r\n",
      "image/png": "[encoded data removed]"
     },
     "metadata": {
      "needs_background": "light"
     }
    }
   ],
   "source": [
    "val_acc_history_char = list(np.array(val_acc_history_char).astype(np.float))\n",
    "print(val_acc_history)\n",
    "train_acc_history = list(np.array(train_acc_history).astype(np.float))\n",
    "print(train_acc_history)\n",
    "\n",
    "plt.plot(train_acc_history,label='train_acc_history')\n",
    "plt.plot(val_acc_history_char,label='val_acc_history')\n",
    "plt.legend()"
   ]
  },
  {
   "cell_type": "code",
   "execution_count": null,
   "metadata": {},
   "outputs": [],
   "source": []
  }
 ],
 "metadata": {
  "kernelspec": {
   "name": "python368jvsc74a57bd039188272ab48d28ba8e8b1a16e21bb6ba9a5d67edf307888a0fa2c0c9b6d5210",
   "display_name": "Python 3.6.8 64-bit ('py36': conda)"
  },
  "language_info": {
   "codemirror_mode": {
    "name": "ipython",
    "version": 3
   },
   "file_extension": ".py",
   "mimetype": "text/x-python",
   "name": "python",
   "nbconvert_exporter": "python",
   "pygments_lexer": "ipython3",
   "version": "3.6.8"
  },
  "toc": {
   "base_numbering": 1,
   "nav_menu": {},
   "number_sections": true,
   "sideBar": true,
   "skip_h1_title": false,
   "title_cell": "Table of Contents",
   "title_sidebar": "Contents",
   "toc_cell": false,
   "toc_position": {},
   "toc_section_display": true,
   "toc_window_display": false
  },
  "varInspector": {
   "cols": {
    "lenName": 16,
    "lenType": 16,
    "lenVar": 40
   },
   "kernels_config": {
    "python": {
     "delete_cmd_postfix": "",
     "delete_cmd_prefix": "del ",
     "library": "var_list.py",
     "varRefreshCmd": "print(var_dic_list())"
    },
    "r": {
     "delete_cmd_postfix": ") ",
     "delete_cmd_prefix": "rm(",
     "library": "var_list.r",
     "varRefreshCmd": "cat(var_dic_list()) "
    }
   },
   "types_to_exclude": [
    "module",
    "function",
    "builtin_function_or_method",
    "instance",
    "_Feature"
   ],
   "window_display": false
  }
 },
 "nbformat": 4,
 "nbformat_minor": 2
}