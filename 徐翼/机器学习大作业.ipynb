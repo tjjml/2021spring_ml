{
 "cells": [
  {
   "cell_type": "code",
   "execution_count": 1,
   "metadata": {},
   "outputs": [],
   "source": [
    "import pandas as pd\n",
    "import pickle\n",
    "import numpy as np\n",
    "import re\n",
    "from sklearn import linear_model\n",
    "\n",
    "\n",
    "import seaborn as sns\n",
    "import matplotlib.pyplot as plt\n",
    "%matplotlib inline              \n",
    "\n",
    "from sklearn.ensemble import RandomForestRegressor\n",
    "from sklearn.svm import SVR\n",
    "from sklearn import linear_model\n",
    "from sklearn import ensemble \n",
    "from sklearn.metrics import mean_squared_error\n",
    "from sklearn.ensemble import BaggingRegressor\n",
    "\n",
    "\n",
    "from sklearn.ensemble import RandomForestRegressor\n",
    "from sklearn.model_selection import KFold\n",
    "import xgboost as xgb    #sklearn不包括xgboost\n",
    "from sklearn.model_selection import train_test_split\n",
    "\n",
    "\n",
    "from sklearn.model_selection import GridSearchCV\n",
    "from sklearn.model_selection import cross_val_score, KFold\n",
    "\n",
    "from sklearn.linear_model import Lasso\n",
    "from sklearn.linear_model import Ridge\n",
    "from sklearn.kernel_ridge import KernelRidge\n",
    "from sklearn.svm import SVR\n",
    "from sklearn.ensemble import RandomForestRegressor\n",
    "from sklearn import preprocessing\n",
    "# \n",
    "\n",
    "import os"
   ]
  },
  {
   "cell_type": "markdown",
   "metadata": {},
   "source": [
    "### 1、数据读取"
   ]
  },
  {
   "cell_type": "code",
   "execution_count": 2,
   "metadata": {},
   "outputs": [],
   "source": [
    "train=pd.read_csv(r'train.csv', parse_dates=['datetime'])   #将csv中的时间字符串转换成日期格式\n",
    "test=pd.read_csv(r'test.csv', parse_dates=['datetime'])"
   ]
  },
  {
   "cell_type": "markdown",
   "metadata": {},
   "source": [
    "* season：季节，1、2、3、4分别代表春夏秋冬；\n",
    "* holiday：0/1表示是否是节假日；workingday：0/1表示是否是工作日\n",
    "* weather：1、2、3、4分别表示不同的天气\n",
    "* temp、atemp表示温度；humidity为湿度；windspeed为风速\n",
    "* casual：散客需求量；registered：会员需求量\n",
    "* count：表示最终要预测的自行车需求总量（这一年这一月这一个小时的总需求量）"
   ]
  },
  {
   "cell_type": "code",
   "execution_count": 3,
   "metadata": {},
   "outputs": [
    {
     "data": {
      "text/html": [
       "<div>\n",
       "<style scoped>\n",
       "    .dataframe tbody tr th:only-of-type {\n",
       "        vertical-align: middle;\n",
       "    }\n",
       "\n",
       "    .dataframe tbody tr th {\n",
       "        vertical-align: top;\n",
       "    }\n",
       "\n",
       "    .dataframe thead th {\n",
       "        text-align: right;\n",
       "    }\n",
       "</style>\n",
       "<table border=\"1\" class=\"dataframe\">\n",
       "  <thead>\n",
       "    <tr style=\"text-align: right;\">\n",
       "      <th></th>\n",
       "      <th>datetime</th>\n",
       "      <th>season</th>\n",
       "      <th>holiday</th>\n",
       "      <th>workingday</th>\n",
       "      <th>weather</th>\n",
       "      <th>temp</th>\n",
       "      <th>atemp</th>\n",
       "      <th>humidity</th>\n",
       "      <th>windspeed</th>\n",
       "      <th>casual</th>\n",
       "      <th>registered</th>\n",
       "      <th>count</th>\n",
       "    </tr>\n",
       "  </thead>\n",
       "  <tbody>\n",
       "    <tr>\n",
       "      <th>0</th>\n",
       "      <td>2011-01-01 00:00:00</td>\n",
       "      <td>1</td>\n",
       "      <td>0</td>\n",
       "      <td>0</td>\n",
       "      <td>1</td>\n",
       "      <td>9.84</td>\n",
       "      <td>14.395</td>\n",
       "      <td>81</td>\n",
       "      <td>0.0</td>\n",
       "      <td>3</td>\n",
       "      <td>13</td>\n",
       "      <td>16</td>\n",
       "    </tr>\n",
       "    <tr>\n",
       "      <th>1</th>\n",
       "      <td>2011-01-01 01:00:00</td>\n",
       "      <td>1</td>\n",
       "      <td>0</td>\n",
       "      <td>0</td>\n",
       "      <td>1</td>\n",
       "      <td>9.02</td>\n",
       "      <td>13.635</td>\n",
       "      <td>80</td>\n",
       "      <td>0.0</td>\n",
       "      <td>8</td>\n",
       "      <td>32</td>\n",
       "      <td>40</td>\n",
       "    </tr>\n",
       "    <tr>\n",
       "      <th>2</th>\n",
       "      <td>2011-01-01 02:00:00</td>\n",
       "      <td>1</td>\n",
       "      <td>0</td>\n",
       "      <td>0</td>\n",
       "      <td>1</td>\n",
       "      <td>9.02</td>\n",
       "      <td>13.635</td>\n",
       "      <td>80</td>\n",
       "      <td>0.0</td>\n",
       "      <td>5</td>\n",
       "      <td>27</td>\n",
       "      <td>32</td>\n",
       "    </tr>\n",
       "    <tr>\n",
       "      <th>3</th>\n",
       "      <td>2011-01-01 03:00:00</td>\n",
       "      <td>1</td>\n",
       "      <td>0</td>\n",
       "      <td>0</td>\n",
       "      <td>1</td>\n",
       "      <td>9.84</td>\n",
       "      <td>14.395</td>\n",
       "      <td>75</td>\n",
       "      <td>0.0</td>\n",
       "      <td>3</td>\n",
       "      <td>10</td>\n",
       "      <td>13</td>\n",
       "    </tr>\n",
       "    <tr>\n",
       "      <th>4</th>\n",
       "      <td>2011-01-01 04:00:00</td>\n",
       "      <td>1</td>\n",
       "      <td>0</td>\n",
       "      <td>0</td>\n",
       "      <td>1</td>\n",
       "      <td>9.84</td>\n",
       "      <td>14.395</td>\n",
       "      <td>75</td>\n",
       "      <td>0.0</td>\n",
       "      <td>0</td>\n",
       "      <td>1</td>\n",
       "      <td>1</td>\n",
       "    </tr>\n",
       "  </tbody>\n",
       "</table>\n",
       "</div>"
      ],
      "text/plain": [
       "             datetime  season  holiday  workingday  weather  temp   atemp  \\\n",
       "0 2011-01-01 00:00:00       1        0           0        1  9.84  14.395   \n",
       "1 2011-01-01 01:00:00       1        0           0        1  9.02  13.635   \n",
       "2 2011-01-01 02:00:00       1        0           0        1  9.02  13.635   \n",
       "3 2011-01-01 03:00:00       1        0           0        1  9.84  14.395   \n",
       "4 2011-01-01 04:00:00       1        0           0        1  9.84  14.395   \n",
       "\n",
       "   humidity  windspeed  casual  registered  count  \n",
       "0        81        0.0       3          13     16  \n",
       "1        80        0.0       8          32     40  \n",
       "2        80        0.0       5          27     32  \n",
       "3        75        0.0       3          10     13  \n",
       "4        75        0.0       0           1      1  "
      ]
     },
     "execution_count": 3,
     "metadata": {},
     "output_type": "execute_result"
    }
   ],
   "source": [
    "train.head()"
   ]
  },
  {
   "cell_type": "code",
   "execution_count": 4,
   "metadata": {},
   "outputs": [
    {
     "data": {
      "text/html": [
       "<div>\n",
       "<style scoped>\n",
       "    .dataframe tbody tr th:only-of-type {\n",
       "        vertical-align: middle;\n",
       "    }\n",
       "\n",
       "    .dataframe tbody tr th {\n",
       "        vertical-align: top;\n",
       "    }\n",
       "\n",
       "    .dataframe thead th {\n",
       "        text-align: right;\n",
       "    }\n",
       "</style>\n",
       "<table border=\"1\" class=\"dataframe\">\n",
       "  <thead>\n",
       "    <tr style=\"text-align: right;\">\n",
       "      <th></th>\n",
       "      <th>datetime</th>\n",
       "      <th>season</th>\n",
       "      <th>holiday</th>\n",
       "      <th>workingday</th>\n",
       "      <th>weather</th>\n",
       "      <th>temp</th>\n",
       "      <th>atemp</th>\n",
       "      <th>humidity</th>\n",
       "      <th>windspeed</th>\n",
       "    </tr>\n",
       "  </thead>\n",
       "  <tbody>\n",
       "    <tr>\n",
       "      <th>0</th>\n",
       "      <td>2011-01-20 00:00:00</td>\n",
       "      <td>1</td>\n",
       "      <td>0</td>\n",
       "      <td>1</td>\n",
       "      <td>1</td>\n",
       "      <td>10.66</td>\n",
       "      <td>11.365</td>\n",
       "      <td>56</td>\n",
       "      <td>26.0027</td>\n",
       "    </tr>\n",
       "    <tr>\n",
       "      <th>1</th>\n",
       "      <td>2011-01-20 01:00:00</td>\n",
       "      <td>1</td>\n",
       "      <td>0</td>\n",
       "      <td>1</td>\n",
       "      <td>1</td>\n",
       "      <td>10.66</td>\n",
       "      <td>13.635</td>\n",
       "      <td>56</td>\n",
       "      <td>0.0000</td>\n",
       "    </tr>\n",
       "    <tr>\n",
       "      <th>2</th>\n",
       "      <td>2011-01-20 02:00:00</td>\n",
       "      <td>1</td>\n",
       "      <td>0</td>\n",
       "      <td>1</td>\n",
       "      <td>1</td>\n",
       "      <td>10.66</td>\n",
       "      <td>13.635</td>\n",
       "      <td>56</td>\n",
       "      <td>0.0000</td>\n",
       "    </tr>\n",
       "    <tr>\n",
       "      <th>3</th>\n",
       "      <td>2011-01-20 03:00:00</td>\n",
       "      <td>1</td>\n",
       "      <td>0</td>\n",
       "      <td>1</td>\n",
       "      <td>1</td>\n",
       "      <td>10.66</td>\n",
       "      <td>12.880</td>\n",
       "      <td>56</td>\n",
       "      <td>11.0014</td>\n",
       "    </tr>\n",
       "    <tr>\n",
       "      <th>4</th>\n",
       "      <td>2011-01-20 04:00:00</td>\n",
       "      <td>1</td>\n",
       "      <td>0</td>\n",
       "      <td>1</td>\n",
       "      <td>1</td>\n",
       "      <td>10.66</td>\n",
       "      <td>12.880</td>\n",
       "      <td>56</td>\n",
       "      <td>11.0014</td>\n",
       "    </tr>\n",
       "  </tbody>\n",
       "</table>\n",
       "</div>"
      ],
      "text/plain": [
       "             datetime  season  holiday  workingday  weather   temp   atemp  \\\n",
       "0 2011-01-20 00:00:00       1        0           1        1  10.66  11.365   \n",
       "1 2011-01-20 01:00:00       1        0           1        1  10.66  13.635   \n",
       "2 2011-01-20 02:00:00       1        0           1        1  10.66  13.635   \n",
       "3 2011-01-20 03:00:00       1        0           1        1  10.66  12.880   \n",
       "4 2011-01-20 04:00:00       1        0           1        1  10.66  12.880   \n",
       "\n",
       "   humidity  windspeed  \n",
       "0        56    26.0027  \n",
       "1        56     0.0000  \n",
       "2        56     0.0000  \n",
       "3        56    11.0014  \n",
       "4        56    11.0014  "
      ]
     },
     "execution_count": 4,
     "metadata": {},
     "output_type": "execute_result"
    }
   ],
   "source": [
    "test.head()"
   ]
  },
  {
   "cell_type": "code",
   "execution_count": 5,
   "metadata": {},
   "outputs": [
    {
     "data": {
      "text/html": [
       "<div>\n",
       "<style scoped>\n",
       "    .dataframe tbody tr th:only-of-type {\n",
       "        vertical-align: middle;\n",
       "    }\n",
       "\n",
       "    .dataframe tbody tr th {\n",
       "        vertical-align: top;\n",
       "    }\n",
       "\n",
       "    .dataframe thead th {\n",
       "        text-align: right;\n",
       "    }\n",
       "</style>\n",
       "<table border=\"1\" class=\"dataframe\">\n",
       "  <thead>\n",
       "    <tr style=\"text-align: right;\">\n",
       "      <th></th>\n",
       "      <th>datetime</th>\n",
       "      <th>season</th>\n",
       "      <th>holiday</th>\n",
       "      <th>workingday</th>\n",
       "      <th>weather</th>\n",
       "      <th>temp</th>\n",
       "      <th>atemp</th>\n",
       "      <th>humidity</th>\n",
       "      <th>windspeed</th>\n",
       "      <th>count</th>\n",
       "    </tr>\n",
       "  </thead>\n",
       "  <tbody>\n",
       "    <tr>\n",
       "      <th>0</th>\n",
       "      <td>2011-01-01 00:00:00</td>\n",
       "      <td>1</td>\n",
       "      <td>0</td>\n",
       "      <td>0</td>\n",
       "      <td>1</td>\n",
       "      <td>9.84</td>\n",
       "      <td>14.395</td>\n",
       "      <td>81</td>\n",
       "      <td>0.0</td>\n",
       "      <td>16</td>\n",
       "    </tr>\n",
       "    <tr>\n",
       "      <th>1</th>\n",
       "      <td>2011-01-01 01:00:00</td>\n",
       "      <td>1</td>\n",
       "      <td>0</td>\n",
       "      <td>0</td>\n",
       "      <td>1</td>\n",
       "      <td>9.02</td>\n",
       "      <td>13.635</td>\n",
       "      <td>80</td>\n",
       "      <td>0.0</td>\n",
       "      <td>40</td>\n",
       "    </tr>\n",
       "    <tr>\n",
       "      <th>2</th>\n",
       "      <td>2011-01-01 02:00:00</td>\n",
       "      <td>1</td>\n",
       "      <td>0</td>\n",
       "      <td>0</td>\n",
       "      <td>1</td>\n",
       "      <td>9.02</td>\n",
       "      <td>13.635</td>\n",
       "      <td>80</td>\n",
       "      <td>0.0</td>\n",
       "      <td>32</td>\n",
       "    </tr>\n",
       "    <tr>\n",
       "      <th>3</th>\n",
       "      <td>2011-01-01 03:00:00</td>\n",
       "      <td>1</td>\n",
       "      <td>0</td>\n",
       "      <td>0</td>\n",
       "      <td>1</td>\n",
       "      <td>9.84</td>\n",
       "      <td>14.395</td>\n",
       "      <td>75</td>\n",
       "      <td>0.0</td>\n",
       "      <td>13</td>\n",
       "    </tr>\n",
       "    <tr>\n",
       "      <th>4</th>\n",
       "      <td>2011-01-01 04:00:00</td>\n",
       "      <td>1</td>\n",
       "      <td>0</td>\n",
       "      <td>0</td>\n",
       "      <td>1</td>\n",
       "      <td>9.84</td>\n",
       "      <td>14.395</td>\n",
       "      <td>75</td>\n",
       "      <td>0.0</td>\n",
       "      <td>1</td>\n",
       "    </tr>\n",
       "  </tbody>\n",
       "</table>\n",
       "</div>"
      ],
      "text/plain": [
       "             datetime  season  holiday  workingday  weather  temp   atemp  \\\n",
       "0 2011-01-01 00:00:00       1        0           0        1  9.84  14.395   \n",
       "1 2011-01-01 01:00:00       1        0           0        1  9.02  13.635   \n",
       "2 2011-01-01 02:00:00       1        0           0        1  9.02  13.635   \n",
       "3 2011-01-01 03:00:00       1        0           0        1  9.84  14.395   \n",
       "4 2011-01-01 04:00:00       1        0           0        1  9.84  14.395   \n",
       "\n",
       "   humidity  windspeed  count  \n",
       "0        81        0.0     16  \n",
       "1        80        0.0     40  \n",
       "2        80        0.0     32  \n",
       "3        75        0.0     13  \n",
       "4        75        0.0      1  "
      ]
     },
     "execution_count": 5,
     "metadata": {},
     "output_type": "execute_result"
    }
   ],
   "source": [
    "#删除多余的列\n",
    "train = train.drop(['casual','registered'],axis=1)\n",
    "train.head()"
   ]
  },
  {
   "cell_type": "code",
   "execution_count": 6,
   "metadata": {},
   "outputs": [],
   "source": [
    "#定义一个求均方根对数误差的函数\n",
    "def rmsle(y_log, y0_log):\n",
    "    return np.sqrt(np.mean(np.square(y_log - y0_log)))"
   ]
  },
  {
   "cell_type": "markdown",
   "metadata": {},
   "source": [
    "### 2、特征工程"
   ]
  },
  {
   "cell_type": "code",
   "execution_count": 7,
   "metadata": {},
   "outputs": [],
   "source": [
    "# remove outlier剔除极值（保留每个数据点与平均值之差的绝对值在3个标准差以内的数据）\n",
    "train = train[np.abs(train[\"count\"]-train[\"count\"].mean())<=(3*train[\"count\"].std())] "
   ]
  },
  {
   "cell_type": "code",
   "execution_count": 8,
   "metadata": {},
   "outputs": [],
   "source": [
    "#提取训练集和测试集的年月日小时，获取分布\n",
    "for df in (train,test):\n",
    "    df['year'] = df['datetime'].dt.year\n",
    "    df['month'] = df['datetime'].dt.month\n",
    "    df['day'] = df['datetime'].dt.day\n",
    "    df['hr'] = df['datetime'].dt.hour\n",
    "\n",
    "    #新增一列hr_categori\n",
    "    df['hr_categori'] = np.nan\n",
    "    df.loc[(df.workingday == 1)&(df.hr <= 9)&(df.hr >= 7), 'hr_categori'] = \"rush\"  #工作日早7-9点定义为rush hour（早高峰）\n",
    "    df.loc[(df.workingday == 1)&(df.hr <= 19)&(df.hr >= 16), 'hr_categori'] = \"rush\"#下午4-7点也定义为rush hour（晚高峰）\n",
    "    df.loc[(df.workingday == 1)&(df.hr < 16)&(df.hr > 9), 'hr_categori'] = \"day\"  #x）\n",
    "    df.loc[(df.workingday == 1)&(df.hr < 7)|(df.hr > 19), 'hr_categori'] = \"night\" #晚上7点到第二天早上7点称为night(需求少)"
   ]
  },
  {
   "cell_type": "markdown",
   "metadata": {},
   "source": [
    "#### hour"
   ]
  },
  {
   "cell_type": "code",
   "execution_count": 9,
   "metadata": {},
   "outputs": [
    {
     "name": "stderr",
     "output_type": "stream",
     "text": [
      "D:\\Anaconda\\lib\\site-packages\\seaborn\\categorical.py:3666: UserWarning: The `factorplot` function has been renamed to `catplot`. The original name will be removed in a future release. Please update your code. Note that the default `kind` in `factorplot` (`'point'`) has changed `'strip'` in `catplot`.\n",
      "  warnings.warn(msg)\n",
      "D:\\Anaconda\\lib\\site-packages\\seaborn\\categorical.py:3672: UserWarning: The `size` paramter has been renamed to `height`; please update your code.\n",
      "  warnings.warn(msg, UserWarning)\n"
     ]
    },
    {
     "data": {
      "text/plain": [
       "<seaborn.axisgrid.FacetGrid at 0x14e3fec2f98>"
      ]
     },
     "execution_count": 9,
     "metadata": {},
     "output_type": "execute_result"
    },
    {
     "data": {
      "image/png": "[encoded data removed]",
      "text/plain": [
       "<Figure size 540x360 with 1 Axes>"
      ]
     },
     "metadata": {
      "needs_background": "light"
     },
     "output_type": "display_data"
    }
   ],
   "source": [
    "sns.factorplot(x=\"hr\",y=\"count\",data=train,kind='bar',size=5,aspect=1.5)"
   ]
  },
  {
   "cell_type": "markdown",
   "metadata": {},
   "source": [
    "#### month"
   ]
  },
  {
   "cell_type": "markdown",
   "metadata": {},
   "source": [
    "1-6月递增，6-12月递减，原数据有季节这个特征"
   ]
  },
  {
   "cell_type": "code",
   "execution_count": 10,
   "metadata": {},
   "outputs": [
    {
     "data": {
      "text/plain": [
       "<seaborn.axisgrid.FacetGrid at 0x14e401f7240>"
      ]
     },
     "execution_count": 10,
     "metadata": {},
     "output_type": "execute_result"
    },
    {
     "data": {
      "image/png": "[encoded data removed]",
      "text/plain": [
       "<Figure size 540x360 with 1 Axes>"
      ]
     },
     "metadata": {
      "needs_background": "light"
     },
     "output_type": "display_data"
    }
   ],
   "source": [
    "sns.factorplot(x=\"month\",y=\"count\",data=train,kind='bar',size=5,aspect=1.5)"
   ]
  },
  {
   "cell_type": "markdown",
   "metadata": {},
   "source": [
    "#### year"
   ]
  },
  {
   "cell_type": "markdown",
   "metadata": {},
   "source": [
    "可能2012年推广更多"
   ]
  },
  {
   "cell_type": "code",
   "execution_count": 11,
   "metadata": {},
   "outputs": [
    {
     "data": {
      "text/plain": [
       "<seaborn.axisgrid.FacetGrid at 0x14e3fee4160>"
      ]
     },
     "execution_count": 11,
     "metadata": {},
     "output_type": "execute_result"
    },
    {
     "data": {
      "image/png": "[encoded data removed]",
      "text/plain": [
       "<Figure size 540x360 with 1 Axes>"
      ]
     },
     "metadata": {
      "needs_background": "light"
     },
     "output_type": "display_data"
    }
   ],
   "source": [
    "sns.factorplot(x=\"year\",y=\"count\",data=train,kind='bar',size=5,aspect=1.5)"
   ]
  },
  {
   "cell_type": "markdown",
   "metadata": {},
   "source": [
    "#### temp"
   ]
  },
  {
   "cell_type": "markdown",
   "metadata": {},
   "source": [
    "最高温度也是13*3=39度，没有极端天气，所以需求随温度的增加而增加。"
   ]
  },
  {
   "cell_type": "code",
   "execution_count": 12,
   "metadata": {},
   "outputs": [
    {
     "data": {
      "text/plain": [
       "<seaborn.axisgrid.FacetGrid at 0x14e405c0da0>"
      ]
     },
     "execution_count": 12,
     "metadata": {},
     "output_type": "execute_result"
    },
    {
     "data": {
      "image/png": "[encoded data removed]",
      "text/plain": [
       "<Figure size 360x360 with 1 Axes>"
      ]
     },
     "metadata": {
      "needs_background": "light"
     },
     "output_type": "display_data"
    }
   ],
   "source": [
    "new_df=train.copy()\n",
    "\n",
    "new_df['temp_bin']=np.floor(new_df['temp'])//3   \n",
    "\n",
    "sns.factorplot(x=\"temp_bin\",y=\"count\",data=new_df,kind='bar')"
   ]
  },
  {
   "cell_type": "markdown",
   "metadata": {},
   "source": [
    "#### humidity"
   ]
  },
  {
   "cell_type": "markdown",
   "metadata": {},
   "source": [
    "在湿度适中的时候需求量最高"
   ]
  },
  {
   "cell_type": "code",
   "execution_count": 13,
   "metadata": {},
   "outputs": [
    {
     "data": {
      "text/plain": [
       "<seaborn.axisgrid.FacetGrid at 0x14e4166f668>"
      ]
     },
     "execution_count": 13,
     "metadata": {},
     "output_type": "execute_result"
    },
    {
     "data": {
      "image/png": "[encoded data removed]",
      "text/plain": [
       "<Figure size 360x360 with 1 Axes>"
      ]
     },
     "metadata": {
      "needs_background": "light"
     },
     "output_type": "display_data"
    }
   ],
   "source": [
    "new_df=train.copy()\n",
    "\n",
    "new_df['humidity_bin']=np.floor(new_df['humidity'])//5\n",
    "\n",
    "sns.factorplot(x=\"humidity_bin\",y=\"count\",data=new_df,kind='bar')"
   ]
  },
  {
   "cell_type": "code",
   "execution_count": 14,
   "metadata": {},
   "outputs": [],
   "source": [
    "for df in (train,test):\n",
    "    \n",
    "    df['humi_categori'] = np.nan\n",
    "    df.loc[df.humidity < 15, 'humi_categori'] = 'low'          #湿度低于15的称为low\n",
    "    df.loc[(df.humidity <= 85)&(df.humidity >= 15), 'humi_categori'] = 'normal'  #湿度大于15低于85的称为normal\n",
    "    df.loc[(df.humidity >= 85), 'humi_categori'] = 'high'   #湿度大于85的称为high"
   ]
  },
  {
   "cell_type": "markdown",
   "metadata": {},
   "source": [
    "#### Windspeed"
   ]
  },
  {
   "cell_type": "code",
   "execution_count": 15,
   "metadata": {},
   "outputs": [
    {
     "data": {
      "text/plain": [
       "<seaborn.axisgrid.FacetGrid at 0x14e403b1da0>"
      ]
     },
     "execution_count": 15,
     "metadata": {},
     "output_type": "execute_result"
    },
    {
     "data": {
      "image/png": "[encoded data removed]",
      "text/plain": [
       "<Figure size 360x360 with 1 Axes>"
      ]
     },
     "metadata": {
      "needs_background": "light"
     },
     "output_type": "display_data"
    }
   ],
   "source": [
    "new_df=train.copy()\n",
    "\n",
    "new_df['windspeed_bin']=np.floor(new_df['windspeed'])//3\n",
    "sns.factorplot(x=\"windspeed_bin\",y=\"count\",data=new_df,kind='bar')"
   ]
  },
  {
   "cell_type": "code",
   "execution_count": 16,
   "metadata": {},
   "outputs": [],
   "source": [
    "for df in (train,test):\n",
    "    \n",
    "    df['wind_categori'] = np.nan\n",
    "    df.loc[df.windspeed < 15, 'wind_categori'] = 'normal'\n",
    "    df.loc[(df.windspeed >= 15), 'wind_categori'] = 'high'"
   ]
  },
  {
   "cell_type": "markdown",
   "metadata": {},
   "source": [
    "#### one hot encode\n",
    "对没有大小意义的离散特征取值进行处理，如表示季节的1、2、3、4"
   ]
  },
  {
   "cell_type": "code",
   "execution_count": 17,
   "metadata": {},
   "outputs": [],
   "source": [
    "weather_train = pd.get_dummies(train['weather'], prefix='wea', prefix_sep='_')\n",
    "weather_test = pd.get_dummies(test['weather'], prefix='wea', prefix_sep='_')\n",
    "\n",
    "season_train = pd.get_dummies(train['season'], prefix='sea', prefix_sep='_')\n",
    "season_test = pd.get_dummies(test['season'], prefix='sea', prefix_sep='_')\n",
    "\n",
    "year_train = pd.get_dummies(train['year'], prefix='year', prefix_sep='_')\n",
    "year_test = pd.get_dummies(test['year'], prefix='year', prefix_sep='_')\n",
    "\n",
    "wind_categori_train = pd.get_dummies(train['wind_categori'], prefix='wind_cate', prefix_sep='_')\n",
    "wind_categori_test = pd.get_dummies(test['wind_categori'], prefix='wind_cate', prefix_sep='_')\n",
    "\n",
    "humi_categori_train = pd.get_dummies(train['humi_categori'], prefix='humi_cate', prefix_sep='_')\n",
    "humi_categori_test = pd.get_dummies(test['humi_categori'], prefix='humi_cate', prefix_sep='_')\n",
    "\n",
    "hr_categori_train = pd.get_dummies(train['hr_categori'], prefix='hr_cate', prefix_sep='_')\n",
    "hr_categori_test = pd.get_dummies(test['hr_categori'], prefix='hr_cate', prefix_sep='_')"
   ]
  },
  {
   "cell_type": "code",
   "execution_count": 18,
   "metadata": {},
   "outputs": [],
   "source": [
    "#合并dataframe\n",
    "Train_Master = pd.concat([train,\n",
    "                          weather_train,\n",
    "                          season_train,\n",
    "                          year_train,\n",
    "                          wind_categori_train,\n",
    "                          humi_categori_train,\n",
    "                          hr_categori_train\n",
    "                         ], axis=1)"
   ]
  },
  {
   "cell_type": "code",
   "execution_count": 52,
   "metadata": {},
   "outputs": [
    {
     "data": {
      "text/html": [
       "<div>\n",
       "<style scoped>\n",
       "    .dataframe tbody tr th:only-of-type {\n",
       "        vertical-align: middle;\n",
       "    }\n",
       "\n",
       "    .dataframe tbody tr th {\n",
       "        vertical-align: top;\n",
       "    }\n",
       "\n",
       "    .dataframe thead th {\n",
       "        text-align: right;\n",
       "    }\n",
       "</style>\n",
       "<table border=\"1\" class=\"dataframe\">\n",
       "  <thead>\n",
       "    <tr style=\"text-align: right;\">\n",
       "      <th></th>\n",
       "      <th>holiday</th>\n",
       "      <th>workingday</th>\n",
       "      <th>temp</th>\n",
       "      <th>atemp</th>\n",
       "      <th>humidity</th>\n",
       "      <th>windspeed</th>\n",
       "      <th>count</th>\n",
       "      <th>month</th>\n",
       "      <th>day</th>\n",
       "      <th>hr</th>\n",
       "      <th>...</th>\n",
       "      <th>year_2011</th>\n",
       "      <th>year_2012</th>\n",
       "      <th>wind_cate_high</th>\n",
       "      <th>wind_cate_normal</th>\n",
       "      <th>humi_cate_high</th>\n",
       "      <th>humi_cate_low</th>\n",
       "      <th>humi_cate_normal</th>\n",
       "      <th>hr_cate_day</th>\n",
       "      <th>hr_cate_night</th>\n",
       "      <th>hr_cate_rush</th>\n",
       "    </tr>\n",
       "  </thead>\n",
       "  <tbody>\n",
       "    <tr>\n",
       "      <th>0</th>\n",
       "      <td>0</td>\n",
       "      <td>0</td>\n",
       "      <td>9.84</td>\n",
       "      <td>14.395</td>\n",
       "      <td>81</td>\n",
       "      <td>0.0</td>\n",
       "      <td>16</td>\n",
       "      <td>1</td>\n",
       "      <td>1</td>\n",
       "      <td>0</td>\n",
       "      <td>...</td>\n",
       "      <td>1</td>\n",
       "      <td>0</td>\n",
       "      <td>0</td>\n",
       "      <td>1</td>\n",
       "      <td>0</td>\n",
       "      <td>0</td>\n",
       "      <td>1</td>\n",
       "      <td>0</td>\n",
       "      <td>0</td>\n",
       "      <td>0</td>\n",
       "    </tr>\n",
       "    <tr>\n",
       "      <th>1</th>\n",
       "      <td>0</td>\n",
       "      <td>0</td>\n",
       "      <td>9.02</td>\n",
       "      <td>13.635</td>\n",
       "      <td>80</td>\n",
       "      <td>0.0</td>\n",
       "      <td>40</td>\n",
       "      <td>1</td>\n",
       "      <td>1</td>\n",
       "      <td>1</td>\n",
       "      <td>...</td>\n",
       "      <td>1</td>\n",
       "      <td>0</td>\n",
       "      <td>0</td>\n",
       "      <td>1</td>\n",
       "      <td>0</td>\n",
       "      <td>0</td>\n",
       "      <td>1</td>\n",
       "      <td>0</td>\n",
       "      <td>0</td>\n",
       "      <td>0</td>\n",
       "    </tr>\n",
       "    <tr>\n",
       "      <th>2</th>\n",
       "      <td>0</td>\n",
       "      <td>0</td>\n",
       "      <td>9.02</td>\n",
       "      <td>13.635</td>\n",
       "      <td>80</td>\n",
       "      <td>0.0</td>\n",
       "      <td>32</td>\n",
       "      <td>1</td>\n",
       "      <td>1</td>\n",
       "      <td>2</td>\n",
       "      <td>...</td>\n",
       "      <td>1</td>\n",
       "      <td>0</td>\n",
       "      <td>0</td>\n",
       "      <td>1</td>\n",
       "      <td>0</td>\n",
       "      <td>0</td>\n",
       "      <td>1</td>\n",
       "      <td>0</td>\n",
       "      <td>0</td>\n",
       "      <td>0</td>\n",
       "    </tr>\n",
       "    <tr>\n",
       "      <th>3</th>\n",
       "      <td>0</td>\n",
       "      <td>0</td>\n",
       "      <td>9.84</td>\n",
       "      <td>14.395</td>\n",
       "      <td>75</td>\n",
       "      <td>0.0</td>\n",
       "      <td>13</td>\n",
       "      <td>1</td>\n",
       "      <td>1</td>\n",
       "      <td>3</td>\n",
       "      <td>...</td>\n",
       "      <td>1</td>\n",
       "      <td>0</td>\n",
       "      <td>0</td>\n",
       "      <td>1</td>\n",
       "      <td>0</td>\n",
       "      <td>0</td>\n",
       "      <td>1</td>\n",
       "      <td>0</td>\n",
       "      <td>0</td>\n",
       "      <td>0</td>\n",
       "    </tr>\n",
       "    <tr>\n",
       "      <th>4</th>\n",
       "      <td>0</td>\n",
       "      <td>0</td>\n",
       "      <td>9.84</td>\n",
       "      <td>14.395</td>\n",
       "      <td>75</td>\n",
       "      <td>0.0</td>\n",
       "      <td>1</td>\n",
       "      <td>1</td>\n",
       "      <td>1</td>\n",
       "      <td>4</td>\n",
       "      <td>...</td>\n",
       "      <td>1</td>\n",
       "      <td>0</td>\n",
       "      <td>0</td>\n",
       "      <td>1</td>\n",
       "      <td>0</td>\n",
       "      <td>0</td>\n",
       "      <td>1</td>\n",
       "      <td>0</td>\n",
       "      <td>0</td>\n",
       "      <td>0</td>\n",
       "    </tr>\n",
       "  </tbody>\n",
       "</table>\n",
       "<p>5 rows × 28 columns</p>\n",
       "</div>"
      ],
      "text/plain": [
       "   holiday  workingday  temp   atemp  humidity  windspeed  count  month  day  \\\n",
       "0        0           0  9.84  14.395        81        0.0     16      1    1   \n",
       "1        0           0  9.02  13.635        80        0.0     40      1    1   \n",
       "2        0           0  9.02  13.635        80        0.0     32      1    1   \n",
       "3        0           0  9.84  14.395        75        0.0     13      1    1   \n",
       "4        0           0  9.84  14.395        75        0.0      1      1    1   \n",
       "\n",
       "   hr  ...  year_2011  year_2012  wind_cate_high  wind_cate_normal  \\\n",
       "0   0  ...          1          0               0                 1   \n",
       "1   1  ...          1          0               0                 1   \n",
       "2   2  ...          1          0               0                 1   \n",
       "3   3  ...          1          0               0                 1   \n",
       "4   4  ...          1          0               0                 1   \n",
       "\n",
       "   humi_cate_high  humi_cate_low  humi_cate_normal  hr_cate_day  \\\n",
       "0               0              0                 1            0   \n",
       "1               0              0                 1            0   \n",
       "2               0              0                 1            0   \n",
       "3               0              0                 1            0   \n",
       "4               0              0                 1            0   \n",
       "\n",
       "   hr_cate_night  hr_cate_rush  \n",
       "0              0             0  \n",
       "1              0             0  \n",
       "2              0             0  \n",
       "3              0             0  \n",
       "4              0             0  \n",
       "\n",
       "[5 rows x 28 columns]"
      ]
     },
     "execution_count": 52,
     "metadata": {},
     "output_type": "execute_result"
    }
   ],
   "source": [
    "Train_Master.head()"
   ]
  },
  {
   "cell_type": "code",
   "execution_count": 19,
   "metadata": {},
   "outputs": [],
   "source": [
    "Test_Master = pd.concat([test,\n",
    "                          weather_test,\n",
    "                          season_test,\n",
    "                          year_test,\n",
    "                          wind_categori_test,\n",
    "                          humi_categori_test,\n",
    "                          hr_categori_test\n",
    "                         ], axis=1)"
   ]
  },
  {
   "cell_type": "code",
   "execution_count": 20,
   "metadata": {},
   "outputs": [],
   "source": [
    "#将原来不必要的列去掉\n",
    "Train_Master = Train_Master.drop(['weather','season','year','datetime','hr_categori','humi_categori','wind_categori'], axis = 1)\n",
    "Test_Master = Test_Master.drop(['weather','season','year','datetime','hr_categori','humi_categori','wind_categori'], axis = 1)\n",
    "\n",
    "#将数据分为训练集和测试集\n",
    "Train, Test = train_test_split(Train_Master, test_size = 0.3)"
   ]
  },
  {
   "cell_type": "code",
   "execution_count": 21,
   "metadata": {},
   "outputs": [],
   "source": [
    "#区分X和Y\n",
    "X_train = Train.drop(['count'], axis=1)\n",
    "Y_train = Train['count']\n",
    "Y_train_log = Train['count'].apply(lambda x:np.log1p(x)) #log1p(x)=log(x+1)，避免出现log(0)使程序中断\n",
    "\n",
    "X_test = Test.drop(['count'], axis=1)\n",
    "Y_test = Test[\"count\"]\n",
    "Y_test_log = Test[\"count\"].apply(lambda x:np.log1p(x))\n",
    "\n",
    "Y_test = Y_test.reset_index().drop('index',axis = 1)   \n",
    "Y_train = Y_train.reset_index().drop('index',axis = 1)"
   ]
  },
  {
   "cell_type": "markdown",
   "metadata": {},
   "source": [
    "### 3、模型自动调参"
   ]
  },
  {
   "cell_type": "code",
   "execution_count": 22,
   "metadata": {},
   "outputs": [],
   "source": [
    "def lasso_autotune(X,y):\n",
    "\n",
    "    param_test = {\n",
    "    'max_iter':[5000],\n",
    "    'alpha':[1e-10, 1e-8, 1e-4,1e-2, 1, 5, 10, 100, 500, 1000]\n",
    "    }\n",
    "\n",
    "    gsearch = GridSearchCV(Lasso(fit_intercept=True, normalize=True, selection='random'),refit=True,\n",
    "                            param_grid = param_test, scoring='neg_mean_squared_error',iid=True, cv=5)\n",
    "    gsearch.fit(X,y)\n",
    "    print('____________________________________________')\n",
    "    print('tune lasso')\n",
    "    print('____________________________________________')\n",
    "    print(gsearch.cv_results_)\n",
    "    print(gsearch.best_params_)\n",
    "    print(gsearch.best_score_)\n",
    "    print(rmsle(gsearch.predict(X),y))\n",
    "\n",
    "    return gsearch.best_estimator_"
   ]
  },
  {
   "cell_type": "code",
   "execution_count": 23,
   "metadata": {},
   "outputs": [],
   "source": [
    "def ridge_autotune(X,y):\n",
    "    \n",
    "    param_test = {\n",
    "    'max_iter':[5000],        \n",
    "    'alpha':[1e-10, 1e-8, 1e-4,1e-2, 1, 5, 10, 100],              #惩罚因子，越大越防止过拟合\n",
    "    'solver':['auto', 'svd', 'cholesky', 'lsqr', 'sparse_cg', 'sag', 'saga']  #求解器，效果对于不同形状的数据不同\n",
    "    }\n",
    "\n",
    "    #refit=True表示在搜索参数结束后，用最佳参数结果再次fit一遍全部数据集\n",
    "    #param_grid:需要最优化的参数的取值,值为字典或列表\n",
    "    #scoring为模型评价标准\n",
    "    #cv=5表示5折交叉验证\n",
    "    gsearch = GridSearchCV(Ridge(),refit=True,    \n",
    "                            param_grid = param_test, scoring='neg_mean_squared_error',iid=True, cv=5)\n",
    "    gsearch.fit(X,y)\n",
    "    print('____________________________________________')\n",
    "    print('tune ridge')\n",
    "    print('____________________________________________')\n",
    "    print(gsearch.cv_results_)\n",
    "    print(gsearch.best_params_)\n",
    "    print(gsearch.best_score_)\n",
    "    print(rmsle(gsearch.predict(X),y))\n",
    "\n",
    "    return gsearch.best_estimator_"
   ]
  },
  {
   "cell_type": "code",
   "execution_count": 24,
   "metadata": {},
   "outputs": [],
   "source": [
    "def svr_autotune(X,y):\n",
    "\n",
    "    param_test = {\n",
    "    'kernel':['rbf','linear','sigmoid'],  #核函数\n",
    "    'gamma':np.logspace(-7, 2, 3),       #核函数的一个系数\n",
    "    'epsilon':[0.1,0.3,0.5],\n",
    "    'C':np.logspace(-2, 7, 3),       \n",
    "    }\n",
    "\n",
    "    gsearch = GridSearchCV(SVR(),refit=True,\n",
    "                            param_grid = param_test, scoring='neg_mean_squared_error',iid=True, cv=5)\n",
    "    gsearch.fit(X,y)\n",
    "    print('____________________________________________')\n",
    "    print('tune svr')\n",
    "    print('____________________________________________')\n",
    "    print(gsearch.cv_results_)\n",
    "    print(gsearch.best_params_)\n",
    "    print(gsearch.best_score_)\n",
    "    print(rmsle(gsearch.predict(X),y))\n",
    "\n",
    "    return gsearch.best_estimator_"
   ]
  },
  {
   "cell_type": "code",
   "execution_count": 25,
   "metadata": {},
   "outputs": [],
   "source": [
    "def random_forest_autotune(X,y):\n",
    "\n",
    "    param_test = {\n",
    "    'max_depth':[9,13,17],\n",
    "    'max_features':['auto','sqrt'],   \n",
    "    'n_estimators': [500,1000,1500]    #森林中有多少棵树\n",
    "    }\n",
    "\n",
    "    gsearch = GridSearchCV(RandomForestRegressor(),refit=True,\n",
    "                            param_grid = param_test, scoring='neg_mean_squared_error',iid=True, cv=5)\n",
    "    gsearch.fit(X,y)\n",
    "    print('____________________________________________')\n",
    "    print('tune random forest')\n",
    "    print('____________________________________________')\n",
    "    print(gsearch.cv_results_)\n",
    "    print(gsearch.best_params_)\n",
    "    print(gsearch.best_score_)\n",
    "    print(rmsle(gsearch.predict(X),y))\n",
    "\n",
    "    return gsearch.best_estimator_"
   ]
  },
  {
   "cell_type": "code",
   "execution_count": 26,
   "metadata": {},
   "outputs": [],
   "source": [
    "def xgb_autotune(X,y):\n",
    "    param = {\n",
    "            'objective':'reg:squarederror',    \n",
    "            'n_estimators':1000,\n",
    "            'learning_rate':0.05,   #学习率，越大学得越快，但可能错过最优点\n",
    "            'gamma':0,\n",
    "            'max_depth':5,      #最大深度，越深越拟合\n",
    "            'min_child_weight':1,\n",
    "            'colsample_bytree':0.5,\n",
    "            'subsample': 0.8, \n",
    "            'verbose':1,\n",
    "            'reg_alpha':0}      #惩罚因子，越小越拟合\n",
    "\n",
    "\n",
    "    param_test1 = {             #要调得参数\n",
    "     'max_depth':[7,13,15],\n",
    "     'reg_alpha':[0.1,1,10,100],\n",
    "     'learning_rate':[0.05,0.1],\n",
    "    }\n",
    "\n",
    "    gsearch = GridSearchCV(xgb.XGBRegressor(objective=param['objective'],\n",
    "                              n_estimators=param['n_estimators'], learning_rate = param['learning_rate'], gamma=param['gamma'],\n",
    "                              colsample_bytree=param['colsample_bytree'], subsample=param['subsample'], reg_alpha=param['reg_alpha']\n",
    "                              ),\n",
    "                            param_grid = param_test1, scoring='neg_mean_squared_error',iid=False, cv=5)\n",
    "    gsearch.fit(X,y)\n",
    "    print('____________________________________________')\n",
    "    print('tune max_depth, min_child_weight')\n",
    "    print('____________________________________________')\n",
    "    print(gsearch.cv_results_)\n",
    "    print(gsearch.best_params_)\n",
    "    print(gsearch.best_score_)\n",
    "    print(rmsle(gsearch.predict(X),y))\n",
    "    return gsearch.best_estimator_"
   ]
  },
  {
   "cell_type": "code",
   "execution_count": 27,
   "metadata": {},
   "outputs": [
    {
     "name": "stderr",
     "output_type": "stream",
     "text": [
      "D:\\Anaconda\\lib\\site-packages\\sklearn\\linear_model\\coordinate_descent.py:475: ConvergenceWarning: Objective did not converge. You might want to increase the number of iterations. Duality gap: 272.174885665479, tolerance: 1.1789642039567263\n",
      "  positive)\n",
      "D:\\Anaconda\\lib\\site-packages\\sklearn\\linear_model\\coordinate_descent.py:475: ConvergenceWarning: Objective did not converge. You might want to increase the number of iterations. Duality gap: 314.1848388107403, tolerance: 1.1974660092309146\n",
      "  positive)\n",
      "D:\\Anaconda\\lib\\site-packages\\sklearn\\linear_model\\coordinate_descent.py:475: ConvergenceWarning: Objective did not converge. You might want to increase the number of iterations. Duality gap: 90.05659554747035, tolerance: 1.181005772628343\n",
      "  positive)\n",
      "D:\\Anaconda\\lib\\site-packages\\sklearn\\linear_model\\coordinate_descent.py:475: ConvergenceWarning: Objective did not converge. You might want to increase the number of iterations. Duality gap: 189.56224413426435, tolerance: 1.1836073025616576\n",
      "  positive)\n",
      "D:\\Anaconda\\lib\\site-packages\\sklearn\\linear_model\\coordinate_descent.py:475: ConvergenceWarning: Objective did not converge. You might want to increase the number of iterations. Duality gap: 330.8079347056505, tolerance: 1.1789642039567263\n",
      "  positive)\n",
      "D:\\Anaconda\\lib\\site-packages\\sklearn\\linear_model\\coordinate_descent.py:475: ConvergenceWarning: Objective did not converge. You might want to increase the number of iterations. Duality gap: 201.14871860355152, tolerance: 1.1836073025616576\n",
      "  positive)\n"
     ]
    },
    {
     "name": "stdout",
     "output_type": "stream",
     "text": [
      "____________________________________________\n",
      "tune lasso\n",
      "____________________________________________\n",
      "{'mean_fit_time': array([0.45510249, 0.34427752, 0.01440291, 0.00300064, 0.00300055,\n",
      "       0.00300059, 0.00320067, 0.00300059, 0.00300813, 0.00320048]), 'std_fit_time': array([7.82582633e-02, 1.67441852e-01, 2.72829175e-03, 1.90734863e-07,\n",
      "       1.78416128e-07, 1.90734863e-07, 3.99280032e-04, 1.16800773e-07,\n",
      "       1.53819715e-05, 3.99971065e-04]), 'mean_score_time': array([0.00100031, 0.00060034, 0.00080037, 0.00060015, 0.00040021,\n",
      "       0.00100026, 0.00020003, 0.00100036, 0.00060034, 0.00080047]), 'std_score_time': array([2.43140197e-07, 4.90173964e-04, 4.00185652e-04, 4.90018183e-04,\n",
      "       4.90154449e-04, 1.16800773e-07, 4.00066376e-04, 9.53674316e-08,\n",
      "       4.90173941e-04, 4.00233365e-04]), 'param_alpha': masked_array(data=[1e-10, 1e-08, 0.0001, 0.01, 1, 5, 10, 100, 500, 1000],\n",
      "             mask=[False, False, False, False, False, False, False, False,\n",
      "                   False, False],\n",
      "       fill_value='?',\n",
      "            dtype=object), 'param_max_iter': masked_array(data=[5000, 5000, 5000, 5000, 5000, 5000, 5000, 5000, 5000,\n",
      "                   5000],\n",
      "             mask=[False, False, False, False, False, False, False, False,\n",
      "                   False, False],\n",
      "       fill_value='?',\n",
      "            dtype=object), 'params': [{'alpha': 1e-10, 'max_iter': 5000}, {'alpha': 1e-08, 'max_iter': 5000}, {'alpha': 0.0001, 'max_iter': 5000}, {'alpha': 0.01, 'max_iter': 5000}, {'alpha': 1, 'max_iter': 5000}, {'alpha': 5, 'max_iter': 5000}, {'alpha': 10, 'max_iter': 5000}, {'alpha': 100, 'max_iter': 5000}, {'alpha': 500, 'max_iter': 5000}, {'alpha': 1000, 'max_iter': 5000}], 'split0_test_score': array([-0.59295776, -0.59295785, -0.59427281, -1.96795289, -2.00928228,\n",
      "       -2.00928228, -2.00928228, -2.00928228, -2.00928228, -2.00928228]), 'split1_test_score': array([-0.57994026, -0.57993911, -0.57830422, -1.83483382, -1.88637424,\n",
      "       -1.88637424, -1.88637424, -1.88637424, -1.88637424, -1.88637424]), 'split2_test_score': array([-0.60498242, -0.6049822 , -0.60262933, -1.93589407, -1.98011749,\n",
      "       -1.98011749, -1.98011749, -1.98011749, -1.98011749, -1.98011749]), 'split3_test_score': array([-0.5811401 , -0.58114015, -0.58280691, -1.95309673, -1.99702784,\n",
      "       -1.99702784, -1.99702784, -1.99702784, -1.99702784, -1.99702784]), 'split4_test_score': array([-0.57958782, -0.57973923, -0.58168818, -1.93467318, -1.97987265,\n",
      "       -1.97987265, -1.97987265, -1.97987265, -1.97987265, -1.97987265]), 'mean_test_score': array([-0.58772133, -0.58775136, -0.58793985, -1.92528378, -1.97052886,\n",
      "       -1.97052886, -1.97052886, -1.97052886, -1.97052886, -1.97052886]), 'std_test_score': array([0.00995293, 0.00992845, 0.009101  , 0.04686124, 0.04351658,\n",
      "       0.04351658, 0.04351658, 0.04351658, 0.04351658, 0.04351658]), 'rank_test_score': array([1, 2, 3, 4, 5, 5, 5, 5, 5, 5])}\n",
      "{'alpha': 1e-10, 'max_iter': 5000}\n",
      "-0.5877213304922599\n",
      "0.7631997747082365\n"
     ]
    }
   ],
   "source": [
    "lasso_param = lasso_autotune(X_train,Y_train_log)"
   ]
  },
  {
   "cell_type": "code",
   "execution_count": 28,
   "metadata": {},
   "outputs": [
    {
     "name": "stderr",
     "output_type": "stream",
     "text": [
      "D:\\Anaconda\\lib\\site-packages\\ipykernel_launcher.py:1: FutureWarning: Method .as_matrix will be removed in a future version. Use .values instead.\n",
      "  \"\"\"Entry point for launching an IPython kernel.\n"
     ]
    }
   ],
   "source": [
    "X_train1=X_train.as_matrix() "
   ]
  },
  {
   "cell_type": "code",
   "execution_count": 30,
   "metadata": {},
   "outputs": [
    {
     "data": {
      "text/plain": [
       "  C_CONTIGUOUS : True\n",
       "  F_CONTIGUOUS : False\n",
       "  OWNDATA : True\n",
       "  WRITEABLE : True\n",
       "  ALIGNED : True\n",
       "  WRITEBACKIFCOPY : False\n",
       "  UPDATEIFCOPY : False"
      ]
     },
     "execution_count": 30,
     "metadata": {},
     "output_type": "execute_result"
    }
   ],
   "source": [
    "X_train1 = X_train1.copy(order='C')\n",
    "X_train1.flags"
   ]
  },
  {
   "cell_type": "code",
   "execution_count": 31,
   "metadata": {},
   "outputs": [
    {
     "name": "stderr",
     "output_type": "stream",
     "text": [
      "D:\\Anaconda\\lib\\site-packages\\sklearn\\linear_model\\ridge.py:147: LinAlgWarning: Ill-conditioned matrix (rcond=1.54055e-17): result may not be accurate.\n",
      "  overwrite_a=True).T\n",
      "D:\\Anaconda\\lib\\site-packages\\sklearn\\linear_model\\ridge.py:147: LinAlgWarning: Ill-conditioned matrix (rcond=2.05371e-17): result may not be accurate.\n",
      "  overwrite_a=True).T\n",
      "D:\\Anaconda\\lib\\site-packages\\sklearn\\linear_model\\ridge.py:147: LinAlgWarning: Ill-conditioned matrix (rcond=1.41635e-17): result may not be accurate.\n",
      "  overwrite_a=True).T\n",
      "D:\\Anaconda\\lib\\site-packages\\sklearn\\linear_model\\ridge.py:147: LinAlgWarning: Ill-conditioned matrix (rcond=2.44834e-17): result may not be accurate.\n",
      "  overwrite_a=True).T\n",
      "D:\\Anaconda\\lib\\site-packages\\sklearn\\linear_model\\ridge.py:147: LinAlgWarning: Ill-conditioned matrix (rcond=3.02764e-17): result may not be accurate.\n",
      "  overwrite_a=True).T\n",
      "D:\\Anaconda\\lib\\site-packages\\sklearn\\linear_model\\ridge.py:147: LinAlgWarning: Ill-conditioned matrix (rcond=1.54055e-17): result may not be accurate.\n",
      "  overwrite_a=True).T\n",
      "D:\\Anaconda\\lib\\site-packages\\sklearn\\linear_model\\ridge.py:147: LinAlgWarning: Ill-conditioned matrix (rcond=2.05371e-17): result may not be accurate.\n",
      "  overwrite_a=True).T\n",
      "D:\\Anaconda\\lib\\site-packages\\sklearn\\linear_model\\ridge.py:147: LinAlgWarning: Ill-conditioned matrix (rcond=1.41635e-17): result may not be accurate.\n",
      "  overwrite_a=True).T\n",
      "D:\\Anaconda\\lib\\site-packages\\sklearn\\linear_model\\ridge.py:147: LinAlgWarning: Ill-conditioned matrix (rcond=2.44834e-17): result may not be accurate.\n",
      "  overwrite_a=True).T\n",
      "D:\\Anaconda\\lib\\site-packages\\sklearn\\linear_model\\ridge.py:147: LinAlgWarning: Ill-conditioned matrix (rcond=3.02764e-17): result may not be accurate.\n",
      "  overwrite_a=True).T\n"
     ]
    },
    {
     "name": "stdout",
     "output_type": "stream",
     "text": [
      "____________________________________________\n",
      "tune ridge\n",
      "____________________________________________\n",
      "{'mean_fit_time': array([0.00320034, 0.00440159, 0.00220046, 0.00300069, 0.00240026,\n",
      "       0.27446208, 0.22905326, 0.00220041, 0.00379896, 0.00220056,\n",
      "       0.00260067, 0.00240059, 0.2744638 , 0.22705083, 0.00219846,\n",
      "       0.00380101, 0.00220051, 0.00260062, 0.00300069, 0.26926289,\n",
      "       0.22605071, 0.00199862, 0.00300059, 0.00200043, 0.00300083,\n",
      "       0.00300064, 0.27106309, 0.2250721 , 0.00220065, 0.00400066,\n",
      "       0.00240068, 0.0033988 , 0.00280061, 0.26386132, 0.22064977,\n",
      "       0.00260053, 0.00300117, 0.00200047, 0.00260062, 0.00300059,\n",
      "       0.22564907, 0.19184504, 0.00200067, 0.00380087, 0.00220056,\n",
      "       0.00300055, 0.0024003 , 0.19284539, 0.16583757, 0.00200057,\n",
      "       0.00300083, 0.00199833, 0.00200047, 0.00260077, 0.05821309,\n",
      "       0.06061368]), 'std_fit_time': array([9.79511172e-04, 4.89961134e-04, 3.99661103e-04, 1.78416128e-07,\n",
      "       4.90290927e-04, 5.27644173e-02, 8.69783058e-02, 3.95222658e-04,\n",
      "       3.99484626e-04, 4.00209498e-04, 4.89881921e-04, 4.89920917e-04,\n",
      "       4.83932474e-02, 8.28091474e-02, 4.01393097e-04, 4.00138082e-04,\n",
      "       3.99994946e-04, 4.89843081e-04, 5.09122765e-07, 5.19448363e-02,\n",
      "       8.53117904e-02, 3.98494385e-06, 2.43140197e-07, 1.90734863e-07,\n",
      "       2.43140197e-07, 1.90734863e-07, 5.32315011e-02, 8.51675483e-02,\n",
      "       4.03998362e-04, 5.00111031e-07, 4.89940362e-04, 4.91629114e-04,\n",
      "       4.00137912e-04, 5.25092322e-02, 8.19966269e-02, 1.20528379e-03,\n",
      "       5.30983387e-07, 1.90734863e-07, 4.90134984e-04, 1.16800773e-07,\n",
      "       4.45081408e-02, 6.74882070e-02, 6.26201757e-06, 4.00186050e-04,\n",
      "       4.00014239e-04, 8.58306885e-07, 4.89765167e-04, 3.68296501e-02,\n",
      "       5.35635706e-02, 5.97665495e-06, 1.90734863e-07, 3.86973258e-06,\n",
      "       3.23406696e-07, 4.89765306e-04, 1.15507766e-02, 4.49748051e-03]), 'mean_score_time': array([0.00040011, 0.00020008, 0.00079994, 0.        , 0.0004003 ,\n",
      "       0.00020003, 0.0006001 , 0.00040002, 0.00020003, 0.00040011,\n",
      "       0.00039997, 0.00060005, 0.00040007, 0.00020008, 0.00040026,\n",
      "       0.00020008, 0.00019994, 0.00020013, 0.        , 0.00039978,\n",
      "       0.00040016, 0.00020018, 0.00020003, 0.        , 0.00039992,\n",
      "       0.        , 0.        , 0.00019999, 0.00020003, 0.0004004 ,\n",
      "       0.00019994, 0.        , 0.00020003, 0.        , 0.00020008,\n",
      "       0.        , 0.00100002, 0.00040002, 0.        , 0.        ,\n",
      "       0.00040007, 0.00040011, 0.        , 0.00019999, 0.00040002,\n",
      "       0.00039835, 0.00060019, 0.00040007, 0.00020003, 0.        ,\n",
      "       0.00020003, 0.00020008, 0.00020008, 0.        , 0.00020003,\n",
      "       0.        ]), 'std_score_time': array([4.90037648e-04, 4.00161743e-04, 3.99971321e-04, 0.00000000e+00,\n",
      "       4.90271389e-04, 4.00066376e-04, 4.89979242e-04, 4.89920847e-04,\n",
      "       4.00066376e-04, 4.90037648e-04, 4.89862441e-04, 4.89940362e-04,\n",
      "       4.89979265e-04, 4.00161743e-04, 4.90212936e-04, 4.00161743e-04,\n",
      "       3.99875641e-04, 4.00257111e-04, 0.00000000e+00, 4.89628932e-04,\n",
      "       4.90096043e-04, 4.00352478e-04, 4.00066376e-04, 0.00000000e+00,\n",
      "       4.89804047e-04, 0.00000000e+00, 0.00000000e+00, 3.99971008e-04,\n",
      "       4.00066376e-04, 4.90388189e-04, 3.99875641e-04, 0.00000000e+00,\n",
      "       4.00066376e-04, 0.00000000e+00, 4.00161743e-04, 0.00000000e+00,\n",
      "       1.90734863e-07, 4.89920847e-04, 0.00000000e+00, 0.00000000e+00,\n",
      "       4.89979265e-04, 4.90037648e-04, 0.00000000e+00, 3.99971008e-04,\n",
      "       4.89920847e-04, 4.87883562e-04, 4.90057117e-04, 4.89979242e-04,\n",
      "       4.00066376e-04, 0.00000000e+00, 4.00066376e-04, 4.00161743e-04,\n",
      "       4.00161743e-04, 0.00000000e+00, 4.00066376e-04, 0.00000000e+00]), 'param_alpha': masked_array(data=[1e-10, 1e-10, 1e-10, 1e-10, 1e-10, 1e-10, 1e-10, 1e-08,\n",
      "                   1e-08, 1e-08, 1e-08, 1e-08, 1e-08, 1e-08, 0.0001,\n",
      "                   0.0001, 0.0001, 0.0001, 0.0001, 0.0001, 0.0001, 0.01,\n",
      "                   0.01, 0.01, 0.01, 0.01, 0.01, 0.01, 1, 1, 1, 1, 1, 1,\n",
      "                   1, 5, 5, 5, 5, 5, 5, 5, 10, 10, 10, 10, 10, 10, 10,\n",
      "                   100, 100, 100, 100, 100, 100, 100],\n",
      "             mask=[False, False, False, False, False, False, False, False,\n",
      "                   False, False, False, False, False, False, False, False,\n",
      "                   False, False, False, False, False, False, False, False,\n",
      "                   False, False, False, False, False, False, False, False,\n",
      "                   False, False, False, False, False, False, False, False,\n",
      "                   False, False, False, False, False, False, False, False,\n",
      "                   False, False, False, False, False, False, False, False],\n",
      "       fill_value='?',\n",
      "            dtype=object), 'param_max_iter': masked_array(data=[5000, 5000, 5000, 5000, 5000, 5000, 5000, 5000, 5000,\n",
      "                   5000, 5000, 5000, 5000, 5000, 5000, 5000, 5000, 5000,\n",
      "                   5000, 5000, 5000, 5000, 5000, 5000, 5000, 5000, 5000,\n",
      "                   5000, 5000, 5000, 5000, 5000, 5000, 5000, 5000, 5000,\n",
      "                   5000, 5000, 5000, 5000, 5000, 5000, 5000, 5000, 5000,\n",
      "                   5000, 5000, 5000, 5000, 5000, 5000, 5000, 5000, 5000,\n",
      "                   5000, 5000],\n",
      "             mask=[False, False, False, False, False, False, False, False,\n",
      "                   False, False, False, False, False, False, False, False,\n",
      "                   False, False, False, False, False, False, False, False,\n",
      "                   False, False, False, False, False, False, False, False,\n",
      "                   False, False, False, False, False, False, False, False,\n",
      "                   False, False, False, False, False, False, False, False,\n",
      "                   False, False, False, False, False, False, False, False],\n",
      "       fill_value='?',\n",
      "            dtype=object), 'param_solver': masked_array(data=['auto', 'svd', 'cholesky', 'lsqr', 'sparse_cg', 'sag',\n",
      "                   'saga', 'auto', 'svd', 'cholesky', 'lsqr', 'sparse_cg',\n",
      "                   'sag', 'saga', 'auto', 'svd', 'cholesky', 'lsqr',\n",
      "                   'sparse_cg', 'sag', 'saga', 'auto', 'svd', 'cholesky',\n",
      "                   'lsqr', 'sparse_cg', 'sag', 'saga', 'auto', 'svd',\n",
      "                   'cholesky', 'lsqr', 'sparse_cg', 'sag', 'saga', 'auto',\n",
      "                   'svd', 'cholesky', 'lsqr', 'sparse_cg', 'sag', 'saga',\n",
      "                   'auto', 'svd', 'cholesky', 'lsqr', 'sparse_cg', 'sag',\n",
      "                   'saga', 'auto', 'svd', 'cholesky', 'lsqr', 'sparse_cg',\n",
      "                   'sag', 'saga'],\n",
      "             mask=[False, False, False, False, False, False, False, False,\n",
      "                   False, False, False, False, False, False, False, False,\n",
      "                   False, False, False, False, False, False, False, False,\n",
      "                   False, False, False, False, False, False, False, False,\n",
      "                   False, False, False, False, False, False, False, False,\n",
      "                   False, False, False, False, False, False, False, False,\n",
      "                   False, False, False, False, False, False, False, False],\n",
      "       fill_value='?',\n",
      "            dtype=object), 'params': [{'alpha': 1e-10, 'max_iter': 5000, 'solver': 'auto'}, {'alpha': 1e-10, 'max_iter': 5000, 'solver': 'svd'}, {'alpha': 1e-10, 'max_iter': 5000, 'solver': 'cholesky'}, {'alpha': 1e-10, 'max_iter': 5000, 'solver': 'lsqr'}, {'alpha': 1e-10, 'max_iter': 5000, 'solver': 'sparse_cg'}, {'alpha': 1e-10, 'max_iter': 5000, 'solver': 'sag'}, {'alpha': 1e-10, 'max_iter': 5000, 'solver': 'saga'}, {'alpha': 1e-08, 'max_iter': 5000, 'solver': 'auto'}, {'alpha': 1e-08, 'max_iter': 5000, 'solver': 'svd'}, {'alpha': 1e-08, 'max_iter': 5000, 'solver': 'cholesky'}, {'alpha': 1e-08, 'max_iter': 5000, 'solver': 'lsqr'}, {'alpha': 1e-08, 'max_iter': 5000, 'solver': 'sparse_cg'}, {'alpha': 1e-08, 'max_iter': 5000, 'solver': 'sag'}, {'alpha': 1e-08, 'max_iter': 5000, 'solver': 'saga'}, {'alpha': 0.0001, 'max_iter': 5000, 'solver': 'auto'}, {'alpha': 0.0001, 'max_iter': 5000, 'solver': 'svd'}, {'alpha': 0.0001, 'max_iter': 5000, 'solver': 'cholesky'}, {'alpha': 0.0001, 'max_iter': 5000, 'solver': 'lsqr'}, {'alpha': 0.0001, 'max_iter': 5000, 'solver': 'sparse_cg'}, {'alpha': 0.0001, 'max_iter': 5000, 'solver': 'sag'}, {'alpha': 0.0001, 'max_iter': 5000, 'solver': 'saga'}, {'alpha': 0.01, 'max_iter': 5000, 'solver': 'auto'}, {'alpha': 0.01, 'max_iter': 5000, 'solver': 'svd'}, {'alpha': 0.01, 'max_iter': 5000, 'solver': 'cholesky'}, {'alpha': 0.01, 'max_iter': 5000, 'solver': 'lsqr'}, {'alpha': 0.01, 'max_iter': 5000, 'solver': 'sparse_cg'}, {'alpha': 0.01, 'max_iter': 5000, 'solver': 'sag'}, {'alpha': 0.01, 'max_iter': 5000, 'solver': 'saga'}, {'alpha': 1, 'max_iter': 5000, 'solver': 'auto'}, {'alpha': 1, 'max_iter': 5000, 'solver': 'svd'}, {'alpha': 1, 'max_iter': 5000, 'solver': 'cholesky'}, {'alpha': 1, 'max_iter': 5000, 'solver': 'lsqr'}, {'alpha': 1, 'max_iter': 5000, 'solver': 'sparse_cg'}, {'alpha': 1, 'max_iter': 5000, 'solver': 'sag'}, {'alpha': 1, 'max_iter': 5000, 'solver': 'saga'}, {'alpha': 5, 'max_iter': 5000, 'solver': 'auto'}, {'alpha': 5, 'max_iter': 5000, 'solver': 'svd'}, {'alpha': 5, 'max_iter': 5000, 'solver': 'cholesky'}, {'alpha': 5, 'max_iter': 5000, 'solver': 'lsqr'}, {'alpha': 5, 'max_iter': 5000, 'solver': 'sparse_cg'}, {'alpha': 5, 'max_iter': 5000, 'solver': 'sag'}, {'alpha': 5, 'max_iter': 5000, 'solver': 'saga'}, {'alpha': 10, 'max_iter': 5000, 'solver': 'auto'}, {'alpha': 10, 'max_iter': 5000, 'solver': 'svd'}, {'alpha': 10, 'max_iter': 5000, 'solver': 'cholesky'}, {'alpha': 10, 'max_iter': 5000, 'solver': 'lsqr'}, {'alpha': 10, 'max_iter': 5000, 'solver': 'sparse_cg'}, {'alpha': 10, 'max_iter': 5000, 'solver': 'sag'}, {'alpha': 10, 'max_iter': 5000, 'solver': 'saga'}, {'alpha': 100, 'max_iter': 5000, 'solver': 'auto'}, {'alpha': 100, 'max_iter': 5000, 'solver': 'svd'}, {'alpha': 100, 'max_iter': 5000, 'solver': 'cholesky'}, {'alpha': 100, 'max_iter': 5000, 'solver': 'lsqr'}, {'alpha': 100, 'max_iter': 5000, 'solver': 'sparse_cg'}, {'alpha': 100, 'max_iter': 5000, 'solver': 'sag'}, {'alpha': 100, 'max_iter': 5000, 'solver': 'saga'}], 'split0_test_score': array([-0.59295775, -0.59295775, -0.59295775, -0.59502142, -0.59502957,\n",
      "       -0.5931938 , -0.59378576, -0.59295775, -0.59295775, -0.59295775,\n",
      "       -0.59502142, -0.59502331, -0.59319977, -0.59379072, -0.59295776,\n",
      "       -0.59295776, -0.59295776, -0.59502142, -0.59499624, -0.59319518,\n",
      "       -0.59378854, -0.59295794, -0.59295794, -0.59295794, -0.59502154,\n",
      "       -0.59502579, -0.59319883, -0.59378903, -0.59297873, -0.59297873,\n",
      "       -0.59297873, -0.59503341, -0.5950447 , -0.59324216, -0.59384121,\n",
      "       -0.59310208, -0.59310208, -0.59310208, -0.5950855 , -0.59505878,\n",
      "       -0.5934285 , -0.59401204, -0.59329806, -0.59329806, -0.59329806,\n",
      "       -0.59515976, -0.59517186, -0.59365386, -0.5942053 , -0.59732659,\n",
      "       -0.59732659, -0.59732659, -0.60113022, -0.59799724, -0.5975268 ,\n",
      "       -0.59800607]), 'split1_test_score': array([-0.57994026, -0.57994026, -0.57994026, -0.58415271, -0.58352264,\n",
      "       -0.58272946, -0.58341109, -0.57994026, -0.57994026, -0.57994026,\n",
      "       -0.58415271, -0.58352283, -0.58273662, -0.58346147, -0.57994028,\n",
      "       -0.57994028, -0.57994028, -0.5841527 , -0.58415258, -0.58271907,\n",
      "       -0.58340036, -0.57994162, -0.57994162, -0.57994162, -0.58415213,\n",
      "       -0.58352202, -0.58271515, -0.58342383, -0.58007228, -0.58007228,\n",
      "       -0.58007228, -0.58409513, -0.58409453, -0.58273776, -0.58332141,\n",
      "       -0.58049376, -0.58049376, -0.58049376, -0.58387037, -0.58387065,\n",
      "       -0.58276126, -0.58314076, -0.58081644, -0.58081644, -0.58081644,\n",
      "       -0.58360167, -0.58297038, -0.58269978, -0.58282872, -0.58004867,\n",
      "       -0.58004867, -0.58004867, -0.58080362, -0.58080862, -0.58029951,\n",
      "       -0.58028626]), 'split2_test_score': array([-0.60498242, -0.60498242, -0.60498242, -0.60164286, -0.60283285,\n",
      "       -0.603226  , -0.60252191, -0.60498242, -0.60498242, -0.60498242,\n",
      "       -0.60164286, -0.60283284, -0.60322924, -0.60251687, -0.60498238,\n",
      "       -0.60498238, -0.60498238, -0.60164286, -0.60283292, -0.60323883,\n",
      "       -0.6025212 , -0.6049784 , -0.6049784 , -0.6049784 , -0.6016427 ,\n",
      "       -0.6028329 , -0.60322481, -0.60251869, -0.60461236, -0.60461236,\n",
      "       -0.60461236, -0.60162724, -0.60280765, -0.60307892, -0.60247279,\n",
      "       -0.60358521, -0.60358521, -0.60358521, -0.60156969, -0.60271082,\n",
      "       -0.60265113, -0.60237675, -0.60287332, -0.60287332, -0.60287332,\n",
      "       -0.60150874, -0.60260348, -0.60234541, -0.60228779, -0.60250797,\n",
      "       -0.60250797, -0.60250797, -0.60394599, -0.60220791, -0.60262249,\n",
      "       -0.60258667]), 'split3_test_score': array([-0.5811401 , -0.5811401 , -0.5811401 , -0.58780503, -0.58466992,\n",
      "       -0.58126914, -0.58160368, -0.5811401 , -0.5811401 , -0.5811401 ,\n",
      "       -0.58780503, -0.58466955, -0.58127328, -0.58160658, -0.58114011,\n",
      "       -0.58114011, -0.58114011, -0.58780504, -0.58467379, -0.58126991,\n",
      "       -0.58160924, -0.58114051, -0.58114051, -0.58114051, -0.58780524,\n",
      "       -0.58467301, -0.58127079, -0.58160681, -0.581179  , -0.581179  ,\n",
      "       -0.581179  , -0.58782607, -0.58291807, -0.58132268, -0.58166164,\n",
      "       -0.58134874, -0.58134874, -0.58134874, -0.58791408, -0.58479851,\n",
      "       -0.58153289, -0.58189314, -0.58159331, -0.58159331, -0.58159331,\n",
      "       -0.58803268, -0.58492902, -0.58179757, -0.58216354, -0.58686628,\n",
      "       -0.58686628, -0.58686628, -0.59158903, -0.58883355, -0.58701511,\n",
      "       -0.58761087]), 'split4_test_score': array([-0.57963313, -0.57962746, -0.57963313, -0.58118047, -0.58100926,\n",
      "       -0.57945129, -0.57975352, -0.57962801, -0.57962795, -0.57962801,\n",
      "       -0.58118047, -0.58171241, -0.57945271, -0.57974971, -0.57962795,\n",
      "       -0.57962795, -0.57962795, -0.58118047, -0.58171902, -0.57944983,\n",
      "       -0.57974824, -0.57962773, -0.57962773, -0.57962773, -0.58118071,\n",
      "       -0.58171945, -0.57944976, -0.57974858, -0.57961072, -0.57961072,\n",
      "       -0.57961072, -0.58120491, -0.58173684, -0.57948531, -0.579804  ,\n",
      "       -0.57962541, -0.57962541, -0.57962541, -0.58130621, -0.58183167,\n",
      "       -0.57963378, -0.5800132 , -0.57975024, -0.57975024, -0.57975024,\n",
      "       -0.58144062, -0.58195369, -0.57985862, -0.58026488, -0.58424227,\n",
      "       -0.58424227, -0.58424227, -0.58514918, -0.58553026, -0.5844207 ,\n",
      "       -0.58480003]), 'mean_test_score': array([-0.58773039, -0.58772926, -0.58773039, -0.5899604 , -0.58941281,\n",
      "       -0.58797393, -0.58821529, -0.58772937, -0.58772936, -0.58772937,\n",
      "       -0.5899604 , -0.58955212, -0.58797832, -0.58822518, -0.58772935,\n",
      "       -0.58772935, -0.58772935, -0.5899604 , -0.58967488, -0.58797456,\n",
      "       -0.58821362, -0.5877289 , -0.5877289 , -0.5877289 , -0.58996036,\n",
      "       -0.58955456, -0.58797186, -0.58821749, -0.58769031, -0.58769031,\n",
      "       -0.58769031, -0.58995725, -0.58932043, -0.58797337, -0.58822031,\n",
      "       -0.58763082, -0.58763082, -0.58763082, -0.58994905, -0.58965404,\n",
      "       -0.58800154, -0.58828725, -0.58766612, -0.58766612, -0.58766612,\n",
      "       -0.58994855, -0.58952556, -0.58807108, -0.58835009, -0.59019796,\n",
      "       -0.59019796, -0.59019796, -0.59252319, -0.59107507, -0.59037653,\n",
      "       -0.59065758]), 'std_test_score': array([0.00994554, 0.00994646, 0.00994554, 0.00745012, 0.00823903,\n",
      "       0.00899884, 0.00864918, 0.00994637, 0.00994638, 0.00994637,\n",
      "       0.00745012, 0.00809841, 0.00899891, 0.00864287, 0.00994636,\n",
      "       0.00994636, 0.00994636, 0.00745012, 0.00800259, 0.00900472,\n",
      "       0.00865068, 0.00994478, 0.00994478, 0.00994478, 0.00745011,\n",
      "       0.00809711, 0.00900073, 0.00864761, 0.00979759, 0.00979759,\n",
      "       0.00979759, 0.00744892, 0.00825146, 0.00893933, 0.00863151,\n",
      "       0.00936913, 0.00936913, 0.00936913, 0.00744555, 0.00797322,\n",
      "       0.00875582, 0.00856808, 0.00904853, 0.00904853, 0.00904853,\n",
      "       0.00744452, 0.00805367, 0.00860834, 0.00851609, 0.00838977,\n",
      "       0.00838977, 0.00838977, 0.00891284, 0.00791258, 0.00835962,\n",
      "       0.00833638]), 'rank_test_score': array([20, 13, 20, 49, 37, 24, 30, 18, 17, 18, 48, 39, 26, 33, 15, 14, 15,\n",
      "       47, 42, 25, 29, 11, 10, 11, 46, 40, 22, 31,  8,  7,  8, 45, 36, 23,\n",
      "       32,  2,  1,  2, 44, 41, 27, 34,  5,  4,  5, 43, 38, 28, 35, 51, 50,\n",
      "       51, 56, 55, 53, 54])}\n",
      "{'alpha': 5, 'max_iter': 5000, 'solver': 'svd'}\n",
      "-0.587630820079274\n",
      "0.763242890912245\n"
     ]
    }
   ],
   "source": [
    "ridge_param = ridge_autotune(X_train1,Y_train_log)"
   ]
  },
  {
   "cell_type": "code",
   "execution_count": 32,
   "metadata": {},
   "outputs": [
    {
     "name": "stdout",
     "output_type": "stream",
     "text": [
      "____________________________________________\n",
      "tune max_depth, min_child_weight\n",
      "____________________________________________\n",
      "{'mean_fit_time': array([2.72574801, 2.44235024, 1.65117254, 0.85659294, 6.46365633,\n",
      "       3.90588012, 1.86482062, 0.8661952 , 6.85034313, 4.03971019,\n",
      "       1.87202215, 0.86499481, 2.66039934, 2.32392364, 1.51774206,\n",
      "       0.79097815, 5.0543386 , 3.39296465, 1.69798303, 0.84099021,\n",
      "       5.27258792, 3.55500107, 1.69768362, 0.79977999]), 'std_fit_time': array([0.01185033, 0.01887664, 0.0050765 , 0.00441   , 0.01827319,\n",
      "       0.02436944, 0.01191224, 0.00296708, 0.03385694, 0.02542519,\n",
      "       0.00816506, 0.00552944, 0.00754897, 0.01291207, 0.00463119,\n",
      "       0.00658616, 0.03512152, 0.01736374, 0.00640779, 0.040215  ,\n",
      "       0.01534767, 0.14236876, 0.01641532, 0.00412912]), 'mean_score_time': array([0.01220293, 0.0120028 , 0.00700116, 0.00420098, 0.02580585,\n",
      "       0.01580372, 0.00760131, 0.00460105, 0.02740626, 0.01460333,\n",
      "       0.0076014 , 0.00420098, 0.00900202, 0.00900207, 0.00680161,\n",
      "       0.004001  , 0.02140522, 0.01103644, 0.00800133, 0.00400019,\n",
      "       0.02120485, 0.01120262, 0.0070013 , 0.00440106]), 'std_score_time': array([1.93934947e-03, 1.67396821e-03, 5.22348936e-07, 3.99923339e-04,\n",
      "       2.92653641e-03, 9.79987737e-04, 4.89920940e-04, 4.90115523e-04,\n",
      "       3.38297531e-03, 1.35667706e-03, 4.89998722e-04, 4.00042573e-04,\n",
      "       2.78041453e-07, 3.23406696e-07, 3.99947206e-04, 8.94682262e-04,\n",
      "       1.20011966e-03, 6.80447460e-05, 2.00021269e-03, 1.56704681e-06,\n",
      "       7.48672342e-04, 3.99923396e-04, 2.43140197e-07, 1.85524229e-03]), 'param_learning_rate': masked_array(data=[0.05, 0.05, 0.05, 0.05, 0.05, 0.05, 0.05, 0.05, 0.05,\n",
      "                   0.05, 0.05, 0.05, 0.1, 0.1, 0.1, 0.1, 0.1, 0.1, 0.1,\n",
      "                   0.1, 0.1, 0.1, 0.1, 0.1],\n",
      "             mask=[False, False, False, False, False, False, False, False,\n",
      "                   False, False, False, False, False, False, False, False,\n",
      "                   False, False, False, False, False, False, False, False],\n",
      "       fill_value='?',\n",
      "            dtype=object), 'param_max_depth': masked_array(data=[7, 7, 7, 7, 13, 13, 13, 13, 15, 15, 15, 15, 7, 7, 7, 7,\n",
      "                   13, 13, 13, 13, 15, 15, 15, 15],\n",
      "             mask=[False, False, False, False, False, False, False, False,\n",
      "                   False, False, False, False, False, False, False, False,\n",
      "                   False, False, False, False, False, False, False, False],\n",
      "       fill_value='?',\n",
      "            dtype=object), 'param_reg_alpha': masked_array(data=[0.1, 1, 10, 100, 0.1, 1, 10, 100, 0.1, 1, 10, 100, 0.1,\n",
      "                   1, 10, 100, 0.1, 1, 10, 100, 0.1, 1, 10, 100],\n",
      "             mask=[False, False, False, False, False, False, False, False,\n",
      "                   False, False, False, False, False, False, False, False,\n",
      "                   False, False, False, False, False, False, False, False],\n",
      "       fill_value='?',\n",
      "            dtype=object), 'params': [{'learning_rate': 0.05, 'max_depth': 7, 'reg_alpha': 0.1}, {'learning_rate': 0.05, 'max_depth': 7, 'reg_alpha': 1}, {'learning_rate': 0.05, 'max_depth': 7, 'reg_alpha': 10}, {'learning_rate': 0.05, 'max_depth': 7, 'reg_alpha': 100}, {'learning_rate': 0.05, 'max_depth': 13, 'reg_alpha': 0.1}, {'learning_rate': 0.05, 'max_depth': 13, 'reg_alpha': 1}, {'learning_rate': 0.05, 'max_depth': 13, 'reg_alpha': 10}, {'learning_rate': 0.05, 'max_depth': 13, 'reg_alpha': 100}, {'learning_rate': 0.05, 'max_depth': 15, 'reg_alpha': 0.1}, {'learning_rate': 0.05, 'max_depth': 15, 'reg_alpha': 1}, {'learning_rate': 0.05, 'max_depth': 15, 'reg_alpha': 10}, {'learning_rate': 0.05, 'max_depth': 15, 'reg_alpha': 100}, {'learning_rate': 0.1, 'max_depth': 7, 'reg_alpha': 0.1}, {'learning_rate': 0.1, 'max_depth': 7, 'reg_alpha': 1}, {'learning_rate': 0.1, 'max_depth': 7, 'reg_alpha': 10}, {'learning_rate': 0.1, 'max_depth': 7, 'reg_alpha': 100}, {'learning_rate': 0.1, 'max_depth': 13, 'reg_alpha': 0.1}, {'learning_rate': 0.1, 'max_depth': 13, 'reg_alpha': 1}, {'learning_rate': 0.1, 'max_depth': 13, 'reg_alpha': 10}, {'learning_rate': 0.1, 'max_depth': 13, 'reg_alpha': 100}, {'learning_rate': 0.1, 'max_depth': 15, 'reg_alpha': 0.1}, {'learning_rate': 0.1, 'max_depth': 15, 'reg_alpha': 1}, {'learning_rate': 0.1, 'max_depth': 15, 'reg_alpha': 10}, {'learning_rate': 0.1, 'max_depth': 15, 'reg_alpha': 100}], 'split0_test_score': array([-0.0960646 , -0.09324734, -0.10058287, -0.21677589, -0.11776737,\n",
      "       -0.09729146, -0.09953322, -0.21546585, -0.12033332, -0.09720447,\n",
      "       -0.09965316, -0.21546585, -0.09711324, -0.09097145, -0.09759606,\n",
      "       -0.21974044, -0.11271209, -0.0957418 , -0.09837753, -0.22268428,\n",
      "       -0.11758869, -0.0958864 , -0.09854549, -0.22268428]), 'split1_test_score': array([-0.09306619, -0.09106491, -0.09799564, -0.20798136, -0.11545971,\n",
      "       -0.09523401, -0.09712929, -0.20701885, -0.11942571, -0.09540141,\n",
      "       -0.09719398, -0.20701885, -0.09589046, -0.09165058, -0.09815778,\n",
      "       -0.19577182, -0.11429332, -0.09687955, -0.09781405, -0.19589213,\n",
      "       -0.11541905, -0.09609213, -0.09764915, -0.19589213]), 'split2_test_score': array([-0.09343021, -0.09114791, -0.09779308, -0.19744635, -0.12182093,\n",
      "       -0.09611205, -0.09788554, -0.1963757 , -0.12823979, -0.096573  ,\n",
      "       -0.09784719, -0.1963757 , -0.09743801, -0.0925774 , -0.09695337,\n",
      "       -0.18621713, -0.12644227, -0.09818475, -0.0967575 , -0.18309741,\n",
      "       -0.13111242, -0.09763112, -0.09637515, -0.18309741]), 'split3_test_score': array([-0.0927618 , -0.09042951, -0.10042286, -0.1918122 , -0.12387715,\n",
      "       -0.09675251, -0.09963513, -0.19107926, -0.13013222, -0.0961442 ,\n",
      "       -0.09942686, -0.19107926, -0.09514568, -0.0922902 , -0.09801084,\n",
      "       -0.18334989, -0.12771426, -0.0988296 , -0.09799123, -0.18021504,\n",
      "       -0.1342913 , -0.10006884, -0.09784289, -0.18021504]), 'split4_test_score': array([-0.0914208 , -0.08883088, -0.09723514, -0.19490334, -0.12483306,\n",
      "       -0.09566483, -0.09693208, -0.19488937, -0.12967547, -0.09582752,\n",
      "       -0.09706909, -0.19488937, -0.0981676 , -0.09082117, -0.0957499 ,\n",
      "       -0.19390226, -0.13451563, -0.10014217, -0.09592835, -0.19192614,\n",
      "       -0.13983834, -0.09966437, -0.09533702, -0.19192614]), 'mean_test_score': array([-0.09334872, -0.09094411, -0.09880592, -0.20178383, -0.12075164,\n",
      "       -0.09621097, -0.09822305, -0.20096581, -0.1255613 , -0.09623012,\n",
      "       -0.09823806, -0.20096581, -0.096751  , -0.09166216, -0.09729359,\n",
      "       -0.19579631, -0.12313551, -0.09795557, -0.09737373, -0.194763  ,\n",
      "       -0.12764996, -0.09786857, -0.09714994, -0.194763  ]), 'std_test_score': array([0.00151814, 0.00142067, 0.00140867, 0.00926023, 0.00359112,\n",
      "       0.000738  , 0.00115649, 0.00897359, 0.0046898 , 0.00062019,\n",
      "       0.00109774, 0.00897359, 0.00108881, 0.00069521, 0.00087767,\n",
      "       0.0128342 , 0.00834552, 0.00152684, 0.00090018, 0.01507747,\n",
      "       0.00954439, 0.00174397, 0.00114577, 0.01507747]), 'rank_test_score': array([ 3,  1, 14, 24, 15,  4, 12, 22, 17,  5, 13, 22,  6,  2,  8, 21, 16,\n",
      "       11,  9, 19, 18, 10,  7, 19])}\n",
      "{'learning_rate': 0.05, 'max_depth': 7, 'reg_alpha': 1}\n",
      "-0.09094411065041039\n",
      "0.14265784423493047\n"
     ]
    }
   ],
   "source": [
    "xgb_param = xgb_autotune(X_train,Y_train_log)"
   ]
  },
  {
   "cell_type": "code",
   "execution_count": 33,
   "metadata": {},
   "outputs": [
    {
     "name": "stdout",
     "output_type": "stream",
     "text": [
      "____________________________________________\n",
      "tune random forest\n",
      "____________________________________________\n",
      "{'mean_fit_time': array([ 5.31390333, 10.66640334, 16.01671371,  1.33950191,  2.6749074 ,\n",
      "        4.06051478,  7.75194664, 15.52964768, 23.34841514,  2.12015061,\n",
      "        4.28916621,  6.45085354,  9.3018959 , 18.60021014, 27.97490764,\n",
      "        2.75161977,  5.49324188,  8.27946558]), 'std_fit_time': array([0.01867227, 0.04224597, 0.07021516, 0.00360085, 0.00278929,\n",
      "       0.03248617, 0.01396477, 0.06104515, 0.07291417, 0.0144313 ,\n",
      "       0.0141791 , 0.0250943 , 0.04308828, 0.11112428, 0.12309157,\n",
      "       0.01359217, 0.01508969, 0.03003738]), 'mean_score_time': array([0.06401482, 0.1270288 , 0.19754968, 0.06501493, 0.12842898,\n",
      "       0.19424381, 0.09962244, 0.19824476, 0.30326805, 0.10102291,\n",
      "       0.20164576, 0.30906963, 0.12262754, 0.24385495, 0.37368426,\n",
      "       0.12643046, 0.25125666, 0.37688484]), 'std_score_time': array([6.32560618e-04, 6.32560510e-04, 1.52590945e-02, 3.87384339e-07,\n",
      "       4.89940339e-04, 1.16652292e-03, 4.90037648e-04, 1.47004156e-03,\n",
      "       1.59210557e-02, 8.94682247e-04, 8.00025564e-04, 1.55082443e-02,\n",
      "       4.90018183e-04, 7.48379193e-04, 1.57592798e-02, 4.88375919e-04,\n",
      "       4.00090257e-04, 1.16657198e-03]), 'param_max_depth': masked_array(data=[9, 9, 9, 9, 9, 9, 13, 13, 13, 13, 13, 13, 17, 17, 17,\n",
      "                   17, 17, 17],\n",
      "             mask=[False, False, False, False, False, False, False, False,\n",
      "                   False, False, False, False, False, False, False, False,\n",
      "                   False, False],\n",
      "       fill_value='?',\n",
      "            dtype=object), 'param_max_features': masked_array(data=['auto', 'auto', 'auto', 'sqrt', 'sqrt', 'sqrt', 'auto',\n",
      "                   'auto', 'auto', 'sqrt', 'sqrt', 'sqrt', 'auto', 'auto',\n",
      "                   'auto', 'sqrt', 'sqrt', 'sqrt'],\n",
      "             mask=[False, False, False, False, False, False, False, False,\n",
      "                   False, False, False, False, False, False, False, False,\n",
      "                   False, False],\n",
      "       fill_value='?',\n",
      "            dtype=object), 'param_n_estimators': masked_array(data=[500, 1000, 1500, 500, 1000, 1500, 500, 1000, 1500, 500,\n",
      "                   1000, 1500, 500, 1000, 1500, 500, 1000, 1500],\n",
      "             mask=[False, False, False, False, False, False, False, False,\n",
      "                   False, False, False, False, False, False, False, False,\n",
      "                   False, False],\n",
      "       fill_value='?',\n",
      "            dtype=object), 'params': [{'max_depth': 9, 'max_features': 'auto', 'n_estimators': 500}, {'max_depth': 9, 'max_features': 'auto', 'n_estimators': 1000}, {'max_depth': 9, 'max_features': 'auto', 'n_estimators': 1500}, {'max_depth': 9, 'max_features': 'sqrt', 'n_estimators': 500}, {'max_depth': 9, 'max_features': 'sqrt', 'n_estimators': 1000}, {'max_depth': 9, 'max_features': 'sqrt', 'n_estimators': 1500}, {'max_depth': 13, 'max_features': 'auto', 'n_estimators': 500}, {'max_depth': 13, 'max_features': 'auto', 'n_estimators': 1000}, {'max_depth': 13, 'max_features': 'auto', 'n_estimators': 1500}, {'max_depth': 13, 'max_features': 'sqrt', 'n_estimators': 500}, {'max_depth': 13, 'max_features': 'sqrt', 'n_estimators': 1000}, {'max_depth': 13, 'max_features': 'sqrt', 'n_estimators': 1500}, {'max_depth': 17, 'max_features': 'auto', 'n_estimators': 500}, {'max_depth': 17, 'max_features': 'auto', 'n_estimators': 1000}, {'max_depth': 17, 'max_features': 'auto', 'n_estimators': 1500}, {'max_depth': 17, 'max_features': 'sqrt', 'n_estimators': 500}, {'max_depth': 17, 'max_features': 'sqrt', 'n_estimators': 1000}, {'max_depth': 17, 'max_features': 'sqrt', 'n_estimators': 1500}], 'split0_test_score': array([-0.12212722, -0.12220789, -0.12239124, -0.26158196, -0.26846718,\n",
      "       -0.26368179, -0.10462183, -0.10512018, -0.1047801 , -0.18941158,\n",
      "       -0.18983086, -0.18843808, -0.10439429, -0.10421377, -0.10419728,\n",
      "       -0.17403303, -0.17340351, -0.17413481]), 'split1_test_score': array([-0.12709665, -0.12677749, -0.12614202, -0.23664557, -0.23590753,\n",
      "       -0.23371641, -0.11018513, -0.10985804, -0.10999916, -0.17536391,\n",
      "       -0.17343117, -0.17409436, -0.11023702, -0.10862004, -0.10960524,\n",
      "       -0.16218474, -0.16085783, -0.16175302]), 'split2_test_score': array([-0.12557712, -0.12552269, -0.12564725, -0.25669219, -0.254122  ,\n",
      "       -0.25445038, -0.11186792, -0.11112791, -0.11105763, -0.18591534,\n",
      "       -0.18569271, -0.18615183, -0.11051668, -0.10987895, -0.10973272,\n",
      "       -0.17360528, -0.17296851, -0.17259972]), 'split3_test_score': array([-0.12271978, -0.12181977, -0.12177966, -0.27087976, -0.26202326,\n",
      "       -0.26260379, -0.10738081, -0.10748388, -0.10698475, -0.19370511,\n",
      "       -0.19502149, -0.19485434, -0.10547274, -0.10577928, -0.10555323,\n",
      "       -0.18193094, -0.1805237 , -0.18080622]), 'split4_test_score': array([-0.11856559, -0.11835064, -0.11848625, -0.25599527, -0.25670501,\n",
      "       -0.25437835, -0.10395741, -0.10372447, -0.10401355, -0.1846811 ,\n",
      "       -0.1867521 , -0.18679109, -0.10305585, -0.10223171, -0.10230167,\n",
      "       -0.1740731 , -0.17285253, -0.17316934]), 'mean_test_score': array([-0.12321764, -0.12293611, -0.12288965, -0.25635702, -0.25544413,\n",
      "       -0.2537648 , -0.10760257, -0.1074629 , -0.10736704, -0.1858145 ,\n",
      "       -0.18614447, -0.18606466, -0.10673547, -0.10614482, -0.10627819,\n",
      "       -0.17316407, -0.17211989, -0.17249141]), 'std_test_score': array([0.00295606, 0.00297483, 0.00279462, 0.01119915, 0.01093718,\n",
      "       0.01076511, 0.00306861, 0.0027796 , 0.00277963, 0.00609495,\n",
      "       0.0071364 , 0.0067343 , 0.00307158, 0.00280148, 0.00295534,\n",
      "       0.00631201, 0.00633079, 0.00612617]), 'rank_test_score': array([ 9,  8,  7, 18, 17, 16,  6,  5,  4, 13, 15, 14,  3,  1,  2, 12, 10,\n",
      "       11])}\n",
      "{'max_depth': 17, 'max_features': 'auto', 'n_estimators': 1000}\n",
      "-0.10614482178325826\n",
      "0.12469684128872238\n"
     ]
    }
   ],
   "source": [
    "random_forest_param = random_forest_autotune(X_train,Y_train_log)"
   ]
  },
  {
   "cell_type": "code",
   "execution_count": 34,
   "metadata": {},
   "outputs": [],
   "source": [
    "# svr_param = svr_autotune(X_train,Y_train_log)    #时间太长"
   ]
  },
  {
   "cell_type": "markdown",
   "metadata": {},
   "source": [
    "### 4、堆砌模型"
   ]
  },
  {
   "cell_type": "markdown",
   "metadata": {},
   "source": [
    "#### 计算各个模型在测试集上的rmsles(均方根对数误差)"
   ]
  },
  {
   "cell_type": "code",
   "execution_count": 35,
   "metadata": {},
   "outputs": [
    {
     "name": "stdout",
     "output_type": "stream",
     "text": [
      "===============\n",
      "lasso test score\n",
      "0.7883864013612552\n",
      "===============\n",
      "===============\n",
      "ridge test score\n",
      "0.7883078585991982\n",
      "===============\n",
      "===============\n",
      "xgb test score\n",
      "0.30555700157339455\n",
      "===============\n",
      "===============\n",
      "random forest test score\n",
      "0.33274799689529877\n",
      "===============\n"
     ]
    },
    {
     "data": {
      "text/plain": [
       "{'Modelling Algo': ['lasso', 'ridge', 'xgb', 'random forest'],\n",
       " 'RMSLE': <function __main__.rmsle(y_log, y0_log)>}"
      ]
     },
     "execution_count": 35,
     "metadata": {},
     "output_type": "execute_result"
    }
   ],
   "source": [
    "model_names=['lasso','ridge','xgb','random forest']#'svr']\n",
    "rmsles=[]\n",
    "\n",
    "\n",
    "print('='*15)\n",
    "print('lasso test score')\n",
    "rmsles.append(rmsle(lasso_param.predict(X_test),Y_test_log))\n",
    "print(rmsle(lasso_param.predict(X_test),Y_test_log))\n",
    "print('='*15)\n",
    "\n",
    "print('='*15)\n",
    "print('ridge test score')\n",
    "rmsles.append(rmsle(lasso_param.predict(X_test),Y_test_log))\n",
    "print(rmsle(ridge_param.predict(X_test),Y_test_log))\n",
    "print('='*15)\n",
    "\n",
    "print('='*15)\n",
    "print('xgb test score')\n",
    "rmsles.append(rmsle(lasso_param.predict(X_test),Y_test_log))\n",
    "print(rmsle(xgb_param.predict(X_test),Y_test_log))\n",
    "print('='*15)\n",
    "\n",
    "print('='*15)\n",
    "print('random forest test score')\n",
    "rmsles.append(rmsle(lasso_param.predict(X_test),Y_test_log))\n",
    "print(rmsle(random_forest_param.predict(X_test),Y_test_log))\n",
    "print('='*15)\n",
    "\n",
    "# print('='*15)\n",
    "# print('svr test score')\n",
    "# rmsles.append(rmsle(lasso_param.predict(X_test),Y_test_log))\n",
    "# print(rmsle(svr_param.predict(X_test),Y_test_log))\n",
    "# print('='*15)\n",
    "\n",
    "d={'Modelling Algo':model_names,'RMSLE':rmsle}   \n",
    "d"
   ]
  },
  {
   "cell_type": "code",
   "execution_count": 36,
   "metadata": {},
   "outputs": [],
   "source": [
    "#建一个空的n*4的dataframe\n",
    "predict_met = pd.DataFrame(data={method: [np.nan] * X_train.shape[0] for method in ['lasso', 'ridge', \n",
    "                                                                                  'xgb', 'random forest',\n",
    "                                                                                  #'svr',\n",
    "                                                                                   ]})"
   ]
  },
  {
   "cell_type": "code",
   "execution_count": 42,
   "metadata": {},
   "outputs": [
    {
     "data": {
      "text/html": [
       "<div>\n",
       "<style scoped>\n",
       "    .dataframe tbody tr th:only-of-type {\n",
       "        vertical-align: middle;\n",
       "    }\n",
       "\n",
       "    .dataframe tbody tr th {\n",
       "        vertical-align: top;\n",
       "    }\n",
       "\n",
       "    .dataframe thead th {\n",
       "        text-align: right;\n",
       "    }\n",
       "</style>\n",
       "<table border=\"1\" class=\"dataframe\">\n",
       "  <thead>\n",
       "    <tr style=\"text-align: right;\">\n",
       "      <th></th>\n",
       "      <th>lasso</th>\n",
       "      <th>ridge</th>\n",
       "      <th>xgb</th>\n",
       "      <th>random forest</th>\n",
       "    </tr>\n",
       "  </thead>\n",
       "  <tbody>\n",
       "    <tr>\n",
       "      <th>0</th>\n",
       "      <td>4.200712</td>\n",
       "      <td>4.198215</td>\n",
       "      <td>4.429404</td>\n",
       "      <td>4.382934</td>\n",
       "    </tr>\n",
       "    <tr>\n",
       "      <th>1</th>\n",
       "      <td>3.472665</td>\n",
       "      <td>3.474550</td>\n",
       "      <td>4.344592</td>\n",
       "      <td>4.168765</td>\n",
       "    </tr>\n",
       "    <tr>\n",
       "      <th>2</th>\n",
       "      <td>4.095420</td>\n",
       "      <td>4.099363</td>\n",
       "      <td>3.836710</td>\n",
       "      <td>3.736672</td>\n",
       "    </tr>\n",
       "    <tr>\n",
       "      <th>3</th>\n",
       "      <td>5.760722</td>\n",
       "      <td>5.757984</td>\n",
       "      <td>5.100766</td>\n",
       "      <td>4.954879</td>\n",
       "    </tr>\n",
       "    <tr>\n",
       "      <th>4</th>\n",
       "      <td>5.114894</td>\n",
       "      <td>5.110321</td>\n",
       "      <td>6.079628</td>\n",
       "      <td>6.025789</td>\n",
       "    </tr>\n",
       "  </tbody>\n",
       "</table>\n",
       "</div>"
      ],
      "text/plain": [
       "      lasso     ridge       xgb  random forest\n",
       "0  4.200712  4.198215  4.429404       4.382934\n",
       "1  3.472665  3.474550  4.344592       4.168765\n",
       "2  4.095420  4.099363  3.836710       3.736672\n",
       "3  5.760722  5.757984  5.100766       4.954879\n",
       "4  5.114894  5.110321  6.079628       6.025789"
      ]
     },
     "execution_count": 42,
     "metadata": {},
     "output_type": "execute_result"
    }
   ],
   "source": [
    "#将重新预测的各个模型（最优参数）的结果填充进去\n",
    "predict_met['lasso'] = lasso_param.predict(X_train)\n",
    "predict_met['ridge'] = ridge_param.predict(X_train)\n",
    "predict_met['xgb'] = xgb_param.predict(X_train)\n",
    "predict_met['random forest'] = random_forest_param.predict(X_train)\n",
    "#predict_met['svr'] = svr_param.predict(X_train)\n",
    "\n",
    "predict_met.head()"
   ]
  },
  {
   "cell_type": "code",
   "execution_count": 43,
   "metadata": {},
   "outputs": [
    {
     "name": "stdout",
     "output_type": "stream",
     "text": [
      "____________________________________________\n",
      "tune max_depth, min_child_weight\n",
      "____________________________________________\n",
      "{'mean_fit_time': array([2.84824166, 2.64586706, 1.23527832, 0.79077811, 5.96521244,\n",
      "       3.57417703, 1.23207741, 0.78917785, 6.62011805, 3.65912514,\n",
      "       1.23727865, 0.79177833, 2.87384787, 2.62099061, 1.06584015,\n",
      "       0.73396521, 5.37361069, 3.38936377, 1.07204132, 0.73416543,\n",
      "       5.66247563, 3.44637661, 1.06664038, 0.73376522]), 'std_fit_time': array([0.02580938, 0.02099568, 0.01774667, 0.00102019, 0.02331366,\n",
      "       0.00673174, 0.01158531, 0.00189791, 0.01719003, 0.02452389,\n",
      "       0.01104797, 0.00101993, 0.00495697, 0.01003419, 0.00733936,\n",
      "       0.00549315, 0.02737464, 0.00886974, 0.00453532, 0.00405052,\n",
      "       0.0090443 , 0.00504498, 0.00615282, 0.00403083]), 'mean_score_time': array([0.00860176, 0.00780163, 0.00480123, 0.00340085, 0.02080512,\n",
      "       0.01020222, 0.00480132, 0.0034009 , 0.02280545, 0.01040211,\n",
      "       0.00460114, 0.00340085, 0.00840173, 0.00820174, 0.00420089,\n",
      "       0.0034008 , 0.02000446, 0.01060228, 0.00400095, 0.00320082,\n",
      "       0.0218051 , 0.01000228, 0.00440102, 0.00300078]), 'std_score_time': array([4.89765121e-04, 4.00114102e-04, 4.00161743e-04, 4.89940316e-04,\n",
      "       1.60008671e-03, 4.00161828e-04, 3.99971037e-04, 4.89804070e-04,\n",
      "       3.92019894e-03, 4.89959789e-04, 4.89998769e-04, 4.89842988e-04,\n",
      "       4.89998722e-04, 4.00114074e-04, 3.99971037e-04, 4.89881921e-04,\n",
      "       8.94788877e-04, 1.74402395e-03, 1.78416128e-07, 3.99923339e-04,\n",
      "       9.79773571e-04, 3.23406696e-07, 4.90037671e-04, 1.78416128e-07]), 'param_learning_rate': masked_array(data=[0.05, 0.05, 0.05, 0.05, 0.05, 0.05, 0.05, 0.05, 0.05,\n",
      "                   0.05, 0.05, 0.05, 0.1, 0.1, 0.1, 0.1, 0.1, 0.1, 0.1,\n",
      "                   0.1, 0.1, 0.1, 0.1, 0.1],\n",
      "             mask=[False, False, False, False, False, False, False, False,\n",
      "                   False, False, False, False, False, False, False, False,\n",
      "                   False, False, False, False, False, False, False, False],\n",
      "       fill_value='?',\n",
      "            dtype=object), 'param_max_depth': masked_array(data=[7, 7, 7, 7, 13, 13, 13, 13, 15, 15, 15, 15, 7, 7, 7, 7,\n",
      "                   13, 13, 13, 13, 15, 15, 15, 15],\n",
      "             mask=[False, False, False, False, False, False, False, False,\n",
      "                   False, False, False, False, False, False, False, False,\n",
      "                   False, False, False, False, False, False, False, False],\n",
      "       fill_value='?',\n",
      "            dtype=object), 'param_reg_alpha': masked_array(data=[0.1, 1, 10, 100, 0.1, 1, 10, 100, 0.1, 1, 10, 100, 0.1,\n",
      "                   1, 10, 100, 0.1, 1, 10, 100, 0.1, 1, 10, 100],\n",
      "             mask=[False, False, False, False, False, False, False, False,\n",
      "                   False, False, False, False, False, False, False, False,\n",
      "                   False, False, False, False, False, False, False, False],\n",
      "       fill_value='?',\n",
      "            dtype=object), 'params': [{'learning_rate': 0.05, 'max_depth': 7, 'reg_alpha': 0.1}, {'learning_rate': 0.05, 'max_depth': 7, 'reg_alpha': 1}, {'learning_rate': 0.05, 'max_depth': 7, 'reg_alpha': 10}, {'learning_rate': 0.05, 'max_depth': 7, 'reg_alpha': 100}, {'learning_rate': 0.05, 'max_depth': 13, 'reg_alpha': 0.1}, {'learning_rate': 0.05, 'max_depth': 13, 'reg_alpha': 1}, {'learning_rate': 0.05, 'max_depth': 13, 'reg_alpha': 10}, {'learning_rate': 0.05, 'max_depth': 13, 'reg_alpha': 100}, {'learning_rate': 0.05, 'max_depth': 15, 'reg_alpha': 0.1}, {'learning_rate': 0.05, 'max_depth': 15, 'reg_alpha': 1}, {'learning_rate': 0.05, 'max_depth': 15, 'reg_alpha': 10}, {'learning_rate': 0.05, 'max_depth': 15, 'reg_alpha': 100}, {'learning_rate': 0.1, 'max_depth': 7, 'reg_alpha': 0.1}, {'learning_rate': 0.1, 'max_depth': 7, 'reg_alpha': 1}, {'learning_rate': 0.1, 'max_depth': 7, 'reg_alpha': 10}, {'learning_rate': 0.1, 'max_depth': 7, 'reg_alpha': 100}, {'learning_rate': 0.1, 'max_depth': 13, 'reg_alpha': 0.1}, {'learning_rate': 0.1, 'max_depth': 13, 'reg_alpha': 1}, {'learning_rate': 0.1, 'max_depth': 13, 'reg_alpha': 10}, {'learning_rate': 0.1, 'max_depth': 13, 'reg_alpha': 100}, {'learning_rate': 0.1, 'max_depth': 15, 'reg_alpha': 0.1}, {'learning_rate': 0.1, 'max_depth': 15, 'reg_alpha': 1}, {'learning_rate': 0.1, 'max_depth': 15, 'reg_alpha': 10}, {'learning_rate': 0.1, 'max_depth': 15, 'reg_alpha': 100}], 'split0_test_score': array([-0.01507429, -0.01409892, -0.01523604, -0.02742184, -0.01590159,\n",
      "       -0.01413798, -0.01523592, -0.02742184, -0.01592984, -0.01412361,\n",
      "       -0.01523592, -0.02742184, -0.01570022, -0.0143617 , -0.01489078,\n",
      "       -0.02415359, -0.0163765 , -0.01441073, -0.01489107, -0.02415359,\n",
      "       -0.01635054, -0.01445629, -0.01489107, -0.02415359]), 'split1_test_score': array([-0.01677239, -0.01538516, -0.01606687, -0.03167751, -0.01775138,\n",
      "       -0.01556059, -0.01610003, -0.03167751, -0.01785633, -0.01554559,\n",
      "       -0.01610003, -0.03167751, -0.01775504, -0.01554074, -0.01615533,\n",
      "       -0.02881646, -0.01821793, -0.01569478, -0.01615406, -0.02881646,\n",
      "       -0.01824272, -0.01562433, -0.01615406, -0.02881646]), 'split2_test_score': array([-0.0156434 , -0.01452201, -0.01552303, -0.02675292, -0.01683064,\n",
      "       -0.01466762, -0.01552156, -0.02675292, -0.01701769, -0.01468849,\n",
      "       -0.01552156, -0.02675292, -0.01626082, -0.01455372, -0.01565717,\n",
      "       -0.02520589, -0.01714466, -0.01486227, -0.01565006, -0.02520589,\n",
      "       -0.01713402, -0.01489015, -0.01565006, -0.02520589]), 'split3_test_score': array([-0.01676283, -0.01550364, -0.01556292, -0.02487161, -0.01724543,\n",
      "       -0.01562822, -0.01556313, -0.02487161, -0.01727353, -0.01566633,\n",
      "       -0.01556313, -0.02487161, -0.01746508, -0.01584801, -0.01548328,\n",
      "       -0.02362287, -0.01744105, -0.01601899, -0.01548467, -0.02362287,\n",
      "       -0.01742451, -0.01598834, -0.01548467, -0.02362287]), 'split4_test_score': array([-0.01502957, -0.01450126, -0.01519046, -0.0270492 , -0.01640124,\n",
      "       -0.01464781, -0.01519155, -0.0270492 , -0.01647588, -0.01465514,\n",
      "       -0.01519155, -0.0270492 , -0.01598079, -0.01460044, -0.01526596,\n",
      "       -0.02538253, -0.01686694, -0.01481885, -0.01526596, -0.02538253,\n",
      "       -0.01723044, -0.01479907, -0.01526596, -0.02538253]), 'mean_test_score': array([-0.0158565 , -0.0148022 , -0.01551586, -0.02755462, -0.01682606,\n",
      "       -0.01492844, -0.01552244, -0.02755462, -0.01691065, -0.01493583,\n",
      "       -0.01552244, -0.02755462, -0.01663239, -0.01498092, -0.0154905 ,\n",
      "       -0.02543627, -0.01720942, -0.01516112, -0.01548916, -0.02543627,\n",
      "       -0.01727644, -0.01515164, -0.01548916, -0.02543627]), 'std_test_score': array([0.00077477, 0.0005469 , 0.00031307, 0.0022411 , 0.000643  ,\n",
      "       0.00057635, 0.00032461, 0.0022411 , 0.00066158, 0.00058397,\n",
      "       0.00032461, 0.0022411 , 0.00082284, 0.00059598, 0.0004195 ,\n",
      "       0.00181192, 0.00061416, 0.00059838, 0.00041846, 0.00181192,\n",
      "       0.00060586, 0.00056563, 0.00041846, 0.00181192]), 'rank_test_score': array([13,  1, 10, 22, 15,  2, 11, 22, 16,  3, 11, 22, 14,  4,  9, 19, 17,\n",
      "        6,  7, 19, 18,  5,  7, 19])}\n",
      "{'learning_rate': 0.05, 'max_depth': 7, 'reg_alpha': 1}\n",
      "-0.014802198469447383\n",
      "0.0876412616656033\n"
     ]
    }
   ],
   "source": [
    "#训练一个堆砌的新模型\n",
    "ensemble_xgb = xgb_autotune(predict_met,Y_train_log)"
   ]
  },
  {
   "cell_type": "code",
   "execution_count": 44,
   "metadata": {},
   "outputs": [],
   "source": [
    "#在测试集上预测各个模型的结果\n",
    "test_met = pd.DataFrame(data={method: [np.nan] * X_test.shape[0] for method in ['lasso','ridge',\n",
    "                                                                                  'xgb', 'random forest',\n",
    "                                                                                  #'svr', \n",
    "                                                                               ]})\n",
    "test_met['lasso'] = lasso_param.predict(X_test)\n",
    "test_met['ridge'] = ridge_param.predict(X_test)\n",
    "test_met['xgb'] = xgb_param.predict(X_test)\n",
    "test_met['random forest'] = random_forest_param.predict(X_test)\n",
    "#test_met['svr'] = svr_param.predict(X_test)"
   ]
  },
  {
   "cell_type": "code",
   "execution_count": 45,
   "metadata": {},
   "outputs": [
    {
     "name": "stdout",
     "output_type": "stream",
     "text": [
      "===============\n",
      "outer layer test score\n",
      "0.3200431056400205\n",
      "===============\n"
     ]
    }
   ],
   "source": [
    "#堆砌模型的预测结果\n",
    "print('='*15)\n",
    "print('outer layer test score')\n",
    "print(rmsle(ensemble_xgb.predict(test_met),Y_test_log))\n",
    "print('='*15)"
   ]
  },
  {
   "cell_type": "code",
   "execution_count": 46,
   "metadata": {},
   "outputs": [],
   "source": [
    "Test_Master['humi_cate_low'] = 0\n",
    "Test_Master = Test_Master[X_train.columns]"
   ]
  },
  {
   "cell_type": "code",
   "execution_count": 47,
   "metadata": {},
   "outputs": [
    {
     "data": {
      "text/html": [
       "<div>\n",
       "<style scoped>\n",
       "    .dataframe tbody tr th:only-of-type {\n",
       "        vertical-align: middle;\n",
       "    }\n",
       "\n",
       "    .dataframe tbody tr th {\n",
       "        vertical-align: top;\n",
       "    }\n",
       "\n",
       "    .dataframe thead th {\n",
       "        text-align: right;\n",
       "    }\n",
       "</style>\n",
       "<table border=\"1\" class=\"dataframe\">\n",
       "  <thead>\n",
       "    <tr style=\"text-align: right;\">\n",
       "      <th></th>\n",
       "      <th>lasso</th>\n",
       "      <th>ridge</th>\n",
       "      <th>xgb</th>\n",
       "      <th>random forest</th>\n",
       "    </tr>\n",
       "  </thead>\n",
       "  <tbody>\n",
       "    <tr>\n",
       "      <th>0</th>\n",
       "      <td>1.712339</td>\n",
       "      <td>1.714562</td>\n",
       "      <td>2.716927</td>\n",
       "      <td>2.540641</td>\n",
       "    </tr>\n",
       "    <tr>\n",
       "      <th>1</th>\n",
       "      <td>1.921542</td>\n",
       "      <td>1.921816</td>\n",
       "      <td>1.847417</td>\n",
       "      <td>1.927272</td>\n",
       "    </tr>\n",
       "    <tr>\n",
       "      <th>2</th>\n",
       "      <td>2.023956</td>\n",
       "      <td>2.024213</td>\n",
       "      <td>1.537888</td>\n",
       "      <td>1.665990</td>\n",
       "    </tr>\n",
       "    <tr>\n",
       "      <th>3</th>\n",
       "      <td>2.064045</td>\n",
       "      <td>2.065245</td>\n",
       "      <td>1.315837</td>\n",
       "      <td>1.554916</td>\n",
       "    </tr>\n",
       "    <tr>\n",
       "      <th>4</th>\n",
       "      <td>2.166459</td>\n",
       "      <td>2.167642</td>\n",
       "      <td>1.099956</td>\n",
       "      <td>1.430628</td>\n",
       "    </tr>\n",
       "  </tbody>\n",
       "</table>\n",
       "</div>"
      ],
      "text/plain": [
       "      lasso     ridge       xgb  random forest\n",
       "0  1.712339  1.714562  2.716927       2.540641\n",
       "1  1.921542  1.921816  1.847417       1.927272\n",
       "2  2.023956  2.024213  1.537888       1.665990\n",
       "3  2.064045  2.065245  1.315837       1.554916\n",
       "4  2.166459  2.167642  1.099956       1.430628"
      ]
     },
     "execution_count": 47,
     "metadata": {},
     "output_type": "execute_result"
    }
   ],
   "source": [
    "#对经过特征选择后的数据进行预测，得到第一层的test data\n",
    "result_met = pd.DataFrame(data={method: [np.nan] * Test_Master.shape[0] for method in ['lasso', 'ridge', \n",
    "                                                                                  'xgb', 'random forest',\n",
    "                                                                                  #'svr',\n",
    "                                                                                      ]})\n",
    "result_met['lasso'] = lasso_param.predict(Test_Master)\n",
    "result_met['ridge'] = ridge_param.predict(Test_Master)\n",
    "result_met['xgb'] = xgb_param.predict(Test_Master)\n",
    "result_met['random forest'] = random_forest_param.predict(Test_Master)\n",
    "#result_met['svr'] = svr_param.predict(Test_Master)\n",
    "                        \n",
    "result_met.head()     "
   ]
  },
  {
   "cell_type": "code",
   "execution_count": 50,
   "metadata": {},
   "outputs": [],
   "source": [
    "#将第一层的数据放入第二层的模型中，得到预测需求量\n",
    "pred_log = ensemble_xgb.predict(result_met)\n",
    "pred = np.expm1(pred_log) #将log结果反算回去得到真实数值\n",
    "\n",
    "submission={'datetime':test['datetime'],'count':pred}\n",
    "submission = pd.DataFrame(submission)\n",
    "\n",
    "submission['count'] = submission.apply(lambda x : 1 if (x['count'] <= 0) else x['count'], axis = 1)\n",
    "submission.to_csv(\"submission.csv\", index=False)"
   ]
  },
  {
   "cell_type": "code",
   "execution_count": null,
   "metadata": {},
   "outputs": [],
   "source": []
  }
 ],
 "metadata": {
  "kernelspec": {
   "display_name": "Python 3",
   "language": "python",
   "name": "python3"
  },
  "language_info": {
   "codemirror_mode": {
    "name": "ipython",
    "version": 3
   },
   "file_extension": ".py",
   "mimetype": "text/x-python",
   "name": "python",
   "nbconvert_exporter": "python",
   "pygments_lexer": "ipython3",
   "version": "3.7.3"
  }
 },
 "nbformat": 4,
 "nbformat_minor": 2
}
