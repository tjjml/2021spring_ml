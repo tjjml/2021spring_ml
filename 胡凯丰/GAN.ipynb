{
 "cells": [
  {
   "cell_type": "markdown",
   "metadata": {},
   "source": [
    "# 原始GAN（CGAN） mnist手写数据集生成\n",
    "\n",
    "## 1.准备阶段\n",
    "\n",
    "- 导库\n",
    "- 定义变量\n",
    "- 载入数据\n",
    "\n",
    "## 2.模型阶段\n",
    "- 生成器模型\n",
    "- 判别器模型\n",
    "- 定义GAN 模型（主要是固定判别器）\n",
    "\n",
    "## 3.模型实例化\n",
    "- 生成器实例化\n",
    "- 判别器实例化\n",
    "- GAN实例化\n",
    "\n",
    "## 3 定义训练函数\n",
    "- 计算损失，输出当前损失，输出当前模型生成图片\n",
    "- 模型参数计算\n",
    "\n",
    "## 4 main函数\n",
    "- 输出结果"
   ]
  },
  {
   "cell_type": "markdown",
   "metadata": {
    "id": "2tffL4hyIUCo"
   },
   "source": [
    "# 导入所需得各种库"
   ]
  },
  {
   "cell_type": "code",
   "execution_count": 1,
   "metadata": {
    "id": "4_yMCzIyi9cv"
   },
   "outputs": [],
   "source": [
    "import numpy as np\n",
    "import matplotlib\n",
    "from matplotlib import pyplot as plt\n",
    "import tensorflow as tf\n",
    "from tensorflow import keras\n",
    "from tensorflow.keras import layers,optimizers,losses\n",
    "from tensorflow.keras.callbacks import EarlyStopping\n",
    "from IPython.display import Image\n",
    "import cv2\n",
    "import PIL\n",
    "import json, os"
   ]
  },
  {
   "cell_type": "markdown",
   "metadata": {
    "id": "SVi0FAOAjiLQ"
   },
   "source": [
    "# 定义会用到得全局变量"
   ]
  },
  {
   "cell_type": "code",
   "execution_count": 13,
   "metadata": {
    "id": "SVi0FAOAjiLQ"
   },
   "outputs": [],
   "source": [
    "img_shape = (28, 28, 1)\n",
    "batch_size = 200\n",
    "latent_dim = 100\n",
    "sample_interval=1\n",
    "epochs=30"
   ]
  },
  {
   "cell_type": "markdown",
   "metadata": {
    "id": "dIXGsesXj0yv"
   },
   "source": [
    "# 定义生成器"
   ]
  },
  {
   "cell_type": "code",
   "execution_count": 3,
   "metadata": {
    "id": "dIXGsesXj0yv"
   },
   "outputs": [],
   "source": [
    "def build_generator():\n",
    "\n",
    "        input=keras.Input(shape=latent_dim)\n",
    "\n",
    "        x=layers.Dense(256)(input)\n",
    "        x=layers.LeakyReLU(alpha=0.2)(x)\n",
    "        x=layers.BatchNormalization(momentum=0.8)(x)\n",
    "\n",
    "        x = layers.Dense(512)(x)\n",
    "        x = layers.LeakyReLU(alpha=0.2)(x)\n",
    "        x = layers.BatchNormalization(momentum=0.8)(x)\n",
    "\n",
    "        x = layers.Dense(1024)(x)\n",
    "        x = layers.LeakyReLU(alpha=0.2)(x)\n",
    "        x = layers.BatchNormalization(momentum=0.8)(x)\n",
    "\n",
    "        x=layers.Dense(np.prod(img_shape),activation='sigmoid')(x)\n",
    "        output=layers.Reshape(img_shape)(x)\n",
    "\n",
    "        model=keras.Model(inputs=input,outputs=output,name='generator')\n",
    "        model.summary()\n",
    "        return model"
   ]
  },
  {
   "cell_type": "markdown",
   "metadata": {
    "id": "hCqM-5DNIelD"
   },
   "source": [
    "# 定义判别器"
   ]
  },
  {
   "cell_type": "code",
   "execution_count": null,
   "metadata": {
    "id": "el4HGOV0IdjJ"
   },
   "outputs": [],
   "source": [
    "\n",
    "def build_discriminator():\n",
    "        input=keras.Input(shape=img_shape)\n",
    "        x=layers.Flatten(input_shape=img_shape)(input)\n",
    "        x=layers.Dense(512)(x)\n",
    "        x=layers.LeakyReLU(alpha=0.2)(x)\n",
    "        x=layers.Dense(256)(x)\n",
    "        x=layers.LeakyReLU(alpha=0.2)(x)\n",
    "        output=layers.Dense(1,activation='sigmoid')(x)\n",
    "        model=keras.Model(inputs=input,outputs=output,name='discriminator')\n",
    "        model.summary()\n",
    "        return model"
   ]
  },
  {
   "cell_type": "markdown",
   "metadata": {
    "id": "cq9i_qotIkjc"
   },
   "source": [
    "# 判别器结构 模型实例化"
   ]
  },
  {
   "cell_type": "code",
   "execution_count": 4,
   "metadata": {
    "colab": {
     "base_uri": "https://localhost:8080/"
    },
    "id": "VuzFdmLfj8vX",
    "outputId": "045607a3-0067-4243-fee7-3d20ce0f0718",
    "scrolled": true
   },
   "outputs": [
    {
     "name": "stdout",
     "output_type": "stream",
     "text": [
      "Model: \"generator\"\n",
      "_________________________________________________________________\n",
      "Layer (type)                 Output Shape              Param #   \n",
      "=================================================================\n",
      "input_1 (InputLayer)         [(None, 100)]             0         \n",
      "_________________________________________________________________\n",
      "dense (Dense)                (None, 256)               25856     \n",
      "_________________________________________________________________\n",
      "leaky_re_lu (LeakyReLU)      (None, 256)               0         \n",
      "_________________________________________________________________\n",
      "batch_normalization (BatchNo (None, 256)               1024      \n",
      "_________________________________________________________________\n",
      "dense_1 (Dense)              (None, 512)               131584    \n",
      "_________________________________________________________________\n",
      "leaky_re_lu_1 (LeakyReLU)    (None, 512)               0         \n",
      "_________________________________________________________________\n",
      "batch_normalization_1 (Batch (None, 512)               2048      \n",
      "_________________________________________________________________\n",
      "dense_2 (Dense)              (None, 1024)              525312    \n",
      "_________________________________________________________________\n",
      "leaky_re_lu_2 (LeakyReLU)    (None, 1024)              0         \n",
      "_________________________________________________________________\n",
      "batch_normalization_2 (Batch (None, 1024)              4096      \n",
      "_________________________________________________________________\n",
      "dense_3 (Dense)              (None, 784)               803600    \n",
      "_________________________________________________________________\n",
      "reshape (Reshape)            (None, 28, 28, 1)         0         \n",
      "=================================================================\n",
      "Total params: 1,493,520\n",
      "Trainable params: 1,489,936\n",
      "Non-trainable params: 3,584\n",
      "_________________________________________________________________\n",
      "Model: \"discriminator\"\n",
      "_________________________________________________________________\n",
      "Layer (type)                 Output Shape              Param #   \n",
      "=================================================================\n",
      "input_2 (InputLayer)         [(None, 28, 28, 1)]       0         \n",
      "_________________________________________________________________\n",
      "flatten (Flatten)            (None, 784)               0         \n",
      "_________________________________________________________________\n",
      "dense_4 (Dense)              (None, 512)               401920    \n",
      "_________________________________________________________________\n",
      "leaky_re_lu_3 (LeakyReLU)    (None, 512)               0         \n",
      "_________________________________________________________________\n",
      "dense_5 (Dense)              (None, 256)               131328    \n",
      "_________________________________________________________________\n",
      "leaky_re_lu_4 (LeakyReLU)    (None, 256)               0         \n",
      "_________________________________________________________________\n",
      "dense_6 (Dense)              (None, 1)                 257       \n",
      "=================================================================\n",
      "Total params: 533,505\n",
      "Trainable params: 533,505\n",
      "Non-trainable params: 0\n",
      "_________________________________________________________________\n",
      "询量判别器，生成器固定\n",
      "训练生成器，判别器固定\n",
      "Model: \"model\"\n",
      "_________________________________________________________________\n",
      "Layer (type)                 Output Shape              Param #   \n",
      "=================================================================\n",
      "input_3 (InputLayer)         [(None, 100)]             0         \n",
      "_________________________________________________________________\n",
      "generator (Functional)       (None, 28, 28, 1)         1493520   \n",
      "_________________________________________________________________\n",
      "discriminator (Functional)   (None, 1)                 533505    \n",
      "=================================================================\n",
      "Total params: 2,027,025\n",
      "Trainable params: 1,489,936\n",
      "Non-trainable params: 537,089\n",
      "_________________________________________________________________\n"
     ]
    }
   ],
   "source": [
    "generator_model = build_generator()\n",
    "discriminator_model = build_discriminator()"
   ]
  },
  {
   "cell_type": "markdown",
   "metadata": {
    "id": "7KXbTVhDIpaB"
   },
   "source": [
    "# 建立GAN模型"
   ]
  },
  {
   "cell_type": "code",
   "execution_count": null,
   "metadata": {
    "id": "7KXbTVhDIpaB"
   },
   "outputs": [],
   "source": [
    "def bulid_model():\n",
    "      discriminator_model.compile(loss='binary_crossentropy',\n",
    "                    optimizer=keras.optimizers.Adam(0.0001, 0.000001),\n",
    "                    metrics=['accuracy'])\n",
    "      \n",
    "      #使判别器不训练，固定判别器\n",
    "      discriminator_model.trainable = False\n",
    "      inputs = keras.Input(shape=latent_dim)\n",
    "      img = generator_model(inputs)\n",
    "      outputs = discriminator_model(img)\n",
    "      model = keras.Model(inputs=inputs, outputs=outputs)\n",
    "      model.summary()\n",
    "      # 训练GAN\n",
    "      model.compile(optimizer=keras.optimizers.Adam(0.0001, 0.000001),\n",
    "                    loss='binary_crossentropy',\n",
    "                    )\n",
    "      return model"
   ]
  },
  {
   "cell_type": "markdown",
   "metadata": {
    "id": "i8elvs3GJWAH"
   },
   "source": [
    "# GAN模型实例化"
   ]
  },
  {
   "cell_type": "code",
   "execution_count": null,
   "metadata": {
    "id": "i8elvs3GJWAH"
   },
   "outputs": [],
   "source": [
    "model =bulid_model()"
   ]
  },
  {
   "cell_type": "markdown",
   "metadata": {
    "id": "DgovNxijkS6l"
   },
   "source": [
    "# 数据加载函数"
   ]
  },
  {
   "cell_type": "code",
   "execution_count": null,
   "metadata": {
    "id": "DgovNxijkS6l"
   },
   "outputs": [],
   "source": [
    "def load_data():\n",
    "        (train_images, train_labels), (test_images, test_labels) = keras.datasets.mnist.load_data()\n",
    "        train_images = train_images /255\n",
    "        train_images = np.expand_dims(train_images, axis=3)\n",
    "        print('img_number:',train_images.shape)\n",
    "        return train_images"
   ]
  },
  {
   "cell_type": "markdown",
   "metadata": {
    "id": "DgovNxijkS6l"
   },
   "source": [
    "# 生成图片函数"
   ]
  },
  {
   "cell_type": "code",
   "execution_count": 6,
   "metadata": {
    "id": "DgovNxijkS6l"
   },
   "outputs": [],
   "source": [
    "def generate_sample_images(epoch):  \n",
    "\n",
    "      row, col = 5, 5#\n",
    "      noise = np.random.normal(0, 1, (row * col, 100))\n",
    "      #生成噪声\n",
    "      gan_imgs = generator_model.predict(noise)\n",
    "      fig, axs = plt.subplots(row, col)"
   ]
  },
  {
   "cell_type": "code",
   "execution_count": null,
   "metadata": {
    "id": "Dtf72sLg3TWd"
   },
   "outputs": [],
   "source": []
  },
  {
   "cell_type": "markdown",
   "metadata": {
    "id": "Le_OLZgOlJct"
   },
   "source": [
    "# 定义训练函数"
   ]
  },
  {
   "cell_type": "code",
   "execution_count": 9,
   "metadata": {
    "id": "Le_OLZgOlJct"
   },
   "outputs": [],
   "source": [
    "def train():\n",
    "    train_images=load_data()\n",
    "\n",
    "    #生成标签\n",
    "    valid = np.ones((batch_size, 1))\n",
    "    fake = np.zeros((batch_size, 1))\n",
    "\n",
    "    step=int(train_images.shape[0]/batch_size)\n",
    "    #计算步长\n",
    "    print('step:',step)\n",
    "\n",
    "    for epoch in range(epochs):\n",
    "        print(epoch)\n",
    "        train_images = (tf.random.shuffle(train_images)).numpy()\n",
    "        #每个epoch打乱一次\n",
    "        if epoch % 2 == 0:\n",
    "          # 图片展示\n",
    "            generate_sample_images(epoch)\n",
    "\n",
    "        for i in range(step):\n",
    "\n",
    "            idx = np.arange(i*batch_size,i*batch_size+batch_size,1)\n",
    "            #生成索引\n",
    "            imgs =train_images[idx]\n",
    "            #读取索引对应的图片\n",
    "            noise = np.random.normal(0, 1, (batch_size, 100))\n",
    "            gan_imgs = generator_model.predict(noise)\n",
    "            #通过噪声生成图片\n",
    "            #训练判别器\n",
    "            discriminator_loss_real = discriminator_model.train_on_batch(imgs, valid)  # 真实数据对应标签1\n",
    "            discriminator_loss_fake = discriminator_model.train_on_batch(gan_imgs, fake)  # 生成的数据对应标签0\n",
    "            discriminator_loss = 0.5 * np.add(discriminator_loss_real, discriminator_loss_fake)\n",
    "            #训练生成器\n",
    "            # noise = np.random.normal(0, 1, (batch_size, 100))\n",
    "            noise = np.random.normal(0, 1, (1000, 100))\n",
    "            # 判别器训练一回，生成器生成5回\n",
    "            for j in range(5):\n",
    "              a=j*200\n",
    "              b=(j+1)*200\n",
    "              noise_temp=noise[a:b]\n",
    "              generator_loss = model.train_on_batch(noise_temp, valid)\n",
    "            if i%100==0:#每100步进行输出\n",
    "                print(\"epoch:%d step:%d [discriminator_loss: %f, acc: %.2f%%] [generator_loss: %f]\" % (\n",
    "                    epoch,i,discriminator_loss[0], 100 * discriminator_loss[1], generator_loss))"
   ]
  },
  {
   "cell_type": "markdown",
   "metadata": {},
   "source": [
    "# 定义主函数"
   ]
  },
  {
   "cell_type": "code",
   "execution_count": null,
   "metadata": {},
   "outputs": [],
   "source": [
    "if __name__ == '__main__':\n",
    "   train()"
   ]
  },
  {
   "cell_type": "code",
   "execution_count": null,
   "metadata": {
    "id": "-FoLa6HSldYG"
   },
   "outputs": [],
   "source": []
  }
 ],
 "metadata": {
  "colab": {
   "name": "面向对象得GAN.ipynb",
   "provenance": []
  },
  "kernelspec": {
   "display_name": "Python 3",
   "language": "python",
   "name": "python3"
  },
  "language_info": {
   "codemirror_mode": {
    "name": "ipython",
    "version": 3
   },
   "file_extension": ".py",
   "mimetype": "text/x-python",
   "name": "python",
   "nbconvert_exporter": "python",
   "pygments_lexer": "ipython3",
   "version": "3.8.5"
  }
 },
 "nbformat": 4,
 "nbformat_minor": 1
}
