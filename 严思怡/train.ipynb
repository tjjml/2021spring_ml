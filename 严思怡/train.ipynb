{
 "cells": [
  {
   "cell_type": "code",
   "execution_count": 1,
   "metadata": {},
   "outputs": [],
   "source": [
    "import numpy as np \n",
    "import pandas as pd \n",
    "import os\n",
    "from IPython.core.interactiveshell import InteractiveShell\n",
    "InteractiveShell.ast_node_interactivity = \"all\"\n",
    "import math\n",
    "import json\n",
    "import time\n",
    "import matplotlib.pyplot as plt\n",
    "import seaborn as sns\n",
    "from sklearn.metrics.pairwise import cosine_similarity\n",
    "from sklearn.neighbors import NearestNeighbors\n",
    "import joblib\n",
    "import scipy.sparse\n",
    "from scipy.sparse import csr_matrix\n",
    "from scipy.sparse.linalg import svds\n",
    "import warnings; warnings.simplefilter('ignore')"
   ]
  },
  {
   "cell_type": "code",
   "execution_count": 2,
   "metadata": {},
   "outputs": [
    {
     "data": {
      "text/plain": [
       "(7824482, 4)"
      ]
     },
     "execution_count": 2,
     "metadata": {},
     "output_type": "execute_result"
    }
   ],
   "source": [
    "data=pd.read_csv(r'./ratings_Electronics.csv',names=['userId', 'productId','Rating','timestamp'])\n",
    "data.shape"
   ]
  },
  {
   "cell_type": "code",
   "execution_count": 3,
   "metadata": {},
   "outputs": [
    {
     "data": {
      "text/html": [
       "<div>\n",
       "<style scoped>\n",
       "    .dataframe tbody tr th:only-of-type {\n",
       "        vertical-align: middle;\n",
       "    }\n",
       "\n",
       "    .dataframe tbody tr th {\n",
       "        vertical-align: top;\n",
       "    }\n",
       "\n",
       "    .dataframe thead th {\n",
       "        text-align: right;\n",
       "    }\n",
       "</style>\n",
       "<table border=\"1\" class=\"dataframe\">\n",
       "  <thead>\n",
       "    <tr style=\"text-align: right;\">\n",
       "      <th></th>\n",
       "      <th>userId</th>\n",
       "      <th>productId</th>\n",
       "      <th>Rating</th>\n",
       "      <th>timestamp</th>\n",
       "    </tr>\n",
       "  </thead>\n",
       "  <tbody>\n",
       "    <tr>\n",
       "      <th>0</th>\n",
       "      <td>AKM1MP6P0OYPR</td>\n",
       "      <td>0132793040</td>\n",
       "      <td>5.0</td>\n",
       "      <td>1365811200</td>\n",
       "    </tr>\n",
       "    <tr>\n",
       "      <th>1</th>\n",
       "      <td>A2CX7LUOHB2NDG</td>\n",
       "      <td>0321732944</td>\n",
       "      <td>5.0</td>\n",
       "      <td>1341100800</td>\n",
       "    </tr>\n",
       "    <tr>\n",
       "      <th>2</th>\n",
       "      <td>A2NWSAGRHCP8N5</td>\n",
       "      <td>0439886341</td>\n",
       "      <td>1.0</td>\n",
       "      <td>1367193600</td>\n",
       "    </tr>\n",
       "    <tr>\n",
       "      <th>3</th>\n",
       "      <td>A2WNBOD3WNDNKT</td>\n",
       "      <td>0439886341</td>\n",
       "      <td>3.0</td>\n",
       "      <td>1374451200</td>\n",
       "    </tr>\n",
       "    <tr>\n",
       "      <th>4</th>\n",
       "      <td>A1GI0U4ZRJA8WN</td>\n",
       "      <td>0439886341</td>\n",
       "      <td>1.0</td>\n",
       "      <td>1334707200</td>\n",
       "    </tr>\n",
       "  </tbody>\n",
       "</table>\n",
       "</div>"
      ],
      "text/plain": [
       "           userId   productId  Rating   timestamp\n",
       "0   AKM1MP6P0OYPR  0132793040     5.0  1365811200\n",
       "1  A2CX7LUOHB2NDG  0321732944     5.0  1341100800\n",
       "2  A2NWSAGRHCP8N5  0439886341     1.0  1367193600\n",
       "3  A2WNBOD3WNDNKT  0439886341     3.0  1374451200\n",
       "4  A1GI0U4ZRJA8WN  0439886341     1.0  1334707200"
      ]
     },
     "execution_count": 3,
     "metadata": {},
     "output_type": "execute_result"
    }
   ],
   "source": [
    "data.head()"
   ]
  },
  {
   "cell_type": "code",
   "execution_count": 4,
   "metadata": {},
   "outputs": [],
   "source": [
    "#Dropping the Timestamp column\n",
    "data.drop(['timestamp'], axis=1,inplace=True)"
   ]
  },
  {
   "cell_type": "code",
   "execution_count": 5,
   "metadata": {},
   "outputs": [],
   "source": [
    "#选择一个子集\n",
    "# data_subset=data.iloc[:20000,0:]\n",
    "data_subset=data.iloc[:550000,0:]"
   ]
  },
  {
   "cell_type": "code",
   "execution_count": 6,
   "metadata": {},
   "outputs": [
    {
     "data": {
      "text/plain": [
       "userId        object\n",
       "productId     object\n",
       "Rating       float64\n",
       "dtype: object"
      ]
     },
     "execution_count": 6,
     "metadata": {},
     "output_type": "execute_result"
    }
   ],
   "source": [
    "#查看数据类型\n",
    "data_subset.dtypes"
   ]
  },
  {
   "cell_type": "code",
   "execution_count": 7,
   "metadata": {},
   "outputs": [
    {
     "name": "stdout",
     "output_type": "stream",
     "text": [
      "<class 'pandas.core.frame.DataFrame'>\n",
      "RangeIndex: 550000 entries, 0 to 549999\n",
      "Data columns (total 3 columns):\n",
      " #   Column     Non-Null Count   Dtype  \n",
      "---  ------     --------------   -----  \n",
      " 0   userId     550000 non-null  object \n",
      " 1   productId  550000 non-null  object \n",
      " 2   Rating     550000 non-null  float64\n",
      "dtypes: float64(1), object(2)\n",
      "memory usage: 12.6+ MB\n"
     ]
    }
   ],
   "source": [
    "data_subset.info()"
   ]
  },
  {
   "cell_type": "code",
   "execution_count": 8,
   "metadata": {},
   "outputs": [
    {
     "data": {
      "text/plain": [
       "count    550000.000000\n",
       "mean          3.990153\n",
       "std           1.393335\n",
       "min           1.000000\n",
       "25%           3.000000\n",
       "50%           5.000000\n",
       "75%           5.000000\n",
       "max           5.000000\n",
       "Name: Rating, dtype: float64"
      ]
     },
     "execution_count": 8,
     "metadata": {},
     "output_type": "execute_result"
    }
   ],
   "source": [
    "data_subset.describe()['Rating'].T"
   ]
  },
  {
   "cell_type": "code",
   "execution_count": 9,
   "metadata": {},
   "outputs": [
    {
     "data": {
      "text/plain": [
       "<seaborn.axisgrid.FacetGrid at 0x104e1d990>"
      ]
     },
     "execution_count": 9,
     "metadata": {},
     "output_type": "execute_result"
    },
    {
     "data": {
      "image/png": "[encoded data removed]",
      "text/plain": [
       "<Figure size 720x360 with 1 Axes>"
      ]
     },
     "metadata": {},
     "output_type": "display_data"
    }
   ],
   "source": [
    "# rating的分布\n",
    "with sns.axes_style('white'):\n",
    "    g = sns.factorplot(\"Rating\", data=data_subset, aspect=2.0,kind='count')\n",
    "    g.set_ylabels(\"Total number of ratings\")"
   ]
  },
  {
   "cell_type": "markdown",
   "metadata": {},
   "source": [
    "大多数人都评分为5.0"
   ]
  },
  {
   "cell_type": "code",
   "execution_count": 10,
   "metadata": {},
   "outputs": [
    {
     "name": "stdout",
     "output_type": "stream",
     "text": [
      "Total data \n",
      "--------------------------------------------------\n",
      "\n",
      "Total number of ratings : 550000\n",
      "Total number of Users   : 440914\n",
      "Total number of products  : 33251\n"
     ]
    }
   ],
   "source": [
    "print(\"Total data \")\n",
    "print(\"-\"*50)\n",
    "print(\"\\nTotal number of ratings :\",data_subset.shape[0])\n",
    "print(\"Total number of Users   :\", len(np.unique(data_subset.userId)))\n",
    "print(\"Total number of products  :\", len(np.unique(data_subset.productId)))"
   ]
  },
  {
   "cell_type": "markdown",
   "metadata": {},
   "source": [
    "## 分析rating"
   ]
  },
  {
   "cell_type": "code",
   "execution_count": 11,
   "metadata": {},
   "outputs": [
    {
     "data": {
      "text/plain": [
       "userId\n",
       "A5JLAU2ARJ0BO     322\n",
       "A231WM2Z2JL0U3    248\n",
       "A25HBO5V8S8SEA    159\n",
       "AT6CZDCP4TRGA      89\n",
       "AKT8TGIT6VVZ5      89\n",
       "Name: Rating, dtype: int64"
      ]
     },
     "execution_count": 11,
     "metadata": {},
     "output_type": "execute_result"
    }
   ],
   "source": [
    "#分析每个用户评价商品的个数\n",
    "number_of_rated_products_per_user = data_subset.groupby(by='userId')['Rating'].count().sort_values(ascending=False)\n",
    "number_of_rated_products_per_user.head()"
   ]
  },
  {
   "cell_type": "code",
   "execution_count": 12,
   "metadata": {},
   "outputs": [
    {
     "data": {
      "text/plain": [
       "count    440914.000000\n",
       "mean          1.247409\n",
       "std           1.220266\n",
       "min           1.000000\n",
       "25%           1.000000\n",
       "50%           1.000000\n",
       "75%           1.000000\n",
       "max         322.000000\n",
       "Name: Rating, dtype: float64"
      ]
     },
     "execution_count": 12,
     "metadata": {},
     "output_type": "execute_result"
    }
   ],
   "source": [
    "number_of_rated_products_per_user.describe()"
   ]
  },
  {
   "cell_type": "code",
   "execution_count": 13,
   "metadata": {},
   "outputs": [],
   "source": [
    "quantiles = number_of_rated_products_per_user.quantile(np.arange(0,1.01,0.01), interpolation='higher')"
   ]
  },
  {
   "cell_type": "code",
   "execution_count": 14,
   "metadata": {},
   "outputs": [
    {
     "data": {
      "text/plain": [
       "<Figure size 720x720 with 0 Axes>"
      ]
     },
     "execution_count": 14,
     "metadata": {},
     "output_type": "execute_result"
    },
    {
     "data": {
      "text/plain": [
       "Text(0.5, 1.0, 'Quantiles and their Values')"
      ]
     },
     "execution_count": 14,
     "metadata": {},
     "output_type": "execute_result"
    },
    {
     "data": {
      "text/plain": [
       "<AxesSubplot:title={'center':'Quantiles and their Values'}>"
      ]
     },
     "execution_count": 14,
     "metadata": {},
     "output_type": "execute_result"
    },
    {
     "data": {
      "text/plain": [
       "<matplotlib.collections.PathCollection at 0x11c2f9850>"
      ]
     },
     "execution_count": 14,
     "metadata": {},
     "output_type": "execute_result"
    },
    {
     "data": {
      "text/plain": [
       "<matplotlib.collections.PathCollection at 0x11b6323d0>"
      ]
     },
     "execution_count": 14,
     "metadata": {},
     "output_type": "execute_result"
    },
    {
     "data": {
      "text/plain": [
       "Text(0, 0.5, 'No of ratings by user')"
      ]
     },
     "execution_count": 14,
     "metadata": {},
     "output_type": "execute_result"
    },
    {
     "data": {
      "text/plain": [
       "Text(0.5, 0, 'Value at the quantile')"
      ]
     },
     "execution_count": 14,
     "metadata": {},
     "output_type": "execute_result"
    },
    {
     "data": {
      "text/plain": [
       "<matplotlib.legend.Legend at 0x11c314290>"
      ]
     },
     "execution_count": 14,
     "metadata": {},
     "output_type": "execute_result"
    },
    {
     "data": {
      "image/png": "[encoded data removed]",
      "text/plain": [
       "<Figure size 720x720 with 1 Axes>"
      ]
     },
     "metadata": {
      "needs_background": "light"
     },
     "output_type": "display_data"
    }
   ],
   "source": [
    "plt.figure(figsize=(10,10))\n",
    "plt.title(\"Quantiles and their Values\")\n",
    "quantiles.plot()\n",
    "# quantiles with 0.05 difference\n",
    "plt.scatter(x=quantiles.index[::5], y=quantiles.values[::5], c='orange', label=\"quantiles with 0.05 intervals\")\n",
    "# quantiles with 0.25 difference\n",
    "plt.scatter(x=quantiles.index[::25], y=quantiles.values[::25], c='m', label = \"quantiles with 0.25 intervals\")\n",
    "plt.ylabel('No of ratings by user')\n",
    "plt.xlabel('Value at the quantile')\n",
    "plt.legend(loc='best')\n",
    "plt.show()"
   ]
  },
  {
   "cell_type": "code",
   "execution_count": 15,
   "metadata": {},
   "outputs": [
    {
     "name": "stdout",
     "output_type": "stream",
     "text": [
      "\n",
      " Number of rated product more than 50 per user : 21\n",
      "\n"
     ]
    }
   ],
   "source": [
    "#计算每个用户给出的所有评分，评级产品个数大于等于50的有38个用户\n",
    "print('\\n Number of rated product more than 50 per user : {}\\n'.format(sum(number_of_rated_products_per_user >= 50)) )\n",
    "\n"
   ]
  },
  {
   "cell_type": "markdown",
   "metadata": {},
   "source": [
    "### 基于人气的推荐"
   ]
  },
  {
   "cell_type": "code",
   "execution_count": 16,
   "metadata": {},
   "outputs": [],
   "source": [
    "#Getting the new dataframe which contains users who has given 50 or more ratings\n",
    "#选择被评级次数大于等于50次的产品（热销产品）\n",
    "new_df=data_subset.groupby(\"productId\").filter(lambda x:x['Rating'].count() >=50)"
   ]
  },
  {
   "cell_type": "code",
   "execution_count": 17,
   "metadata": {},
   "outputs": [
    {
     "data": {
      "text/plain": [
       "productId\n",
       "B0002L5R78    9487\n",
       "B0001FTVEK    5345\n",
       "B00007E7JU    3523\n",
       "B00007M1TZ    2608\n",
       "B00004ZCJE    2547\n",
       "Name: Rating, dtype: int64"
      ]
     },
     "execution_count": 17,
     "metadata": {},
     "output_type": "execute_result"
    }
   ],
   "source": [
    "#number_of_ratings_per_product存储被评级次数大于50次的产品（热销产品），按照降序排列，\n",
    "number_of_ratings_per_product = new_df.groupby(by='productId')['Rating'].count().sort_values(ascending=False)\n",
    "number_of_ratings_per_product.head()"
   ]
  },
  {
   "cell_type": "code",
   "execution_count": 18,
   "metadata": {},
   "outputs": [
    {
     "data": {
      "text/plain": [
       "productId\n",
       "B0000DYV9H    4.947368\n",
       "B000053HC5    4.945783\n",
       "B00009R96C    4.885714\n",
       "B00005LE76    4.879310\n",
       "B0002E52S4    4.861111\n",
       "Name: Rating, dtype: float64"
      ]
     },
     "execution_count": 18,
     "metadata": {},
     "output_type": "execute_result"
    }
   ],
   "source": [
    "#每一种热销产品的平均评级，按平均评级降序排列\n",
    "new_df.groupby('productId')['Rating'].mean().sort_values(ascending=False).head()"
   ]
  },
  {
   "cell_type": "code",
   "execution_count": 19,
   "metadata": {},
   "outputs": [
    {
     "data": {
      "text/html": [
       "<div>\n",
       "<style scoped>\n",
       "    .dataframe tbody tr th:only-of-type {\n",
       "        vertical-align: middle;\n",
       "    }\n",
       "\n",
       "    .dataframe tbody tr th {\n",
       "        vertical-align: top;\n",
       "    }\n",
       "\n",
       "    .dataframe thead th {\n",
       "        text-align: right;\n",
       "    }\n",
       "</style>\n",
       "<table border=\"1\" class=\"dataframe\">\n",
       "  <thead>\n",
       "    <tr style=\"text-align: right;\">\n",
       "      <th></th>\n",
       "      <th>Rating</th>\n",
       "      <th>rating_counts</th>\n",
       "    </tr>\n",
       "    <tr>\n",
       "      <th>productId</th>\n",
       "      <th></th>\n",
       "      <th></th>\n",
       "    </tr>\n",
       "  </thead>\n",
       "  <tbody>\n",
       "    <tr>\n",
       "      <th>0972683275</th>\n",
       "      <td>4.470980</td>\n",
       "      <td>1051</td>\n",
       "    </tr>\n",
       "    <tr>\n",
       "      <th>1400501466</th>\n",
       "      <td>3.560000</td>\n",
       "      <td>250</td>\n",
       "    </tr>\n",
       "    <tr>\n",
       "      <th>1400501520</th>\n",
       "      <td>4.243902</td>\n",
       "      <td>82</td>\n",
       "    </tr>\n",
       "    <tr>\n",
       "      <th>1400501776</th>\n",
       "      <td>3.884892</td>\n",
       "      <td>139</td>\n",
       "    </tr>\n",
       "    <tr>\n",
       "      <th>1400532620</th>\n",
       "      <td>3.684211</td>\n",
       "      <td>171</td>\n",
       "    </tr>\n",
       "  </tbody>\n",
       "</table>\n",
       "</div>"
      ],
      "text/plain": [
       "              Rating  rating_counts\n",
       "productId                          \n",
       "0972683275  4.470980           1051\n",
       "1400501466  3.560000            250\n",
       "1400501520  4.243902             82\n",
       "1400501776  3.884892            139\n",
       "1400532620  3.684211            171"
      ]
     },
     "execution_count": 19,
     "metadata": {},
     "output_type": "execute_result"
    }
   ],
   "source": [
    "ratings_mean_count = pd.DataFrame(new_df.groupby('productId')['Rating'].mean())\n",
    "ratings_mean_count['rating_counts'] = pd.DataFrame(new_df.groupby('productId')['Rating'].count())\n",
    "ratings_mean_count.head()\n",
    "#每个商品的平均评分和被评分的次数"
   ]
  },
  {
   "cell_type": "code",
   "execution_count": 20,
   "metadata": {},
   "outputs": [
    {
     "data": {
      "text/html": [
       "<div>\n",
       "<style scoped>\n",
       "    .dataframe tbody tr th:only-of-type {\n",
       "        vertical-align: middle;\n",
       "    }\n",
       "\n",
       "    .dataframe tbody tr th {\n",
       "        vertical-align: top;\n",
       "    }\n",
       "\n",
       "    .dataframe thead th {\n",
       "        text-align: right;\n",
       "    }\n",
       "</style>\n",
       "<table border=\"1\" class=\"dataframe\">\n",
       "  <thead>\n",
       "    <tr style=\"text-align: right;\">\n",
       "      <th></th>\n",
       "      <th>rating_counts</th>\n",
       "    </tr>\n",
       "    <tr>\n",
       "      <th>productId</th>\n",
       "      <th></th>\n",
       "    </tr>\n",
       "  </thead>\n",
       "  <tbody>\n",
       "    <tr>\n",
       "      <th>B0002L5R78</th>\n",
       "      <td>9487</td>\n",
       "    </tr>\n",
       "    <tr>\n",
       "      <th>B0001FTVEK</th>\n",
       "      <td>5345</td>\n",
       "    </tr>\n",
       "    <tr>\n",
       "      <th>B00007E7JU</th>\n",
       "      <td>3523</td>\n",
       "    </tr>\n",
       "    <tr>\n",
       "      <th>B00007M1TZ</th>\n",
       "      <td>2608</td>\n",
       "    </tr>\n",
       "    <tr>\n",
       "      <th>B00004ZCJE</th>\n",
       "      <td>2547</td>\n",
       "    </tr>\n",
       "    <tr>\n",
       "      <th>...</th>\n",
       "      <td>...</td>\n",
       "    </tr>\n",
       "    <tr>\n",
       "      <th>B00006I5JA</th>\n",
       "      <td>50</td>\n",
       "    </tr>\n",
       "    <tr>\n",
       "      <th>B00004YKHT</th>\n",
       "      <td>50</td>\n",
       "    </tr>\n",
       "    <tr>\n",
       "      <th>B00005ALB1</th>\n",
       "      <td>50</td>\n",
       "    </tr>\n",
       "    <tr>\n",
       "      <th>B00001OXQ9</th>\n",
       "      <td>50</td>\n",
       "    </tr>\n",
       "    <tr>\n",
       "      <th>B0001ML86M</th>\n",
       "      <td>50</td>\n",
       "    </tr>\n",
       "  </tbody>\n",
       "</table>\n",
       "<p>1961 rows × 1 columns</p>\n",
       "</div>"
      ],
      "text/plain": [
       "            rating_counts\n",
       "productId                \n",
       "B0002L5R78           9487\n",
       "B0001FTVEK           5345\n",
       "B00007E7JU           3523\n",
       "B00007M1TZ           2608\n",
       "B00004ZCJE           2547\n",
       "...                   ...\n",
       "B00006I5JA             50\n",
       "B00004YKHT             50\n",
       "B00005ALB1             50\n",
       "B00001OXQ9             50\n",
       "B0001ML86M             50\n",
       "\n",
       "[1961 rows x 1 columns]"
      ]
     },
     "execution_count": 20,
     "metadata": {},
     "output_type": "execute_result"
    },
    {
     "data": {
      "text/plain": [
       "<AxesSubplot:xlabel='productId'>"
      ]
     },
     "execution_count": 20,
     "metadata": {},
     "output_type": "execute_result"
    },
    {
     "data": {
      "image/png": "[encoded data removed]",
      "text/plain": [
       "<Figure size 432x288 with 1 Axes>"
      ]
     },
     "metadata": {
      "needs_background": "light"
     },
     "output_type": "display_data"
    }
   ],
   "source": [
    "#最受欢迎的产品（排名前10，按照评价等级次数）\n",
    "popular_products = pd.DataFrame(new_df.groupby('productId')['Rating'].count())\n",
    "most_popular = popular_products.sort_values('Rating', ascending=False)\n",
    "most_popular.rename(columns={'Rating':'rating_counts'})\n",
    "most_popular.head(30).plot(kind = \"bar\")"
   ]
  },
  {
   "cell_type": "code",
   "execution_count": 21,
   "metadata": {},
   "outputs": [
    {
     "data": {
      "text/html": [
       "<div>\n",
       "<style scoped>\n",
       "    .dataframe tbody tr th:only-of-type {\n",
       "        vertical-align: middle;\n",
       "    }\n",
       "\n",
       "    .dataframe tbody tr th {\n",
       "        vertical-align: top;\n",
       "    }\n",
       "\n",
       "    .dataframe thead th {\n",
       "        text-align: right;\n",
       "    }\n",
       "</style>\n",
       "<table border=\"1\" class=\"dataframe\">\n",
       "  <thead>\n",
       "    <tr style=\"text-align: right;\">\n",
       "      <th></th>\n",
       "      <th>Rating</th>\n",
       "    </tr>\n",
       "    <tr>\n",
       "      <th>productId</th>\n",
       "      <th></th>\n",
       "    </tr>\n",
       "  </thead>\n",
       "  <tbody>\n",
       "    <tr>\n",
       "      <th>B0002L5R78</th>\n",
       "      <td>9487</td>\n",
       "    </tr>\n",
       "    <tr>\n",
       "      <th>B0001FTVEK</th>\n",
       "      <td>5345</td>\n",
       "    </tr>\n",
       "    <tr>\n",
       "      <th>B00007E7JU</th>\n",
       "      <td>3523</td>\n",
       "    </tr>\n",
       "    <tr>\n",
       "      <th>B00007M1TZ</th>\n",
       "      <td>2608</td>\n",
       "    </tr>\n",
       "    <tr>\n",
       "      <th>B00004ZCJE</th>\n",
       "      <td>2547</td>\n",
       "    </tr>\n",
       "    <tr>\n",
       "      <th>B000652M6Y</th>\n",
       "      <td>2152</td>\n",
       "    </tr>\n",
       "    <tr>\n",
       "      <th>B00020S7XK</th>\n",
       "      <td>2140</td>\n",
       "    </tr>\n",
       "    <tr>\n",
       "      <th>B00001P4ZH</th>\n",
       "      <td>2075</td>\n",
       "    </tr>\n",
       "    <tr>\n",
       "      <th>B00009R6TA</th>\n",
       "      <td>1978</td>\n",
       "    </tr>\n",
       "    <tr>\n",
       "      <th>B00007E7C8</th>\n",
       "      <td>1962</td>\n",
       "    </tr>\n",
       "  </tbody>\n",
       "</table>\n",
       "</div>"
      ],
      "text/plain": [
       "            Rating\n",
       "productId         \n",
       "B0002L5R78    9487\n",
       "B0001FTVEK    5345\n",
       "B00007E7JU    3523\n",
       "B00007M1TZ    2608\n",
       "B00004ZCJE    2547\n",
       "B000652M6Y    2152\n",
       "B00020S7XK    2140\n",
       "B00001P4ZH    2075\n",
       "B00009R6TA    1978\n",
       "B00007E7C8    1962"
      ]
     },
     "execution_count": 21,
     "metadata": {},
     "output_type": "execute_result"
    }
   ],
   "source": [
    "most_popular.head(10)"
   ]
  },
  {
   "cell_type": "markdown",
   "metadata": {},
   "source": [
    "## 协同过滤（Item-Item recommedation）\n",
    "#### 协同过滤通常用于推荐系统。这些技术旨在填补用户-项目关联矩阵中缺失的条目。使用协同过滤 (CF) 方法。 CF 的基础是最好的推荐来自具有相似品味的人。换句话说，它使用志同道合的人的历史项目评分来预测某人如何评价一个项目"
   ]
  },
  {
   "cell_type": "code",
   "execution_count": 20,
   "metadata": {},
   "outputs": [],
   "source": [
    "from surprise import BaselineOnly,KNNWithMeans,KNNBaseline,SVD,SVDpp,NMF,SlopeOne\n",
    "from surprise import Dataset\n",
    "from surprise import accuracy\n",
    "from surprise import Reader\n",
    "import os\n",
    "from surprise.model_selection import train_test_split\n",
    "from surprise.model_selection import KFold\n",
    "from surprise.model_selection import cross_validate"
   ]
  },
  {
   "cell_type": "code",
   "execution_count": 23,
   "metadata": {},
   "outputs": [
    {
     "data": {
      "text/html": [
       "<div>\n",
       "<style scoped>\n",
       "    .dataframe tbody tr th:only-of-type {\n",
       "        vertical-align: middle;\n",
       "    }\n",
       "\n",
       "    .dataframe tbody tr th {\n",
       "        vertical-align: top;\n",
       "    }\n",
       "\n",
       "    .dataframe thead th {\n",
       "        text-align: right;\n",
       "    }\n",
       "</style>\n",
       "<table border=\"1\" class=\"dataframe\">\n",
       "  <thead>\n",
       "    <tr style=\"text-align: right;\">\n",
       "      <th></th>\n",
       "      <th>userId</th>\n",
       "      <th>productId</th>\n",
       "      <th>Rating</th>\n",
       "    </tr>\n",
       "  </thead>\n",
       "  <tbody>\n",
       "    <tr>\n",
       "      <th>183</th>\n",
       "      <td>A1BKC6B7YHYTVV</td>\n",
       "      <td>0972683275</td>\n",
       "      <td>4.0</td>\n",
       "    </tr>\n",
       "    <tr>\n",
       "      <th>184</th>\n",
       "      <td>AWVFSIB42LHKJ</td>\n",
       "      <td>0972683275</td>\n",
       "      <td>4.0</td>\n",
       "    </tr>\n",
       "    <tr>\n",
       "      <th>185</th>\n",
       "      <td>A36MQBNADRH8YY</td>\n",
       "      <td>0972683275</td>\n",
       "      <td>5.0</td>\n",
       "    </tr>\n",
       "    <tr>\n",
       "      <th>186</th>\n",
       "      <td>A3SRXMPLAEZ6DP</td>\n",
       "      <td>0972683275</td>\n",
       "      <td>4.0</td>\n",
       "    </tr>\n",
       "    <tr>\n",
       "      <th>187</th>\n",
       "      <td>A20XXTXWF2TCPY</td>\n",
       "      <td>0972683275</td>\n",
       "      <td>5.0</td>\n",
       "    </tr>\n",
       "    <tr>\n",
       "      <th>...</th>\n",
       "      <td>...</td>\n",
       "      <td>...</td>\n",
       "      <td>...</td>\n",
       "    </tr>\n",
       "    <tr>\n",
       "      <th>549995</th>\n",
       "      <td>A38X3FWC11WI2W</td>\n",
       "      <td>B00066IJPQ</td>\n",
       "      <td>5.0</td>\n",
       "    </tr>\n",
       "    <tr>\n",
       "      <th>549996</th>\n",
       "      <td>A01036691ZFOFCXBLP2D1</td>\n",
       "      <td>B00066IJPQ</td>\n",
       "      <td>5.0</td>\n",
       "    </tr>\n",
       "    <tr>\n",
       "      <th>549997</th>\n",
       "      <td>A1ANBQ6YTBWOHS</td>\n",
       "      <td>B00066IJPQ</td>\n",
       "      <td>5.0</td>\n",
       "    </tr>\n",
       "    <tr>\n",
       "      <th>549998</th>\n",
       "      <td>APWV9ND2Q1CPX</td>\n",
       "      <td>B00066IJPQ</td>\n",
       "      <td>3.0</td>\n",
       "    </tr>\n",
       "    <tr>\n",
       "      <th>549999</th>\n",
       "      <td>AI48YTT4FXVU</td>\n",
       "      <td>B00066IJPQ</td>\n",
       "      <td>1.0</td>\n",
       "    </tr>\n",
       "  </tbody>\n",
       "</table>\n",
       "<p>349157 rows × 3 columns</p>\n",
       "</div>"
      ],
      "text/plain": [
       "                       userId   productId  Rating\n",
       "183            A1BKC6B7YHYTVV  0972683275     4.0\n",
       "184             AWVFSIB42LHKJ  0972683275     4.0\n",
       "185            A36MQBNADRH8YY  0972683275     5.0\n",
       "186            A3SRXMPLAEZ6DP  0972683275     4.0\n",
       "187            A20XXTXWF2TCPY  0972683275     5.0\n",
       "...                       ...         ...     ...\n",
       "549995         A38X3FWC11WI2W  B00066IJPQ     5.0\n",
       "549996  A01036691ZFOFCXBLP2D1  B00066IJPQ     5.0\n",
       "549997         A1ANBQ6YTBWOHS  B00066IJPQ     5.0\n",
       "549998          APWV9ND2Q1CPX  B00066IJPQ     3.0\n",
       "549999           AI48YTT4FXVU  B00066IJPQ     1.0\n",
       "\n",
       "[349157 rows x 3 columns]"
      ]
     },
     "execution_count": 23,
     "metadata": {},
     "output_type": "execute_result"
    }
   ],
   "source": [
    "#new_df存储被评级次数大于等于50次的产品\n",
    "new_df"
   ]
  },
  {
   "cell_type": "code",
   "execution_count": 23,
   "metadata": {},
   "outputs": [],
   "source": [
    "#surprise库读取数据集\n",
    "reader = Reader(rating_scale=(1, 5))\n",
    "new_data = Dataset.load_from_df(new_df,reader)"
   ]
  },
  {
   "cell_type": "code",
   "execution_count": 25,
   "metadata": {},
   "outputs": [],
   "source": [
    "# trainset, testset = train_test_split(new_data, test_size=0.3,random_state=10)"
   ]
  },
  {
   "cell_type": "code",
   "execution_count": 26,
   "metadata": {},
   "outputs": [
    {
     "name": "stdout",
     "output_type": "stream",
     "text": [
      "Estimating biases using als...\n",
      "Estimating biases using als...\n",
      "Estimating biases using als...\n",
      "Evaluating RMSE, MAE, FCP of algorithm BaselineOnly on 3 split(s).\n",
      "\n",
      "                  Fold 1  Fold 2  Fold 3  Mean    Std     \n",
      "RMSE (testset)    1.2607  1.2546  1.2611  1.2588  0.0030  \n",
      "MAE (testset)     0.9897  0.9860  0.9901  0.9886  0.0018  \n",
      "FCP (testset)     0.5040  0.5148  0.5082  0.5090  0.0044  \n",
      "Fit time          1.69    1.88    1.98    1.85    0.12    \n",
      "Test time         1.34    1.26    1.58    1.39    0.14    \n"
     ]
    },
    {
     "data": {
      "text/plain": [
       "{'test_rmse': array([1.26074879, 1.25459374, 1.2611126 ]),\n",
       " 'test_mae': array([0.98966413, 0.98599732, 0.99006052]),\n",
       " 'test_fcp': array([0.50400984, 0.51478397, 0.50819072]),\n",
       " 'fit_time': (1.6882071495056152, 1.8762731552124023, 1.9803111553192139),\n",
       " 'test_time': (1.3398480415344238, 1.258072853088379, 1.5812790393829346)}"
      ]
     },
     "execution_count": 26,
     "metadata": {},
     "output_type": "execute_result"
    }
   ],
   "source": [
    "# BaselineOnly\n",
    "cross_validate(BaselineOnly(), new_data, measures=['RMSE', 'MAE','FCP'], cv=3, verbose=True)"
   ]
  },
  {
   "cell_type": "code",
   "execution_count": 27,
   "metadata": {},
   "outputs": [
    {
     "name": "stdout",
     "output_type": "stream",
     "text": [
      "Computing the pearson similarity matrix...\n",
      "Done computing similarity matrix.\n",
      "Computing the pearson similarity matrix...\n",
      "Done computing similarity matrix.\n",
      "Computing the pearson similarity matrix...\n",
      "Done computing similarity matrix.\n",
      "Evaluating RMSE, MAE, FCP of algorithm KNNWithMeans on 3 split(s).\n",
      "\n",
      "                  Fold 1  Fold 2  Fold 3  Mean    Std     \n",
      "RMSE (testset)    1.3391  1.3362  1.3381  1.3378  0.0012  \n",
      "MAE (testset)     1.0493  1.0482  1.0488  1.0488  0.0004  \n",
      "FCP (testset)     0.6125  0.6080  0.6084  0.6096  0.0020  \n",
      "Fit time          0.71    0.89    0.72    0.77    0.08    \n",
      "Test time         2.08    1.99    1.66    1.91    0.18    \n"
     ]
    },
    {
     "data": {
      "text/plain": [
       "{'test_rmse': array([1.33907058, 1.33616471, 1.33810497]),\n",
       " 'test_mae': array([1.049298  , 1.04824466, 1.04884526]),\n",
       " 'test_fcp': array([0.61251104, 0.60800498, 0.60837187]),\n",
       " 'fit_time': (0.7142431735992432, 0.8938977718353271, 0.7154901027679443),\n",
       " 'test_time': (2.077605962753296, 1.9884660243988037, 1.6620218753814697)}"
      ]
     },
     "execution_count": 27,
     "metadata": {},
     "output_type": "execute_result"
    }
   ],
   "source": [
    "#KNNWithMeans\n",
    "# Use user_based true/false to switch between user-based or item-based collaborative filtering\n",
    "algo = KNNWithMeans(k=50, sim_options={'name': 'pearson', 'user_based': False})#Cosine, MSD, pearson,pearson_baseline\n",
    "cross_validate(algo, new_data, measures=['RMSE', 'MAE','FCP'], cv=3, verbose=True)"
   ]
  },
  {
   "cell_type": "code",
   "execution_count": 28,
   "metadata": {},
   "outputs": [
    {
     "name": "stdout",
     "output_type": "stream",
     "text": [
      "Estimating biases using als...\n",
      "Computing the pearson_baseline similarity matrix...\n",
      "Done computing similarity matrix.\n",
      "Estimating biases using als...\n",
      "Computing the pearson_baseline similarity matrix...\n",
      "Done computing similarity matrix.\n",
      "Estimating biases using als...\n",
      "Computing the pearson_baseline similarity matrix...\n",
      "Done computing similarity matrix.\n",
      "Evaluating RMSE, MAE, FCP of algorithm KNNBaseline on 3 split(s).\n",
      "\n",
      "                  Fold 1  Fold 2  Fold 3  Mean    Std     \n",
      "RMSE (testset)    1.2612  1.2594  1.2634  1.2613  0.0016  \n",
      "MAE (testset)     0.9847  0.9858  0.9887  0.9864  0.0017  \n",
      "FCP (testset)     0.5128  0.4947  0.5295  0.5123  0.0142  \n",
      "Fit time          2.17    2.30    2.29    2.26    0.06    \n",
      "Test time         1.86    1.43    1.86    1.71    0.20    \n"
     ]
    },
    {
     "data": {
      "text/plain": [
       "{'test_rmse': array([1.26120232, 1.25937166, 1.26340358]),\n",
       " 'test_mae': array([0.98465834, 0.98579488, 0.98865501]),\n",
       " 'test_fcp': array([0.51276286, 0.49465065, 0.52946344]),\n",
       " 'fit_time': (2.174482822418213, 2.3043179512023926, 2.2902960777282715),\n",
       " 'test_time': (1.8559648990631104, 1.4306328296661377, 1.857875108718872)}"
      ]
     },
     "execution_count": 28,
     "metadata": {},
     "output_type": "execute_result"
    }
   ],
   "source": [
    "#KNNBaseline\n",
    "algo_KNNBaseline = KNNBaseline(k=50, sim_options={'name': 'pearson_baseline', 'user_based': False})\n",
    "cross_validate(algo_KNNBaseline, new_data, measures=['RMSE', 'MAE','FCP'], cv=3, verbose=True)"
   ]
  },
  {
   "cell_type": "code",
   "execution_count": 29,
   "metadata": {},
   "outputs": [
    {
     "name": "stdout",
     "output_type": "stream",
     "text": [
      "Estimating biases using als...\n",
      "Computing the pearson_baseline similarity matrix...\n",
      "Done computing similarity matrix.\n",
      "Estimating biases using als...\n",
      "Computing the pearson_baseline similarity matrix...\n",
      "Done computing similarity matrix.\n",
      "Estimating biases using als...\n",
      "Computing the pearson_baseline similarity matrix...\n",
      "Done computing similarity matrix.\n",
      "Evaluating RMSE, MAE, FCP of algorithm KNNBaseline on 3 split(s).\n",
      "\n",
      "                  Fold 1  Fold 2  Fold 3  Mean    Std     \n",
      "RMSE (testset)    1.2613  1.2603  1.2641  1.2619  0.0016  \n",
      "MAE (testset)     0.9864  0.9859  0.9875  0.9866  0.0007  \n",
      "FCP (testset)     0.5160  0.5030  0.5155  0.5115  0.0060  \n",
      "Fit time          2.12    2.70    2.18    2.33    0.26    \n",
      "Test time         1.46    1.36    1.33    1.38    0.05    \n"
     ]
    },
    {
     "data": {
      "text/plain": [
       "{'test_rmse': array([1.26131292, 1.26026078, 1.26411535]),\n",
       " 'test_mae': array([0.98642014, 0.98594395, 0.98754748]),\n",
       " 'test_fcp': array([0.51599243, 0.5030211 , 0.5154993 ]),\n",
       " 'fit_time': (2.1173269748687744, 2.6975150108337402, 2.181936025619507),\n",
       " 'test_time': (1.4582629203796387, 1.3588008880615234, 1.334693193435669)}"
      ]
     },
     "execution_count": 29,
     "metadata": {},
     "output_type": "execute_result"
    }
   ],
   "source": [
    "#KNNBaseline_sgd\n",
    "algo_KNNBaseline_sgd = KNNBaseline(k=50, sim_options={'name': 'pearson_baseline', 'user_based': False,'bsl_options':'sgd'})\n",
    "cross_validate(algo_KNNBaseline_sgd, new_data, measures=['RMSE', 'MAE','FCP'], cv=3, verbose=True)"
   ]
  },
  {
   "cell_type": "code",
   "execution_count": 30,
   "metadata": {},
   "outputs": [
    {
     "name": "stdout",
     "output_type": "stream",
     "text": [
      "Evaluating RMSE, MAE, FCP of algorithm SVD on 3 split(s).\n",
      "\n",
      "                  Fold 1  Fold 2  Fold 3  Mean    Std     \n",
      "RMSE (testset)    1.8952  1.8961  1.8956  1.8956  0.0004  \n",
      "MAE (testset)     1.4558  1.4573  1.4565  1.4566  0.0006  \n",
      "FCP (testset)     0.5576  0.6260  0.5737  0.5858  0.0292  \n",
      "Fit time          20.09   19.89   20.45   20.15   0.23    \n",
      "Test time         1.54    1.16    1.06    1.25    0.20    \n"
     ]
    },
    {
     "data": {
      "text/plain": [
       "{'test_rmse': array([1.89520885, 1.89607096, 1.89555558]),\n",
       " 'test_mae': array([1.45583332, 1.4573093 , 1.45653339]),\n",
       " 'test_fcp': array([0.5575765 , 0.62603595, 0.57366875]),\n",
       " 'fit_time': (20.094014883041382, 19.89005994796753, 20.451812028884888),\n",
       " 'test_time': (1.5389540195465088, 1.1629481315612793, 1.0628650188446045)}"
      ]
     },
     "execution_count": 30,
     "metadata": {},
     "output_type": "execute_result"
    }
   ],
   "source": [
    "#SVD 没有bias\n",
    "algo_SVD1 = SVD(biased=False)\n",
    "cross_validate(algo_SVD1, new_data, measures=['RMSE', 'MAE','FCP'], cv=3, verbose=True)"
   ]
  },
  {
   "cell_type": "code",
   "execution_count": 31,
   "metadata": {},
   "outputs": [
    {
     "name": "stdout",
     "output_type": "stream",
     "text": [
      "Evaluating RMSE, MAE, FCP of algorithm SVD on 3 split(s).\n",
      "\n",
      "                  Fold 1  Fold 2  Fold 3  Mean    Std     \n",
      "RMSE (testset)    1.2617  1.2639  1.2605  1.2620  0.0014  \n",
      "MAE (testset)     0.9899  0.9897  0.9878  0.9891  0.0010  \n",
      "FCP (testset)     0.5183  0.4989  0.5031  0.5068  0.0083  \n",
      "Fit time          19.43   19.05   19.34   19.27   0.16    \n",
      "Test time         1.60    1.02    1.10    1.24    0.26    \n"
     ]
    },
    {
     "data": {
      "text/plain": [
       "{'test_rmse': array([1.26171954, 1.26386195, 1.26054726]),\n",
       " 'test_mae': array([0.98990582, 0.98974868, 0.98777282]),\n",
       " 'test_fcp': array([0.51827901, 0.49893841, 0.50307851]),\n",
       " 'fit_time': (19.429353952407837, 19.045230865478516, 19.344338178634644),\n",
       " 'test_time': (1.6018879413604736, 1.023545265197754, 1.1044411659240723)}"
      ]
     },
     "execution_count": 31,
     "metadata": {},
     "output_type": "execute_result"
    }
   ],
   "source": [
    "#SVD \n",
    "algo_SVD = SVD()\n",
    "cross_validate(algo_SVD, new_data, measures=['RMSE', 'MAE','FCP'], cv=3, verbose=True)"
   ]
  },
  {
   "cell_type": "code",
   "execution_count": 32,
   "metadata": {},
   "outputs": [
    {
     "name": "stdout",
     "output_type": "stream",
     "text": [
      "Evaluating RMSE, MAE, FCP of algorithm SVDpp on 3 split(s).\n",
      "\n",
      "                  Fold 1  Fold 2  Fold 3  Mean    Std     \n",
      "RMSE (testset)    1.2878  1.2892  1.2820  1.2863  0.0031  \n",
      "MAE (testset)     1.0011  1.0011  0.9960  0.9994  0.0024  \n",
      "FCP (testset)     0.5003  0.5001  0.5023  0.5009  0.0010  \n",
      "Fit time          39.00   39.37   38.71   39.03   0.27    \n",
      "Test time         2.07    2.06    1.43    1.85    0.30    \n"
     ]
    },
    {
     "data": {
      "text/plain": [
       "{'test_rmse': array([1.28775275, 1.28915459, 1.28196995]),\n",
       " 'test_mae': array([1.00112994, 1.00112839, 0.99596164]),\n",
       " 'test_fcp': array([0.50026602, 0.50007067, 0.50228878]),\n",
       " 'fit_time': (39.00228309631348, 39.36823916435242, 38.70520901679993),\n",
       " 'test_time': (2.06606125831604, 2.064521074295044, 1.4322199821472168)}"
      ]
     },
     "execution_count": 32,
     "metadata": {},
     "output_type": "execute_result"
    }
   ],
   "source": [
    "#使用SVD++\n",
    "algo_svdpp = SVDpp()\n",
    "cross_validate(algo_svdpp, new_data, measures=['RMSE', 'MAE','FCP'], cv=3, verbose=True)"
   ]
  },
  {
   "cell_type": "code",
   "execution_count": 33,
   "metadata": {},
   "outputs": [
    {
     "name": "stdout",
     "output_type": "stream",
     "text": [
      "Evaluating RMSE, MAE, FCP of algorithm NMF on 3 split(s).\n",
      "\n",
      "                  Fold 1  Fold 2  Fold 3  Mean    Std     \n",
      "RMSE (testset)    1.3942  1.3881  1.3860  1.3894  0.0035  \n",
      "MAE (testset)     1.0968  1.0910  1.0894  1.0924  0.0032  \n",
      "FCP (testset)     0.6171  0.5764  0.6149  0.6028  0.0187  \n",
      "Fit time          40.54   39.96   40.11   40.21   0.25    \n",
      "Test time         1.15    1.03    1.06    1.08    0.05    \n"
     ]
    },
    {
     "data": {
      "text/plain": [
       "{'test_rmse': array([1.39421684, 1.38808035, 1.3859983 ]),\n",
       " 'test_mae': array([1.0967694 , 1.09095059, 1.08943985]),\n",
       " 'test_fcp': array([0.61708462, 0.57644079, 0.61485817]),\n",
       " 'fit_time': (40.54499578475952, 39.958322286605835, 40.11192011833191),\n",
       " 'test_time': (1.1490318775177002, 1.0285260677337646, 1.0586817264556885)}"
      ]
     },
     "execution_count": 33,
     "metadata": {},
     "output_type": "execute_result"
    }
   ],
   "source": [
    "#NFM\n",
    "algo_nmf = NMF()\n",
    "cross_validate(algo_nmf, new_data, measures=['RMSE', 'MAE','FCP'], cv=3, verbose=True)"
   ]
  },
  {
   "cell_type": "code",
   "execution_count": 34,
   "metadata": {},
   "outputs": [
    {
     "name": "stdout",
     "output_type": "stream",
     "text": [
      "Evaluating RMSE, MAE, FCP of algorithm NMF on 3 split(s).\n",
      "\n",
      "                  Fold 1  Fold 2  Fold 3  Mean    Std     \n",
      "RMSE (testset)    1.5553  1.6287  1.6592  1.6144  0.0436  \n",
      "MAE (testset)     1.2048  1.2588  1.2907  1.2515  0.0355  \n",
      "FCP (testset)     0.4616  0.4685  0.4934  0.4745  0.0136  \n",
      "Fit time          40.98   39.64   40.94   40.52   0.62    \n",
      "Test time         1.16    1.03    1.07    1.09    0.05    \n"
     ]
    },
    {
     "data": {
      "text/plain": [
       "{'test_rmse': array([1.55534929, 1.6286831 , 1.65920256]),\n",
       " 'test_mae': array([1.20483111, 1.25880596, 1.29073496]),\n",
       " 'test_fcp': array([0.46162949, 0.46851823, 0.49335645]),\n",
       " 'fit_time': (40.97510623931885, 39.63896083831787, 40.936081886291504),\n",
       " 'test_time': (1.160050868988037, 1.0316228866577148, 1.072145938873291)}"
      ]
     },
     "execution_count": 34,
     "metadata": {},
     "output_type": "execute_result"
    }
   ],
   "source": [
    "#NFM\n",
    "algo_nmf = NMF(biased=True)\n",
    "cross_validate(algo_nmf, new_data, measures=['RMSE', 'MAE','FCP'], cv=3, verbose=True)"
   ]
  },
  {
   "cell_type": "code",
   "execution_count": 24,
   "metadata": {},
   "outputs": [
    {
     "name": "stdout",
     "output_type": "stream",
     "text": [
      "Evaluating RMSE, MAE, FCP of algorithm SlopeOne on 3 split(s).\n",
      "\n",
      "                  Fold 1  Fold 2  Fold 3  Mean    Std     \n",
      "RMSE (testset)    1.3884  1.3905  1.3916  1.3901  0.0013  \n",
      "MAE (testset)     1.0567  1.0600  1.0592  1.0586  0.0014  \n",
      "FCP (testset)     0.6686  0.6710  0.6538  0.6645  0.0076  \n",
      "Fit time          4.59    4.63    4.63    4.62    0.02    \n",
      "Test time         1.52    1.47    1.47    1.49    0.02    \n"
     ]
    },
    {
     "data": {
      "text/plain": [
       "{'test_rmse': array([1.38836122, 1.39048545, 1.39157972]),\n",
       " 'test_mae': array([1.05668327, 1.06000855, 1.05924653]),\n",
       " 'test_fcp': array([0.6685796 , 0.67101089, 0.65379038]),\n",
       " 'fit_time': (4.590459823608398, 4.631494045257568, 4.628736734390259),\n",
       " 'test_time': (1.5210061073303223, 1.4731693267822266, 1.4745688438415527)}"
      ]
     },
     "execution_count": 24,
     "metadata": {},
     "output_type": "execute_result"
    }
   ],
   "source": [
    "#Slope One算法是基于不同物品之间的评分差的线性算法，预测用户对物品评分的个性化算法\n",
    "algo_slope = SlopeOne()\n",
    "cross_validate(algo_slope, new_data, measures=['RMSE', 'MAE','FCP'], cv=3, verbose=True)"
   ]
  },
  {
   "cell_type": "markdown",
   "metadata": {},
   "source": [
    "## 基于模型的协同过滤系统\n",
    "#### 这些方法基于机器学习和数据挖掘技术。目标是训练模型以进行预测。例如，我们可以使用现有的用户-项目交互来训练模型来预测用户可能最喜欢的前 5 个项目。这些方法的一个优点是，与其他方法（如基于内存的方法）相比，它们能够向更多用户推荐更多项目。即使在处理大型稀疏矩阵时，它们也具有很大的覆盖范围。"
   ]
  },
  {
   "cell_type": "code",
   "execution_count": 35,
   "metadata": {},
   "outputs": [
    {
     "data": {
      "text/html": [
       "<div>\n",
       "<style scoped>\n",
       "    .dataframe tbody tr th:only-of-type {\n",
       "        vertical-align: middle;\n",
       "    }\n",
       "\n",
       "    .dataframe tbody tr th {\n",
       "        vertical-align: top;\n",
       "    }\n",
       "\n",
       "    .dataframe thead th {\n",
       "        text-align: right;\n",
       "    }\n",
       "</style>\n",
       "<table border=\"1\" class=\"dataframe\">\n",
       "  <thead>\n",
       "    <tr style=\"text-align: right;\">\n",
       "      <th>productId</th>\n",
       "      <th>0972683275</th>\n",
       "      <th>1400501466</th>\n",
       "      <th>1400501520</th>\n",
       "      <th>1400501776</th>\n",
       "      <th>1400532620</th>\n",
       "      <th>1400532655</th>\n",
       "      <th>140053271X</th>\n",
       "      <th>1400532736</th>\n",
       "      <th>1400599997</th>\n",
       "      <th>1400698987</th>\n",
       "      <th>...</th>\n",
       "      <th>B0006698SS</th>\n",
       "      <th>B000669BVW</th>\n",
       "      <th>B00066D1GI</th>\n",
       "      <th>B00066EK2W</th>\n",
       "      <th>B00066EK36</th>\n",
       "      <th>B00066EK3G</th>\n",
       "      <th>B00066EK40</th>\n",
       "      <th>B00066FH1U</th>\n",
       "      <th>B00066FHHO</th>\n",
       "      <th>B00066IJPQ</th>\n",
       "    </tr>\n",
       "    <tr>\n",
       "      <th>userId</th>\n",
       "      <th></th>\n",
       "      <th></th>\n",
       "      <th></th>\n",
       "      <th></th>\n",
       "      <th></th>\n",
       "      <th></th>\n",
       "      <th></th>\n",
       "      <th></th>\n",
       "      <th></th>\n",
       "      <th></th>\n",
       "      <th></th>\n",
       "      <th></th>\n",
       "      <th></th>\n",
       "      <th></th>\n",
       "      <th></th>\n",
       "      <th></th>\n",
       "      <th></th>\n",
       "      <th></th>\n",
       "      <th></th>\n",
       "      <th></th>\n",
       "      <th></th>\n",
       "    </tr>\n",
       "  </thead>\n",
       "  <tbody>\n",
       "    <tr>\n",
       "      <th>A0004478EF5NFPHLGCWG</th>\n",
       "      <td>0</td>\n",
       "      <td>0</td>\n",
       "      <td>0</td>\n",
       "      <td>0</td>\n",
       "      <td>0</td>\n",
       "      <td>0</td>\n",
       "      <td>0</td>\n",
       "      <td>0</td>\n",
       "      <td>0</td>\n",
       "      <td>0</td>\n",
       "      <td>...</td>\n",
       "      <td>0</td>\n",
       "      <td>0</td>\n",
       "      <td>0</td>\n",
       "      <td>0</td>\n",
       "      <td>0</td>\n",
       "      <td>0</td>\n",
       "      <td>0</td>\n",
       "      <td>0</td>\n",
       "      <td>0</td>\n",
       "      <td>0</td>\n",
       "    </tr>\n",
       "    <tr>\n",
       "      <th>A000681618A3WRMCK53V</th>\n",
       "      <td>0</td>\n",
       "      <td>0</td>\n",
       "      <td>0</td>\n",
       "      <td>0</td>\n",
       "      <td>0</td>\n",
       "      <td>0</td>\n",
       "      <td>0</td>\n",
       "      <td>0</td>\n",
       "      <td>0</td>\n",
       "      <td>0</td>\n",
       "      <td>...</td>\n",
       "      <td>0</td>\n",
       "      <td>0</td>\n",
       "      <td>0</td>\n",
       "      <td>0</td>\n",
       "      <td>0</td>\n",
       "      <td>0</td>\n",
       "      <td>0</td>\n",
       "      <td>0</td>\n",
       "      <td>0</td>\n",
       "      <td>0</td>\n",
       "    </tr>\n",
       "    <tr>\n",
       "      <th>A00124802J36AVPT3779A</th>\n",
       "      <td>0</td>\n",
       "      <td>0</td>\n",
       "      <td>0</td>\n",
       "      <td>0</td>\n",
       "      <td>0</td>\n",
       "      <td>0</td>\n",
       "      <td>0</td>\n",
       "      <td>0</td>\n",
       "      <td>0</td>\n",
       "      <td>0</td>\n",
       "      <td>...</td>\n",
       "      <td>0</td>\n",
       "      <td>0</td>\n",
       "      <td>0</td>\n",
       "      <td>0</td>\n",
       "      <td>0</td>\n",
       "      <td>0</td>\n",
       "      <td>0</td>\n",
       "      <td>0</td>\n",
       "      <td>0</td>\n",
       "      <td>0</td>\n",
       "    </tr>\n",
       "    <tr>\n",
       "      <th>A0015232111B3971DPSKF</th>\n",
       "      <td>0</td>\n",
       "      <td>0</td>\n",
       "      <td>0</td>\n",
       "      <td>0</td>\n",
       "      <td>0</td>\n",
       "      <td>0</td>\n",
       "      <td>0</td>\n",
       "      <td>0</td>\n",
       "      <td>0</td>\n",
       "      <td>0</td>\n",
       "      <td>...</td>\n",
       "      <td>0</td>\n",
       "      <td>0</td>\n",
       "      <td>0</td>\n",
       "      <td>0</td>\n",
       "      <td>0</td>\n",
       "      <td>0</td>\n",
       "      <td>0</td>\n",
       "      <td>0</td>\n",
       "      <td>0</td>\n",
       "      <td>0</td>\n",
       "    </tr>\n",
       "    <tr>\n",
       "      <th>A00328742CDZTXNDCB9XW</th>\n",
       "      <td>0</td>\n",
       "      <td>0</td>\n",
       "      <td>0</td>\n",
       "      <td>0</td>\n",
       "      <td>0</td>\n",
       "      <td>0</td>\n",
       "      <td>0</td>\n",
       "      <td>0</td>\n",
       "      <td>0</td>\n",
       "      <td>0</td>\n",
       "      <td>...</td>\n",
       "      <td>0</td>\n",
       "      <td>0</td>\n",
       "      <td>0</td>\n",
       "      <td>0</td>\n",
       "      <td>0</td>\n",
       "      <td>0</td>\n",
       "      <td>0</td>\n",
       "      <td>0</td>\n",
       "      <td>0</td>\n",
       "      <td>0</td>\n",
       "    </tr>\n",
       "  </tbody>\n",
       "</table>\n",
       "<p>5 rows × 1961 columns</p>\n",
       "</div>"
      ],
      "text/plain": [
       "productId              0972683275  1400501466  1400501520  1400501776  \\\n",
       "userId                                                                  \n",
       "A0004478EF5NFPHLGCWG            0           0           0           0   \n",
       "A000681618A3WRMCK53V            0           0           0           0   \n",
       "A00124802J36AVPT3779A           0           0           0           0   \n",
       "A0015232111B3971DPSKF           0           0           0           0   \n",
       "A00328742CDZTXNDCB9XW           0           0           0           0   \n",
       "\n",
       "productId              1400532620  1400532655  140053271X  1400532736  \\\n",
       "userId                                                                  \n",
       "A0004478EF5NFPHLGCWG            0           0           0           0   \n",
       "A000681618A3WRMCK53V            0           0           0           0   \n",
       "A00124802J36AVPT3779A           0           0           0           0   \n",
       "A0015232111B3971DPSKF           0           0           0           0   \n",
       "A00328742CDZTXNDCB9XW           0           0           0           0   \n",
       "\n",
       "productId              1400599997  1400698987  ...  B0006698SS  B000669BVW  \\\n",
       "userId                                         ...                           \n",
       "A0004478EF5NFPHLGCWG            0           0  ...           0           0   \n",
       "A000681618A3WRMCK53V            0           0  ...           0           0   \n",
       "A00124802J36AVPT3779A           0           0  ...           0           0   \n",
       "A0015232111B3971DPSKF           0           0  ...           0           0   \n",
       "A00328742CDZTXNDCB9XW           0           0  ...           0           0   \n",
       "\n",
       "productId              B00066D1GI  B00066EK2W  B00066EK36  B00066EK3G  \\\n",
       "userId                                                                  \n",
       "A0004478EF5NFPHLGCWG            0           0           0           0   \n",
       "A000681618A3WRMCK53V            0           0           0           0   \n",
       "A00124802J36AVPT3779A           0           0           0           0   \n",
       "A0015232111B3971DPSKF           0           0           0           0   \n",
       "A00328742CDZTXNDCB9XW           0           0           0           0   \n",
       "\n",
       "productId              B00066EK40  B00066FH1U  B00066FHHO  B00066IJPQ  \n",
       "userId                                                                 \n",
       "A0004478EF5NFPHLGCWG            0           0           0           0  \n",
       "A000681618A3WRMCK53V            0           0           0           0  \n",
       "A00124802J36AVPT3779A           0           0           0           0  \n",
       "A0015232111B3971DPSKF           0           0           0           0  \n",
       "A00328742CDZTXNDCB9XW           0           0           0           0  \n",
       "\n",
       "[5 rows x 1961 columns]"
      ]
     },
     "execution_count": 35,
     "metadata": {},
     "output_type": "execute_result"
    }
   ],
   "source": [
    "#获得user-iterm矩阵\n",
    "new_df1=new_df\n",
    "ratings_matrix = new_df1.pivot_table(values='Rating', index='userId', columns='productId', fill_value=0)\n",
    "ratings_matrix.head()\n",
    "#用0来补全空缺值，并不是每个人都有买每一个产品"
   ]
  },
  {
   "cell_type": "code",
   "execution_count": 36,
   "metadata": {},
   "outputs": [
    {
     "data": {
      "text/plain": [
       "(301087, 1961)"
      ]
     },
     "execution_count": 36,
     "metadata": {},
     "output_type": "execute_result"
    }
   ],
   "source": [
    "ratings_matrix.shape"
   ]
  },
  {
   "cell_type": "code",
   "execution_count": 37,
   "metadata": {},
   "outputs": [
    {
     "data": {
      "text/plain": [
       "(1961, 10)"
      ]
     },
     "execution_count": 37,
     "metadata": {},
     "output_type": "execute_result"
    }
   ],
   "source": [
    "#Decomposing the Matrix\n",
    "from sklearn.decomposition import TruncatedSVD\n",
    "X = ratings_matrix.T\n",
    "svd = TruncatedSVD(n_components=10)#降维，截断的奇异值分解\n",
    "decomposed_matrix = svd.fit_transform(X)\n",
    "decomposed_matrix.shape"
   ]
  },
  {
   "cell_type": "code",
   "execution_count": 38,
   "metadata": {},
   "outputs": [
    {
     "data": {
      "text/plain": [
       "array([[ 1.        ,  0.02033667, -0.04787897, ..., -0.38803631,\n",
       "        -0.46863445,  0.56817485],\n",
       "       [ 0.02033667,  1.        , -0.16196677, ..., -0.36263225,\n",
       "        -0.09253768,  0.33016837],\n",
       "       [-0.04787897, -0.16196677,  1.        , ...,  0.38514449,\n",
       "        -0.06280079, -0.09887196],\n",
       "       ...,\n",
       "       [-0.38803631, -0.36263225,  0.38514449, ...,  1.        ,\n",
       "         0.00625347, -0.25478667],\n",
       "       [-0.46863445, -0.09253768, -0.06280079, ...,  0.00625347,\n",
       "         1.        , -0.28040739],\n",
       "       [ 0.56817485,  0.33016837, -0.09887196, ..., -0.25478667,\n",
       "        -0.28040739,  1.        ]])"
      ]
     },
     "execution_count": 38,
     "metadata": {},
     "output_type": "execute_result"
    }
   ],
   "source": [
    "#iterm特征的相关矩阵\n",
    "correlation_matrix = np.corrcoef(decomposed_matrix)\n",
    "correlation_matrix"
   ]
  },
  {
   "cell_type": "code",
   "execution_count": 39,
   "metadata": {},
   "outputs": [],
   "source": [
    "i = \"B00000K135\"\n",
    "\n",
    "product_names = list(X.index)\n",
    "product_ID = product_names.index(i)"
   ]
  },
  {
   "cell_type": "code",
   "execution_count": 40,
   "metadata": {},
   "outputs": [
    {
     "data": {
      "text/plain": [
       "array([-0.02859401,  0.12152155,  0.79610529, ...,  0.32028364,\n",
       "       -0.00460775, -0.03143566])"
      ]
     },
     "execution_count": 40,
     "metadata": {},
     "output_type": "execute_result"
    }
   ],
   "source": [
    "correlation_product_ID = correlation_matrix[product_ID]\n",
    "correlation_product_ID"
   ]
  },
  {
   "cell_type": "code",
   "execution_count": 41,
   "metadata": {},
   "outputs": [
    {
     "data": {
      "text/plain": [
       "['1400501520',\n",
       " '9575871979',\n",
       " '9983891212',\n",
       " 'B00000IGBF',\n",
       " 'B00000J1EQ',\n",
       " 'B00000J434',\n",
       " 'B00000J4FS',\n",
       " 'B00000JMUG',\n",
       " 'B00001ZT4H',\n",
       " 'B000021YUO']"
      ]
     },
     "execution_count": 41,
     "metadata": {},
     "output_type": "execute_result"
    }
   ],
   "source": [
    "#Recommend存放和商品B00000K135相关系数大于0.65的其他商品ID\n",
    "Recommend = list(X.index[correlation_product_ID > 0.65])\n",
    "# Removes the item already bought by the customer\n",
    "Recommend.remove(i) \n",
    "Recommend[0:10]"
   ]
  },
  {
   "cell_type": "code",
   "execution_count": 42,
   "metadata": {},
   "outputs": [
    {
     "data": {
      "text/plain": [
       "['B00008L3HY',\n",
       " '0972683275',\n",
       " '1400501466',\n",
       " '1400501520',\n",
       " '1400501776',\n",
       " '1400532620',\n",
       " '1400532655',\n",
       " '140053271X',\n",
       " '1400532736',\n",
       " '1400599997']"
      ]
     },
     "execution_count": 42,
     "metadata": {},
     "output_type": "execute_result"
    }
   ],
   "source": [
    "#KNNBaseline推荐10个商品\n",
    "# sim_options = {'name': 'pearson_baseline', 'user_based': False}\n",
    "# algo_KNNBaseline = KNNBaseline(sim_options=sim_options)\n",
    "new_df2=data.iloc[560000:562000,:]\n",
    "new_df2=new_df2.groupby(\"productId\").filter(lambda x:x['Rating'].count() >=50)\n",
    "new_testdata=Dataset.load_from_df(new_df2,reader)\n",
    "trainset = new_testdata.build_full_trainset()\n",
    "# algo_KNNBaseline.fit(trainset)\n",
    "pro_id = \"B00000K135\"\n",
    "pro_inner_id = algo_KNNBaseline.trainset.to_inner_iid(pro_id)#指定商品的index\n",
    "\n",
    "# Retrieve inner ids of the nearest neighbors of \"B00000K135\".\n",
    "pro_neighbors = algo_KNNBaseline.get_neighbors(pro_inner_id, k=10)\n",
    "Recommend_KNNBaseline = list(X.index[pro_neighbors])\n",
    "Recommend_KNNBaseline"
   ]
  },
  {
   "cell_type": "code",
   "execution_count": 43,
   "metadata": {},
   "outputs": [
    {
     "data": {
      "text/html": [
       "<div>\n",
       "<style scoped>\n",
       "    .dataframe tbody tr th:only-of-type {\n",
       "        vertical-align: middle;\n",
       "    }\n",
       "\n",
       "    .dataframe tbody tr th {\n",
       "        vertical-align: top;\n",
       "    }\n",
       "\n",
       "    .dataframe thead th {\n",
       "        text-align: right;\n",
       "    }\n",
       "</style>\n",
       "<table border=\"1\" class=\"dataframe\">\n",
       "  <thead>\n",
       "    <tr style=\"text-align: right;\">\n",
       "      <th></th>\n",
       "      <th>productId</th>\n",
       "      <th>pre_Rating</th>\n",
       "    </tr>\n",
       "  </thead>\n",
       "  <tbody>\n",
       "    <tr>\n",
       "      <th>0</th>\n",
       "      <td>B0006B486K</td>\n",
       "      <td>3.999057994663528</td>\n",
       "    </tr>\n",
       "    <tr>\n",
       "      <th>74</th>\n",
       "      <td>B0006BKJFY</td>\n",
       "      <td>3.999057994663528</td>\n",
       "    </tr>\n",
       "    <tr>\n",
       "      <th>72</th>\n",
       "      <td>B0006BKH3S</td>\n",
       "      <td>3.999057994663528</td>\n",
       "    </tr>\n",
       "    <tr>\n",
       "      <th>71</th>\n",
       "      <td>B0006BKGB6</td>\n",
       "      <td>3.999057994663528</td>\n",
       "    </tr>\n",
       "    <tr>\n",
       "      <th>70</th>\n",
       "      <td>B0006BKGAW</td>\n",
       "      <td>3.999057994663528</td>\n",
       "    </tr>\n",
       "    <tr>\n",
       "      <th>69</th>\n",
       "      <td>B0006BKG9I</td>\n",
       "      <td>3.999057994663528</td>\n",
       "    </tr>\n",
       "    <tr>\n",
       "      <th>68</th>\n",
       "      <td>B0006BKG98</td>\n",
       "      <td>3.999057994663528</td>\n",
       "    </tr>\n",
       "    <tr>\n",
       "      <th>67</th>\n",
       "      <td>B0006BKDQE</td>\n",
       "      <td>3.999057994663528</td>\n",
       "    </tr>\n",
       "    <tr>\n",
       "      <th>66</th>\n",
       "      <td>B0006BK9ZE</td>\n",
       "      <td>3.999057994663528</td>\n",
       "    </tr>\n",
       "    <tr>\n",
       "      <th>65</th>\n",
       "      <td>B0006BK50I</td>\n",
       "      <td>3.999057994663528</td>\n",
       "    </tr>\n",
       "  </tbody>\n",
       "</table>\n",
       "</div>"
      ],
      "text/plain": [
       "     productId         pre_Rating\n",
       "0   B0006B486K  3.999057994663528\n",
       "74  B0006BKJFY  3.999057994663528\n",
       "72  B0006BKH3S  3.999057994663528\n",
       "71  B0006BKGB6  3.999057994663528\n",
       "70  B0006BKGAW  3.999057994663528\n",
       "69  B0006BKG9I  3.999057994663528\n",
       "68  B0006BKG98  3.999057994663528\n",
       "67  B0006BKDQE  3.999057994663528\n",
       "66  B0006BK9ZE  3.999057994663528\n",
       "65  B0006BK50I  3.999057994663528"
      ]
     },
     "execution_count": 43,
     "metadata": {},
     "output_type": "execute_result"
    }
   ],
   "source": [
    "#SVD为用户'A1ISUNUWG0K02V'推荐打分最高的10个商品\n",
    "#选择要推荐的商品集\n",
    "new_df2=data.iloc[560000:562000,:]\n",
    "test_iids=new_df2['productId'].tolist()\n",
    "test_iids=np.unique(test_iids)\n",
    "uid='A1ISUNUWG0K02V'\n",
    "preds=np.zeros((len(test_iids),))\n",
    "for i in range(len(test_iids)):\n",
    "    pred = algo_SVD.predict(uid, test_iids[i])#通过uid，和iid预测用户评分\n",
    "    preds[i]=pred.est\n",
    "\n",
    "testset=np.vstack((test_iids,preds)).T\n",
    "re_testset=pd.DataFrame(testset,columns=['productId','pre_Rating'])#商品id和预测的评分生成一个dataframe\n",
    "#推荐打分最高的前10个商品\n",
    "top_n=re_testset.sort_values(by=\"pre_Rating\" , ascending=False) \n",
    "top_n.head(10)"
   ]
  },
  {
   "cell_type": "code",
   "execution_count": null,
   "metadata": {},
   "outputs": [],
   "source": []
  }
 ],
 "metadata": {
  "kernelspec": {
   "display_name": "Python 3",
   "language": "python",
   "name": "python3"
  },
  "language_info": {
   "codemirror_mode": {
    "name": "ipython",
    "version": 3
   },
   "file_extension": ".py",
   "mimetype": "text/x-python",
   "name": "python",
   "nbconvert_exporter": "python",
   "pygments_lexer": "ipython3",
   "version": "3.7.4"
  }
 },
 "nbformat": 4,
 "nbformat_minor": 4
}
