{
 "cells": [
  {
   "cell_type": "markdown",
   "metadata": {
    "id": "QucIExHL6XEh"
   },
   "source": [
    "## 二、使用深度学习进行股价趋势预测\n",
    "两个基于卷积神经网络的模型\n",
    ">\n",
    "    1.全卷积神经网络：FCN\n",
    "    2.含残差块的卷积神经网络：ResNet"
   ]
  },
  {
   "cell_type": "markdown",
   "metadata": {
    "id": "cWeDESee7mCE"
   },
   "source": [
    "### 2.1 导入相关的包"
   ]
  },
  {
   "cell_type": "code",
   "execution_count": 15,
   "metadata": {
    "id": "qGxJf3zbS3GO"
   },
   "outputs": [],
   "source": [
    "import os\n",
    "import numpy as np\n",
    "import pandas as pd\n",
    "import tensorflow as tf\n",
    "from __future__ import print_function\n",
    "from collections import Counter\n",
    "from collections import defaultdict as ddict\n",
    "from datetime import timedelta, datetime\n",
    "from dateutil.relativedelta import relativedelta\n",
    "from sklearn.metrics import classification_report\n",
    "from tensorflow import keras\n",
    "try:\n",
    "  import tushare as ts\n",
    "except:\n",
    "  # 安装 tushare\n",
    "  os.system(\"pip install tushare\")\n",
    "finally:\n",
    "  import tushare as ts\n"
   ]
  },
  {
   "cell_type": "markdown",
   "metadata": {
    "id": "40bTCgcxEMpK"
   },
   "source": [
    "#### 设置工作路径"
   ]
  },
  {
   "cell_type": "code",
   "execution_count": 2,
   "metadata": {
    "colab": {
     "base_uri": "https://localhost:8080/",
     "height": 0
    },
    "id": "FdGpSLE7TPPt",
    "outputId": "97da60ff-5a74-41b2-cc03-5043d1467ba8"
   },
   "outputs": [
    {
     "name": "stdout",
     "output_type": "stream",
     "text": [
      "Mounted at /content/drive\n"
     ]
    }
   ],
   "source": [
    "from google.colab import drive\n",
    "drive.mount('/content/drive')"
   ]
  },
  {
   "cell_type": "code",
   "execution_count": 3,
   "metadata": {
    "colab": {
     "base_uri": "https://localhost:8080/",
     "height": 0
    },
    "id": "KFeZwqdwULfX",
    "outputId": "fe7289b9-355a-437b-ec14-1c3be6f170ea"
   },
   "outputs": [
    {
     "data": {
      "text/plain": [
       "['前300.csv',\n",
       " '大作业_519.ipynb',\n",
       " '前300.gsheet',\n",
       " '400_700.csv',\n",
       " '700_1700.csv',\n",
       " 'FCN.png',\n",
       " 'ResNet.png',\n",
       " 'FCN_for_Trend_Classificatino.ipynb']"
      ]
     },
     "execution_count": 3,
     "metadata": {
      "tags": []
     },
     "output_type": "execute_result"
    }
   ],
   "source": [
    "path = \"/content/drive/My Drive/Colab Notebooks/classification_for_trend\"\n",
    "os.chdir(path)\n",
    "os.listdir(path) # 查看当前工作目录下所有的文件"
   ]
  },
  {
   "cell_type": "markdown",
   "metadata": {
    "id": "4KslW_gRVAJU"
   },
   "source": [
    "### 2.2 数据预处理"
   ]
  },
  {
   "cell_type": "markdown",
   "metadata": {
    "id": "kCevFpmUBmvx"
   },
   "source": [
    "#### 加载数据"
   ]
  },
  {
   "cell_type": "code",
   "execution_count": 4,
   "metadata": {
    "colab": {
     "base_uri": "https://localhost:8080/",
     "height": 0
    },
    "id": "mmmv2pyH9_oR",
    "outputId": "a3648076-4272-4aed-83fd-9387f8ba89be"
   },
   "outputs": [
    {
     "name": "stdout",
     "output_type": "stream",
     "text": [
      "     ts_code      pc_0      pc_1      pc_2  ...     vc_63     vc_64     vc_65  label\n",
      "0  000001.SZ -0.018285  0.003854 -0.032630  ...  1.201329 -0.241861  0.015996      1\n",
      "1  000004.SZ  0.003193  0.000000  0.001061  ...  1.683130 -0.010999 -0.066491      1\n",
      "2  000004.SZ  0.070625  0.025599  0.004800  ...  0.423950  0.448555 -0.317227      1\n",
      "3  000005.SZ -0.003802  0.000000  0.022901  ...  0.422602 -0.352756  0.540416      1\n",
      "4  000006.SZ  0.006234  0.008261  0.002048  ...  0.330381 -0.492307  1.517247      1\n",
      "\n",
      "[5 rows x 134 columns]\n"
     ]
    }
   ],
   "source": [
    "ori_data = pd.read_csv('前300.csv')\n",
    "ori_data_alt = pd.read_csv('400_700.csv')\n",
    "ori_data_alt2 = pd.read_csv('700_1700.csv')\n",
    "ori_data = pd.concat([ori_data, ori_data_alt, ori_data_alt2], axis=0) # 合并三个表格\n",
    "print(ori_data.head()) # 打印前五行/五个样本"
   ]
  },
  {
   "cell_type": "markdown",
   "metadata": {
    "id": "e139kn9VIFmB"
   },
   "source": [
    "#### 去除数据中含空值列的行"
   ]
  },
  {
   "cell_type": "code",
   "execution_count": 16,
   "metadata": {
    "colab": {
     "base_uri": "https://localhost:8080/"
    },
    "id": "aoc_QrYzIB6q",
    "outputId": "99f9b7e6-064f-4061-f65c-ab5a6229fb1c"
   },
   "outputs": [
    {
     "name": "stdout",
     "output_type": "stream",
     "text": [
      "原始样本个数： 11472\n",
      "去除含控制样本后的样本个数： 11472\n",
      "各类样本个数：（0表示盘整放量，1表示放量上涨，-1表示放量下跌）\n",
      " Counter({0: 6030, 1: 2872, -1: 2570})\n"
     ]
    }
   ],
   "source": [
    "print('原始样本个数：', len(ori_data))\n",
    "ori_data.dropna(axis=0, how='any', inplace=True)\n",
    "print('去除含控制样本后的样本个数：', len(ori_data))\n",
    "print('各类样本个数：（0表示盘整放量，1表示放量上涨，-1表示放量下跌）\\n', Counter(ori_data.label))"
   ]
  },
  {
   "cell_type": "markdown",
   "metadata": {
    "id": "HmSk3OzFDo-L"
   },
   "source": [
    "#### 查看各特征及标签的数据类型"
   ]
  },
  {
   "cell_type": "code",
   "execution_count": 6,
   "metadata": {
    "colab": {
     "base_uri": "https://localhost:8080/",
     "height": 0
    },
    "id": "-n-RPzmEDsHx",
    "outputId": "0491aba3-3f27-4291-889f-c248df693bfb"
   },
   "outputs": [
    {
     "data": {
      "text/plain": [
       "ts_code     object\n",
       "pc_0       float64\n",
       "pc_1       float64\n",
       "pc_2       float64\n",
       "pc_3       float64\n",
       "            ...   \n",
       "vc_62      float64\n",
       "vc_63      float64\n",
       "vc_64      float64\n",
       "vc_65      float64\n",
       "label        int64\n",
       "Length: 134, dtype: object"
      ]
     },
     "execution_count": 6,
     "metadata": {
      "tags": []
     },
     "output_type": "execute_result"
    }
   ],
   "source": [
    "ori_data.dtypes"
   ]
  },
  {
   "cell_type": "markdown",
   "metadata": {
    "id": "5Qyzn3EmD1zp"
   },
   "source": [
    "#### 等比例划分训练集和测试(验证)集"
   ]
  },
  {
   "cell_type": "code",
   "execution_count": 7,
   "metadata": {
    "id": "u_Qm-Dj3-T-q"
   },
   "outputs": [],
   "source": [
    "train_data = ori_data.values[0::2,]\n",
    "test_data = ori_data.values[1::2,]\n",
    "assert len(train_data) + len(test_data) == len(ori_data)"
   ]
  },
  {
   "cell_type": "markdown",
   "metadata": {
    "id": "TqTWYhCERSWB"
   },
   "source": [
    "#### 将数据的shape处理成适合CNN输入的形式"
   ]
  },
  {
   "cell_type": "code",
   "execution_count": 8,
   "metadata": {
    "colab": {
     "base_uri": "https://localhost:8080/",
     "height": 0
    },
    "id": "pysUazBD-UHo",
    "outputId": "74487bf4-33b6-4d96-8790-381eedb3ed59"
   },
   "outputs": [
    {
     "name": "stdout",
     "output_type": "stream",
     "text": [
      "(5736, 66)\n",
      "(5736, 66, 2)\n",
      "(5736, 66, 1, 2)\n"
     ]
    }
   ],
   "source": [
    "x_train_pc, x_train_vc = train_data[:,1:67], train_data[:,67:-1] # feature: price change rate\n",
    "x_test_pc, x_test_vc = test_data[:,1:67], test_data[:,67:-1] # feature: volume change rate\n",
    "y_train, y_test = train_data[:,-1], test_data[:,-1] # label\n",
    "print(x_train_pc.shape)\n",
    "\n",
    "x_train = np.concatenate((x_train_pc.reshape(x_train_pc.shape+(1,)), x_train_vc.reshape(x_train_vc.shape+(1,))), axis=-1) # price change rate + volume change rate\n",
    "x_test = np.concatenate((x_test_pc.reshape(x_test_pc.shape+(1,)), x_test_vc.reshape(x_test_vc.shape+(1,))), axis=-1) # price change rate + volume change rate\n",
    "print(x_train.shape)\n",
    "\n",
    "x_train = x_train.reshape(x_train.shape[:-1]+(1,)+x_train.shape[-1:]) # (batch_size, rows, columns, channels)\n",
    "x_test = x_test.reshape(x_test.shape[:-1]+(1,)+x_test.shape[-1:]) # (batch_size, rows, columns, channels)\n",
    "print(x_train.shape)\n",
    "\n",
    "\n",
    "nb_classes = len(np.unique(y_test))\n",
    "assert nb_classes == 3\n",
    "batch_size = min(x_train.shape[0]/10, 48)"
   ]
  },
  {
   "cell_type": "markdown",
   "metadata": {
    "id": "LoQ5fWSdQrOd"
   },
   "source": [
    "#### 转换数据的类型(np.float64)为np.float32，以适合tensorflow"
   ]
  },
  {
   "cell_type": "code",
   "execution_count": 9,
   "metadata": {
    "id": "59WTZ9cP8cxa"
   },
   "outputs": [],
   "source": [
    "x_train = x_train.astype(np.float32)\n",
    "x_test = x_test.astype(np.float32)"
   ]
  },
  {
   "cell_type": "markdown",
   "metadata": {
    "id": "5kkrn8vsTcR4"
   },
   "source": [
    "#### # 将标签从-1,0,1分别转为0,1,2，并用one-hot向量表示"
   ]
  },
  {
   "cell_type": "code",
   "execution_count": 10,
   "metadata": {
    "colab": {
     "base_uri": "https://localhost:8080/",
     "height": 188
    },
    "id": "eYl15db5EwsE",
    "outputId": "eca88a3f-6d29-490c-a63a-27b9fefaa3f7"
   },
   "outputs": [
    {
     "name": "stdout",
     "output_type": "stream",
     "text": [
      "[1 1 1 ... 0 0 0]\n",
      "[2.0 2.0 2.0 ... 1.0 1.0 1.0]\n",
      "[[0. 0. 1.]\n",
      " [0. 0. 1.]\n",
      " [0. 0. 1.]\n",
      " ...\n",
      " [0. 1. 0.]\n",
      " [0. 1. 0.]\n",
      " [0. 1. 0.]]\n"
     ]
    },
    {
     "data": {
      "application/vnd.google.colaboratory.intrinsic+json": {
       "type": "string"
      },
      "text/plain": [
       "'不对数据进行归一化处理'"
      ]
     },
     "execution_count": 10,
     "metadata": {
      "tags": []
     },
     "output_type": "execute_result"
    }
   ],
   "source": [
    "print(y_train)\n",
    "# 将标签从-1,0,1分别转为0,1,2\n",
    "y_train = (y_train - y_train.min())/(y_train.max()-y_train.min())*(nb_classes-1)\n",
    "y_test = (y_test - y_test.min())/(y_test.max()-y_test.min())*(nb_classes-1)\n",
    "print(y_train)\n",
    "\n",
    "Y_train = keras.utils.to_categorical(y_train, nb_classes) # 标签转为one-hot 向量\n",
    "Y_test = keras.utils.to_categorical(y_test, nb_classes) # 标签转为one-hot 向量\n",
    "print(Y_train)\n",
    "\n",
    "'''不对数据进行归一化处理'''\n",
    "# x_train_mean = x_train.mean()\n",
    "# x_train_std = x_train.std()\n",
    "# x_train = (x_train - x_train_mean)/(x_train_std)\n",
    "# x_test = (x_test - x_train_mean)/(x_train_std)"
   ]
  },
  {
   "cell_type": "markdown",
   "metadata": {
    "id": "taSigORFuSES"
   },
   "source": [
    "### 2.3 FCN (Fully Convolutional Network)"
   ]
  },
  {
   "cell_type": "markdown",
   "metadata": {
    "id": "_lb4QPy8UmcK"
   },
   "source": [
    "#### FCN网络结构\n",
    "卷积操作由三个大小为{8,5,3}的一维卷积核完成，步幅为1\n"
   ]
  },
  {
   "cell_type": "code",
   "execution_count": 13,
   "metadata": {
    "colab": {
     "base_uri": "https://localhost:8080/",
     "height": 269
    },
    "id": "9Hvnz6OkTupl",
    "outputId": "8d7cba5f-860d-4bc3-a688-a3fe510d00c4"
   },
   "outputs": [
    {
     "data": {
      "image/png": "[encoded data removed]",
      "text/plain": [
       "<Figure size 1152x288 with 1 Axes>"
      ]
     },
     "metadata": {
      "needs_background": "light",
      "tags": []
     },
     "output_type": "display_data"
    }
   ],
   "source": [
    "import matplotlib.pyplot as plt\n",
    "plt.figure(figsize=(16, 4))\n",
    "fcn_img = plt.imread(\"FCN.png\")\n",
    "plt.imshow(fcn_img)\n",
    "plt.show()"
   ]
  },
  {
   "cell_type": "markdown",
   "metadata": {
    "id": "y1lgsQq-VC00"
   },
   "source": [
    "#### FCN定义以及模型训练"
   ]
  },
  {
   "cell_type": "code",
   "execution_count": null,
   "metadata": {
    "colab": {
     "base_uri": "https://localhost:8080/"
    },
    "id": "FP-2vzglTRXA",
    "outputId": "0f0817b7-424d-4a02-fd9a-a652903f9216"
   },
   "outputs": [
    {
     "name": "stdout",
     "output_type": "stream",
     "text": [
      "WARNING:tensorflow:From /usr/local/lib/python3.7/dist-packages/tensorflow/python/ops/array_ops.py:5049: calling gather (from tensorflow.python.ops.array_ops) with validate_indices is deprecated and will be removed in a future version.\n",
      "Instructions for updating:\n",
      "The `validate_indices` argument has no effect. Indices are always validated on CPU and never validated on GPU.\n",
      "Epoch 1/100\n",
      "120/120 [==============================] - 3s 18ms/step - loss: 1.6862 - accuracy: 0.4477 - val_loss: 1.0104 - val_accuracy: 0.5295\n",
      "Epoch 2/100\n",
      "120/120 [==============================] - 2s 14ms/step - loss: 1.5457 - accuracy: 0.5235 - val_loss: 1.0646 - val_accuracy: 0.2509\n",
      "Epoch 3/100\n",
      "120/120 [==============================] - 2s 14ms/step - loss: 1.2561 - accuracy: 0.6140 - val_loss: 0.8833 - val_accuracy: 0.6660\n",
      "Epoch 4/100\n",
      "120/120 [==============================] - 2s 14ms/step - loss: 1.1202 - accuracy: 0.6426 - val_loss: 0.7530 - val_accuracy: 0.7005\n",
      "Epoch 5/100\n",
      "120/120 [==============================] - 2s 14ms/step - loss: 1.0760 - accuracy: 0.6581 - val_loss: 0.8198 - val_accuracy: 0.5762\n",
      "Epoch 6/100\n",
      "120/120 [==============================] - 2s 14ms/step - loss: 1.0568 - accuracy: 0.6644 - val_loss: 0.8208 - val_accuracy: 0.5790\n",
      "Epoch 7/100\n",
      "120/120 [==============================] - 2s 14ms/step - loss: 1.0345 - accuracy: 0.6684 - val_loss: 0.6995 - val_accuracy: 0.6839\n",
      "Epoch 8/100\n",
      "120/120 [==============================] - 2s 14ms/step - loss: 1.0128 - accuracy: 0.6776 - val_loss: 0.5942 - val_accuracy: 0.7470\n",
      "Epoch 9/100\n",
      "120/120 [==============================] - 2s 16ms/step - loss: 0.9841 - accuracy: 0.6817 - val_loss: 0.7025 - val_accuracy: 0.6749\n",
      "Epoch 10/100\n",
      "120/120 [==============================] - 2s 14ms/step - loss: 1.0016 - accuracy: 0.6719 - val_loss: 0.6483 - val_accuracy: 0.7122\n",
      "Epoch 11/100\n",
      "120/120 [==============================] - 2s 14ms/step - loss: 0.9777 - accuracy: 0.6839 - val_loss: 0.6024 - val_accuracy: 0.7338\n",
      "Epoch 12/100\n",
      "120/120 [==============================] - 2s 14ms/step - loss: 0.9786 - accuracy: 0.6789 - val_loss: 0.6479 - val_accuracy: 0.6980\n",
      "Epoch 13/100\n",
      "120/120 [==============================] - 2s 14ms/step - loss: 0.9717 - accuracy: 0.6892 - val_loss: 0.6082 - val_accuracy: 0.7333\n",
      "Epoch 14/100\n",
      "120/120 [==============================] - 2s 14ms/step - loss: 0.9527 - accuracy: 0.6892 - val_loss: 0.7319 - val_accuracy: 0.6555\n",
      "Epoch 15/100\n",
      "120/120 [==============================] - 2s 14ms/step - loss: 0.9565 - accuracy: 0.6878 - val_loss: 0.7314 - val_accuracy: 0.6529\n",
      "Epoch 16/100\n",
      "120/120 [==============================] - 2s 14ms/step - loss: 0.9613 - accuracy: 0.6867 - val_loss: 0.5918 - val_accuracy: 0.7336\n",
      "Epoch 17/100\n",
      "120/120 [==============================] - 2s 14ms/step - loss: 0.9460 - accuracy: 0.6904 - val_loss: 0.5784 - val_accuracy: 0.7455\n",
      "Epoch 18/100\n",
      "120/120 [==============================] - 2s 14ms/step - loss: 0.9452 - accuracy: 0.6919 - val_loss: 0.6079 - val_accuracy: 0.7211\n",
      "Epoch 19/100\n",
      "120/120 [==============================] - 2s 16ms/step - loss: 0.9238 - accuracy: 0.7012 - val_loss: 0.5791 - val_accuracy: 0.7432\n",
      "Epoch 20/100\n",
      "120/120 [==============================] - 2s 16ms/step - loss: 0.9529 - accuracy: 0.6937 - val_loss: 0.5698 - val_accuracy: 0.7486\n",
      "Epoch 21/100\n",
      "120/120 [==============================] - 2s 14ms/step - loss: 0.9425 - accuracy: 0.6972 - val_loss: 0.6286 - val_accuracy: 0.7078\n",
      "Epoch 22/100\n",
      "120/120 [==============================] - 2s 14ms/step - loss: 0.9312 - accuracy: 0.7014 - val_loss: 0.5795 - val_accuracy: 0.7390\n",
      "Epoch 23/100\n",
      "120/120 [==============================] - 2s 14ms/step - loss: 0.9322 - accuracy: 0.6965 - val_loss: 0.5465 - val_accuracy: 0.7606\n",
      "Epoch 24/100\n",
      "120/120 [==============================] - 2s 16ms/step - loss: 0.9344 - accuracy: 0.6960 - val_loss: 0.5915 - val_accuracy: 0.7361\n",
      "Epoch 25/100\n",
      "120/120 [==============================] - 2s 14ms/step - loss: 0.9101 - accuracy: 0.7090 - val_loss: 0.5945 - val_accuracy: 0.7326\n",
      "Epoch 26/100\n",
      "120/120 [==============================] - 2s 14ms/step - loss: 0.9443 - accuracy: 0.6893 - val_loss: 0.5686 - val_accuracy: 0.7523\n",
      "Epoch 27/100\n",
      "120/120 [==============================] - 2s 14ms/step - loss: 0.9064 - accuracy: 0.7071 - val_loss: 0.5445 - val_accuracy: 0.7659\n",
      "Epoch 28/100\n",
      "120/120 [==============================] - 2s 14ms/step - loss: 0.9087 - accuracy: 0.7099 - val_loss: 0.5716 - val_accuracy: 0.7486\n",
      "Epoch 29/100\n",
      "120/120 [==============================] - 2s 14ms/step - loss: 0.9046 - accuracy: 0.7000 - val_loss: 0.5552 - val_accuracy: 0.7573\n",
      "Epoch 30/100\n",
      "120/120 [==============================] - 2s 14ms/step - loss: 0.8786 - accuracy: 0.7141 - val_loss: 0.6511 - val_accuracy: 0.6940\n",
      "Epoch 31/100\n",
      "120/120 [==============================] - 2s 14ms/step - loss: 0.9071 - accuracy: 0.7022 - val_loss: 0.5990 - val_accuracy: 0.7212\n",
      "Epoch 32/100\n",
      "120/120 [==============================] - 2s 16ms/step - loss: 0.8865 - accuracy: 0.7104 - val_loss: 0.5540 - val_accuracy: 0.7519\n",
      "Epoch 33/100\n",
      "120/120 [==============================] - 2s 14ms/step - loss: 0.8980 - accuracy: 0.7071 - val_loss: 0.5862 - val_accuracy: 0.7319\n",
      "Epoch 34/100\n",
      "120/120 [==============================] - 2s 14ms/step - loss: 0.9050 - accuracy: 0.7096 - val_loss: 0.5686 - val_accuracy: 0.7502\n",
      "Epoch 35/100\n",
      "120/120 [==============================] - 2s 14ms/step - loss: 0.9033 - accuracy: 0.7054 - val_loss: 0.6498 - val_accuracy: 0.6919\n",
      "Epoch 36/100\n",
      "120/120 [==============================] - 2s 14ms/step - loss: 0.9077 - accuracy: 0.7041 - val_loss: 0.5433 - val_accuracy: 0.7650\n",
      "Epoch 37/100\n",
      "120/120 [==============================] - 2s 16ms/step - loss: 0.8790 - accuracy: 0.7115 - val_loss: 0.6068 - val_accuracy: 0.7214\n",
      "Epoch 38/100\n",
      "120/120 [==============================] - 2s 16ms/step - loss: 0.8974 - accuracy: 0.7113 - val_loss: 0.5703 - val_accuracy: 0.7385\n",
      "Epoch 39/100\n",
      "120/120 [==============================] - 2s 14ms/step - loss: 0.8960 - accuracy: 0.7066 - val_loss: 0.5455 - val_accuracy: 0.7568\n",
      "Epoch 40/100\n",
      "120/120 [==============================] - 2s 14ms/step - loss: 0.8810 - accuracy: 0.7094 - val_loss: 0.5502 - val_accuracy: 0.7510\n",
      "Epoch 41/100\n",
      "120/120 [==============================] - 2s 14ms/step - loss: 0.8864 - accuracy: 0.7069 - val_loss: 0.5640 - val_accuracy: 0.7395\n",
      "Epoch 42/100\n",
      "120/120 [==============================] - 2s 14ms/step - loss: 0.8657 - accuracy: 0.7190 - val_loss: 0.5800 - val_accuracy: 0.7340\n",
      "Epoch 43/100\n",
      "120/120 [==============================] - 2s 14ms/step - loss: 0.8847 - accuracy: 0.7132 - val_loss: 0.5446 - val_accuracy: 0.7580\n",
      "Epoch 44/100\n",
      "120/120 [==============================] - 2s 16ms/step - loss: 0.8661 - accuracy: 0.7174 - val_loss: 0.5468 - val_accuracy: 0.7598\n",
      "Epoch 45/100\n",
      "120/120 [==============================] - 2s 14ms/step - loss: 0.8709 - accuracy: 0.7096 - val_loss: 0.5378 - val_accuracy: 0.7666\n",
      "Epoch 46/100\n",
      "120/120 [==============================] - 2s 14ms/step - loss: 0.9065 - accuracy: 0.7008 - val_loss: 0.6000 - val_accuracy: 0.7195\n",
      "Epoch 47/100\n",
      "120/120 [==============================] - 2s 14ms/step - loss: 0.8656 - accuracy: 0.7082 - val_loss: 0.5550 - val_accuracy: 0.7535\n",
      "Epoch 48/100\n",
      "120/120 [==============================] - 2s 14ms/step - loss: 0.8788 - accuracy: 0.7137 - val_loss: 0.5509 - val_accuracy: 0.7571\n",
      "Epoch 49/100\n",
      "120/120 [==============================] - 2s 14ms/step - loss: 0.8751 - accuracy: 0.7116 - val_loss: 0.5383 - val_accuracy: 0.7584\n",
      "Epoch 50/100\n",
      "120/120 [==============================] - 2s 14ms/step - loss: 0.8539 - accuracy: 0.7216 - val_loss: 0.5418 - val_accuracy: 0.7598\n",
      "Epoch 51/100\n",
      "120/120 [==============================] - 2s 14ms/step - loss: 0.8724 - accuracy: 0.7127 - val_loss: 0.5386 - val_accuracy: 0.7631\n",
      "Epoch 52/100\n",
      "120/120 [==============================] - 2s 14ms/step - loss: 0.8730 - accuracy: 0.7158 - val_loss: 0.5432 - val_accuracy: 0.7577\n",
      "Epoch 53/100\n",
      "120/120 [==============================] - 2s 14ms/step - loss: 0.8787 - accuracy: 0.7104 - val_loss: 0.5516 - val_accuracy: 0.7573\n",
      "Epoch 54/100\n",
      "120/120 [==============================] - 2s 16ms/step - loss: 0.8718 - accuracy: 0.7108 - val_loss: 0.5707 - val_accuracy: 0.7362\n",
      "Epoch 55/100\n",
      "120/120 [==============================] - 2s 16ms/step - loss: 0.8439 - accuracy: 0.7251 - val_loss: 0.5714 - val_accuracy: 0.7345\n",
      "Epoch 56/100\n",
      "120/120 [==============================] - 2s 14ms/step - loss: 0.8420 - accuracy: 0.7244 - val_loss: 0.6431 - val_accuracy: 0.6904\n",
      "Epoch 57/100\n",
      "120/120 [==============================] - 2s 14ms/step - loss: 0.8597 - accuracy: 0.7233 - val_loss: 0.5808 - val_accuracy: 0.7319\n",
      "Epoch 58/100\n",
      "120/120 [==============================] - 2s 14ms/step - loss: 0.8630 - accuracy: 0.7171 - val_loss: 0.5860 - val_accuracy: 0.7313\n",
      "Epoch 59/100\n",
      "120/120 [==============================] - 2s 14ms/step - loss: 0.8529 - accuracy: 0.7225 - val_loss: 0.5732 - val_accuracy: 0.7347\n",
      "Epoch 60/100\n",
      "120/120 [==============================] - 2s 16ms/step - loss: 0.8470 - accuracy: 0.7205 - val_loss: 0.5264 - val_accuracy: 0.7748\n",
      "Epoch 61/100\n",
      "120/120 [==============================] - 2s 16ms/step - loss: 0.8491 - accuracy: 0.7179 - val_loss: 0.5547 - val_accuracy: 0.7435\n",
      "Epoch 62/100\n",
      "120/120 [==============================] - 2s 14ms/step - loss: 0.8273 - accuracy: 0.7254 - val_loss: 0.5333 - val_accuracy: 0.7645\n",
      "Epoch 63/100\n",
      "120/120 [==============================] - 2s 14ms/step - loss: 0.8563 - accuracy: 0.7176 - val_loss: 0.5902 - val_accuracy: 0.7319\n",
      "Epoch 64/100\n",
      "120/120 [==============================] - 2s 14ms/step - loss: 0.8562 - accuracy: 0.7160 - val_loss: 0.5372 - val_accuracy: 0.7565\n",
      "Epoch 65/100\n",
      "120/120 [==============================] - 2s 14ms/step - loss: 0.8597 - accuracy: 0.7226 - val_loss: 0.5646 - val_accuracy: 0.7397\n",
      "Epoch 66/100\n",
      "120/120 [==============================] - 2s 14ms/step - loss: 0.8471 - accuracy: 0.7211 - val_loss: 0.5339 - val_accuracy: 0.7608\n",
      "Epoch 67/100\n",
      "120/120 [==============================] - 2s 14ms/step - loss: 0.8357 - accuracy: 0.7259 - val_loss: 0.5614 - val_accuracy: 0.7456\n",
      "Epoch 68/100\n",
      "120/120 [==============================] - 2s 14ms/step - loss: 0.8347 - accuracy: 0.7303 - val_loss: 0.5323 - val_accuracy: 0.7652\n",
      "Epoch 69/100\n",
      "120/120 [==============================] - 2s 14ms/step - loss: 0.8371 - accuracy: 0.7265 - val_loss: 0.5389 - val_accuracy: 0.7606\n",
      "Epoch 70/100\n",
      "120/120 [==============================] - 2s 16ms/step - loss: 0.8138 - accuracy: 0.7259 - val_loss: 0.5550 - val_accuracy: 0.7495\n",
      "Epoch 71/100\n",
      "120/120 [==============================] - 2s 16ms/step - loss: 0.8344 - accuracy: 0.7268 - val_loss: 0.5465 - val_accuracy: 0.7660\n",
      "Epoch 72/100\n",
      "120/120 [==============================] - 2s 14ms/step - loss: 0.8423 - accuracy: 0.7202 - val_loss: 0.5622 - val_accuracy: 0.7416\n",
      "Epoch 73/100\n",
      "120/120 [==============================] - 2s 14ms/step - loss: 0.8358 - accuracy: 0.7277 - val_loss: 0.5557 - val_accuracy: 0.7507\n",
      "Epoch 74/100\n",
      "120/120 [==============================] - 2s 16ms/step - loss: 0.8385 - accuracy: 0.7293 - val_loss: 0.5285 - val_accuracy: 0.7664\n",
      "Epoch 75/100\n",
      "120/120 [==============================] - 2s 14ms/step - loss: 0.8203 - accuracy: 0.7256 - val_loss: 0.5248 - val_accuracy: 0.7727\n",
      "Epoch 76/100\n",
      "120/120 [==============================] - 2s 16ms/step - loss: 0.8151 - accuracy: 0.7374 - val_loss: 0.5335 - val_accuracy: 0.7645\n",
      "Epoch 77/100\n",
      "120/120 [==============================] - 2s 16ms/step - loss: 0.8186 - accuracy: 0.7289 - val_loss: 0.5516 - val_accuracy: 0.7509\n",
      "Epoch 78/100\n",
      "120/120 [==============================] - 2s 16ms/step - loss: 0.8407 - accuracy: 0.7272 - val_loss: 0.5440 - val_accuracy: 0.7580\n",
      "Epoch 79/100\n",
      "120/120 [==============================] - 2s 14ms/step - loss: 0.8011 - accuracy: 0.7331 - val_loss: 0.5453 - val_accuracy: 0.7551\n",
      "Epoch 80/100\n",
      "120/120 [==============================] - 2s 14ms/step - loss: 0.8026 - accuracy: 0.7388 - val_loss: 0.5397 - val_accuracy: 0.7566\n",
      "Epoch 81/100\n",
      "120/120 [==============================] - 2s 16ms/step - loss: 0.8229 - accuracy: 0.7233 - val_loss: 0.5216 - val_accuracy: 0.7697\n",
      "Epoch 82/100\n",
      "120/120 [==============================] - 2s 14ms/step - loss: 0.8328 - accuracy: 0.7256 - val_loss: 0.5314 - val_accuracy: 0.7687\n",
      "Epoch 83/100\n",
      "120/120 [==============================] - 2s 14ms/step - loss: 0.7943 - accuracy: 0.7329 - val_loss: 0.5377 - val_accuracy: 0.7629\n",
      "Epoch 84/100\n",
      "120/120 [==============================] - 2s 14ms/step - loss: 0.8094 - accuracy: 0.7310 - val_loss: 0.5827 - val_accuracy: 0.7399\n",
      "Epoch 85/100\n",
      "120/120 [==============================] - 2s 14ms/step - loss: 0.8334 - accuracy: 0.7303 - val_loss: 0.5662 - val_accuracy: 0.7402\n",
      "Epoch 86/100\n",
      "120/120 [==============================] - 2s 14ms/step - loss: 0.8079 - accuracy: 0.7401 - val_loss: 0.5281 - val_accuracy: 0.7699\n",
      "Epoch 87/100\n",
      "120/120 [==============================] - 2s 14ms/step - loss: 0.7996 - accuracy: 0.7348 - val_loss: 0.5350 - val_accuracy: 0.7608\n",
      "Epoch 88/100\n",
      "120/120 [==============================] - 2s 16ms/step - loss: 0.8117 - accuracy: 0.7334 - val_loss: 0.5564 - val_accuracy: 0.7486\n",
      "Epoch 89/100\n",
      "120/120 [==============================] - 2s 16ms/step - loss: 0.8011 - accuracy: 0.7390 - val_loss: 0.5372 - val_accuracy: 0.7650\n",
      "Epoch 90/100\n",
      "120/120 [==============================] - 2s 16ms/step - loss: 0.8086 - accuracy: 0.7352 - val_loss: 0.5382 - val_accuracy: 0.7652\n",
      "Epoch 91/100\n",
      "120/120 [==============================] - 2s 16ms/step - loss: 0.8024 - accuracy: 0.7364 - val_loss: 0.5337 - val_accuracy: 0.7631\n",
      "Epoch 92/100\n",
      "120/120 [==============================] - 2s 16ms/step - loss: 0.8331 - accuracy: 0.7345 - val_loss: 0.5374 - val_accuracy: 0.7591\n",
      "Epoch 93/100\n",
      "120/120 [==============================] - 2s 14ms/step - loss: 0.8054 - accuracy: 0.7402 - val_loss: 0.5326 - val_accuracy: 0.7655\n",
      "Epoch 94/100\n",
      "120/120 [==============================] - 2s 14ms/step - loss: 0.8127 - accuracy: 0.7387 - val_loss: 0.5680 - val_accuracy: 0.7439\n",
      "Epoch 95/100\n",
      "120/120 [==============================] - 2s 14ms/step - loss: 0.8094 - accuracy: 0.7300 - val_loss: 0.5227 - val_accuracy: 0.7650\n",
      "Epoch 96/100\n",
      "120/120 [==============================] - 2s 14ms/step - loss: 0.7913 - accuracy: 0.7341 - val_loss: 0.5410 - val_accuracy: 0.7612\n",
      "Epoch 97/100\n",
      "120/120 [==============================] - 2s 14ms/step - loss: 0.7981 - accuracy: 0.7338 - val_loss: 0.5322 - val_accuracy: 0.7648\n",
      "Epoch 98/100\n",
      "120/120 [==============================] - 2s 14ms/step - loss: 0.8047 - accuracy: 0.7418 - val_loss: 0.5718 - val_accuracy: 0.7355\n",
      "Epoch 99/100\n",
      "120/120 [==============================] - 2s 14ms/step - loss: 0.8031 - accuracy: 0.7315 - val_loss: 0.5103 - val_accuracy: 0.7725\n",
      "Epoch 100/100\n",
      "120/120 [==============================] - 2s 14ms/step - loss: 0.7910 - accuracy: 0.7476 - val_loss: 0.5267 - val_accuracy: 0.7678\n",
      "0.7909569144248962 0.76778244972229\n"
     ]
    }
   ],
   "source": [
    "nb_epochs = 100\n",
    "\n",
    "x = keras.layers.Input(x_train.shape[1:])\n",
    "drop_out1 = keras.layers.Dropout(0.2)(x)\n",
    "conv1 = keras.layers.Conv2D(128,8,1, padding='same')(drop_out1)\n",
    "# conv1 = keras.layers.Conv2D(128,8,1, padding='same')(x)\n",
    "conv1 = keras.layers.BatchNormalization()(conv1)\n",
    "conv1 = keras.layers.Activation('relu')(conv1)\n",
    "\n",
    "drop_out2 = keras.layers.Dropout(0.2)(conv1)\n",
    "conv2 = keras.layers.Conv2D(256,5,1,padding='same')(drop_out2)\n",
    "# conv2 = keras.layers.Conv2D(256,5,1,padding='same')(conv1)\n",
    "Conv2 = keras.layers.BatchNormalization()(conv2)\n",
    "conv2 = keras.layers.Activation('relu')(conv2)\n",
    "\n",
    "drop_out3 = keras.layers.Dropout(0.2)(conv2)\n",
    "conv3 = keras.layers.Conv2D(128,3,1,padding='same')(drop_out3)\n",
    "# conv3 = keras.layers.Conv2D(128,3,1,padding='same')(conv2)\n",
    "conv3 = keras.layers.BatchNormalization()(conv3)\n",
    "conv3 = keras.layers.Activation('relu')(conv3)\n",
    "# print(conv3.shape)\n",
    "full = keras.layers.GlobalAveragePooling2D()(conv3)\n",
    "out = keras.layers.Dense(nb_classes, activation='softmax')(full)\n",
    "\n",
    "\n",
    "model = keras.models.Model(inputs=x, outputs=out)\n",
    "\n",
    "optimizer = keras.optimizers.Adam()\n",
    "model.compile(loss='categorical_crossentropy',\n",
    "              optimizer=optimizer,\n",
    "              metrics=['accuracy'])\n",
    "\n",
    "reduce_lr = keras.callbacks.ReduceLROnPlateau(monitor='loss',\n",
    "                                              factor=0.5,\n",
    "                                              patience=50,\n",
    "                                              min_lr=0.0001)\n",
    "\n",
    "with tf.device('/gpu:0'):\n",
    "    hist = model.fit(x_train, Y_train, batch_size=batch_size,\n",
    "                    epochs=nb_epochs,\n",
    "                    verbose=1, validation_data=(x_test, Y_test),\n",
    "                    callbacks=[reduce_lr], \n",
    "                    class_weight={0:2.35,1:1,2:2.1}\n",
    "                     )\n",
    "# Print the testing results which has the lowest training loss.\n",
    "log = pd.DataFrame(hist.history)\n",
    "print(log.loc[log['loss'].idxmin]['loss'], log.loc[log['loss'].idxmin]['val_accuracy'])\n",
    "# \"\"\""
   ]
  },
  {
   "cell_type": "markdown",
   "metadata": {
    "id": "ES9prflKXo7L"
   },
   "source": [
    "#### 显示日志"
   ]
  },
  {
   "cell_type": "code",
   "execution_count": null,
   "metadata": {
    "colab": {
     "base_uri": "https://localhost:8080/",
     "height": 419
    },
    "id": "kveJr1yNgZwb",
    "outputId": "cb6b547e-a43a-4e89-f153-d00abccc1246"
   },
   "outputs": [
    {
     "data": {
      "text/html": [
       "<div>\n",
       "<style scoped>\n",
       "    .dataframe tbody tr th:only-of-type {\n",
       "        vertical-align: middle;\n",
       "    }\n",
       "\n",
       "    .dataframe tbody tr th {\n",
       "        vertical-align: top;\n",
       "    }\n",
       "\n",
       "    .dataframe thead th {\n",
       "        text-align: right;\n",
       "    }\n",
       "</style>\n",
       "<table border=\"1\" class=\"dataframe\">\n",
       "  <thead>\n",
       "    <tr style=\"text-align: right;\">\n",
       "      <th></th>\n",
       "      <th>loss</th>\n",
       "      <th>accuracy</th>\n",
       "      <th>val_loss</th>\n",
       "      <th>val_accuracy</th>\n",
       "      <th>lr</th>\n",
       "    </tr>\n",
       "  </thead>\n",
       "  <tbody>\n",
       "    <tr>\n",
       "      <th>0</th>\n",
       "      <td>1.686201</td>\n",
       "      <td>0.447699</td>\n",
       "      <td>1.010353</td>\n",
       "      <td>0.529463</td>\n",
       "      <td>0.001</td>\n",
       "    </tr>\n",
       "    <tr>\n",
       "      <th>1</th>\n",
       "      <td>1.545737</td>\n",
       "      <td>0.523536</td>\n",
       "      <td>1.064593</td>\n",
       "      <td>0.250872</td>\n",
       "      <td>0.001</td>\n",
       "    </tr>\n",
       "    <tr>\n",
       "      <th>2</th>\n",
       "      <td>1.256104</td>\n",
       "      <td>0.614017</td>\n",
       "      <td>0.883269</td>\n",
       "      <td>0.665969</td>\n",
       "      <td>0.001</td>\n",
       "    </tr>\n",
       "    <tr>\n",
       "      <th>3</th>\n",
       "      <td>1.120175</td>\n",
       "      <td>0.642608</td>\n",
       "      <td>0.753045</td>\n",
       "      <td>0.700488</td>\n",
       "      <td>0.001</td>\n",
       "    </tr>\n",
       "    <tr>\n",
       "      <th>4</th>\n",
       "      <td>1.075990</td>\n",
       "      <td>0.658124</td>\n",
       "      <td>0.819752</td>\n",
       "      <td>0.576186</td>\n",
       "      <td>0.001</td>\n",
       "    </tr>\n",
       "    <tr>\n",
       "      <th>...</th>\n",
       "      <td>...</td>\n",
       "      <td>...</td>\n",
       "      <td>...</td>\n",
       "      <td>...</td>\n",
       "      <td>...</td>\n",
       "    </tr>\n",
       "    <tr>\n",
       "      <th>95</th>\n",
       "      <td>0.791291</td>\n",
       "      <td>0.734135</td>\n",
       "      <td>0.540964</td>\n",
       "      <td>0.761158</td>\n",
       "      <td>0.001</td>\n",
       "    </tr>\n",
       "    <tr>\n",
       "      <th>96</th>\n",
       "      <td>0.798126</td>\n",
       "      <td>0.733787</td>\n",
       "      <td>0.532199</td>\n",
       "      <td>0.764819</td>\n",
       "      <td>0.001</td>\n",
       "    </tr>\n",
       "    <tr>\n",
       "      <th>97</th>\n",
       "      <td>0.804744</td>\n",
       "      <td>0.741806</td>\n",
       "      <td>0.571775</td>\n",
       "      <td>0.735530</td>\n",
       "      <td>0.001</td>\n",
       "    </tr>\n",
       "    <tr>\n",
       "      <th>98</th>\n",
       "      <td>0.803057</td>\n",
       "      <td>0.731520</td>\n",
       "      <td>0.510334</td>\n",
       "      <td>0.772490</td>\n",
       "      <td>0.001</td>\n",
       "    </tr>\n",
       "    <tr>\n",
       "      <th>99</th>\n",
       "      <td>0.790957</td>\n",
       "      <td>0.747559</td>\n",
       "      <td>0.526665</td>\n",
       "      <td>0.767782</td>\n",
       "      <td>0.001</td>\n",
       "    </tr>\n",
       "  </tbody>\n",
       "</table>\n",
       "<p>100 rows × 5 columns</p>\n",
       "</div>"
      ],
      "text/plain": [
       "        loss  accuracy  val_loss  val_accuracy     lr\n",
       "0   1.686201  0.447699  1.010353      0.529463  0.001\n",
       "1   1.545737  0.523536  1.064593      0.250872  0.001\n",
       "2   1.256104  0.614017  0.883269      0.665969  0.001\n",
       "3   1.120175  0.642608  0.753045      0.700488  0.001\n",
       "4   1.075990  0.658124  0.819752      0.576186  0.001\n",
       "..       ...       ...       ...           ...    ...\n",
       "95  0.791291  0.734135  0.540964      0.761158  0.001\n",
       "96  0.798126  0.733787  0.532199      0.764819  0.001\n",
       "97  0.804744  0.741806  0.571775      0.735530  0.001\n",
       "98  0.803057  0.731520  0.510334      0.772490  0.001\n",
       "99  0.790957  0.747559  0.526665      0.767782  0.001\n",
       "\n",
       "[100 rows x 5 columns]"
      ]
     },
     "execution_count": 50,
     "metadata": {
      "tags": []
     },
     "output_type": "execute_result"
    }
   ],
   "source": [
    "log"
   ]
  },
  {
   "cell_type": "markdown",
   "metadata": {
    "id": "mgkCmD7gXwkY"
   },
   "source": [
    "#### 最小训练误差，最小训练误差下的验证准确率"
   ]
  },
  {
   "cell_type": "code",
   "execution_count": null,
   "metadata": {
    "colab": {
     "base_uri": "https://localhost:8080/"
    },
    "id": "8WXUfJNKoA_l",
    "outputId": "5e9ba927-2bfd-4ddc-adb7-770c09547693"
   },
   "outputs": [
    {
     "name": "stdout",
     "output_type": "stream",
     "text": [
      "0.7909569144248962 0.76778244972229\n"
     ]
    }
   ],
   "source": [
    "print(log.loc[log['loss'].idxmin]['loss'], log.loc[log['loss'].idxmin]['val_accuracy'])"
   ]
  },
  {
   "cell_type": "markdown",
   "metadata": {
    "id": "P6UENzViYEvL"
   },
   "source": [
    "#### 最小验证误差，最小验证误差下的验证准确率"
   ]
  },
  {
   "cell_type": "code",
   "execution_count": null,
   "metadata": {
    "colab": {
     "base_uri": "https://localhost:8080/"
    },
    "id": "B4Y6_LX73xY9",
    "outputId": "fb10175b-7ab3-4375-d8ab-f1a2d12089a9"
   },
   "outputs": [
    {
     "name": "stdout",
     "output_type": "stream",
     "text": [
      "0.5103335976600647 0.7724895477294922\n"
     ]
    }
   ],
   "source": [
    "print(log.loc[log['val_loss'].idxmin]['val_loss'], log.loc[log['val_loss'].idxmin]['val_accuracy'])"
   ]
  },
  {
   "cell_type": "markdown",
   "metadata": {
    "id": "fyQW3zvcYSn2"
   },
   "source": [
    "#### 获取测试样本数据"
   ]
  },
  {
   "cell_type": "markdown",
   "metadata": {
    "id": "mOLX3Z7ZYYWq"
   },
   "source": [
    "##### 定义获取样本数据的函数"
   ]
  },
  {
   "cell_type": "code",
   "execution_count": null,
   "metadata": {
    "id": "1t1odYHNfqN7"
   },
   "outputs": [],
   "source": [
    "def find_instances_and_labels(pro, stocks=None, specified_stocks=None, start_no=0, early_stop=100, time_span_years=2.5, duration=25,\n",
    "                             times_for_up=1.5, times_for_down=1.5, continuous_slide_days=4, continuous_up_days=4,\n",
    "                             three_trans_day_times=0.05, one_trans_day_times=0.00, days_back_required=66, plain_number=6):\n",
    "    '''\n",
    "    Arguments:\n",
    "        pro: tushare获取数据的接口\n",
    "        stocks: 含股票代码信息的可迭代容器, None or container\n",
    "        specified_stocks: 指定的股票代码, None or an container (注意：stocks、specified_stocks不能同时为None)\n",
    "        start_no: 初始股票大代码索引\n",
    "        early_stop: 查询股票代码的个数上限\n",
    "        time_span_years: 获取多少年前至今的日线行情数据\n",
    "        duration: 股票(几乎在)连续上涨或下跌的最短时间\n",
    "        times_for_up: 股票上涨后价格至少是上涨前价格的多少倍\n",
    "        times_for_down: 股票下跌前至少是股票下跌后的多少倍\n",
    "        continuous_slide_days: 在股票价格趋势为上涨阶段，不能被允许连续下跌的交易天数临界值\n",
    "        continuous_up_days: 在股票价格趋势为下跌阶段，不能被允许连续下跌的交易天数临界值\n",
    "        three_trans_day_times: 在股票价格连续上涨阶段，上涨初期后三个交易日的价格至少比初期价格上涨多少(比率)，用于修正上涨初期交易日\n",
    "        one_trans_day_times: 在股票价格连续下降阶段，下降初期后一天的价格至少比下降初期的价格下降多少(比率)，用于修正下跌初期交易日\n",
    "        days_back_required: 最后获取的数据是价格上涨初期或价格下跌初期或普通期前多少个交易日的数据\n",
    "        plain_number: 单只股票最多获取普通例的个数。通常情况，普通例的个数比反常例(正例及负例)多。\n",
    "    Returns:\n",
    "        results: 含正例、负例即普通例数据的字典，数据包含股票代码，初期日的索引及交易日期\n",
    "        outs: 含正例、负例即普通例数据的字典，数据包含股票代码及66(有些不足66)个交易日的trade_date, close, vol, vol_change, price_change\n",
    "    '''\n",
    "    start_date = datetime.today() - relativedelta(months=time_span_years*12)\n",
    "    start_date = start_date.strftime('%Y%m%d')\n",
    "    results = {'positive':{}, 'negative':{}, 'plain':{}}\n",
    "    outs = {'positive':ddict(list), 'negative':ddict(list), 'plain':ddict(list)}\n",
    "    try:\n",
    "        queried_stock = stocks[start_no:] if specified_stocks is None else specified_stocks\n",
    "    except:\n",
    "        raise Exception('stocks and specified_stocks can not be None simultaneously!')\n",
    "    for nnn, sk in enumerate(queried_stock):\n",
    "        temp_res_pos = ddict(list)\n",
    "        temp_res_neg = ddict(list)\n",
    "        df = ts.pro_bar(api=pro, ts_code=sk, start_date=start_date, adj='qfq')\n",
    "        if len(df) < 120:\n",
    "            continue\n",
    "        df = df[['ts_code', 'trade_date', 'close', 'vol']].sort_values(by='trade_date', ascending=True)\n",
    "        df.reset_index(drop=True, inplace=True)\n",
    "        # 标记涨跌情况\n",
    "        df['up'] = (df['close']-df['close'].shift(1)) > 0\n",
    "        df['down'] = (df['close']-df['close'].shift(1)) < 0\n",
    "        # 计算成交量变化\n",
    "        df['vol_change'] = (df['vol'] - df['vol'].shift(1))/df['vol'].shift(1)\n",
    "        df['price_change'] = (df['close'] - df['close'].shift(1))/df['close'].shift(1)\n",
    "        \n",
    "        '''find negative instances'''\n",
    "        found_neg = False # 初始化\n",
    "        count_neg = 0 # 初始化\n",
    "        temp_start_indices_neg = []\n",
    "        for n, p in enumerate(df.close):\n",
    "            if found_neg:\n",
    "                if count_neg < duration:\n",
    "                    count_neg += 1\n",
    "                    continue\n",
    "            count_neg = 0\n",
    "            found_neg = False\n",
    "            try:\n",
    "                if df.loc[n, 'close']/df.loc[n+duration, 'close'] >= times_for_down and n >= 3:\n",
    "                    invalid_neg = False\n",
    "                    for k, up in enumerate(df.iloc[n:n+duration-continuous_up_days, 4]):\n",
    "                        if sum(df.iloc[k+n:k+n+continuous_up_days, 4]) == continuous_up_days:\n",
    "                            invalid_neg = True\n",
    "                            break\n",
    "                    if not invalid_neg:\n",
    "                        found_neg = True\n",
    "                        # 试图找到更加合适的大跌起始日\n",
    "                        adding_days_neg = 0\n",
    "                        for tt in range(duration):\n",
    "                            if (df.loc[n+tt, 'close'] - df.loc[n+tt-1, 'close'])/df.loc[n+tt-1, 'close']  > -one_trans_day_times:\n",
    "                                adding_days_neg += 1\n",
    "                            else:\n",
    "                                break\n",
    "                        temp_res_neg[sk].append((n+adding_days_neg, df.loc[n+adding_days_neg, 'trade_date']))\n",
    "            except: # 索引越界\n",
    "                break\n",
    "        if len(temp_res_neg):\n",
    "            results['negative'].update(temp_res_neg)\n",
    "            for val in temp_res_neg[sk]:\n",
    "                temp_start_index_neg = val[0] - days_back_required if val[0] - days_back_required >= 0 else 0\n",
    "                temp_start_indices_neg.append(temp_start_index_neg)\n",
    "                if temp_start_index_neg >= val[0] - 1:\n",
    "                    pass\n",
    "                else:\n",
    "                    outs['negative'][sk].append(df.values[temp_start_index_neg+3:val[0]+3, [1,2,3,6,7]]) # 保留的特征： trade_date, close, vol, vol_change, price_change\n",
    "       \n",
    "        '''find positive instances'''\n",
    "        found_pos = False # 初始化\n",
    "        count_pos = 0 # 初始化\n",
    "        temp_start_indices_pos = []\n",
    "        for n, p in enumerate(df.close):\n",
    "            if found_pos:\n",
    "                if count_pos < duration:\n",
    "                    count_pos += 1\n",
    "                    continue\n",
    "            count_pos = 0\n",
    "            found_pos = False\n",
    "            try:\n",
    "                if df.loc[n+duration, 'close']/df.loc[n, 'close'] >= times_for_up and n >= 3:\n",
    "                    invalid_pos = False\n",
    "                    for kk, fall in enumerate(df.iloc[n:n+duration-continuous_slide_days, 5]):\n",
    "                        if sum(df.iloc[kk+n:kk+n+continuous_slide_days, 5]) == continuous_slide_days:\n",
    "                            invalid_pos = True\n",
    "                            break\n",
    "                    if not invalid_pos:\n",
    "                        found_pos = True\n",
    "                        # 试图找到更加合适的大跌起始日\n",
    "                        adding_days_pos = 0\n",
    "                        for ttt in range(duration):\n",
    "                            if df.loc[n+ttt, 'vol_change'] < 0.2:\n",
    "                                adding_days_pos += 1\n",
    "                            else:\n",
    "                                break\n",
    "                        temp_res_pos[sk].append((n+adding_days_pos, df.loc[n+adding_days_pos, 'trade_date']))\n",
    "            except: # 索引越界\n",
    "                break\n",
    "        if len(temp_res_pos):\n",
    "            results['positive'].update(temp_res_pos)\n",
    "            for val in temp_res_pos[sk]:\n",
    "                temp_start_index_pos = val[0] - days_back_required if val[0] - days_back_required >= 0 else 0\n",
    "                temp_start_indices_pos.append(temp_start_index_pos)\n",
    "                if temp_start_index_pos >= val[0] - 1:\n",
    "                    pass\n",
    "                else:\n",
    "                    outs['positive'][sk].append(df.values[temp_start_index_pos+3:val[0]+3, [1,2,3,6,7]]) # 保留的特征： trade_date, close, vol, vol_change, price_change\n",
    "        \n",
    "        '''find plain instances'''\n",
    "        # 寻找空当，既不是底部放量价格大幅上升阶段，也不是价格大幅下降阶段\n",
    "        temp_available_date_interval = []\n",
    "        # 价格大幅上升或价格大幅下降起始点的前days_back_required个交易日以及后duration个交易日已经被占用\n",
    "        combined_start_indices = sorted([y for x in [temp_start_indices_neg, temp_start_indices_pos] for y in x])\n",
    "        \n",
    "        if len(combined_start_indices):\n",
    "            last_index = 0 # 初始化\n",
    "            for st in combined_start_indices:\n",
    "                if (st-days_back_required) - (last_index+duration) >= days_back_required:\n",
    "                    temp_available_date_interval.append((last_index+duration, st-days_back_required))\n",
    "                    last_index = st\n",
    "                else:\n",
    "                    pass\n",
    "            if len(df) - 1 - combined_start_indices[-1]+duration >= 2*days_back_required:\n",
    "                temp_available_date_interval.extend([(i, i+days_back_required) for i in range(combined_start_indices[-1]+duration, len(df), days_back_required)])\n",
    "        else:\n",
    "            temp_available_date_interval = [(i, i+days_back_required) for i in range(0, len(df), days_back_required)]\n",
    "            \n",
    "        if temp_available_date_interval[-1][1] >= len(df):\n",
    "            # 索引越界\n",
    "            temp_available_date_interval.pop()\n",
    "            \n",
    "        if len(temp_available_date_interval):\n",
    "            chose_plain_interval_indices = sorted(np.random.choice(range(len(temp_available_date_interval)), plain_number, replace=False)) \\\n",
    "                if len(temp_available_date_interval) > plain_number else list(range(len(temp_available_date_interval)))\n",
    "#             for plain_interval_index in chose_plain_interval_indices:\n",
    "            results['plain'].update({sk:[(temp_available_date_interval[index][1], df.loc[temp_available_date_interval[index][1], 'trade_date']) \\\n",
    "                                         for index in chose_plain_interval_indices]})\n",
    "            outs['plain'][sk].extend([df.values[temp_available_date_interval[index][1]-days_back_required:temp_available_date_interval[index][1], [1,2,3,6,7]] \\\n",
    "                                         for index in chose_plain_interval_indices])\n",
    "        else:\n",
    "            pass\n",
    "        \n",
    "        if early_stop and specified_stocks is None:\n",
    "            if nnn >= early_stop:\n",
    "#                 print(results)\n",
    "                return results, outs\n",
    "            \n",
    "#     print(results)\n",
    "    return results, outs"
   ]
  },
  {
   "cell_type": "markdown",
   "metadata": {
    "id": "FOhB_pEgYkSp"
   },
   "source": [
    "##### 获取所有上市股票代码"
   ]
  },
  {
   "cell_type": "code",
   "execution_count": null,
   "metadata": {
    "colab": {
     "base_uri": "https://localhost:8080/"
    },
    "id": "vPygu3XfPI1t",
    "outputId": "5e9287ae-84b3-49ce-90cc-4366339eda20"
   },
   "outputs": [
    {
     "data": {
      "text/plain": [
       "0       000001.SZ\n",
       "1       000002.SZ\n",
       "2       000004.SZ\n",
       "3       000005.SZ\n",
       "4       000006.SZ\n",
       "          ...    \n",
       "4305    688777.SH\n",
       "4306    688788.SH\n",
       "4307    688819.SH\n",
       "4308    688981.SH\n",
       "4309    689009.SH\n",
       "Name: ts_code, Length: 4310, dtype: object"
      ]
     },
     "execution_count": 26,
     "metadata": {
      "tags": []
     },
     "output_type": "execute_result"
    }
   ],
   "source": [
    "pro = ts.pro_api('6ddbb5d15f9a2483d319b19fb0d973e677b25d1507b0b98539c272d8')\n",
    "stocks_b = pro.query('stock_basic', exchange='', list_status='L', fields='ts_code,symbol,name,area,industry,list_date')\n",
    "all_stock = stocks_b['ts_code']\n",
    "all_stock"
   ]
  },
  {
   "cell_type": "markdown",
   "metadata": {
    "id": "bgExERRMYrFc"
   },
   "source": [
    "##### 获取测试样本数据"
   ]
  },
  {
   "cell_type": "code",
   "execution_count": null,
   "metadata": {
    "id": "8DmOH-vBP4uR"
   },
   "outputs": [],
   "source": [
    "res_all, out_all = find_instances_and_labels(pro, stocks=all_stock, start_no=300, early_stop=100, times_for_up=1.3, times_for_down=1.3)"
   ]
  },
  {
   "cell_type": "markdown",
   "metadata": {
    "id": "SeWeMq-BY1iN"
   },
   "source": [
    "##### 显示测试样本数据基本信息"
   ]
  },
  {
   "cell_type": "code",
   "execution_count": null,
   "metadata": {
    "colab": {
     "base_uri": "https://localhost:8080/"
    },
    "id": "mlJSOrnQTsBJ",
    "outputId": "23002519-51e9-451c-c155-e63cdf71970e"
   },
   "outputs": [
    {
     "data": {
      "text/plain": [
       "{'negative': {'000788.SZ': [(76, '20190325')],\n",
       "  '000789.SZ': [(84, '20190404')],\n",
       "  '000791.SZ': [(511, '20210105')],\n",
       "  '000793.SZ': [(77, '20190326'),\n",
       "   (376, '20200617'),\n",
       "   (489, '20201203'),\n",
       "   (575, '20210413')],\n",
       "  '000795.SZ': [(121, '20190531')],\n",
       "  '000796.SZ': [(93, '20190418'),\n",
       "   (260, '20191223'),\n",
       "   (393, '20200714'),\n",
       "   (443, '20200922'),\n",
       "   (489, '20201203')],\n",
       "  '000797.SZ': [(84, '20190404')],\n",
       "  '000798.SZ': [(409, '20200805'), (505, '20201225'), (576, '20210414')],\n",
       "  '000799.SZ': [(534, '20210205')],\n",
       "  '000800.SZ': [(83, '20190418')],\n",
       "  '000802.SZ': [(84, '20190404'),\n",
       "   (310, '20200311'),\n",
       "   (336, '20200417'),\n",
       "   (431, '20200904'),\n",
       "   (486, '20201130'),\n",
       "   (572, '20210408')],\n",
       "  '000803.SZ': [(138, '20190708'), (243, '20191223')],\n",
       "  '000806.SZ': [(69, '20190314'), (94, '20190422'), (326, '20200403')],\n",
       "  '000807.SZ': [(491, '20201207')],\n",
       "  '000810.SZ': [(299, '20200225')],\n",
       "  '000811.SZ': [(143, '20190703'), (507, '20201229')],\n",
       "  '000812.SZ': [(87, '20190410'), (143, '20190703')],\n",
       "  '000813.SZ': [(77, '20190326'),\n",
       "   (105, '20190509'),\n",
       "   (213, '20191017'),\n",
       "   (479, '20201123')],\n",
       "  '000815.SZ': [(107, '20190513'), (308, '20200309'), (513, '20210107')],\n",
       "  '000816.SZ': [(84, '20190404'), (498, '20201218')],\n",
       "  '000818.SZ': [(122, '20190618'), (285, '20200221'), (406, '20200818')],\n",
       "  '000819.SZ': [(93, '20190418')],\n",
       "  '000820.SZ': [(17, '20181221'),\n",
       "   (75, '20190322'),\n",
       "   (98, '20190426'),\n",
       "   (139, '20190701'),\n",
       "   (186, '20190904'),\n",
       "   (314, '20200319')],\n",
       "  '000821.SZ': [(507, '20201229')],\n",
       "  '000822.SZ': [(86, '20190409')],\n",
       "  '000823.SZ': [(98, '20190425'), (299, '20200225')],\n",
       "  '000825.SZ': [(86, '20190409')],\n",
       "  '000826.SZ': [(82, '20190402'), (495, '20201211')],\n",
       "  '000828.SZ': [(414, '20200812')],\n",
       "  '000829.SZ': [(92, '20190417')],\n",
       "  '000830.SZ': [(86, '20190409')],\n",
       "  '000833.SZ': [(92, '20190417')],\n",
       "  '000835.SZ': [(91, '20190416'),\n",
       "   (259, '20191220'),\n",
       "   (308, '20200309'),\n",
       "   (365, '20200602'),\n",
       "   (442, '20200922'),\n",
       "   (503, '20201224')],\n",
       "  '000836.SZ': [(96, '20190423'), (320, '20200325'), (508, '20201230')],\n",
       "  '000838.SZ': [(89, '20190412'), (145, '20190705')],\n",
       "  '000839.SZ': [(73, '20190320'), (300, '20200226'), (331, '20200410')],\n",
       "  '000850.SZ': [(104, '20190508')],\n",
       "  '000851.SZ': [(92, '20190417'), (411, '20200807'), (510, '20210104')],\n",
       "  '000856.SZ': [(76, '20190325'), (324, '20200331')],\n",
       "  '000858.SZ': [(538, '20210218')],\n",
       "  '000859.SZ': [(144, '20190704'), (259, '20191220'), (297, '20200221')],\n",
       "  '000860.SZ': [(524, '20210122')],\n",
       "  '000861.SZ': [(259, '20191220'), (428, '20200901'), (512, '20210106')],\n",
       "  '000862.SZ': [(127, '20190625')],\n",
       "  '000868.SZ': [(89, '20190412'), (301, '20200228')],\n",
       "  '000869.SZ': [(423, '20200825'), (512, '20210106')],\n",
       "  '000876.SZ': [(423, '20200825'), (541, '20210223'), (567, '20210331')],\n",
       "  '000877.SZ': [(432, '20200921')],\n",
       "  '000881.SZ': [(90, '20190415'), (309, '20200310')],\n",
       "  '000882.SZ': [(84, '20190404')],\n",
       "  '000883.SZ': [(572, '20210408')],\n",
       "  '000885.SZ': [(491, '20201215')],\n",
       "  '000886.SZ': [(87, '20190410')],\n",
       "  '000887.SZ': [(88, '20190411'), (511, '20210105')],\n",
       "  '000889.SZ': [(140, '20190628'),\n",
       "   (332, '20200413'),\n",
       "   (440, '20200917'),\n",
       "   (580, '20210420')],\n",
       "  '000890.SZ': [(259, '20191220'), (307, '20200306'), (334, '20200415')],\n",
       "  '000892.SZ': [(84, '20190404'),\n",
       "   (289, '20200211'),\n",
       "   (488, '20201202'),\n",
       "   (539, '20210219')],\n",
       "  '000897.SZ': [(422, '20200826')],\n",
       "  '000899.SZ': [(507, '20201229')],\n",
       "  '000901.SZ': [(507, '20210107')],\n",
       "  '000902.SZ': [(192, '20190910')],\n",
       "  '000903.SZ': [(401, '20200724'), (458, '20201021'), (502, '20201222')],\n",
       "  '000905.SZ': [(94, '20190419')],\n",
       "  '000908.SZ': [(88, '20190411'),\n",
       "   (219, '20191025'),\n",
       "   (333, '20200414'),\n",
       "   (411, '20200807'),\n",
       "   (488, '20201202')],\n",
       "  '000909.SZ': [(194, '20190926'), (310, '20200324')],\n",
       "  '000910.SZ': [(82, '20190402'), (306, '20200305'), (492, '20201208')],\n",
       "  '000911.SZ': [(90, '20190416')],\n",
       "  '000912.SZ': [(68, '20190404')],\n",
       "  '000913.SZ': [(568, '20210401')],\n",
       "  '000917.SZ': [(76, '20190325'), (492, '20201208')],\n",
       "  '000918.SZ': [(90, '20190415'), (162, '20190730'), (479, '20201119')],\n",
       "  '000919.SZ': [(510, '20210104')],\n",
       "  '000920.SZ': [(477, '20201117')],\n",
       "  '000921.SZ': [(146, '20190708')],\n",
       "  '000922.SZ': [(102, '20190506'), (566, '20210330')],\n",
       "  '000923.SZ': [(541, '20210223')],\n",
       "  '000927.SZ': [(86, '20190412'),\n",
       "   (143, '20190708'),\n",
       "   (251, '20191230'),\n",
       "   (299, '20200316'),\n",
       "   (487, '20201229')],\n",
       "  '000928.SZ': [(92, '20190417'), (304, '20200303')],\n",
       "  '000930.SZ': [(423, '20200825')]},\n",
       " 'plain': {'000788.SZ': [(101, '20190430'),\n",
       "   (167, '20190806'),\n",
       "   (233, '20191114'),\n",
       "   (365, '20200602'),\n",
       "   (497, '20201215'),\n",
       "   (563, '20210325')],\n",
       "  '000789.SZ': [(193, '20190911'),\n",
       "   (400, '20200723'),\n",
       "   (466, '20201102'),\n",
       "   (532, '20210203'),\n",
       "   (598, '20210519')],\n",
       "  '000790.SZ': [(130, '20190614'), (425, '20200827'), (582, '20210422')],\n",
       "  '000791.SZ': [(349, '20200511'), (561, '20210323')],\n",
       "  '000793.SZ': [(216, '20191022'), (419, '20200819')],\n",
       "  '000795.SZ': [(211, '20191015'),\n",
       "   (368, '20200605'),\n",
       "   (434, '20200909'),\n",
       "   (500, '20201218'),\n",
       "   (566, '20210330')],\n",
       "  '000796.SZ': [(128, '20190612'), (311, '20200312'), (559, '20210319')],\n",
       "  '000797.SZ': [(158, '20190724'),\n",
       "   (315, '20200318'),\n",
       "   (381, '20200624'),\n",
       "   (447, '20200928'),\n",
       "   (513, '20210107'),\n",
       "   (579, '20210419')],\n",
       "  '000798.SZ': [(252, '20191211'), (444, '20200923')],\n",
       "  '000799.SZ': [(196, '20190917'), (354, '20200518')],\n",
       "  '000800.SZ': [(242, '20191211'),\n",
       "   (399, '20200806'),\n",
       "   (465, '20201116'),\n",
       "   (531, '20210224')],\n",
       "  '000801.SZ': [(91, '20190416'),\n",
       "   (157, '20190723'),\n",
       "   (223, '20191031'),\n",
       "   (421, '20200821'),\n",
       "   (487, '20201201'),\n",
       "   (553, '20210311')],\n",
       "  '000802.SZ': [(178, '20190821'), (354, '20200518')],\n",
       "  '000803.SZ': [(111, '20190529'),\n",
       "   (268, '20200212'),\n",
       "   (334, '20200521'),\n",
       "   (400, '20200826'),\n",
       "   (466, '20201204'),\n",
       "   (532, '20210317')],\n",
       "  '000806.SZ': [(194, '20190916'), (403, '20200730'), (560, '20210324')],\n",
       "  '000807.SZ': [(230, '20191111'), (391, '20200710'), (588, '20210430')],\n",
       "  '000809.SZ': [(66, '20190311'),\n",
       "   (198, '20190919'),\n",
       "   (396, '20200717'),\n",
       "   (462, '20201027'),\n",
       "   (528, '20210128'),\n",
       "   (594, '20210513')],\n",
       "  '000810.SZ': [(115, '20190523'),\n",
       "   (324, '20200331'),\n",
       "   (390, '20200709'),\n",
       "   (456, '20201019'),\n",
       "   (522, '20210120'),\n",
       "   (588, '20210430')],\n",
       "  '000811.SZ': [(335, '20200416'), (532, '20210203'), (598, '20210519')],\n",
       "  '000812.SZ': [(342, '20200427'), (539, '20210219'), (605, '20210528')],\n",
       "  '000813.SZ': [(239, '20191122'), (439, '20200916')],\n",
       "  '000815.SZ': [(150, '20190712'),\n",
       "   (381, '20200624'),\n",
       "   (538, '20210218'),\n",
       "   (604, '20210527')],\n",
       "  '000816.SZ': [(307, '20200309'), (523, '20210125'), (589, '20210510')],\n",
       "  '000818.SZ': [(103, '20190507'),\n",
       "   (274, '20200206'),\n",
       "   (431, '20200929'),\n",
       "   (497, '20210108'),\n",
       "   (563, '20210420')],\n",
       "  '000819.SZ': [(130, '20190614'),\n",
       "   (287, '20200207'),\n",
       "   (353, '20200515'),\n",
       "   (419, '20200819'),\n",
       "   (485, '20201127'),\n",
       "   (551, '20210309')],\n",
       "  '000820.SZ': [(98, '20190426'), (404, '20200731')],\n",
       "  '000821.SZ': [(347, '20200507'), (532, '20210203'), (598, '20210519')],\n",
       "  '000822.SZ': [(252, '20191211'), (548, '20210304')],\n",
       "  '000823.SZ': [(101, '20190430'),\n",
       "   (324, '20200331'),\n",
       "   (390, '20200709'),\n",
       "   (456, '20201019'),\n",
       "   (522, '20210120'),\n",
       "   (588, '20210430')],\n",
       "  '000825.SZ': [(395, '20200716')],\n",
       "  '000826.SZ': [(363, '20200529'), (550, '20210322')],\n",
       "  '000828.SZ': [(266, '20191231'),\n",
       "   (439, '20200916'),\n",
       "   (505, '20201225'),\n",
       "   (571, '20210407')],\n",
       "  '000829.SZ': [(238, '20191121'), (444, '20200923')],\n",
       "  '000830.SZ': [(240, '20191125'), (476, '20201116'), (542, '20210224')],\n",
       "  '000831.SZ': [(242, '20191127'), (523, '20210121'), (589, '20210506')],\n",
       "  '000833.SZ': [(183, '20190828'),\n",
       "   (249, '20191206'),\n",
       "   (381, '20200624'),\n",
       "   (447, '20200928'),\n",
       "   (513, '20210107'),\n",
       "   (579, '20210419')],\n",
       "  '000835.SZ': [(93, '20190418'), (310, '20200311')],\n",
       "  '000836.SZ': [(152, '20190716'),\n",
       "   (376, '20200617'),\n",
       "   (533, '20210204'),\n",
       "   (599, '20210520')],\n",
       "  '000837.SZ': [(161, '20190729'),\n",
       "   (337, '20200420'),\n",
       "   (494, '20201211'),\n",
       "   (560, '20210323')],\n",
       "  '000838.SZ': [(275, '20200114'),\n",
       "   (432, '20200907'),\n",
       "   (498, '20201216'),\n",
       "   (564, '20210326')],\n",
       "  '000839.SZ': [(168, '20190807'),\n",
       "   (356, '20200520'),\n",
       "   (422, '20200824'),\n",
       "   (488, '20201202'),\n",
       "   (554, '20210312')],\n",
       "  '000848.SZ': [(240, '20191125'), (446, '20200925')],\n",
       "  '000850.SZ': [(151, '20190715'),\n",
       "   (308, '20200309'),\n",
       "   (374, '20200615'),\n",
       "   (440, '20200917'),\n",
       "   (506, '20201228'),\n",
       "   (572, '20210408')],\n",
       "  '000851.SZ': [(152, '20190716'),\n",
       "   (335, '20200416'),\n",
       "   (535, '20210208'),\n",
       "   (601, '20210524')],\n",
       "  '000852.SZ': [(91, '20190416'),\n",
       "   (157, '20190723'),\n",
       "   (223, '20191031'),\n",
       "   (289, '20200211'),\n",
       "   (355, '20200519'),\n",
       "   (553, '20210311')],\n",
       "  '000856.SZ': [(192, '20190910'), (404, '20200729'), (561, '20210323')],\n",
       "  '000858.SZ': [(196, '20190917'), (406, '20200731'), (563, '20210325')],\n",
       "  '000859.SZ': [(127, '20190611'),\n",
       "   (322, '20200327'),\n",
       "   (388, '20200707'),\n",
       "   (454, '20201015'),\n",
       "   (520, '20210118'),\n",
       "   (586, '20210428')],\n",
       "  '000860.SZ': [(392, '20200713'), (549, '20210305')],\n",
       "  '000861.SZ': [(127, '20190611'),\n",
       "   (296, '20200220'),\n",
       "   (537, '20210210'),\n",
       "   (603, '20210526')],\n",
       "  '000862.SZ': [(404, '20200812'), (561, '20210407')],\n",
       "  '000863.SZ': [(157, '20190723'),\n",
       "   (223, '20191031'),\n",
       "   (289, '20200211'),\n",
       "   (355, '20200519'),\n",
       "   (487, '20201201'),\n",
       "   (553, '20210311')],\n",
       "  '000868.SZ': [(117, '20190528'),\n",
       "   (326, '20200403'),\n",
       "   (392, '20200715'),\n",
       "   (458, '20201023'),\n",
       "   (524, '20210126'),\n",
       "   (590, '20210512')],\n",
       "  '000869.SZ': [(240, '20191125'), (537, '20210210'), (603, '20210526')],\n",
       "  '000875.SZ': [(245, '20191202'), (406, '20200731'), (563, '20210325')],\n",
       "  '000876.SZ': [(150, '20190712'), (409, '20200805')],\n",
       "  '000877.SZ': [(251, '20191210'),\n",
       "   (457, '20201103'),\n",
       "   (523, '20210204'),\n",
       "   (589, '20210520')],\n",
       "  '000878.SZ': [(230, '20191111'), (490, '20201204'), (556, '20210316')],\n",
       "  '000880.SZ': [(66, '20190311'),\n",
       "   (264, '20191227'),\n",
       "   (330, '20200409'),\n",
       "   (396, '20200717'),\n",
       "   (462, '20201027'),\n",
       "   (594, '20210513')],\n",
       "  '000881.SZ': [(177, '20190820'), (406, '20200731'), (563, '20210325')],\n",
       "  '000882.SZ': [(109, '20190515'),\n",
       "   (241, '20191126'),\n",
       "   (373, '20200612'),\n",
       "   (439, '20200916'),\n",
       "   (505, '20201225'),\n",
       "   (571, '20210407')],\n",
       "  '000883.SZ': [(403, '20200728')],\n",
       "  '000885.SZ': [(232, '20191113'), (516, '20210203'), (582, '20210519')],\n",
       "  '000886.SZ': [(122, '20190603'),\n",
       "   (279, '20200120'),\n",
       "   (345, '20200430'),\n",
       "   (411, '20200807'),\n",
       "   (477, '20201117'),\n",
       "   (543, '20210225')],\n",
       "  '000887.SZ': [(115, '20190523'),\n",
       "   (325, '20200401'),\n",
       "   (536, '20210209'),\n",
       "   (602, '20210525')],\n",
       "  '000888.SZ': [(66, '20190311'),\n",
       "   (264, '20191227'),\n",
       "   (330, '20200409'),\n",
       "   (396, '20200717'),\n",
       "   (462, '20201027'),\n",
       "   (528, '20210128')],\n",
       "  '000889.SZ': [(181, '20190826'), (391, '20200710')],\n",
       "  '000890.SZ': [(127, '20190611'),\n",
       "   (376, '20200618'),\n",
       "   (533, '20210205'),\n",
       "   (599, '20210524')],\n",
       "  '000892.SZ': [(157, '20190723'), (356, '20200520'), (564, '20210326')],\n",
       "  '000893.SZ': [(246, '20191204'), (437, '20200915')],\n",
       "  '000895.SZ': [(227, '20191127'),\n",
       "   (384, '20200722'),\n",
       "   (450, '20201030'),\n",
       "   (516, '20210202'),\n",
       "   (582, '20210518')],\n",
       "  '000897.SZ': [(151, '20190716'),\n",
       "   (447, '20200930'),\n",
       "   (513, '20210111'),\n",
       "   (579, '20210421')],\n",
       "  '000898.SZ': [(403, '20200728'), (585, '20210427')],\n",
       "  '000899.SZ': [(359, '20200525'), (561, '20210323')],\n",
       "  '000900.SZ': [(66, '20190311'),\n",
       "   (264, '20191227'),\n",
       "   (330, '20200409'),\n",
       "   (462, '20201027'),\n",
       "   (528, '20210128'),\n",
       "   (594, '20210513')],\n",
       "  '000901.SZ': [(244, '20191129'), (532, '20210218'), (598, '20210527')],\n",
       "  '000902.SZ': [(241, '20191126'), (521, '20210119'), (587, '20210429')],\n",
       "  '000903.SZ': [(151, '20190715'), (326, '20200402'), (554, '20210312')],\n",
       "  '000905.SZ': [(239, '20191122'),\n",
       "   (396, '20200717'),\n",
       "   (462, '20201027'),\n",
       "   (528, '20210128'),\n",
       "   (594, '20210513')],\n",
       "  '000906.SZ': [(404, '20200819'), (561, '20210421')],\n",
       "  '000908.SZ': [(186, '20190902'), (356, '20200520'), (575, '20210413')],\n",
       "  '000909.SZ': [(178, '20190903'),\n",
       "   (335, '20200429'),\n",
       "   (401, '20200807'),\n",
       "   (467, '20201117'),\n",
       "   (533, '20210225')],\n",
       "  '000910.SZ': [(174, '20190815'),\n",
       "   (360, '20200526'),\n",
       "   (517, '20210113'),\n",
       "   (583, '20210423')],\n",
       "  '000911.SZ': [(113, '20190522'),\n",
       "   (270, '20200108'),\n",
       "   (336, '20200420'),\n",
       "   (402, '20200729'),\n",
       "   (534, '20210210'),\n",
       "   (600, '20210526')],\n",
       "  '000912.SZ': [(370, '20200706'), (527, '20210226')],\n",
       "  '000913.SZ': [(245, '20191202'), (436, '20200911')],\n",
       "  '000915.SZ': [(104, '20190508'), (423, '20200825'), (580, '20210420')],\n",
       "  '000917.SZ': [(360, '20200526'), (517, '20210113'), (583, '20210423')],\n",
       "  '000918.SZ': [(347, '20200507'), (538, '20210218'), (604, '20210527')],\n",
       "  '000919.SZ': [(378, '20200619'), (583, '20210423')],\n",
       "  '000920.SZ': [(228, '20191107'), (502, '20201222'), (568, '20210401')],\n",
       "  '000921.SZ': [(211, '20191015'), (475, '20201113'), (541, '20210223')],\n",
       "  '000922.SZ': [(252, '20191211'), (434, '20200909')],\n",
       "  '000923.SZ': [(330, '20200409'), (566, '20210330')],\n",
       "  '000925.SZ': [(152, '20190716'),\n",
       "   (309, '20200310'),\n",
       "   (375, '20200616'),\n",
       "   (441, '20200918'),\n",
       "   (507, '20201229'),\n",
       "   (573, '20210409')],\n",
       "  '000926.SZ': [(66, '20190311'),\n",
       "   (132, '20190618'),\n",
       "   (396, '20200717'),\n",
       "   (462, '20201027'),\n",
       "   (528, '20210128'),\n",
       "   (594, '20210513')],\n",
       "  '000927.SZ': [(92, '20190422'),\n",
       "   (331, '20200506'),\n",
       "   (512, '20210204'),\n",
       "   (578, '20210520')],\n",
       "  '000928.SZ': [(172, '20190813'), (391, '20200710'), (589, '20210506')],\n",
       "  '000929.SZ': [(324, '20200331')],\n",
       "  '000930.SZ': [(132, '20190618'),\n",
       "   (291, '20200213'),\n",
       "   (448, '20200929'),\n",
       "   (514, '20210108'),\n",
       "   (580, '20210420')],\n",
       "  '000931.SZ': [(224, '20191101'),\n",
       "   (381, '20200624'),\n",
       "   (447, '20200928'),\n",
       "   (513, '20210107'),\n",
       "   (579, '20210419')]},\n",
       " 'positive': {'000788.SZ': [(44, '20190131')],\n",
       "  '000789.SZ': [(56, '20190225'), (325, '20200401'), (375, '20200616')],\n",
       "  '000790.SZ': [(44, '20190131'),\n",
       "   (262, '20191225'),\n",
       "   (384, '20200701'),\n",
       "   (557, '20210317')],\n",
       "  '000791.SZ': [(481, '20201123'), (536, '20210209')],\n",
       "  '000793.SZ': [(42, '20190129'), (348, '20200508'), (551, '20210309')],\n",
       "  '000795.SZ': [(42, '20190129'), (98, '20190425'), (343, '20200428')],\n",
       "  '000796.SZ': [(49, '20190214'),\n",
       "   (323, '20200330'),\n",
       "   (373, '20200612'),\n",
       "   (534, '20210205')],\n",
       "  '000797.SZ': [(290, '20200212')],\n",
       "  '000798.SZ': [(44, '20190131'),\n",
       "   (384, '20200701'),\n",
       "   (464, '20201029'),\n",
       "   (539, '20210219')],\n",
       "  '000799.SZ': [(48, '20190213'),\n",
       "   (173, '20190814'),\n",
       "   (328, '20200407'),\n",
       "   (356, '20200520'),\n",
       "   (405, '20200730'),\n",
       "   (444, '20200923'),\n",
       "   (486, '20201130'),\n",
       "   (552, '20210310'),\n",
       "   (578, '20210416')],\n",
       "  '000800.SZ': [(56, '20190225'), (212, '20191030'), (374, '20200702')],\n",
       "  '000801.SZ': [(39, '20190124')],\n",
       "  '000802.SZ': [(378, '20200619'), (517, '20210113')],\n",
       "  '000803.SZ': [(42, '20190129')],\n",
       "  '000806.SZ': [(44, '20190131'), (353, '20200518'), (535, '20210210')],\n",
       "  '000807.SZ': [(44, '20190131'),\n",
       "   (362, '20200528'),\n",
       "   (448, '20200929'),\n",
       "   (523, '20210121'),\n",
       "   (563, '20210325')],\n",
       "  '000810.SZ': [(24, '20190103'),\n",
       "   (51, '20190218'),\n",
       "   (207, '20191009'),\n",
       "   (247, '20191204')],\n",
       "  '000811.SZ': [(48, '20190213'), (70, '20190315'), (467, '20201103')],\n",
       "  '000812.SZ': [(35, '20190118'), (474, '20201112'), (514, '20210108')],\n",
       "  '000813.SZ': [(50, '20190215'), (371, '20200610'), (571, '20210409')],\n",
       "  '000815.SZ': [(42, '20190129'), (97, '20190424'), (282, '20200123')],\n",
       "  '000816.SZ': [(38, '20190123'), (439, '20200917')],\n",
       "  '000818.SZ': [(44, '20190131'),\n",
       "   (158, '20190809'),\n",
       "   (210, '20191030'),\n",
       "   (235, '20191204'),\n",
       "   (262, '20200113')],\n",
       "  '000819.SZ': [(262, '20191225')],\n",
       "  '000820.SZ': [(47, '20190212'),\n",
       "   (230, '20191113'),\n",
       "   (385, '20200706'),\n",
       "   (536, '20210218'),\n",
       "   (559, '20210323')],\n",
       "  '000821.SZ': [(42, '20190129'), (479, '20201119')],\n",
       "  '000822.SZ': [(61, '20190304'), (384, '20200701'), (523, '20210121')],\n",
       "  '000823.SZ': [(233, '20191114')],\n",
       "  '000825.SZ': [(527, '20210128'), (564, '20210329')],\n",
       "  '000826.SZ': [(44, '20190131'), (525, '20210208')],\n",
       "  '000828.SZ': [(39, '20190124'), (398, '20200721')],\n",
       "  '000829.SZ': [(44, '20190131'), (370, '20200609'), (576, '20210414')],\n",
       "  '000830.SZ': [(32, '20190115'),\n",
       "   (61, '20190304'),\n",
       "   (372, '20200611'),\n",
       "   (451, '20201012')],\n",
       "  '000831.SZ': [(41, '20190128'),\n",
       "   (102, '20190506'),\n",
       "   (374, '20200615'),\n",
       "   (498, '20201216')],\n",
       "  '000833.SZ': [(67, '20190312')],\n",
       "  '000835.SZ': [(44, '20190131'),\n",
       "   (225, '20191104'),\n",
       "   (522, '20210121'),\n",
       "   (567, '20210401')],\n",
       "  '000836.SZ': [(44, '20190131'), (284, '20200204')],\n",
       "  '000837.SZ': [(51, '20190218'),\n",
       "   (293, '20200217'),\n",
       "   (348, '20200511'),\n",
       "   (386, '20200706'),\n",
       "   (469, '20201106')],\n",
       "  '000838.SZ': [(42, '20190129'), (407, '20200803')],\n",
       "  '000839.SZ': [(33, '20190116')],\n",
       "  '000848.SZ': [(372, '20200611'), (578, '20210416')],\n",
       "  '000850.SZ': [(51, '20190218'), (283, '20200203')],\n",
       "  '000851.SZ': [(46, '20190211'),\n",
       "   (72, '20190319'),\n",
       "   (284, '20200204'),\n",
       "   (328, '20200407'),\n",
       "   (362, '20200528'),\n",
       "   (467, '20201103')],\n",
       "  '000852.SZ': [(44, '20190131')],\n",
       "  '000856.SZ': [(48, '20190213'), (536, '20210209')],\n",
       "  '000858.SZ': [(23, '20190102'),\n",
       "   (56, '20190225'),\n",
       "   (328, '20200407'),\n",
       "   (364, '20200601')],\n",
       "  '000859.SZ': [(24, '20190103'), (52, '20190219')],\n",
       "  '000860.SZ': [(24, '20190103'), (55, '20190222')],\n",
       "  '000861.SZ': [(111, '20190517'), (293, '20200217')],\n",
       "  '000862.SZ': [(35, '20190118'), (106, '20190510'), (536, '20210302')],\n",
       "  '000863.SZ': [(44, '20190131')],\n",
       "  '000868.SZ': [(45, '20190201'), (172, '20190814'), (249, '20191209')],\n",
       "  '000869.SZ': [(372, '20200611'), (477, '20201117')],\n",
       "  '000875.SZ': [(42, '20190129'), (377, '20200618'), (538, '20210218')],\n",
       "  '000876.SZ': [(31, '20190114'),\n",
       "   (60, '20190301'),\n",
       "   (95, '20190422'),\n",
       "   (201, '20190924'),\n",
       "   (282, '20200123')],\n",
       "  '000877.SZ': [(39, '20190124'), (69, '20190314'), (383, '20200630')],\n",
       "  '000878.SZ': [(40, '20190125'), (362, '20200528'), (465, '20201030')],\n",
       "  '000881.SZ': [(40, '20190125'), (374, '20200615'), (538, '20210218')],\n",
       "  '000882.SZ': [(37, '20190122')],\n",
       "  '000883.SZ': [(535, '20210208')],\n",
       "  '000885.SZ': [(364, '20200601')],\n",
       "  '000886.SZ': [(254, '20191213')],\n",
       "  '000887.SZ': [(42, '20190129'),\n",
       "   (247, '20191204'),\n",
       "   (397, '20200720'),\n",
       "   (457, '20201020')],\n",
       "  '000889.SZ': [(42, '20190129'),\n",
       "   (116, '20190524'),\n",
       "   (313, '20200316'),\n",
       "   (523, '20210121')],\n",
       "  '000890.SZ': [(44, '20190131'), (383, '20200701'), (508, '20201231')],\n",
       "  '000892.SZ': [(44, '20190131'), (167, '20190806'), (519, '20210115')],\n",
       "  '000893.SZ': [(42, '20190129'),\n",
       "   (71, '20190318'),\n",
       "   (378, '20200622'),\n",
       "   (569, '20210412')],\n",
       "  '000895.SZ': [(188, '20190926'), (359, '20200615')],\n",
       "  '000897.SZ': [(44, '20190131'), (283, '20200204'), (399, '20200724')],\n",
       "  '000898.SZ': [(535, '20210208'), (560, '20210322')],\n",
       "  '000899.SZ': [(491, '20201207'), (536, '20210209')],\n",
       "  '000901.SZ': [(39, '20190124'), (376, '20200629')],\n",
       "  '000902.SZ': [(373, '20200612'), (496, '20201214')],\n",
       "  '000903.SZ': [(283, '20200203'),\n",
       "   (311, '20200312'),\n",
       "   (344, '20200429'),\n",
       "   (387, '20200706'),\n",
       "   (529, '20210129')],\n",
       "  '000905.SZ': [(47, '20190212'), (371, '20200610')],\n",
       "  '000906.SZ': [(71, '20190318'), (536, '20210309')],\n",
       "  '000908.SZ': [(42, '20190129'),\n",
       "   (318, '20200323'),\n",
       "   (362, '20200528'),\n",
       "   (550, '20210308')],\n",
       "  '000909.SZ': [(42, '20190129'), (166, '20190816')],\n",
       "  '000910.SZ': [(35, '20190118'), (342, '20200427'), (401, '20200724')],\n",
       "  '000911.SZ': [(42, '20190129'), (245, '20191203')],\n",
       "  '000912.SZ': [(26, '20190129'), (56, '20190319'), (502, '20210115')],\n",
       "  '000913.SZ': [(202, '20190925'), (377, '20200618'), (413, '20200811')],\n",
       "  '000915.SZ': [(28, '20190109'),\n",
       "   (61, '20190304'),\n",
       "   (236, '20191119'),\n",
       "   (343, '20200428'),\n",
       "   (555, '20210315')],\n",
       "  '000917.SZ': [(37, '20190122')],\n",
       "  '000918.SZ': [(134, '20190620'), (513, '20210107')],\n",
       "  '000919.SZ': [(558, '20210318')],\n",
       "  '000920.SZ': [(49, '20190214'), (71, '20190318'), (360, '20200526')],\n",
       "  '000921.SZ': [(21, '20181227'),\n",
       "   (50, '20190215'),\n",
       "   (343, '20200428'),\n",
       "   (399, '20200722'),\n",
       "   (450, '20201009')],\n",
       "  '000922.SZ': [(40, '20190125'),\n",
       "   (71, '20190318'),\n",
       "   (384, '20200701'),\n",
       "   (448, '20200929')],\n",
       "  '000923.SZ': [(462, '20201027')],\n",
       "  '000925.SZ': [(48, '20190213'), (284, '20200204')],\n",
       "  '000927.SZ': [(59, '20190228'), (224, '20191106'), (463, '20201125')],\n",
       "  '000928.SZ': [(46, '20190211'), (523, '20210121'), (564, '20210326')],\n",
       "  '000929.SZ': [(456, '20201019'), (574, '20210412')],\n",
       "  '000930.SZ': [(44, '20190131'), (264, '20191227'), (384, '20200701')],\n",
       "  '000931.SZ': [(46, '20190211'), (356, '20200520')]}}"
      ]
     },
     "execution_count": 28,
     "metadata": {
      "tags": []
     },
     "output_type": "execute_result"
    }
   ],
   "source": [
    "res_all"
   ]
  },
  {
   "cell_type": "code",
   "execution_count": null,
   "metadata": {
    "colab": {
     "base_uri": "https://localhost:8080/"
    },
    "id": "-WOHQKofUlwQ",
    "outputId": "ce743c0a-89e1-46a6-f999-d7cf6a640b7a"
   },
   "outputs": [
    {
     "data": {
      "text/plain": [
       "{'000788.SZ': [array([['20181203', 5.6634, 52995.58, 0.6172375279225616,\n",
       "          0.030852399934472818],\n",
       "         ['20181204', 5.7332, 33881.92, -0.3606651724540047,\n",
       "          0.012324751915810266],\n",
       "         ['20181205', 5.6833, 36103.86, 0.06557892823074969,\n",
       "          -0.008703690783506603],\n",
       "         ['20181206', 5.7332, 91432.68, 1.532490431771007,\n",
       "          0.0087801101472736],\n",
       "         ['20181207', 5.5238, 82486.8, -0.09784116576261344,\n",
       "          -0.036524105211749196],\n",
       "         ['20181210', 5.3044, 46615.65, -0.43487139760543503,\n",
       "          -0.03971903399833437],\n",
       "         ['20181211', 5.3044, 26327.59, -0.4352199315036903, 0.0],\n",
       "         ['20181212', 5.2944, 19986.26, -0.24086253242321085,\n",
       "          -0.001885227358419385],\n",
       "         ['20181213', 5.3642, 28714.26, 0.43670001290886845,\n",
       "          0.013183741311574466],\n",
       "         ['20181214', 5.2546, 18977.81, -0.33908065191302156,\n",
       "          -0.020431751239700303],\n",
       "         ['20181217', 5.2246, 15646.02, -0.17556240683197907,\n",
       "          -0.005709283294637127],\n",
       "         ['20181218', 5.2246, 15062.11, -0.03732003410451986, 0.0],\n",
       "         ['20181219', 5.1947, 10845.01, -0.2799806932760417,\n",
       "          -0.005722926157026298],\n",
       "         ['20181220', 5.2147, 14521.0, 0.33895681055158083,\n",
       "          0.0038500779640786905],\n",
       "         ['20181221', 5.2147, 11730.37, -0.19217891329798217, 0.0],\n",
       "         ['20181224', 5.2944, 12766.26, 0.08830838242953967,\n",
       "          0.015283717184114287],\n",
       "         ['20181225', 5.2147, 19481.88, 0.5260444327469439,\n",
       "          -0.015053641583560132],\n",
       "         ['20181226', 5.2546, 22906.0, 0.17575921830952654,\n",
       "          0.00765144687134452],\n",
       "         ['20181227', 5.1947, 18067.51, -0.21123242818475516,\n",
       "          -0.011399535644958672],\n",
       "         ['20181228', 5.2047, 14130.0, -0.21793318503767253,\n",
       "          0.0019250389820393453],\n",
       "         ['20190102', 5.1349, 16219.08, 0.14784713375796177,\n",
       "          -0.013410955482544597],\n",
       "         ['20190103', 5.0751, 21267.0, 0.31123343617517146,\n",
       "          -0.011645796412783127],\n",
       "         ['20190104', 5.2346, 23893.01, 0.12347815864955088,\n",
       "          0.031427952158578236],\n",
       "         ['20190107', 5.2845, 24944.0, 0.043987341904598944,\n",
       "          0.00953272456348146],\n",
       "         ['20190108', 5.3044, 20337.62, -0.18466885824246315,\n",
       "          0.003765729964991921],\n",
       "         ['20190109', 5.3244, 30013.0, 0.47573806571270394,\n",
       "          0.00377045471683877],\n",
       "         ['20190110', 5.2944, 17804.88, -0.406761070202912,\n",
       "          -0.005634437683119105],\n",
       "         ['20190111', 5.3543, 23672.68, 0.3295613337467031,\n",
       "          0.011313841039588969],\n",
       "         ['20190114', 5.3244, 15822.96, -0.33159405694665756,\n",
       "          -0.005584296733466649],\n",
       "         ['20190115', 5.3543, 21277.03, 0.34469340755459155,\n",
       "          0.0056156562241755845],\n",
       "         ['20190116', 5.3244, 15833.0, -0.2558641878119267,\n",
       "          -0.005584296733466649],\n",
       "         ['20190117', 5.2047, 31221.51, 0.971926356344344,\n",
       "          -0.022481406355645692],\n",
       "         ['20190118', 5.2745, 18844.54, -0.3964244522446223,\n",
       "          0.013410955482544597],\n",
       "         ['20190121', 5.3244, 30842.0, 0.6366544367758512,\n",
       "          0.009460612380320421],\n",
       "         ['20190122', 5.2944, 17880.0, -0.4202710589455937,\n",
       "          -0.005634437683119105],\n",
       "         ['20190123', 5.2446, 16718.49, -0.06496140939597307,\n",
       "          -0.009406165004533146],\n",
       "         ['20190124', 5.2745, 19373.11, 0.158783478651481,\n",
       "          0.005701102085955],\n",
       "         ['20190125', 5.1848, 24237.28, 0.25107842777953554,\n",
       "          -0.017006351312920595],\n",
       "         ['20190128', 5.1748, 24080.5, -0.006468547625806148,\n",
       "          -0.0019287147045208661],\n",
       "         ['20190129', 5.095, 23622.34, -0.019026183011150093,\n",
       "          -0.01542088583133658],\n",
       "         ['20190130', 5.0751, 13867.7, -0.41294130894737774,\n",
       "          -0.0039057899901864196],\n",
       "         ['20190131', 5.0851, 19115.66, 0.3784304534998593,\n",
       "          0.001970404524048745],\n",
       "         ['20190201', 5.1748, 23162.0, 0.21167670904378924,\n",
       "          0.017639771095947093],\n",
       "         ['20190211', 5.2944, 25209.02, 0.08837837837837839,\n",
       "          0.023112004328669736]], dtype=object)],\n",
       " '000789.SZ': [array([['20181203', 7.942, 144802.82, 0.44964150603206304,\n",
       "          0.020258725896997825],\n",
       "         ['20181204', 7.9683, 114405.66, -0.20992104988010593,\n",
       "          0.0033115084361621744],\n",
       "         ['20181205', 7.8237, 97315.04, -0.1493861405108804,\n",
       "          -0.018146907119460928],\n",
       "         ['20181206', 7.758, 87912.09, -0.09662381066688147,\n",
       "          -0.008397561256183092],\n",
       "         ['20181207', 7.85, 71089.87, -0.19135274795537224,\n",
       "          0.011858726475895802],\n",
       "         ['20181210', 7.7119, 70521.65, -0.007992981278485967,\n",
       "          -0.017592356687898048],\n",
       "         ['20181211', 7.6002, 126072.64, 0.7877154037093574,\n",
       "          -0.014484108974442085],\n",
       "         ['20181212', 7.5607, 69212.68, -0.45100951324569716,\n",
       "          -0.005197231651798678],\n",
       "         ['20181213', 7.7843, 183856.64, 1.6564011103167806,\n",
       "          0.029573981245122838],\n",
       "         ['20181214', 7.5213, 121041.43, -0.34165320327838045,\n",
       "          -0.0337859537787598],\n",
       "         ['20181217', 7.5673, 93080.13, -0.2310060282665199,\n",
       "          0.006115963995585904],\n",
       "         ['20181218', 7.4884, 75605.7, -0.1877353415814955,\n",
       "          -0.010426440077702742],\n",
       "         ['20181219', 7.3635, 68363.29, -0.09579185167255913,\n",
       "          -0.016679130388333987],\n",
       "         ['20181220', 7.3832, 76494.08, 0.11893503077455765,\n",
       "          0.00267535818564545],\n",
       "         ['20181221', 7.2714, 72367.95, -0.053940514089456396,\n",
       "          -0.015142485643081667],\n",
       "         ['20181224', 7.3438, 52144.78, -0.27944925896063105,\n",
       "          0.009956817119124243],\n",
       "         ['20181225', 7.3766, 98836.97, 0.8954336368856097,\n",
       "          0.004466352569514412],\n",
       "         ['20181226', 7.278, 59077.75, -0.40227072926254215,\n",
       "          -0.013366591654691897],\n",
       "         ['20181227', 7.1662, 67726.25, 0.14639183110392662,\n",
       "          -0.01536136301181639],\n",
       "         ['20181228', 7.1597, 58795.11, -0.13187117255126335,\n",
       "          -0.0009070358069827733],\n",
       "         ['20190102', 7.0216, 85588.51, 0.4557079661897051,\n",
       "          -0.019288517675321547],\n",
       "         ['20190103', 6.8309, 129600.88, 0.5142322257975984,\n",
       "          -0.027159052067904827],\n",
       "         ['20190104', 7.0216, 138320.63, 0.06728156475480722,\n",
       "          0.027917258340775086],\n",
       "         ['20190107', 7.1465, 112034.52, -0.19003752368681373,\n",
       "          0.017787968554175592],\n",
       "         ['20190108', 7.1334, 116718.68, 0.04180997071259812,\n",
       "          -0.0018330651367801957],\n",
       "         ['20190109', 7.1794, 140904.07, 0.20721096228984098,\n",
       "          0.006448537864132148],\n",
       "         ['20190110', 7.0479, 158561.72, 0.12531682015998538,\n",
       "          -0.018316293840710915],\n",
       "         ['20190111', 7.1662, 134153.66, -0.1539341273543198,\n",
       "          0.01678514167340621],\n",
       "         ['20190114', 7.278, 161344.5, 0.2026842950091708,\n",
       "          0.015601015880103776],\n",
       "         ['20190115', 7.3175, 136535.9, -0.15376167145455846,\n",
       "          0.0054273151964825935],\n",
       "         ['20190116', 7.2517, 105250.6, -0.22913607336971442,\n",
       "          -0.008992142125042747],\n",
       "         ['20190117', 7.2254, 83796.03, -0.20384273343809922,\n",
       "          -0.0036267357998814058],\n",
       "         ['20190118', 7.4227, 180609.79, 1.1553501997648339,\n",
       "          0.027306446701912734],\n",
       "         ['20190121', 7.449, 129483.86, -0.2830739684709229,\n",
       "          0.0035431850943726663],\n",
       "         ['20190122', 7.3175, 108330.46, -0.16336707910931905,\n",
       "          -0.01765337629211974],\n",
       "         ['20190123', 7.3569, 83772.43, -0.2266955203550323,\n",
       "          0.005384352579432941],\n",
       "         ['20190124', 7.278, 77686.65, -0.07264657358035334,\n",
       "          -0.01072462586143632],\n",
       "         ['20190125', 7.2583, 77274.94, -0.005299623551794187,\n",
       "          -0.002706787579005137],\n",
       "         ['20190128', 7.2714, 101812.3, 0.3175332132254001,\n",
       "          0.0018048303321713992],\n",
       "         ['20190129', 7.3503, 127762.37, 0.25488148288566304,\n",
       "          0.01085073025827213],\n",
       "         ['20190130', 7.2517, 87024.46, -0.318856874680706,\n",
       "          -0.013414418459110546],\n",
       "         ['20190131', 7.3109, 92839.48, 0.06682052379296567,\n",
       "          0.008163603017223629],\n",
       "         ['20190201', 7.4227, 136595.06, 0.47130358765473485,\n",
       "          0.015292234882162206],\n",
       "         ['20190211', 7.5739, 166143.27, 0.21631975563391526,\n",
       "          0.020369946245975216],\n",
       "         ['20190212', 7.6067, 145750.2, -0.12274388243351644,\n",
       "          0.004330661878292549],\n",
       "         ['20190213', 7.6988, 151857.87, 0.041905053989634206,\n",
       "          0.012107747117672617],\n",
       "         ['20190214', 7.6659, 105088.75, -0.3079795600978731,\n",
       "          -0.004273393256091935],\n",
       "         ['20190215', 7.5541, 93245.03, -0.11270207324761215,\n",
       "          -0.014584067102362368],\n",
       "         ['20190218', 7.7777, 139367.67, 0.49463912446593683,\n",
       "          0.02959981996531688],\n",
       "         ['20190219', 7.7777, 127105.48, -0.08798446583773709, 0.0],\n",
       "         ['20190220', 7.804, 94422.85, -0.2571299836954315,\n",
       "          0.0033814623860524305],\n",
       "         ['20190221', 7.7974, 153224.04, 0.6227432237006191,\n",
       "          -0.0008457201435162231],\n",
       "         ['20190222', 7.8171, 151588.03, -0.010677240986466675,\n",
       "          0.002526483186703295],\n",
       "         ['20190225', 8.1919, 299557.8, 0.976130964958117,\n",
       "          0.047946169295518856],\n",
       "         ['20190226', 8.251, 349864.69, 0.16793717272593142,\n",
       "          0.007214443535687574],\n",
       "         ['20190227', 8.1196, 195696.64, -0.44065049833980097,\n",
       "          -0.015925342382741403]], dtype=object),\n",
       "  array([['20191225', 10.0588, 194555.73, -0.07985171553059564,\n",
       "          -0.0035859336305102425],\n",
       "         ['20191226', 10.1403, 203437.87, 0.0456534485003345,\n",
       "          0.008102358134171086],\n",
       "         ['20191227', 9.9863, 194688.09, -0.04300959305167715,\n",
       "          -0.015186927408459307],\n",
       "         ['20191230', 10.3125, 368830.13, 0.89446683667193,\n",
       "          0.03266475070847061],\n",
       "         ['20191231', 11.0646, 930321.71, 1.5223582194871117,\n",
       "          0.07293090909090913],\n",
       "         ['20200102', 11.1915, 745157.87, -0.1990320531163354,\n",
       "          0.011469009272815928],\n",
       "         ['20200103', 10.8471, 494868.06, -0.3358882997504945,\n",
       "          -0.030773354778179895],\n",
       "         ['20200106', 10.7656, 331683.15, -0.32975437937942487,\n",
       "          -0.007513528961657967],\n",
       "         ['20200107', 10.829, 292842.54, -0.1171015470638169,\n",
       "          0.005889128334695833],\n",
       "         ['20200108', 10.5209, 299731.49, 0.023524416910193486,\n",
       "          -0.028451380552221014],\n",
       "         ['20200109', 10.684, 245334.65, -0.18148523533513278,\n",
       "          0.015502476023914307],\n",
       "         ['20200110', 10.7656, 273375.01, 0.1142943322518854,\n",
       "          0.0076375889180082274],\n",
       "         ['20200113', 10.7112, 176448.72, -0.3545543171630794,\n",
       "          -0.005053132198855553],\n",
       "         ['20200114', 10.7928, 316848.53, 0.7956975261707766,\n",
       "          0.007618194039883477],\n",
       "         ['20200115', 10.5572, 204130.74, -0.35574660863978136,\n",
       "          -0.02182936772663255],\n",
       "         ['20200116', 10.539, 119387.71, -0.41514095329297285,\n",
       "          -0.0017239419543060865],\n",
       "         ['20200117', 10.385, 152483.16, 0.2772098568604758,\n",
       "          -0.014612392067558584],\n",
       "         ['20200120', 10.4484, 132699.6, -0.12974258928002277,\n",
       "          0.006104959075589762],\n",
       "         ['20200121', 10.3306, 198858.52, 0.4985615631094591,\n",
       "          -0.011274453504842753],\n",
       "         ['20200122', 10.3487, 139892.42, -0.29652287465480476,\n",
       "          0.0017520763556810516],\n",
       "         ['20200123', 9.8866, 215154.27, 0.5379980559346959,\n",
       "          -0.04465295157845909],\n",
       "         ['20200203', 8.8988, 57659.0, -0.7320108961816095,\n",
       "          -0.09991301357392836],\n",
       "         ['20200204', 9.0529, 289896.48, 4.027775022112766,\n",
       "          0.0173169416101047],\n",
       "         ['20200205', 9.0801, 220186.83, -0.24046394078327546,\n",
       "          0.0030045620740315874],\n",
       "         ['20200206', 9.1435, 206812.28, -0.06074182547611948,\n",
       "          0.00698230195702687],\n",
       "         ['20200207', 9.071, 156782.63, -0.24190850756057616,\n",
       "          -0.007929129983048044],\n",
       "         ['20200210', 9.7416, 464475.52, 1.962544511467884,\n",
       "          0.07392790210561133],\n",
       "         ['20200211', 9.5966, 212895.02, -0.5416442614672137,\n",
       "          -0.014884618543155084],\n",
       "         ['20200212', 9.6963, 172967.0, -0.187547928551828,\n",
       "          0.010389096138215653],\n",
       "         ['20200213', 9.651, 234745.29, 0.3571680725225043,\n",
       "          -0.004671885152068418],\n",
       "         ['20200214', 9.8141, 224930.94, -0.04180850657323095,\n",
       "          0.016899803129209412],\n",
       "         ['20200217', 10.0044, 266696.7, 0.1856825921769589,\n",
       "          0.01939046881527604],\n",
       "         ['20200218', 9.9138, 246248.45, -0.0766723022819555,\n",
       "          -0.009056015353244596],\n",
       "         ['20200219', 9.95, 285503.74, 0.15941334859163572,\n",
       "          0.0036514757207124536],\n",
       "         ['20200220', 10.0406, 253484.73, -0.11214917885138731,\n",
       "          0.00910552763819098],\n",
       "         ['20200221', 10.0769, 245890.1, -0.029960897447353158,\n",
       "          0.003615321793518382],\n",
       "         ['20200224', 10.2128, 313237.55, 0.2738924828612457,\n",
       "          0.013486290426619245],\n",
       "         ['20200225', 10.0588, 291325.28, -0.06995416098740384,\n",
       "          -0.015079116402945316],\n",
       "         ['20200226', 10.2762, 537686.99, 0.8456585367394136,\n",
       "          0.021612916053604762],\n",
       "         ['20200227', 10.4847, 605197.11, 0.1255565435942573,\n",
       "          0.020289601214456783],\n",
       "         ['20200228', 10.1131, 415282.86, -0.3138056128523152,\n",
       "          -0.03544212042309278],\n",
       "         ['20200302', 11.0103, 795215.77, 0.9148774163229372,\n",
       "          0.08871661508340684],\n",
       "         ['20200303', 11.0918, 809476.13, 0.01793269265774242,\n",
       "          0.007402159795827393],\n",
       "         ['20200304', 11.2549, 526576.15, -0.3494852652418546,\n",
       "          0.014704556519230425],\n",
       "         ['20200305', 11.1915, 390620.96, -0.25818713969480006,\n",
       "          -0.005633102026672799],\n",
       "         ['20200306', 10.829, 295689.89, -0.24302605267264715,\n",
       "          -0.0323906536210516],\n",
       "         ['20200309', 10.3669, 243339.79, -0.17704392936802812,\n",
       "          -0.04267245359682346],\n",
       "         ['20200310', 10.8109, 272444.3, 0.11960440172977867,\n",
       "          0.042828618005382596],\n",
       "         ['20200311', 10.5934, 178771.49, -0.3438237100207272,\n",
       "          -0.020118584021681762],\n",
       "         ['20200312', 10.394, 157638.56, -0.1182119699287621,\n",
       "          -0.018823040761228753],\n",
       "         ['20200313', 10.2672, 238423.63, 0.5124702357088267,\n",
       "          -0.012199345776409406],\n",
       "         ['20200316', 9.9681, 213256.72, -0.10555543508837611,\n",
       "          -0.029131603553062276],\n",
       "         ['20200317', 10.0859, 192141.5, -0.09901315184815747,\n",
       "          0.011817698458081359],\n",
       "         ['20200318', 10.0859, 305404.65, 0.589477806720568, 0.0],\n",
       "         ['20200319', 10.0678, 217625.54, -0.28741903569575644,\n",
       "          -0.0017945845189819894],\n",
       "         ['20200320', 10.3578, 223776.02, 0.02826175640965661,\n",
       "          0.028804704106160147],\n",
       "         ['20200323', 10.2853, 229606.3, 0.026054087475503404,\n",
       "          -0.006999555890246943],\n",
       "         ['20200324', 10.5028, 346131.96, 0.5075020154063719,\n",
       "          0.021146685074815624],\n",
       "         ['20200325', 10.6115, 285987.31, -0.17376219751565275,\n",
       "          0.010349621053433266],\n",
       "         ['20200326', 10.684, 327165.82, 0.14398719299817886,\n",
       "          0.006832210337841002],\n",
       "         ['20200327', 10.7475, 305758.9, -0.06543140722952044,\n",
       "          0.005943466866342308],\n",
       "         ['20200330', 10.7746, 274939.43, -0.10079664075191279,\n",
       "          0.0025215166317747394],\n",
       "         ['20200331', 10.6478, 213875.42, -0.22209986395912723,\n",
       "          -0.011768418317153246],\n",
       "         ['20200401', 10.7022, 280907.38, 0.31341591287114706,\n",
       "          0.005109036608501224],\n",
       "         ['20200402', 10.7565, 176309.07, -0.3723587112592058,\n",
       "          0.005073723159724295],\n",
       "         ['20200403', 10.7928, 241741.32, 0.37112242722396527,\n",
       "          0.00337470366754975]], dtype=object),\n",
       "  array([['20200313', 10.2672, 238423.63, 0.5124702357088267,\n",
       "          -0.012199345776409406],\n",
       "         ['20200316', 9.9681, 213256.72, -0.10555543508837611,\n",
       "          -0.029131603553062276],\n",
       "         ['20200317', 10.0859, 192141.5, -0.09901315184815747,\n",
       "          0.011817698458081359],\n",
       "         ['20200318', 10.0859, 305404.65, 0.589477806720568, 0.0],\n",
       "         ['20200319', 10.0678, 217625.54, -0.28741903569575644,\n",
       "          -0.0017945845189819894],\n",
       "         ['20200320', 10.3578, 223776.02, 0.02826175640965661,\n",
       "          0.028804704106160147],\n",
       "         ['20200323', 10.2853, 229606.3, 0.026054087475503404,\n",
       "          -0.006999555890246943],\n",
       "         ['20200324', 10.5028, 346131.96, 0.5075020154063719,\n",
       "          0.021146685074815624],\n",
       "         ['20200325', 10.6115, 285987.31, -0.17376219751565275,\n",
       "          0.010349621053433266],\n",
       "         ['20200326', 10.684, 327165.82, 0.14398719299817886,\n",
       "          0.006832210337841002],\n",
       "         ['20200327', 10.7475, 305758.9, -0.06543140722952044,\n",
       "          0.005943466866342308],\n",
       "         ['20200330', 10.7746, 274939.43, -0.10079664075191279,\n",
       "          0.0025215166317747394],\n",
       "         ['20200331', 10.6478, 213875.42, -0.22209986395912723,\n",
       "          -0.011768418317153246],\n",
       "         ['20200401', 10.7022, 280907.38, 0.31341591287114706,\n",
       "          0.005109036608501224],\n",
       "         ['20200402', 10.7565, 176309.07, -0.3723587112592058,\n",
       "          0.005073723159724295],\n",
       "         ['20200403', 10.7928, 241741.32, 0.37112242722396527,\n",
       "          0.00337470366754975],\n",
       "         ['20200407', 11.2006, 508454.96, 1.1033018269280568,\n",
       "          0.037784448891853825],\n",
       "         ['20200408', 11.1643, 251288.4, -0.5057804136673187,\n",
       "          -0.003240897809045845],\n",
       "         ['20200409', 11.1462, 214822.68, -0.14511501525736964,\n",
       "          -0.0016212391282929021],\n",
       "         ['20200410', 10.9015, 246153.67, 0.14584582037613542,\n",
       "          -0.021953670309163655],\n",
       "         ['20200413', 11.409, 478569.61, 0.9441904319362777,\n",
       "          0.04655322662018991],\n",
       "         ['20200414', 11.4905, 355319.02, -0.25753952491885135,\n",
       "          0.007143483215005708],\n",
       "         ['20200415', 11.3818, 268588.07, -0.24409318138950176,\n",
       "          -0.009459988686306138],\n",
       "         ['20200416', 11.3909, 193392.35, -0.2799667163176682,\n",
       "          0.000799522043964936],\n",
       "         ['20200417', 11.5721, 501863.52, 1.5950536306115524,\n",
       "          0.015907434882230592],\n",
       "         ['20200420', 12.0343, 521930.75, 0.03998543269293608,\n",
       "          0.039940892318593796],\n",
       "         ['20200421', 12.1792, 401906.55, -0.2299619250254943,\n",
       "          0.012040583997407395],\n",
       "         ['20200422', 12.1611, 249420.34, -0.37940712834861734,\n",
       "          -0.0014861403047819602],\n",
       "         ['20200423', 11.9618, 203215.34, -0.18524952696319796,\n",
       "          -0.016388320135513987],\n",
       "         ['20200424', 11.9074, 218135.74, 0.0734216225999474,\n",
       "          -0.004547810530187709],\n",
       "         ['20200427', 11.998, 247742.98, 0.13572851473124037,\n",
       "          0.007608713908997636],\n",
       "         ['20200428', 12.9133, 653504.33, 1.6378318772140383,\n",
       "          0.0762877146191032],\n",
       "         ['20200429', 13.3029, 420588.2, -0.35641099730739345,\n",
       "          0.03017044442551476],\n",
       "         ['20200430', 13.2939, 285268.45, -0.3217392927333672,\n",
       "          -0.0006765442121641571],\n",
       "         ['20200506', 13.466, 273818.61, -0.04013707088884181,\n",
       "          0.012945787165541983],\n",
       "         ['20200507', 13.7742, 402809.72, 0.4710823343964824,\n",
       "          0.02288727164711133],\n",
       "         ['20200508', 13.8557, 238393.98, -0.40817222583407364,\n",
       "          0.0059168590553353466],\n",
       "         ['20200511', 14.1366, 362066.99, 0.5187757257964315,\n",
       "          0.020273244946123186],\n",
       "         ['20200512', 14.191, 260132.21, -0.281535690398067,\n",
       "          0.003848167168909152],\n",
       "         ['20200513', 14.046, 229443.26, -0.117974433077703,\n",
       "          -0.010217743640335519],\n",
       "         ['20200514', 13.8104, 213546.73, -0.06928305499146063,\n",
       "          -0.016773458635910565],\n",
       "         ['20200515', 13.7017, 285875.51, 0.3387023533443944,\n",
       "          -0.007870879916584524],\n",
       "         ['20200518', 13.6836, 251666.38, -0.11966443015702885,\n",
       "          -0.0013210039630119218],\n",
       "         ['20200519', 13.5886, 201145.85, -0.2007440564766736,\n",
       "          -0.006942617439855056],\n",
       "         ['20200520', 13.332, 214487.62, 0.06632883551910213,\n",
       "          -0.018883475854760523],\n",
       "         ['20200521', 13.3225, 201850.93, -0.05891570804879089,\n",
       "          -0.0007125712571257839],\n",
       "         ['20200522', 12.7239, 297756.4, 0.475130186420246,\n",
       "          -0.044931506849315024],\n",
       "         ['20200525', 12.8854, 170436.05, -0.42759903733387433,\n",
       "          0.01269264926634131],\n",
       "         ['20200526', 12.9614, 230071.19, 0.3498974542064312,\n",
       "          0.005898148291865113],\n",
       "         ['20200527', 12.5908, 176967.95, -0.23081221077702074,\n",
       "          -0.02859259030660265],\n",
       "         ['20200528', 12.7144, 192525.72, 0.0879129243459055,\n",
       "          0.009816691552562165],\n",
       "         ['20200529', 12.5053, 139229.16, -0.27682825962162355,\n",
       "          -0.016445919587239618],\n",
       "         ['20200601', 13.0945, 318608.18, 1.2883724932334577,\n",
       "          0.047116022806330114],\n",
       "         ['20200602', 12.8284, 359153.46, 0.12725749853629004,\n",
       "          -0.020321509030508975],\n",
       "         ['20200603', 12.6003, 276003.11, -0.23151760809989141,\n",
       "          -0.017780861214180998],\n",
       "         ['20200604', 12.3533, 208275.87, -0.24538578568915398,\n",
       "          -0.01960270787203478],\n",
       "         ['20200605', 12.4198, 155643.66, -0.25270430991357756,\n",
       "          0.005383176964859556],\n",
       "         ['20200608', 12.2297, 156805.57, 0.007465193249760404,\n",
       "          -0.015306204608769951],\n",
       "         ['20200609', 12.3153, 134375.85, -0.14304160241246533,\n",
       "          0.006999354031578963],\n",
       "         ['20200610', 12.7049, 309912.49, 1.3063109182193078,\n",
       "          0.031635445340348976],\n",
       "         ['20200611', 12.4008, 215465.02, -0.30475528753294195,\n",
       "          -0.023935646876402022],\n",
       "         ['20200612', 12.3153, 117011.13, -0.4569367686689932,\n",
       "          -0.006894716469905142],\n",
       "         ['20200615', 12.2297, 131801.48, 0.12640122354172637,\n",
       "          -0.006950703596339612],\n",
       "         ['20200616', 12.6288, 225837.95, 0.7134705164160523,\n",
       "          0.032633670490690755],\n",
       "         ['20200617', 12.6669, 171951.26, -0.23860777163448393,\n",
       "          0.003016913721018626],\n",
       "         ['20200618', 12.7619, 189866.06, 0.10418533717054465,\n",
       "          0.00749986184465028]], dtype=object)]}"
      ]
     },
     "execution_count": 29,
     "metadata": {
      "tags": []
     },
     "output_type": "execute_result"
    }
   ],
   "source": [
    "{key:value for no,(key,value) in enumerate(out_all['positive'].items()) if no < 2}"
   ]
  },
  {
   "cell_type": "markdown",
   "metadata": {
    "id": "CGvGco1kZG2V"
   },
   "source": [
    "##### 删除含空值的测试样本"
   ]
  },
  {
   "cell_type": "code",
   "execution_count": null,
   "metadata": {
    "colab": {
     "base_uri": "https://localhost:8080/"
    },
    "id": "5RVdkY4xVQqH",
    "outputId": "e0ea558e-ae37-4b80-ccdf-a02ea1405c3b"
   },
   "outputs": [
    {
     "name": "stdout",
     "output_type": "stream",
     "text": [
      "omitted\n",
      "omitted\n",
      "omitted\n",
      "omitted\n",
      "omitted\n",
      "omitted number: 5\n"
     ]
    }
   ],
   "source": [
    "data_to_test = []\n",
    "count_omiteed = 0\n",
    "dd = {'positive':1, 'negative':-1, 'plain':0}\n",
    "for key, values in out_all.items():\n",
    "    for code, vals in values.items():\n",
    "        for val in vals:\n",
    "            if np.isnan(val[0,-1]):\n",
    "              print('omitted')\n",
    "              count_omiteed += 1\n",
    "              continue\n",
    "            if len(val) == 66:\n",
    "                data_to_test.append([y for x in [[code], list(val[:,-1]), list(val[:,-2]), [dd[key]]] for y in x])\n",
    "print('omitted number:', count_omiteed)"
   ]
  },
  {
   "cell_type": "markdown",
   "metadata": {
    "id": "y5iLuZaAZOD-"
   },
   "source": [
    "##### 将测试样本数据转为适合模型输入的格式"
   ]
  },
  {
   "cell_type": "code",
   "execution_count": null,
   "metadata": {
    "colab": {
     "base_uri": "https://localhost:8080/"
    },
    "id": "gUkyPaDaXEZ5",
    "outputId": "46f26ded-633a-44e0-88de-51c2174bb4fa"
   },
   "outputs": [
    {
     "name": "stdout",
     "output_type": "stream",
     "text": [
      "(708, 134)\n",
      "(708, 66, 2)\n",
      "(708, 66, 1, 2)\n"
     ]
    }
   ],
   "source": [
    "data_to_test = np.array(data_to_test)\n",
    "print(data_to_test.shape)\n",
    "\n",
    "new_x_test_pc, new_x_test_vc = data_to_test[:,1:67], data_to_test[:,67:-1]\n",
    "new_y_test = data_to_test[:,-1].astype(np.int32) # 字符型转为整型\n",
    "\n",
    "new_x_test = np.concatenate((new_x_test_pc.reshape(new_x_test_pc.shape+(1,)), new_x_test_vc.reshape(new_x_test_vc.shape+(1,))), axis=-1)\n",
    "print(new_x_test.shape)\n",
    "\n",
    "new_x_test = new_x_test.reshape(new_x_test.shape[:-1]+(1,) + new_x_test.shape[-1:])\n",
    "print(new_x_test.shape)\n",
    "new_x_test = new_x_test.astype(np.float32) # float64转为float32"
   ]
  },
  {
   "cell_type": "markdown",
   "metadata": {
    "id": "gpZ8a-FWZWAC"
   },
   "source": [
    "#### 用模型预测测试样本数据的标签"
   ]
  },
  {
   "cell_type": "code",
   "execution_count": null,
   "metadata": {
    "colab": {
     "base_uri": "https://localhost:8080/"
    },
    "id": "tPVa-NwGZUFD",
    "outputId": "97b22b96-195c-4c54-86c8-8bd1876f6f34"
   },
   "outputs": [
    {
     "data": {
      "text/plain": [
       "array([2, 2, 2, 2, 2, 2, 2, 2, 2, 1, 2, 2, 2, 2, 2, 2, 1, 2, 2, 2, 2, 2,\n",
       "       2, 2, 2, 2, 2, 2, 2, 2, 2, 2, 2, 2, 2, 2, 2, 2, 2, 2, 2, 2, 2, 2,\n",
       "       2, 2, 2, 2, 1, 0, 2, 2, 2, 2, 2, 2, 2, 2, 1, 2, 2, 2, 2, 2, 2, 2,\n",
       "       1, 2, 2, 1, 2, 2, 1, 1, 2, 2, 2, 2, 2, 2, 2, 2, 2, 2, 2, 2, 2, 2,\n",
       "       2, 2, 2, 2, 2, 2, 1, 2, 1, 2, 2, 2, 2, 2, 2, 1, 2, 2, 2, 2, 2, 2,\n",
       "       2, 2, 2, 1, 2, 2, 2, 2, 2, 2, 2, 2, 2, 2, 2, 1, 0, 2, 1, 2, 1, 2,\n",
       "       1, 1, 2, 2, 2, 1, 2, 0, 2, 2, 2, 2, 2, 1, 2, 2, 2, 1, 2, 1, 2, 2,\n",
       "       1, 2, 2, 1, 1, 2, 1, 2, 2, 2, 2, 2, 2, 2, 2, 2, 2, 2, 2, 2, 2, 2,\n",
       "       2, 2, 2, 2, 2, 1, 0, 0, 0, 0, 0, 1, 0, 0, 0, 0, 0, 0, 1, 0, 0, 0,\n",
       "       0, 0, 0, 0, 0, 1, 0, 0, 1, 0, 1, 0, 0, 1, 1, 0, 1, 0, 0, 1, 1, 0,\n",
       "       0, 1, 0, 0, 1, 0, 0, 0, 0, 0, 0, 0, 1, 2, 1, 1, 0, 0, 0, 0, 0, 0,\n",
       "       2, 0, 0, 0, 0, 0, 0, 0, 0, 2, 0, 0, 0, 1, 0, 1, 0, 0, 0, 0, 0, 0,\n",
       "       0, 0, 0, 0, 0, 0, 0, 0, 1, 0, 0, 0, 0, 0, 0, 0, 1, 0, 0, 0, 0, 0,\n",
       "       0, 0, 1, 0, 0, 0, 1, 0, 1, 1, 1, 1, 2, 0, 0, 1, 0, 0, 0, 0, 1, 0,\n",
       "       1, 0, 0, 0, 0, 0, 0, 0, 0, 0, 0, 0, 0, 0, 0, 0, 0, 1, 0, 0, 1, 1,\n",
       "       0, 2, 0, 0, 0, 0, 1, 0, 0, 0, 0, 0, 0, 1, 1, 1, 1, 1, 1, 1, 2, 1,\n",
       "       1, 1, 2, 1, 2, 1, 1, 1, 1, 1, 0, 1, 1, 1, 2, 1, 1, 1, 2, 1, 1, 1,\n",
       "       1, 1, 1, 0, 2, 1, 2, 1, 1, 1, 1, 2, 1, 1, 1, 1, 2, 1, 1, 1, 1, 1,\n",
       "       1, 2, 1, 1, 1, 2, 0, 1, 1, 1, 1, 1, 1, 0, 2, 1, 1, 1, 1, 2, 1, 0,\n",
       "       1, 1, 1, 1, 1, 1, 1, 1, 1, 1, 1, 0, 0, 1, 0, 1, 2, 1, 1, 1, 1, 1,\n",
       "       1, 1, 1, 1, 1, 1, 1, 0, 1, 1, 1, 1, 1, 1, 1, 0, 2, 2, 1, 2, 0, 1,\n",
       "       1, 0, 1, 1, 1, 2, 0, 1, 1, 1, 2, 1, 2, 0, 1, 1, 1, 1, 1, 2, 1, 1,\n",
       "       1, 1, 2, 1, 1, 1, 2, 1, 1, 1, 1, 1, 1, 1, 1, 0, 2, 2, 1, 1, 1, 1,\n",
       "       1, 1, 1, 2, 1, 1, 2, 1, 2, 2, 1, 1, 1, 2, 1, 1, 1, 1, 1, 1, 2, 1,\n",
       "       2, 1, 1, 1, 1, 1, 1, 2, 1, 1, 0, 0, 1, 1, 2, 1, 1, 1, 1, 1, 1, 0,\n",
       "       1, 2, 1, 1, 2, 1, 0, 2, 1, 2, 2, 1, 2, 2, 1, 2, 2, 1, 1, 1, 1, 1,\n",
       "       1, 1, 2, 1, 1, 2, 0, 0, 2, 1, 1, 2, 2, 1, 1, 2, 1, 1, 1, 1, 1, 2,\n",
       "       1, 1, 0, 0, 1, 1, 1, 1, 1, 1, 1, 1, 1, 1, 1, 1, 2, 1, 2, 1, 1, 1,\n",
       "       1, 2, 2, 1, 1, 1, 1, 1, 1, 1, 1, 0, 1, 1, 0, 1, 1, 1, 1, 2, 0, 1,\n",
       "       1, 1, 1, 1, 1, 1, 1, 1, 1, 0, 2, 1, 2, 2, 1, 2, 1, 1, 1, 1, 1, 1,\n",
       "       1, 2, 1, 1, 1, 1, 1, 1, 1, 1, 1, 2, 1, 1, 1, 2, 1, 1, 2, 1, 2, 1,\n",
       "       1, 1, 2, 1, 1, 1, 1, 1, 1, 2, 1, 1, 1, 1, 1, 1, 0, 1, 2, 1, 2, 1,\n",
       "       2, 1, 1, 1])"
      ]
     },
     "execution_count": 57,
     "metadata": {
      "tags": []
     },
     "output_type": "execute_result"
    }
   ],
   "source": [
    "hist.model.predict(new_x_test).argmax(axis=-1)"
   ]
  },
  {
   "cell_type": "markdown",
   "metadata": {
    "id": "N9alNNyrZi5B"
   },
   "source": [
    "#### 查看模型预测效果"
   ]
  },
  {
   "cell_type": "code",
   "execution_count": null,
   "metadata": {
    "colab": {
     "base_uri": "https://localhost:8080/"
    },
    "id": "LRnBQGeJayIM",
    "outputId": "de5d0d3d-a7a8-49aa-8d54-83b1ae52b9e8"
   },
   "outputs": [
    {
     "name": "stdout",
     "output_type": "stream",
     "text": [
      "              precision    recall  f1-score   support\n",
      "\n",
      "           0       0.80      0.77      0.78       161\n",
      "           1       0.82      0.73      0.78       365\n",
      "           2       0.67      0.84      0.75       182\n",
      "\n",
      "    accuracy                           0.77       708\n",
      "   macro avg       0.77      0.78      0.77       708\n",
      "weighted avg       0.78      0.77      0.77       708\n",
      "\n"
     ]
    }
   ],
   "source": [
    "print(classification_report(new_y_test+1, hist.model.predict(new_x_test).argmax(axis=-1)))"
   ]
  },
  {
   "cell_type": "markdown",
   "metadata": {
    "id": "Sehh3s5ve2jz"
   },
   "source": [
    "##### 定义新的评价标准，给不同的类赋予不同的权重"
   ]
  },
  {
   "cell_type": "code",
   "execution_count": null,
   "metadata": {
    "id": "HIUVnHitbkz8"
   },
   "outputs": [],
   "source": [
    "def score(p_1, p_2, p_3):\n",
    "    return p_1 * 0.4 + p_2 * 0.2 + p_3 * 0.4"
   ]
  },
  {
   "cell_type": "code",
   "execution_count": null,
   "metadata": {
    "id": "c87Pfxh5cJ4b"
   },
   "outputs": [],
   "source": [
    "report = classification_report(new_y_test+1, hist.model.predict(new_x_test).argmax(axis=-1), output_dict=True)"
   ]
  },
  {
   "cell_type": "code",
   "execution_count": null,
   "metadata": {
    "colab": {
     "base_uri": "https://localhost:8080/"
    },
    "id": "2VyCkWcOmdoZ",
    "outputId": "d1c28264-1834-45d8-bd08-9445d0003b41"
   },
   "outputs": [
    {
     "data": {
      "text/plain": [
       "0.7683280362106681"
      ]
     },
     "execution_count": 60,
     "metadata": {
      "tags": []
     },
     "output_type": "execute_result"
    }
   ],
   "source": [
    "score(report['0']['f1-score'], report['1']['f1-score'], report['2']['f1-score'])"
   ]
  },
  {
   "cell_type": "markdown",
   "metadata": {
    "id": "m-w6JmdRyx26"
   },
   "source": [
    "#### 简单的调参过程记录\n",
    "数据量未加倍：0.6174705072382867(none of class_weight)  \n",
    "数据量未加倍：0.6954985754985755(class_weight)  \n",
    "数据量加倍：0.6930637718357805  \n",
    "数据量加至5倍：0.7657705578516697  \n",
    "数据量加至5倍：0.7233109553223769(none of class_weight)  \n",
    "数据量加至5倍：0.7683280362106681(class_weight={0:2.35,1:1,2:2.1})"
   ]
  },
  {
   "cell_type": "markdown",
   "metadata": {
    "id": "c4ZSxdDEuplY"
   },
   "source": [
    "### 2.4 ResNet"
   ]
  },
  {
   "cell_type": "markdown",
   "metadata": {
    "id": "iMV309WcgZT4"
   },
   "source": [
    "#### ResNet网络结构\n",
    "堆叠了三个残差块，然后是一个全局平均池化层和一个 softmax 层"
   ]
  },
  {
   "cell_type": "code",
   "execution_count": 14,
   "metadata": {
    "colab": {
     "base_uri": "https://localhost:8080/",
     "height": 234
    },
    "id": "Ip5OY-WhgUql",
    "outputId": "986a358a-84fa-45e1-a83b-b4af3006de1b"
   },
   "outputs": [
    {
     "data": {
      "image/png": "[encoded data removed]",
      "text/plain": [
       "<Figure size 1152x288 with 1 Axes>"
      ]
     },
     "metadata": {
      "needs_background": "light",
      "tags": []
     },
     "output_type": "display_data"
    }
   ],
   "source": [
    "import matplotlib.pyplot as plt\n",
    "plt.figure(figsize=(16, 4))\n",
    "fcn_img = plt.imread(\"ResNet.png\")\n",
    "plt.imshow(fcn_img)\n",
    "plt.show()"
   ]
  },
  {
   "cell_type": "markdown",
   "metadata": {
    "id": "uQD_1QXug5mL"
   },
   "source": [
    "#### ResNet定义"
   ]
  },
  {
   "cell_type": "code",
   "execution_count": null,
   "metadata": {
    "id": "7hvRnLF2utKq"
   },
   "outputs": [],
   "source": [
    "def build_resnet(input_shape, n_feature_maps, nb_classes, dropout=[0.2, 0.2]):\n",
    "  '''\n",
    "  dropout: list; the first element represents whether uses dropout outside the block,\n",
    "                 the  second element represents whether uses dropout inside the block.\n",
    "  '''\n",
    "  print('build conv_x')\n",
    "  x = keras.layers.Input(shape=(input_shape))\n",
    "  if dropout[0]:\n",
    "    drop_out1 = keras.layers.Dropout(dropout[0])(x)\n",
    "    conv_x = keras.layers.BatchNormalization()(drop_out1)\n",
    "  else:\n",
    "    conv_x = keras.layers.BatchNormalization()(x)\n",
    "  conv_x = keras.layers.Conv2D(n_feature_maps, 8, 1, padding='same')(conv_x)\n",
    "  conv_x = keras.layers.BatchNormalization()(conv_x)\n",
    "  conv_x = keras.layers.Activation('relu')(conv_x)\n",
    "\n",
    "  print('build conv_y')\n",
    "  if dropout[1]:\n",
    "    conv_x = keras.layers.Dropout(dropout[1])(conv_x)\n",
    "  conv_y = keras.layers.Conv2D(n_feature_maps, 5, 1, padding='same')(conv_x)\n",
    "  conv_y = keras.layers.BatchNormalization()(conv_y)\n",
    "  conv_y = keras.layers.Activation('relu')(conv_y)\n",
    "\n",
    "  print('build conv_z')\n",
    "  if dropout[1]:\n",
    "    conv_y = keras.layers.Dropout(dropout[1])(conv_y)\n",
    "  conv_z = keras.layers.Conv2D(n_feature_maps, 3, 1, padding='same')(conv_y)\n",
    "  conv_z = keras.layers.BatchNormalization()(conv_z)\n",
    "\n",
    "  is_expand_channels = not (input_shape[-1] == n_feature_maps)\n",
    "  if is_expand_channels:\n",
    "    shortcut_y = keras.layers.Conv2D(n_feature_maps, 1, 1, padding='same')(x)\n",
    "    shortcut_y = keras.layers.BatchNormalization()(shortcut_y)\n",
    "  else:\n",
    "    shortcut_y = keras.layers.BatchNormalization()(x)\n",
    "  print('Merging skip connection')\n",
    "  y = keras.layers.Add()([shortcut_y, conv_z])\n",
    "  y = keras.layers.Activation('relu')(y)\n",
    "\n",
    "  print('build conv_x')\n",
    "  x1 = y\n",
    "  if dropout[0]:\n",
    "    drop_out2 = keras.layers.Dropout(dropout[0])(x1)\n",
    "    conv_x = keras.layers.Conv2D(n_feature_maps*2, 8, 1, padding='same')(drop_out2)\n",
    "  else:\n",
    "    conv_x = keras.layers.Conv2D(n_feature_maps*2, 8, 1, padding='same')(x1)\n",
    "  conv_x = keras.layers.BatchNormalization()(conv_x)\n",
    "  conv_x = keras.layers.Activation('relu')(conv_x)\n",
    "\n",
    "  print ('build conv_y')\n",
    "  if dropout[1]:\n",
    "    conv_x = keras.layers.Dropout(dropout[1])(conv_x)\n",
    "  conv_y = keras.layers.Conv2D(n_feature_maps*2, 5, 1, padding='same')(conv_x)\n",
    "  conv_y = keras.layers.BatchNormalization()(conv_y)\n",
    "  conv_y = keras.layers.Activation('relu')(conv_y)\n",
    "\n",
    "  print ('build conv_z')\n",
    "  if dropout[1]:\n",
    "    conv_y = keras.layers.Dropout(dropout[1])(conv_y)\n",
    "  conv_z = keras.layers.Conv2D(n_feature_maps*2, 3, 1, padding='same')(conv_y)\n",
    "  conv_z = keras.layers.BatchNormalization()(conv_z)\n",
    "\n",
    "  is_expand_channels = not (input_shape[-1] == n_feature_maps*2)\n",
    "  if is_expand_channels:\n",
    "      shortcut_y = keras.layers.Conv2D(n_feature_maps*2, 1, 1,padding='same')(x1)\n",
    "      shortcut_y = keras.layers.BatchNormalization()(shortcut_y)\n",
    "  else:\n",
    "      shortcut_y = keras.layers.BatchNormalization()(x1)\n",
    "  print ('Merging skip connection')\n",
    "  y = keras.layers.Add()([shortcut_y, conv_z])\n",
    "  y = keras.layers.Activation('relu')(y)\n",
    "\n",
    "  print ('build conv_x')\n",
    "  x1 = y\n",
    "  if dropout[0]:\n",
    "    drop_out3 = keras.layers.Dropout(dropout[0])(x1)\n",
    "    conv_x = keras.layers.Conv2D(n_feature_maps*2, 8, 1, padding='same')(drop_out3)\n",
    "  else:\n",
    "    conv_x = keras.layers.Conv2D(n_feature_maps*2, 8, 1, padding='same')(x1)\n",
    "  conv_x = keras.layers.BatchNormalization()(conv_x)\n",
    "  conv_x = keras.layers.Activation('relu')(conv_x)\n",
    "  \n",
    "  print ('build conv_y')\n",
    "  if dropout[1]:\n",
    "    conv_x = keras.layers.Dropout(dropout[1])(conv_x)\n",
    "  conv_y = keras.layers.Conv2D(n_feature_maps*2, 5, 1, padding='same')(conv_x)\n",
    "  conv_y = keras.layers.BatchNormalization()(conv_y)\n",
    "  conv_y = keras.layers.Activation('relu')(conv_y)\n",
    "    \n",
    "  print ('build conv_z')\n",
    "  if dropout[1]:\n",
    "    conv_y = keras.layers.Dropout(dropout[1])(conv_y)\n",
    "  conv_z = keras.layers.Conv2D(n_feature_maps*2, 3, 1, padding='same')(conv_y)\n",
    "  conv_z = keras.layers.BatchNormalization()(conv_z)\n",
    "\n",
    "  is_expand_channels = not (input_shape[-1] == n_feature_maps*2)\n",
    "  if is_expand_channels:\n",
    "      shortcut_y = keras.layers.Conv2D(n_feature_maps*2, 1, 1,padding='same')(x1)\n",
    "      shortcut_y = keras.layers.BatchNormalization()(shortcut_y)\n",
    "  else:\n",
    "      shortcut_y = keras.layers.BatchNormalization()(x1)\n",
    "  print ('Merging skip connection')\n",
    "  y = keras.layers.Add()([shortcut_y, conv_z])\n",
    "  y = keras.layers.Activation('relu')(y)\n",
    "\n",
    "  full = keras.layers.GlobalAveragePooling2D()(y)\n",
    "  out = keras.layers.Dense(nb_classes, activation='softmax')(full)\n",
    "  print('       -- model was built.')\n",
    "  return x, out"
   ]
  },
  {
   "cell_type": "markdown",
   "metadata": {
    "id": "DifLutQ7g-tP"
   },
   "source": [
    "#### 训练ResNet"
   ]
  },
  {
   "cell_type": "code",
   "execution_count": null,
   "metadata": {
    "colab": {
     "base_uri": "https://localhost:8080/"
    },
    "id": "VNqS09xNzyOf",
    "outputId": "6d1eef2c-b461-47c1-d26b-46980e03dcce"
   },
   "outputs": [
    {
     "name": "stdout",
     "output_type": "stream",
     "text": [
      "build conv_x\n",
      "build conv_y\n",
      "build conv_z\n",
      "Merging skip connection\n",
      "build conv_x\n",
      "build conv_y\n",
      "build conv_z\n",
      "Merging skip connection\n",
      "build conv_x\n",
      "build conv_y\n",
      "build conv_z\n",
      "Merging skip connection\n",
      "       -- model was built.\n",
      "Epoch 1/100\n",
      "120/120 [==============================] - 6s 40ms/step - loss: 1.5963 - accuracy: 0.4864 - val_loss: 1.0668 - val_accuracy: 0.5256\n",
      "Epoch 2/100\n",
      "120/120 [==============================] - 4s 35ms/step - loss: 1.1728 - accuracy: 0.6189 - val_loss: 1.0134 - val_accuracy: 0.5694\n",
      "Epoch 3/100\n",
      "120/120 [==============================] - 4s 35ms/step - loss: 0.9904 - accuracy: 0.6778 - val_loss: 0.8173 - val_accuracy: 0.6257\n",
      "Epoch 4/100\n",
      "120/120 [==============================] - 4s 36ms/step - loss: 0.9482 - accuracy: 0.6935 - val_loss: 0.7656 - val_accuracy: 0.6634\n",
      "Epoch 5/100\n",
      "120/120 [==============================] - 4s 36ms/step - loss: 0.8901 - accuracy: 0.7111 - val_loss: 0.5352 - val_accuracy: 0.7585\n",
      "Epoch 6/100\n",
      "120/120 [==============================] - 4s 36ms/step - loss: 0.8505 - accuracy: 0.7284 - val_loss: 0.8982 - val_accuracy: 0.5762\n",
      "Epoch 7/100\n",
      "120/120 [==============================] - 4s 36ms/step - loss: 0.8557 - accuracy: 0.7153 - val_loss: 0.8123 - val_accuracy: 0.6142\n",
      "Epoch 8/100\n",
      "120/120 [==============================] - 4s 36ms/step - loss: 0.8378 - accuracy: 0.7238 - val_loss: 0.6012 - val_accuracy: 0.7333\n",
      "Epoch 9/100\n",
      "120/120 [==============================] - 4s 36ms/step - loss: 0.8255 - accuracy: 0.7286 - val_loss: 0.6920 - val_accuracy: 0.6813\n",
      "Epoch 10/100\n",
      "120/120 [==============================] - 4s 36ms/step - loss: 0.7962 - accuracy: 0.7313 - val_loss: 0.5441 - val_accuracy: 0.7554\n",
      "Epoch 11/100\n",
      "120/120 [==============================] - 4s 36ms/step - loss: 0.7665 - accuracy: 0.7399 - val_loss: 0.5320 - val_accuracy: 0.7683\n",
      "Epoch 12/100\n",
      "120/120 [==============================] - 4s 36ms/step - loss: 0.7617 - accuracy: 0.7481 - val_loss: 0.8103 - val_accuracy: 0.6264\n",
      "Epoch 13/100\n",
      "120/120 [==============================] - 5s 38ms/step - loss: 0.7501 - accuracy: 0.7516 - val_loss: 0.5938 - val_accuracy: 0.7261\n",
      "Epoch 14/100\n",
      "120/120 [==============================] - 4s 36ms/step - loss: 0.7393 - accuracy: 0.7563 - val_loss: 0.4809 - val_accuracy: 0.7857\n",
      "Epoch 15/100\n",
      "120/120 [==============================] - 4s 35ms/step - loss: 0.7359 - accuracy: 0.7547 - val_loss: 0.5522 - val_accuracy: 0.7666\n",
      "Epoch 16/100\n",
      "120/120 [==============================] - 5s 38ms/step - loss: 0.7131 - accuracy: 0.7585 - val_loss: 0.7412 - val_accuracy: 0.6785\n",
      "Epoch 17/100\n",
      "120/120 [==============================] - 4s 35ms/step - loss: 0.7164 - accuracy: 0.7629 - val_loss: 0.6475 - val_accuracy: 0.7249\n",
      "Epoch 18/100\n",
      "120/120 [==============================] - 4s 35ms/step - loss: 0.7044 - accuracy: 0.7641 - val_loss: 0.5514 - val_accuracy: 0.7627\n",
      "Epoch 19/100\n",
      "120/120 [==============================] - 4s 35ms/step - loss: 0.6826 - accuracy: 0.7723 - val_loss: 0.5274 - val_accuracy: 0.7627\n",
      "Epoch 20/100\n",
      "120/120 [==============================] - 4s 35ms/step - loss: 0.6913 - accuracy: 0.7673 - val_loss: 0.5421 - val_accuracy: 0.7561\n",
      "Epoch 21/100\n",
      "120/120 [==============================] - 4s 35ms/step - loss: 0.6564 - accuracy: 0.7789 - val_loss: 0.6720 - val_accuracy: 0.7458\n",
      "Epoch 22/100\n",
      "120/120 [==============================] - 4s 35ms/step - loss: 0.6552 - accuracy: 0.7849 - val_loss: 0.5531 - val_accuracy: 0.7280\n",
      "Epoch 23/100\n",
      "120/120 [==============================] - 4s 35ms/step - loss: 0.6436 - accuracy: 0.7840 - val_loss: 0.7095 - val_accuracy: 0.7130\n",
      "Epoch 24/100\n",
      "120/120 [==============================] - 4s 36ms/step - loss: 0.6434 - accuracy: 0.7843 - val_loss: 0.7141 - val_accuracy: 0.6993\n",
      "Epoch 25/100\n",
      "120/120 [==============================] - 4s 36ms/step - loss: 0.6218 - accuracy: 0.7880 - val_loss: 0.4754 - val_accuracy: 0.7863\n",
      "Epoch 26/100\n",
      "120/120 [==============================] - 4s 36ms/step - loss: 0.6030 - accuracy: 0.7981 - val_loss: 0.5305 - val_accuracy: 0.7762\n",
      "Epoch 27/100\n",
      "120/120 [==============================] - 4s 36ms/step - loss: 0.6140 - accuracy: 0.8000 - val_loss: 0.4991 - val_accuracy: 0.7849\n",
      "Epoch 28/100\n",
      "120/120 [==============================] - 4s 36ms/step - loss: 0.5996 - accuracy: 0.8026 - val_loss: 0.5084 - val_accuracy: 0.7856\n",
      "Epoch 29/100\n",
      "120/120 [==============================] - 4s 36ms/step - loss: 0.5902 - accuracy: 0.8026 - val_loss: 0.5401 - val_accuracy: 0.7681\n",
      "Epoch 30/100\n",
      "120/120 [==============================] - 4s 36ms/step - loss: 0.5755 - accuracy: 0.8035 - val_loss: 0.5041 - val_accuracy: 0.7704\n",
      "Epoch 31/100\n",
      "120/120 [==============================] - 4s 36ms/step - loss: 0.5579 - accuracy: 0.8122 - val_loss: 0.5162 - val_accuracy: 0.7709\n",
      "Epoch 32/100\n",
      "120/120 [==============================] - 4s 36ms/step - loss: 0.5697 - accuracy: 0.8074 - val_loss: 0.5023 - val_accuracy: 0.7856\n",
      "Epoch 33/100\n",
      "120/120 [==============================] - 4s 36ms/step - loss: 0.5405 - accuracy: 0.8176 - val_loss: 0.8015 - val_accuracy: 0.6923\n",
      "Epoch 34/100\n",
      "120/120 [==============================] - 4s 36ms/step - loss: 0.5218 - accuracy: 0.8316 - val_loss: 0.6330 - val_accuracy: 0.7474\n",
      "Epoch 35/100\n",
      "120/120 [==============================] - 4s 36ms/step - loss: 0.4952 - accuracy: 0.8407 - val_loss: 0.6622 - val_accuracy: 0.7368\n",
      "Epoch 36/100\n",
      "120/120 [==============================] - 4s 36ms/step - loss: 0.4946 - accuracy: 0.8422 - val_loss: 0.5577 - val_accuracy: 0.7842\n",
      "Epoch 37/100\n",
      "120/120 [==============================] - 4s 36ms/step - loss: 0.4902 - accuracy: 0.8366 - val_loss: 0.5547 - val_accuracy: 0.7784\n",
      "Epoch 38/100\n",
      "120/120 [==============================] - 4s 36ms/step - loss: 0.4937 - accuracy: 0.8421 - val_loss: 0.5721 - val_accuracy: 0.7674\n",
      "Epoch 39/100\n",
      "120/120 [==============================] - 4s 36ms/step - loss: 0.4528 - accuracy: 0.8536 - val_loss: 0.5707 - val_accuracy: 0.7716\n",
      "Epoch 40/100\n",
      "120/120 [==============================] - 4s 36ms/step - loss: 0.4660 - accuracy: 0.8454 - val_loss: 0.6654 - val_accuracy: 0.7411\n",
      "Epoch 41/100\n",
      "120/120 [==============================] - 4s 36ms/step - loss: 0.4243 - accuracy: 0.8644 - val_loss: 0.7048 - val_accuracy: 0.7500\n",
      "Epoch 42/100\n",
      "120/120 [==============================] - 4s 36ms/step - loss: 0.4359 - accuracy: 0.8586 - val_loss: 0.6997 - val_accuracy: 0.7591\n",
      "Epoch 43/100\n",
      "120/120 [==============================] - 4s 36ms/step - loss: 0.4223 - accuracy: 0.8663 - val_loss: 0.6322 - val_accuracy: 0.7519\n",
      "Epoch 44/100\n",
      "120/120 [==============================] - 4s 36ms/step - loss: 0.4043 - accuracy: 0.8752 - val_loss: 0.7501 - val_accuracy: 0.7055\n",
      "Epoch 45/100\n",
      "120/120 [==============================] - 4s 36ms/step - loss: 0.4082 - accuracy: 0.8670 - val_loss: 0.6480 - val_accuracy: 0.7505\n",
      "Epoch 46/100\n",
      "120/120 [==============================] - 4s 36ms/step - loss: 0.3931 - accuracy: 0.8781 - val_loss: 0.6760 - val_accuracy: 0.7613\n",
      "Epoch 47/100\n",
      "120/120 [==============================] - 4s 36ms/step - loss: 0.3749 - accuracy: 0.8848 - val_loss: 0.7081 - val_accuracy: 0.7502\n",
      "Epoch 48/100\n",
      "120/120 [==============================] - 4s 36ms/step - loss: 0.3832 - accuracy: 0.8740 - val_loss: 0.7652 - val_accuracy: 0.7238\n",
      "Epoch 49/100\n",
      "120/120 [==============================] - 4s 36ms/step - loss: 0.3831 - accuracy: 0.8780 - val_loss: 0.6379 - val_accuracy: 0.7732\n",
      "Epoch 50/100\n",
      "120/120 [==============================] - 4s 36ms/step - loss: 0.3380 - accuracy: 0.8902 - val_loss: 0.6259 - val_accuracy: 0.7751\n",
      "Epoch 51/100\n",
      "120/120 [==============================] - 4s 36ms/step - loss: 0.3423 - accuracy: 0.8998 - val_loss: 0.8456 - val_accuracy: 0.7090\n",
      "Epoch 52/100\n",
      "120/120 [==============================] - 4s 36ms/step - loss: 0.3462 - accuracy: 0.8938 - val_loss: 0.6616 - val_accuracy: 0.7608\n",
      "Epoch 53/100\n",
      "120/120 [==============================] - 4s 36ms/step - loss: 0.3108 - accuracy: 0.9027 - val_loss: 0.6281 - val_accuracy: 0.7645\n",
      "Epoch 54/100\n",
      "120/120 [==============================] - 4s 36ms/step - loss: 0.3321 - accuracy: 0.8994 - val_loss: 0.7501 - val_accuracy: 0.7395\n",
      "Epoch 55/100\n",
      "120/120 [==============================] - 4s 36ms/step - loss: 0.3068 - accuracy: 0.9059 - val_loss: 0.7008 - val_accuracy: 0.7666\n",
      "Epoch 56/100\n",
      "120/120 [==============================] - 5s 39ms/step - loss: 0.2962 - accuracy: 0.9102 - val_loss: 0.6659 - val_accuracy: 0.7692\n",
      "Epoch 57/100\n",
      "120/120 [==============================] - 4s 36ms/step - loss: 0.2887 - accuracy: 0.9092 - val_loss: 0.6957 - val_accuracy: 0.7692\n",
      "Epoch 58/100\n",
      "120/120 [==============================] - 4s 36ms/step - loss: 0.2873 - accuracy: 0.9134 - val_loss: 0.7965 - val_accuracy: 0.7725\n",
      "Epoch 59/100\n",
      "120/120 [==============================] - 4s 36ms/step - loss: 0.2808 - accuracy: 0.9160 - val_loss: 0.6804 - val_accuracy: 0.7781\n",
      "Epoch 60/100\n",
      "120/120 [==============================] - 4s 36ms/step - loss: 0.2726 - accuracy: 0.9188 - val_loss: 0.6643 - val_accuracy: 0.7678\n",
      "Epoch 61/100\n",
      "120/120 [==============================] - 4s 36ms/step - loss: 0.3022 - accuracy: 0.9029 - val_loss: 0.8579 - val_accuracy: 0.7453\n",
      "Epoch 62/100\n",
      "120/120 [==============================] - 4s 36ms/step - loss: 0.2679 - accuracy: 0.9214 - val_loss: 0.8494 - val_accuracy: 0.7223\n",
      "Epoch 63/100\n",
      "120/120 [==============================] - 4s 36ms/step - loss: 0.2486 - accuracy: 0.9231 - val_loss: 0.7399 - val_accuracy: 0.7732\n",
      "Epoch 64/100\n",
      "120/120 [==============================] - 4s 36ms/step - loss: 0.2602 - accuracy: 0.9219 - val_loss: 0.9013 - val_accuracy: 0.7580\n",
      "Epoch 65/100\n",
      "120/120 [==============================] - 4s 36ms/step - loss: 0.2406 - accuracy: 0.9287 - val_loss: 0.8374 - val_accuracy: 0.7350\n",
      "Epoch 66/100\n",
      "120/120 [==============================] - 4s 36ms/step - loss: 0.2338 - accuracy: 0.9282 - val_loss: 0.8107 - val_accuracy: 0.7587\n",
      "Epoch 67/100\n",
      "120/120 [==============================] - 4s 36ms/step - loss: 0.2180 - accuracy: 0.9362 - val_loss: 0.8062 - val_accuracy: 0.7563\n",
      "Epoch 68/100\n",
      "120/120 [==============================] - 4s 36ms/step - loss: 0.2127 - accuracy: 0.9379 - val_loss: 0.8039 - val_accuracy: 0.7727\n",
      "Epoch 69/100\n",
      "120/120 [==============================] - 4s 36ms/step - loss: 0.2167 - accuracy: 0.9386 - val_loss: 0.9511 - val_accuracy: 0.7558\n",
      "Epoch 70/100\n",
      "120/120 [==============================] - 4s 36ms/step - loss: 0.2200 - accuracy: 0.9355 - val_loss: 0.7781 - val_accuracy: 0.7669\n",
      "Epoch 71/100\n",
      "120/120 [==============================] - 4s 36ms/step - loss: 0.1978 - accuracy: 0.9456 - val_loss: 0.7954 - val_accuracy: 0.7746\n",
      "Epoch 72/100\n",
      "120/120 [==============================] - 4s 36ms/step - loss: 0.1993 - accuracy: 0.9402 - val_loss: 0.9410 - val_accuracy: 0.7401\n",
      "Epoch 73/100\n",
      "120/120 [==============================] - 4s 36ms/step - loss: 0.2014 - accuracy: 0.9388 - val_loss: 1.0129 - val_accuracy: 0.7190\n",
      "Epoch 74/100\n",
      "120/120 [==============================] - 4s 36ms/step - loss: 0.2251 - accuracy: 0.9353 - val_loss: 0.9643 - val_accuracy: 0.7617\n",
      "Epoch 75/100\n",
      "120/120 [==============================] - 4s 36ms/step - loss: 0.2046 - accuracy: 0.9432 - val_loss: 0.9512 - val_accuracy: 0.7373\n",
      "Epoch 76/100\n",
      "120/120 [==============================] - 4s 36ms/step - loss: 0.1888 - accuracy: 0.9446 - val_loss: 0.8336 - val_accuracy: 0.7673\n",
      "Epoch 77/100\n",
      "120/120 [==============================] - 4s 36ms/step - loss: 0.1821 - accuracy: 0.9474 - val_loss: 0.7802 - val_accuracy: 0.7598\n",
      "Epoch 78/100\n",
      "120/120 [==============================] - 4s 36ms/step - loss: 0.1936 - accuracy: 0.9461 - val_loss: 0.8406 - val_accuracy: 0.7612\n",
      "Epoch 79/100\n",
      "120/120 [==============================] - 4s 36ms/step - loss: 0.1755 - accuracy: 0.9468 - val_loss: 0.8979 - val_accuracy: 0.7521\n",
      "Epoch 80/100\n",
      "120/120 [==============================] - 4s 36ms/step - loss: 0.1796 - accuracy: 0.9467 - val_loss: 0.8234 - val_accuracy: 0.7645\n",
      "Epoch 81/100\n",
      "120/120 [==============================] - 4s 36ms/step - loss: 0.1607 - accuracy: 0.9498 - val_loss: 0.9071 - val_accuracy: 0.7551\n",
      "Epoch 82/100\n",
      "120/120 [==============================] - 4s 36ms/step - loss: 0.1650 - accuracy: 0.9533 - val_loss: 0.8750 - val_accuracy: 0.7741\n",
      "Epoch 83/100\n",
      "120/120 [==============================] - 4s 36ms/step - loss: 0.1496 - accuracy: 0.9580 - val_loss: 0.9668 - val_accuracy: 0.7612\n",
      "Epoch 84/100\n",
      "120/120 [==============================] - 4s 36ms/step - loss: 0.1745 - accuracy: 0.9528 - val_loss: 0.9152 - val_accuracy: 0.7617\n",
      "Epoch 85/100\n",
      "120/120 [==============================] - 4s 36ms/step - loss: 0.1664 - accuracy: 0.9526 - val_loss: 0.9831 - val_accuracy: 0.7510\n",
      "Epoch 86/100\n",
      "120/120 [==============================] - 4s 36ms/step - loss: 0.1468 - accuracy: 0.9594 - val_loss: 0.9201 - val_accuracy: 0.7591\n",
      "Epoch 87/100\n",
      "120/120 [==============================] - 4s 36ms/step - loss: 0.1534 - accuracy: 0.9541 - val_loss: 0.9764 - val_accuracy: 0.7585\n",
      "Epoch 88/100\n",
      "120/120 [==============================] - 5s 39ms/step - loss: 0.1755 - accuracy: 0.9500 - val_loss: 0.8325 - val_accuracy: 0.7681\n",
      "Epoch 89/100\n",
      "120/120 [==============================] - 4s 36ms/step - loss: 0.1578 - accuracy: 0.9561 - val_loss: 1.0058 - val_accuracy: 0.7282\n",
      "Epoch 90/100\n",
      "120/120 [==============================] - 4s 36ms/step - loss: 0.1519 - accuracy: 0.9575 - val_loss: 1.1029 - val_accuracy: 0.7601\n",
      "Epoch 91/100\n",
      "120/120 [==============================] - 4s 36ms/step - loss: 0.1488 - accuracy: 0.9578 - val_loss: 0.8958 - val_accuracy: 0.7681\n",
      "Epoch 92/100\n",
      "120/120 [==============================] - 4s 36ms/step - loss: 0.1378 - accuracy: 0.9599 - val_loss: 0.8976 - val_accuracy: 0.7664\n",
      "Epoch 93/100\n",
      "120/120 [==============================] - 4s 36ms/step - loss: 0.1483 - accuracy: 0.9543 - val_loss: 0.9645 - val_accuracy: 0.7582\n",
      "Epoch 94/100\n",
      "120/120 [==============================] - 4s 36ms/step - loss: 0.1447 - accuracy: 0.9597 - val_loss: 1.3079 - val_accuracy: 0.7435\n",
      "Epoch 95/100\n",
      "120/120 [==============================] - 4s 36ms/step - loss: 0.1609 - accuracy: 0.9566 - val_loss: 1.0070 - val_accuracy: 0.7660\n",
      "Epoch 96/100\n",
      "120/120 [==============================] - 4s 36ms/step - loss: 0.1434 - accuracy: 0.9578 - val_loss: 0.9931 - val_accuracy: 0.7591\n",
      "Epoch 97/100\n",
      "120/120 [==============================] - 4s 36ms/step - loss: 0.1382 - accuracy: 0.9615 - val_loss: 1.0211 - val_accuracy: 0.7500\n",
      "Epoch 98/100\n",
      "120/120 [==============================] - 4s 36ms/step - loss: 0.1352 - accuracy: 0.9630 - val_loss: 0.9878 - val_accuracy: 0.7517\n",
      "Epoch 99/100\n",
      "120/120 [==============================] - 4s 36ms/step - loss: 0.1378 - accuracy: 0.9627 - val_loss: 0.9505 - val_accuracy: 0.7580\n",
      "Epoch 100/100\n",
      "120/120 [==============================] - 4s 36ms/step - loss: 0.1418 - accuracy: 0.9622 - val_loss: 0.9961 - val_accuracy: 0.7596\n"
     ]
    }
   ],
   "source": [
    "nb_epochs = 100\n",
    "x, y = build_resnet(x_train.shape[1:], 64, nb_classes, dropout=[0.2, 0.2])\n",
    "model = keras.models.Model(inputs=x, outputs=y)\n",
    "optimizer = keras.optimizers.Adam()\n",
    "model.compile(loss='categorical_crossentropy',\n",
    "              optimizer=optimizer,\n",
    "              metrics=['accuracy'])\n",
    "reduce_lr = keras.callbacks.ReduceLROnPlateau(monitor='loss', factor=0.5,\n",
    "                                              patience=50, min_lr=0.0001)\n",
    "\n",
    "'''\n",
    "with tf.device('/gpu:0'):\n",
    "    hist = model.fit(x_train, Y_train, batch_size=batch_size,\n",
    "                    epochs=nb_epochs,\n",
    "                    verbose=1, validation_data=(x_test, Y_test),\n",
    "                    callbacks=[reduce_lr], \n",
    "                     class_weight={0:2.9,1:1,2:2.5}\n",
    "                     )\n",
    "'''\n",
    "with tf.device('/gpu:0'):\n",
    "    hist_RN = model.fit(x_train, Y_train, batch_size=batch_size,\n",
    "                        epochs=nb_epochs,\n",
    "                        verbose=1, validation_data=(x_test, Y_test),\n",
    "                        callbacks=[reduce_lr],\n",
    "                        class_weight={0:2.35,1:1,2:2.1}\n",
    "                        )"
   ]
  },
  {
   "cell_type": "markdown",
   "metadata": {
    "id": "a2nJOHqzhYLr"
   },
   "source": [
    "#### 最小训练误差，最小训练误差下的验证准确率"
   ]
  },
  {
   "cell_type": "code",
   "execution_count": null,
   "metadata": {
    "colab": {
     "base_uri": "https://localhost:8080/"
    },
    "id": "OgyUS3yW-L4f",
    "outputId": "a66f538d-d98c-4031-c66b-27696d90882c"
   },
   "outputs": [
    {
     "name": "stdout",
     "output_type": "stream",
     "text": [
      "0.13523869216442108 0.7517433762550354\n"
     ]
    }
   ],
   "source": [
    "log_RN = pd.DataFrame(hist_RN.history)\n",
    "print(log_RN.loc[log_RN['loss'].idxmin]['loss'], log_RN.loc[log_RN['loss'].idxmin]['val_accuracy'])"
   ]
  },
  {
   "cell_type": "markdown",
   "metadata": {
    "id": "KoeZX9c6h5iw"
   },
   "source": [
    "#### 最小验证误差，最小验证误差下的验证准确率"
   ]
  },
  {
   "cell_type": "code",
   "execution_count": null,
   "metadata": {
    "colab": {
     "base_uri": "https://localhost:8080/"
    },
    "id": "OtDSnuwOduIE",
    "outputId": "fd4c8b30-d5ca-45e3-eccf-a93156acf94a"
   },
   "outputs": [
    {
     "name": "stdout",
     "output_type": "stream",
     "text": [
      "0.47541508078575134 0.7862622141838074\n"
     ]
    }
   ],
   "source": [
    "print(log_RN.loc[log_RN['val_loss'].idxmin]['val_loss'], log_RN.loc[log_RN['val_loss'].idxmin]['val_accuracy'])"
   ]
  },
  {
   "cell_type": "markdown",
   "metadata": {
    "id": "kb8f-UMriHdW"
   },
   "source": [
    "#### 显示日志"
   ]
  },
  {
   "cell_type": "code",
   "execution_count": null,
   "metadata": {
    "colab": {
     "base_uri": "https://localhost:8080/",
     "height": 419
    },
    "id": "LeZjty0i66PU",
    "outputId": "96f76365-8d22-4a1d-db41-eafe958d4aa5"
   },
   "outputs": [
    {
     "data": {
      "text/html": [
       "<div>\n",
       "<style scoped>\n",
       "    .dataframe tbody tr th:only-of-type {\n",
       "        vertical-align: middle;\n",
       "    }\n",
       "\n",
       "    .dataframe tbody tr th {\n",
       "        vertical-align: top;\n",
       "    }\n",
       "\n",
       "    .dataframe thead th {\n",
       "        text-align: right;\n",
       "    }\n",
       "</style>\n",
       "<table border=\"1\" class=\"dataframe\">\n",
       "  <thead>\n",
       "    <tr style=\"text-align: right;\">\n",
       "      <th></th>\n",
       "      <th>loss</th>\n",
       "      <th>accuracy</th>\n",
       "      <th>val_loss</th>\n",
       "      <th>val_accuracy</th>\n",
       "      <th>lr</th>\n",
       "    </tr>\n",
       "  </thead>\n",
       "  <tbody>\n",
       "    <tr>\n",
       "      <th>0</th>\n",
       "      <td>1.596272</td>\n",
       "      <td>0.486402</td>\n",
       "      <td>1.066804</td>\n",
       "      <td>0.525628</td>\n",
       "      <td>0.001</td>\n",
       "    </tr>\n",
       "    <tr>\n",
       "      <th>1</th>\n",
       "      <td>1.172823</td>\n",
       "      <td>0.618898</td>\n",
       "      <td>1.013432</td>\n",
       "      <td>0.569386</td>\n",
       "      <td>0.001</td>\n",
       "    </tr>\n",
       "    <tr>\n",
       "      <th>2</th>\n",
       "      <td>0.990371</td>\n",
       "      <td>0.677824</td>\n",
       "      <td>0.817268</td>\n",
       "      <td>0.625697</td>\n",
       "      <td>0.001</td>\n",
       "    </tr>\n",
       "    <tr>\n",
       "      <th>3</th>\n",
       "      <td>0.948174</td>\n",
       "      <td>0.693515</td>\n",
       "      <td>0.765607</td>\n",
       "      <td>0.663354</td>\n",
       "      <td>0.001</td>\n",
       "    </tr>\n",
       "    <tr>\n",
       "      <th>4</th>\n",
       "      <td>0.890060</td>\n",
       "      <td>0.711123</td>\n",
       "      <td>0.535230</td>\n",
       "      <td>0.758543</td>\n",
       "      <td>0.001</td>\n",
       "    </tr>\n",
       "    <tr>\n",
       "      <th>...</th>\n",
       "      <td>...</td>\n",
       "      <td>...</td>\n",
       "      <td>...</td>\n",
       "      <td>...</td>\n",
       "      <td>...</td>\n",
       "    </tr>\n",
       "    <tr>\n",
       "      <th>95</th>\n",
       "      <td>0.143449</td>\n",
       "      <td>0.957810</td>\n",
       "      <td>0.993087</td>\n",
       "      <td>0.759066</td>\n",
       "      <td>0.001</td>\n",
       "    </tr>\n",
       "    <tr>\n",
       "      <th>96</th>\n",
       "      <td>0.138227</td>\n",
       "      <td>0.961471</td>\n",
       "      <td>1.021060</td>\n",
       "      <td>0.750000</td>\n",
       "      <td>0.001</td>\n",
       "    </tr>\n",
       "    <tr>\n",
       "      <th>97</th>\n",
       "      <td>0.135239</td>\n",
       "      <td>0.963040</td>\n",
       "      <td>0.987809</td>\n",
       "      <td>0.751743</td>\n",
       "      <td>0.001</td>\n",
       "    </tr>\n",
       "    <tr>\n",
       "      <th>98</th>\n",
       "      <td>0.137774</td>\n",
       "      <td>0.962692</td>\n",
       "      <td>0.950524</td>\n",
       "      <td>0.758020</td>\n",
       "      <td>0.001</td>\n",
       "    </tr>\n",
       "    <tr>\n",
       "      <th>99</th>\n",
       "      <td>0.141795</td>\n",
       "      <td>0.962169</td>\n",
       "      <td>0.996148</td>\n",
       "      <td>0.759589</td>\n",
       "      <td>0.001</td>\n",
       "    </tr>\n",
       "  </tbody>\n",
       "</table>\n",
       "<p>100 rows × 5 columns</p>\n",
       "</div>"
      ],
      "text/plain": [
       "        loss  accuracy  val_loss  val_accuracy     lr\n",
       "0   1.596272  0.486402  1.066804      0.525628  0.001\n",
       "1   1.172823  0.618898  1.013432      0.569386  0.001\n",
       "2   0.990371  0.677824  0.817268      0.625697  0.001\n",
       "3   0.948174  0.693515  0.765607      0.663354  0.001\n",
       "4   0.890060  0.711123  0.535230      0.758543  0.001\n",
       "..       ...       ...       ...           ...    ...\n",
       "95  0.143449  0.957810  0.993087      0.759066  0.001\n",
       "96  0.138227  0.961471  1.021060      0.750000  0.001\n",
       "97  0.135239  0.963040  0.987809      0.751743  0.001\n",
       "98  0.137774  0.962692  0.950524      0.758020  0.001\n",
       "99  0.141795  0.962169  0.996148      0.759589  0.001\n",
       "\n",
       "[100 rows x 5 columns]"
      ]
     },
     "execution_count": 64,
     "metadata": {
      "tags": []
     },
     "output_type": "execute_result"
    }
   ],
   "source": [
    "log_RN"
   ]
  },
  {
   "cell_type": "markdown",
   "metadata": {
    "id": "gGHCmIk2iUdL"
   },
   "source": [
    "#### 用模型预测测试样本的标签"
   ]
  },
  {
   "cell_type": "code",
   "execution_count": null,
   "metadata": {
    "colab": {
     "base_uri": "https://localhost:8080/"
    },
    "id": "yT4nAE5i6QJl",
    "outputId": "28c5768c-15a4-443f-fac0-9de6ecaacf6d"
   },
   "outputs": [
    {
     "data": {
      "text/plain": [
       "array([2, 2, 2, 2, 2, 2, 2, 2, 2, 2, 2, 2, 2, 2, 2, 2, 2, 2, 2, 2, 2, 2,\n",
       "       2, 2, 2, 2, 2, 2, 2, 2, 2, 2, 2, 1, 2, 2, 2, 2, 2, 2, 2, 2, 1, 2,\n",
       "       2, 2, 2, 2, 2, 0, 2, 2, 2, 2, 2, 2, 2, 2, 2, 2, 2, 2, 2, 2, 2, 2,\n",
       "       2, 2, 2, 2, 2, 2, 2, 1, 2, 2, 2, 2, 2, 2, 2, 2, 1, 2, 2, 2, 2, 2,\n",
       "       2, 2, 2, 2, 2, 2, 2, 2, 2, 1, 2, 2, 2, 2, 2, 1, 2, 2, 2, 2, 2, 2,\n",
       "       2, 2, 2, 0, 2, 2, 2, 2, 2, 2, 2, 2, 2, 2, 2, 1, 2, 2, 2, 2, 2, 2,\n",
       "       2, 2, 2, 2, 2, 1, 2, 0, 2, 2, 2, 2, 2, 2, 1, 2, 2, 1, 2, 2, 2, 2,\n",
       "       1, 2, 2, 0, 2, 2, 1, 2, 2, 2, 2, 2, 2, 1, 2, 2, 2, 2, 2, 2, 2, 2,\n",
       "       2, 2, 2, 2, 2, 2, 0, 0, 2, 0, 0, 0, 2, 0, 0, 0, 0, 0, 1, 0, 0, 0,\n",
       "       0, 0, 0, 0, 0, 1, 0, 0, 2, 0, 0, 0, 1, 1, 1, 0, 1, 0, 0, 0, 1, 0,\n",
       "       0, 1, 0, 0, 1, 0, 0, 0, 0, 0, 0, 0, 1, 2, 1, 1, 0, 0, 0, 0, 0, 0,\n",
       "       2, 0, 0, 0, 1, 0, 0, 0, 0, 0, 0, 0, 0, 1, 0, 0, 0, 0, 2, 0, 0, 0,\n",
       "       0, 0, 0, 0, 0, 0, 0, 0, 1, 0, 0, 0, 0, 0, 0, 0, 1, 0, 0, 0, 0, 0,\n",
       "       0, 0, 1, 0, 0, 0, 1, 0, 1, 0, 1, 1, 2, 0, 0, 0, 0, 1, 0, 0, 1, 0,\n",
       "       1, 0, 0, 0, 0, 0, 0, 0, 0, 0, 0, 0, 0, 0, 0, 1, 0, 1, 0, 0, 2, 0,\n",
       "       0, 2, 0, 0, 0, 0, 1, 0, 0, 0, 0, 0, 0, 1, 2, 1, 1, 1, 1, 1, 2, 1,\n",
       "       1, 1, 2, 1, 2, 1, 1, 1, 1, 1, 0, 1, 1, 1, 2, 1, 1, 1, 1, 1, 1, 1,\n",
       "       1, 2, 1, 0, 2, 1, 2, 1, 0, 0, 1, 2, 1, 1, 1, 1, 1, 1, 1, 1, 1, 1,\n",
       "       1, 2, 1, 1, 1, 2, 1, 1, 1, 1, 1, 1, 1, 0, 2, 0, 1, 1, 1, 1, 1, 0,\n",
       "       1, 1, 1, 1, 1, 1, 1, 1, 1, 1, 1, 0, 0, 1, 0, 1, 1, 1, 1, 1, 1, 1,\n",
       "       2, 1, 1, 1, 1, 1, 1, 0, 1, 1, 1, 1, 1, 1, 1, 0, 2, 1, 1, 2, 0, 2,\n",
       "       0, 0, 1, 1, 1, 2, 0, 1, 1, 0, 1, 1, 2, 0, 1, 1, 1, 2, 1, 2, 1, 1,\n",
       "       1, 1, 2, 1, 2, 1, 2, 1, 1, 1, 1, 1, 1, 1, 1, 0, 2, 2, 1, 1, 1, 1,\n",
       "       1, 1, 1, 2, 0, 1, 2, 1, 2, 2, 1, 1, 2, 2, 1, 1, 1, 1, 1, 1, 2, 1,\n",
       "       2, 1, 1, 1, 1, 0, 1, 2, 1, 1, 0, 1, 2, 1, 2, 1, 1, 1, 1, 1, 1, 0,\n",
       "       1, 2, 0, 1, 2, 0, 0, 2, 1, 2, 2, 1, 2, 2, 1, 2, 1, 1, 1, 1, 1, 1,\n",
       "       1, 1, 2, 2, 1, 2, 0, 0, 2, 1, 1, 2, 2, 1, 1, 2, 1, 1, 1, 1, 1, 2,\n",
       "       0, 1, 0, 0, 1, 0, 1, 1, 1, 2, 1, 1, 1, 1, 1, 1, 2, 1, 2, 1, 1, 1,\n",
       "       1, 2, 1, 2, 1, 1, 1, 1, 1, 1, 1, 0, 1, 1, 0, 1, 2, 1, 1, 2, 1, 1,\n",
       "       1, 1, 0, 1, 1, 1, 1, 1, 1, 1, 2, 1, 1, 2, 1, 1, 1, 1, 1, 1, 2, 1,\n",
       "       1, 2, 1, 1, 1, 0, 1, 1, 0, 2, 1, 2, 1, 1, 0, 2, 1, 1, 1, 1, 2, 2,\n",
       "       1, 1, 2, 1, 1, 1, 1, 1, 2, 2, 1, 1, 1, 1, 0, 0, 0, 1, 2, 1, 2, 1,\n",
       "       2, 1, 1, 1])"
      ]
     },
     "execution_count": 65,
     "metadata": {
      "tags": []
     },
     "output_type": "execute_result"
    }
   ],
   "source": [
    "hist_RN.model.predict(new_x_test).argmax(axis=-1)"
   ]
  },
  {
   "cell_type": "markdown",
   "metadata": {
    "id": "VSv6arbAidYv"
   },
   "source": [
    "#### 测试样本的真实标签"
   ]
  },
  {
   "cell_type": "code",
   "execution_count": null,
   "metadata": {
    "colab": {
     "base_uri": "https://localhost:8080/"
    },
    "id": "UG6UIMZo6XId",
    "outputId": "6fe10a72-6372-4dc0-8a80-2e9d1441f153"
   },
   "outputs": [
    {
     "data": {
      "text/plain": [
       "array([2, 2, 2, 2, 2, 2, 2, 2, 2, 2, 2, 2, 2, 2, 2, 2, 2, 2, 2, 2, 2, 2,\n",
       "       2, 2, 2, 2, 2, 2, 2, 2, 2, 2, 2, 2, 2, 2, 2, 2, 2, 2, 2, 2, 2, 2,\n",
       "       2, 2, 2, 2, 2, 2, 2, 2, 2, 2, 2, 2, 2, 2, 2, 2, 2, 2, 2, 2, 2, 2,\n",
       "       2, 2, 2, 2, 2, 2, 2, 2, 2, 2, 2, 2, 2, 2, 2, 2, 2, 2, 2, 2, 2, 2,\n",
       "       2, 2, 2, 2, 2, 2, 2, 2, 2, 2, 2, 2, 2, 2, 2, 2, 2, 2, 2, 2, 2, 2,\n",
       "       2, 2, 2, 2, 2, 2, 2, 2, 2, 2, 2, 2, 2, 2, 2, 2, 2, 2, 2, 2, 2, 2,\n",
       "       2, 2, 2, 2, 2, 2, 2, 2, 2, 2, 2, 2, 2, 2, 2, 2, 2, 2, 2, 2, 2, 2,\n",
       "       2, 2, 2, 2, 2, 2, 2, 2, 2, 2, 2, 2, 2, 2, 2, 2, 2, 2, 2, 2, 2, 2,\n",
       "       2, 2, 2, 2, 2, 2, 0, 0, 0, 0, 0, 0, 0, 0, 0, 0, 0, 0, 0, 0, 0, 0,\n",
       "       0, 0, 0, 0, 0, 0, 0, 0, 0, 0, 0, 0, 0, 0, 0, 0, 0, 0, 0, 0, 0, 0,\n",
       "       0, 0, 0, 0, 0, 0, 0, 0, 0, 0, 0, 0, 0, 0, 0, 0, 0, 0, 0, 0, 0, 0,\n",
       "       0, 0, 0, 0, 0, 0, 0, 0, 0, 0, 0, 0, 0, 0, 0, 0, 0, 0, 0, 0, 0, 0,\n",
       "       0, 0, 0, 0, 0, 0, 0, 0, 0, 0, 0, 0, 0, 0, 0, 0, 0, 0, 0, 0, 0, 0,\n",
       "       0, 0, 0, 0, 0, 0, 0, 0, 0, 0, 0, 0, 0, 0, 0, 0, 0, 0, 0, 0, 0, 0,\n",
       "       0, 0, 0, 0, 0, 0, 0, 0, 0, 0, 0, 0, 0, 0, 0, 0, 0, 0, 0, 0, 0, 0,\n",
       "       0, 0, 0, 0, 0, 0, 0, 0, 0, 0, 0, 0, 0, 1, 1, 1, 1, 1, 1, 1, 1, 1,\n",
       "       1, 1, 1, 1, 1, 1, 1, 1, 1, 1, 1, 1, 1, 1, 1, 1, 1, 1, 1, 1, 1, 1,\n",
       "       1, 1, 1, 1, 1, 1, 1, 1, 1, 1, 1, 1, 1, 1, 1, 1, 1, 1, 1, 1, 1, 1,\n",
       "       1, 1, 1, 1, 1, 1, 1, 1, 1, 1, 1, 1, 1, 1, 1, 1, 1, 1, 1, 1, 1, 1,\n",
       "       1, 1, 1, 1, 1, 1, 1, 1, 1, 1, 1, 1, 1, 1, 1, 1, 1, 1, 1, 1, 1, 1,\n",
       "       1, 1, 1, 1, 1, 1, 1, 1, 1, 1, 1, 1, 1, 1, 1, 1, 1, 1, 1, 1, 1, 1,\n",
       "       1, 1, 1, 1, 1, 1, 1, 1, 1, 1, 1, 1, 1, 1, 1, 1, 1, 1, 1, 1, 1, 1,\n",
       "       1, 1, 1, 1, 1, 1, 1, 1, 1, 1, 1, 1, 1, 1, 1, 1, 1, 1, 1, 1, 1, 1,\n",
       "       1, 1, 1, 1, 1, 1, 1, 1, 1, 1, 1, 1, 1, 1, 1, 1, 1, 1, 1, 1, 1, 1,\n",
       "       1, 1, 1, 1, 1, 1, 1, 1, 1, 1, 1, 1, 1, 1, 1, 1, 1, 1, 1, 1, 1, 1,\n",
       "       1, 1, 1, 1, 1, 1, 1, 1, 1, 1, 1, 1, 1, 1, 1, 1, 1, 1, 1, 1, 1, 1,\n",
       "       1, 1, 1, 1, 1, 1, 1, 1, 1, 1, 1, 1, 1, 1, 1, 1, 1, 1, 1, 1, 1, 1,\n",
       "       1, 1, 1, 1, 1, 1, 1, 1, 1, 1, 1, 1, 1, 1, 1, 1, 1, 1, 1, 1, 1, 1,\n",
       "       1, 1, 1, 1, 1, 1, 1, 1, 1, 1, 1, 1, 1, 1, 1, 1, 1, 1, 1, 1, 1, 1,\n",
       "       1, 1, 1, 1, 1, 1, 1, 1, 1, 1, 1, 1, 1, 1, 1, 1, 1, 1, 1, 1, 1, 1,\n",
       "       1, 1, 1, 1, 1, 1, 1, 1, 1, 1, 1, 1, 1, 1, 1, 1, 1, 1, 1, 1, 1, 1,\n",
       "       1, 1, 1, 1, 1, 1, 1, 1, 1, 1, 1, 1, 1, 1, 1, 1, 1, 1, 1, 1, 1, 1,\n",
       "       1, 1, 1, 1], dtype=int32)"
      ]
     },
     "execution_count": 66,
     "metadata": {
      "tags": []
     },
     "output_type": "execute_result"
    }
   ],
   "source": [
    "new_y_test+1"
   ]
  },
  {
   "cell_type": "markdown",
   "metadata": {
    "id": "PlwmWuYiisQS"
   },
   "source": [
    "#### 查看模型预测效果"
   ]
  },
  {
   "cell_type": "code",
   "execution_count": null,
   "metadata": {
    "colab": {
     "base_uri": "https://localhost:8080/"
    },
    "id": "VVUnbzEc6XLh",
    "outputId": "975237ef-9920-470b-c81b-5ffee3f92ef6"
   },
   "outputs": [
    {
     "name": "stdout",
     "output_type": "stream",
     "text": [
      "              precision    recall  f1-score   support\n",
      "\n",
      "           0       0.74      0.78      0.76       161\n",
      "           1       0.86      0.68      0.76       365\n",
      "           2       0.67      0.91      0.77       182\n",
      "\n",
      "    accuracy                           0.76       708\n",
      "   macro avg       0.75      0.79      0.76       708\n",
      "weighted avg       0.78      0.76      0.76       708\n",
      "\n"
     ]
    }
   ],
   "source": [
    "print(classification_report(new_y_test+1, hist_RN.model.predict(new_x_test).argmax(axis=-1)))"
   ]
  },
  {
   "cell_type": "code",
   "execution_count": null,
   "metadata": {
    "id": "qusgzCpH6XOR"
   },
   "outputs": [],
   "source": [
    "report_RN = classification_report(new_y_test+1, hist_RN.model.predict(new_x_test).argmax(axis=-1), output_dict=True)"
   ]
  },
  {
   "cell_type": "markdown",
   "metadata": {
    "id": "MDj71_byiw0I"
   },
   "source": [
    "##### 在新的评价标准下(给予不同类别不同的权重)，模型预测的效果"
   ]
  },
  {
   "cell_type": "code",
   "execution_count": null,
   "metadata": {
    "colab": {
     "base_uri": "https://localhost:8080/"
    },
    "id": "wgezLLl86XQ3",
    "outputId": "21bacb6c-6c07-4215-f6b5-e70c208b6518"
   },
   "outputs": [
    {
     "data": {
      "text/plain": [
       "0.761763303536615"
      ]
     },
     "execution_count": 69,
     "metadata": {
      "tags": []
     },
     "output_type": "execute_result"
    }
   ],
   "source": [
    "score(report_RN['0']['f1-score'], report_RN['1']['f1-score'], report_RN['2']['f1-score'])"
   ]
  },
  {
   "cell_type": "markdown",
   "metadata": {
    "id": "rPYMBHBSIm_I"
   },
   "source": [
    "#### 简单的调参过程记录\n",
    "class_weight = None\n",
    ">>\n",
    "  dropout=[0.2, 0.2]-> 0.736473900429494  \n",
    "  dropout=[0.2, 0.3]-> 0.7006760867268349  \n",
    "  dropout=[0.3, 0.2]-> 0.6908787239942282  \n",
    "  dropout=[0.2, 0.25]-> 0.710606528672195\n",
    "\n",
    "class_weight = {0:2.9,1:1,2:2.5}\n",
    ">>\n",
    "  dropout=[0.2, 0.2]-> 0.7297569942130396\n",
    "\n",
    "\n",
    "数据量加倍\n",
    ">>\n",
    "  class_weight = {0:2.77,1:1,2:2.3}  \n",
    "  dropout=[0.2, 0.2]-> 0.7005164064022427\n",
    "\n",
    "数据量加至5倍：\n",
    ">>\n",
    "  class_weight = {0:2.77,1:1,2:2.3}  \n",
    "  dropout=[0.2, 0.2]-> 0.7430938760496404  \n",
    "  class_weight = None  \n",
    "  dropout=[0.2, 0.2]-> 0.7304022731576931  \n",
    "  class_weight = {0:2.35,1:1,2:2.1}  \n",
    "  dropout=[0.2, 0.2]-> 0.761763303536615  \n"
   ]
  },
  {
   "cell_type": "markdown",
   "metadata": {
    "id": "uyHMeUyxkxUp"
   },
   "source": [
    "### 2.5 两个神经网络模型预测效果对比分析\n",
    ">\n",
    "    RetNet在通过残差连接增加了网络层数的情况下，预测效果和FCN相差无几\n",
    "    ResNet对于标签为盘整放量的样本的预测效果略优于FCN\n",
    "    FCN对于标签为放量下跌的样本的预测效果略优于ResNet\n",
    "    FCN和ResNet对于标签为放量上涨的样本预测准确率较一般\n",
    "    FCN和ResNet对于标签为放量上涨的样本预测召回率较好，尤其是ResNet(recall = 0.91)"
   ]
  },
  {
   "cell_type": "code",
   "execution_count": null,
   "metadata": {
    "id": "Fk0ElU5N6XTr"
   },
   "outputs": [],
   "source": []
  },
  {
   "cell_type": "markdown",
   "metadata": {},
   "source": [
    "## 本此实践结论&不足&展望"
   ]
  },
  {
   "cell_type": "markdown",
   "metadata": {},
   "source": [
    "### 结论\n",
    ">\n",
    "    集成模型在特定任务上可以匹敌深度学习模型；\n",
    "    当预测概率在0.75以上时，预测结果的可信度极高 (当然还需要更多样本进行验证) ，但这种情况较少。"
   ]
  },
  {
   "cell_type": "markdown",
   "metadata": {},
   "source": [
    "### 不足\n",
    ">\n",
    "    样本的选取可能需要继续完善，特别是对于类标号为1的样本 (表示盘整放量) 的选取需要进一步优化；\n",
    "    可以考虑增加标签个数(不只是只有三类)；\n",
    "    在以上基础之上可以考虑增加特征 (如文本特征) ，使得模型的预测效果更好。"
   ]
  },
  {
   "cell_type": "markdown",
   "metadata": {},
   "source": [
    "### 展望\n",
    ">\n",
    "    可以考虑使用其他深度学习模型，例如循环神经网络与卷积神经网络的结合，加入Attention机制等。"
   ]
  },
  {
   "cell_type": "code",
   "execution_count": null,
   "metadata": {},
   "outputs": [],
   "source": []
  }
 ],
 "metadata": {
  "colab": {
   "collapsed_sections": [],
   "name": "FCN_for_Trend_Classificatino.ipynb",
   "provenance": []
  },
  "kernelspec": {
   "display_name": "Python 3",
   "language": "python",
   "name": "python3"
  },
  "language_info": {
   "codemirror_mode": {
    "name": "ipython",
    "version": 3
   },
   "file_extension": ".py",
   "mimetype": "text/x-python",
   "name": "python",
   "nbconvert_exporter": "python",
   "pygments_lexer": "ipython3",
   "version": "3.7.2"
  }
 },
 "nbformat": 4,
 "nbformat_minor": 1
}
